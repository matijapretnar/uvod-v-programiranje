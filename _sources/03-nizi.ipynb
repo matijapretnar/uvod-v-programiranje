{
 "cells": [
  {
   "cell_type": "markdown",
   "id": "420c6e0b",
   "metadata": {},
   "source": [
    "# Nizi\n",
    "\n",
    "V programih seveda ne delamo le s števili, temveč tudi z drugimi podatki, na primer besedili. V ta namen Python podpira nize, ki so strnjena zaporedja znakov. Nize običajno pišemo v enojnih narekovajih, na primer `'to je primer niza'`.\n",
    "\n",
    "## Osnovne operacije na nizih\n",
    "\n",
    "Nize lahko stikamo z operacijo `+` in množimo s celimi števili:"
   ]
  },
  {
   "cell_type": "code",
   "execution_count": 1,
   "id": "733f928c",
   "metadata": {},
   "outputs": [
    {
     "data": {
      "text/plain": [
       "'zalagasper'"
      ]
     },
     "execution_count": 1,
     "metadata": {},
     "output_type": "execute_result"
    }
   ],
   "source": [
    "'zala' + 'gasper'"
   ]
  },
  {
   "cell_type": "code",
   "execution_count": 2,
   "id": "ee1b7769",
   "metadata": {},
   "outputs": [
    {
     "data": {
      "text/plain": [
       "'trololololo'"
      ]
     },
     "execution_count": 2,
     "metadata": {},
     "output_type": "execute_result"
    }
   ],
   "source": [
    "'tro' + 4 * 'lo'"
   ]
  },
  {
   "cell_type": "markdown",
   "id": "1bfedc6f",
   "metadata": {},
   "source": [
    "Dolžino niza dobimo s funkcijo `len`:"
   ]
  },
  {
   "cell_type": "code",
   "execution_count": 3,
   "id": "1b57662b",
   "metadata": {},
   "outputs": [
    {
     "data": {
      "text/plain": [
       "10"
      ]
     },
     "execution_count": 3,
     "metadata": {},
     "output_type": "execute_result"
    }
   ],
   "source": [
    "len('lokomotiva')"
   ]
  },
  {
   "cell_type": "markdown",
   "id": "94c49ccf",
   "metadata": {},
   "source": [
    "Pogosto uporabljana funkcija je tudi `str`, ki dano vrednost pretvori v niz z njeno predstavitvijo:"
   ]
  },
  {
   "cell_type": "code",
   "execution_count": 4,
   "id": "5d978d05",
   "metadata": {},
   "outputs": [
    {
     "data": {
      "text/plain": [
       "'110'"
      ]
     },
     "execution_count": 4,
     "metadata": {},
     "output_type": "execute_result"
    }
   ],
   "source": [
    "str(110)"
   ]
  },
  {
   "cell_type": "markdown",
   "id": "649e2fd8",
   "metadata": {},
   "source": [
    "Nize lahko med seboj tudi primerjamo. Pri tem Python nize ureja leksikografsko, torej tako, kot bi bili urejeni v leksikonu ali kazalu: najprej primerja prvi črki, če sta ti dve enaki, pogleda drugi dve, in tako naprej. Pri tem velike črke pridejo na vrsto pred malimi, na šumnike pa se brez posebnih knjižnic Python ne spozna."
   ]
  },
  {
   "cell_type": "code",
   "execution_count": 5,
   "id": "4e18ec5c",
   "metadata": {},
   "outputs": [
    {
     "data": {
      "text/plain": [
       "False"
      ]
     },
     "execution_count": 5,
     "metadata": {},
     "output_type": "execute_result"
    }
   ],
   "source": [
    "'beseda' == 'konj'"
   ]
  },
  {
   "cell_type": "code",
   "execution_count": 6,
   "id": "a9de18b6",
   "metadata": {},
   "outputs": [
    {
     "data": {
      "text/plain": [
       "True"
      ]
     },
     "execution_count": 6,
     "metadata": {},
     "output_type": "execute_result"
    }
   ],
   "source": [
    "'abak' <= 'abeceda'"
   ]
  },
  {
   "cell_type": "markdown",
   "id": "8fd51491",
   "metadata": {},
   "source": [
    "Na nizih imamo na voljo tudi predikat `in`, s katerim ugotovimo, ali se nek niz pojavlja kot podniz v drugem nizu. Na voljo je tudi `not in`, s katerim bolj berljivo zapišemo ravno nasprotno stvar:"
   ]
  },
  {
   "cell_type": "code",
   "execution_count": 7,
   "id": "6e3a69cc",
   "metadata": {},
   "outputs": [
    {
     "data": {
      "text/plain": [
       "True"
      ]
     },
     "execution_count": 7,
     "metadata": {},
     "output_type": "execute_result"
    }
   ],
   "source": [
    "'gram' in 'Uvod v programiranje'"
   ]
  },
  {
   "cell_type": "code",
   "execution_count": 8,
   "id": "e2b452cf",
   "metadata": {},
   "outputs": [
    {
     "data": {
      "text/plain": [
       "False"
      ]
     },
     "execution_count": 8,
     "metadata": {},
     "output_type": "execute_result"
    }
   ],
   "source": [
    "'liter' in 'Uvod v programiranje'"
   ]
  },
  {
   "cell_type": "code",
   "execution_count": 9,
   "id": "3af0e572",
   "metadata": {},
   "outputs": [
    {
     "data": {
      "text/plain": [
       "True"
      ]
     },
     "execution_count": 9,
     "metadata": {},
     "output_type": "execute_result"
    }
   ],
   "source": [
    "not ('liter' in 'Uvod v programiranje')"
   ]
  },
  {
   "cell_type": "code",
   "execution_count": 10,
   "id": "9e406414",
   "metadata": {},
   "outputs": [
    {
     "data": {
      "text/plain": [
       "True"
      ]
     },
     "execution_count": 10,
     "metadata": {},
     "output_type": "execute_result"
    }
   ],
   "source": [
    "'liter' not in 'Uvod v programiranje'"
   ]
  },
  {
   "cell_type": "markdown",
   "id": "df8cab3b",
   "metadata": {},
   "source": [
    "## Indeksi in rezine\n",
    "\n",
    "Do posameznega znaka v nizu pridemo z _indeksi_. Z izrazom `niz[i]` dostopamo do `i`-tega znaka v danem nizu:"
   ]
  },
  {
   "cell_type": "code",
   "execution_count": 11,
   "id": "7e4e7a34",
   "metadata": {},
   "outputs": [
    {
     "data": {
      "text/plain": [
       "'U'"
      ]
     },
     "execution_count": 11,
     "metadata": {},
     "output_type": "execute_result"
    }
   ],
   "source": [
    "'REKURZIJA'[3]"
   ]
  },
  {
   "cell_type": "code",
   "execution_count": 12,
   "id": "fcac657e",
   "metadata": {},
   "outputs": [
    {
     "data": {
      "text/plain": [
       "'R'"
      ]
     },
     "execution_count": 12,
     "metadata": {},
     "output_type": "execute_result"
    }
   ],
   "source": [
    "'REKURZIJA'[0]"
   ]
  },
  {
   "cell_type": "code",
   "execution_count": 13,
   "id": "d3df646e",
   "metadata": {},
   "outputs": [
    {
     "data": {
      "text/plain": [
       "'A'"
      ]
     },
     "execution_count": 13,
     "metadata": {},
     "output_type": "execute_result"
    }
   ],
   "source": [
    "'REKURZIJA'[-1]"
   ]
  },
  {
   "cell_type": "markdown",
   "id": "60a9822e",
   "metadata": {},
   "source": [
    "Indeksi se začnejo šteti z 0\\. Če uporabimo negativna števila, lahko štejemo tudi od zadaj, vendar tam začnemo šteti z -1 (saj je -0 = 0).\n",
    "\n",
    "```\n",
    "\\ 0   1   2   3   4   5   6   7   8\n",
    " R   E   K   U   R   Z   I   J   A\n",
    "-9  -8  -7  -6  -5  -4  -3  -2  -1\n",
    "```\n",
    "\n",
    "Na podoben način lahko dostopamo tudi do podnizov. Če napišemo `niz[i:j]` bomo dobili niz, ki mu pravimo _rezina_ in sega od vključno `i`-tega do vključno `j - 1`-tega znaka. Če kakšno od meja izpustimo, bomo vzeli vse znake od začetka oziroma do konca.\n",
    "\n",
    "```{margin}\n",
    "Videli bomo, da razpon od $i$ do $j$ v Pythonu pogosto pomeni vse od vključno $i$ do vključno $j - 1$. To je malo neobičajno, vendar ima nekaj prednosti: razpon od $i$ do $j$ vedno vsebuje $j - i$ elementov, hkrati pa lahko razpone sestavljamo brez prekrivanja. Na primer, `niz[i:j] + niz[j:k]` je enako kot `niz[i:k]` (vsaj, če velja `i < j < k`).\n",
    "```"
   ]
  },
  {
   "cell_type": "code",
   "execution_count": 14,
   "id": "559a4ca9",
   "metadata": {},
   "outputs": [
    {
     "data": {
      "text/plain": [
       "'K'"
      ]
     },
     "execution_count": 14,
     "metadata": {},
     "output_type": "execute_result"
    }
   ],
   "source": [
    "'REKURZIJA'[2]"
   ]
  },
  {
   "cell_type": "code",
   "execution_count": 15,
   "id": "0d5552d2",
   "metadata": {},
   "outputs": [
    {
     "data": {
      "text/plain": [
       "'I'"
      ]
     },
     "execution_count": 15,
     "metadata": {},
     "output_type": "execute_result"
    }
   ],
   "source": [
    "'REKURZIJA'[6]"
   ]
  },
  {
   "cell_type": "code",
   "execution_count": 16,
   "id": "6220e5f1",
   "metadata": {},
   "outputs": [
    {
     "data": {
      "text/plain": [
       "'KURZ'"
      ]
     },
     "execution_count": 16,
     "metadata": {},
     "output_type": "execute_result"
    }
   ],
   "source": [
    "'REKURZIJA'[2:6]"
   ]
  },
  {
   "cell_type": "code",
   "execution_count": 17,
   "id": "f6b0927e",
   "metadata": {},
   "outputs": [
    {
     "data": {
      "text/plain": [
       "'REKURZ'"
      ]
     },
     "execution_count": 17,
     "metadata": {},
     "output_type": "execute_result"
    }
   ],
   "source": [
    "'REKURZIJA'[:6]"
   ]
  },
  {
   "cell_type": "code",
   "execution_count": 18,
   "id": "761ec1ef",
   "metadata": {},
   "outputs": [
    {
     "data": {
      "text/plain": [
       "'KURZIJA'"
      ]
     },
     "execution_count": 18,
     "metadata": {},
     "output_type": "execute_result"
    }
   ],
   "source": [
    "'REKURZIJA'[2:]"
   ]
  },
  {
   "cell_type": "markdown",
   "id": "257e3dbf",
   "metadata": {},
   "source": [
    "Pišemo lahko tudi `niz[i:j:k]`, s čimer vzamemo le vsak `k`-ti znak:"
   ]
  },
  {
   "cell_type": "code",
   "execution_count": 19,
   "id": "7f5823d5",
   "metadata": {},
   "outputs": [
    {
     "data": {
      "text/plain": [
       "'EKURZIJ'"
      ]
     },
     "execution_count": 19,
     "metadata": {},
     "output_type": "execute_result"
    }
   ],
   "source": [
    "'REKURZIJA'[1:8]"
   ]
  },
  {
   "cell_type": "code",
   "execution_count": 20,
   "id": "9001eb47",
   "metadata": {},
   "outputs": [
    {
     "data": {
      "text/plain": [
       "'EKURZIJ'"
      ]
     },
     "execution_count": 20,
     "metadata": {},
     "output_type": "execute_result"
    }
   ],
   "source": [
    "'REKURZIJA'[1:8:1]"
   ]
  },
  {
   "cell_type": "code",
   "execution_count": 21,
   "id": "d773318a",
   "metadata": {},
   "outputs": [
    {
     "data": {
      "text/plain": [
       "'EUZJ'"
      ]
     },
     "execution_count": 21,
     "metadata": {},
     "output_type": "execute_result"
    }
   ],
   "source": [
    "'REKURZIJA'[1:8:2]"
   ]
  },
  {
   "cell_type": "code",
   "execution_count": 22,
   "id": "a4f28be7",
   "metadata": {},
   "outputs": [
    {
     "data": {
      "text/plain": [
       "'ERJ'"
      ]
     },
     "execution_count": 22,
     "metadata": {},
     "output_type": "execute_result"
    }
   ],
   "source": [
    "'REKURZIJA'[1:8:3]"
   ]
  },
  {
   "cell_type": "code",
   "execution_count": 23,
   "id": "e6aaba39",
   "metadata": {},
   "outputs": [
    {
     "data": {
      "text/plain": [
       "'AJIZRUKER'"
      ]
     },
     "execution_count": 23,
     "metadata": {},
     "output_type": "execute_result"
    }
   ],
   "source": [
    "'REKURZIJA'[::-1]"
   ]
  },
  {
   "cell_type": "markdown",
   "id": "1bb99b4e",
   "metadata": {},
   "source": [
    "S pomočjo indeksov in rezin lahko napišemo (ne najbolj učinkovito) funkcijo, ki prešteje vse samoglasnike v danem nizu:"
   ]
  },
  {
   "cell_type": "code",
   "execution_count": 24,
   "id": "6e4fd107",
   "metadata": {},
   "outputs": [
    {
     "data": {
      "text/plain": [
       "7"
      ]
     },
     "execution_count": 24,
     "metadata": {},
     "output_type": "execute_result"
    }
   ],
   "source": [
    "def stevilo_samoglasnikov(niz):\n",
    "    if niz == '':\n",
    "        return 0\n",
    "    elif niz[0] in 'aeiouAEIOU':\n",
    "        return 1 + stevilo_samoglasnikov(niz[1:])\n",
    "    else:\n",
    "        return stevilo_samoglasnikov(niz[1:])\n",
    "\n",
    "stevilo_samoglasnikov('Uvod v programiranje')"
   ]
  },
  {
   "cell_type": "markdown",
   "id": "e815f987",
   "metadata": {},
   "source": [
    "Funkcija deluje tako, da najprej pogleda, če je niz prazen. Če je, v njem ni samoglasnikov, zato vrne 0\\. Če ni, pogleda prvi znak. Če je samoglasnik, potem je število samoglasnikov za ena večje od števila samoglasnikov v preostanku niza (ki ga dobimo s pomočjo rezine), sicer pa je enako številu samoglasnikov v preostanku.\n",
    "\n",
    "## Zapisi nizov\n",
    "\n",
    "Nize lahko pišemo tudi z dvojnimi narekovaji, ki jih ponavadi uporabimo takrat, kadar v nizu želimo uporabiti enojni narekovaj: `\"Tole je kr'neki!\"`. V tem primeru niza ne moremo pisati med enojnimi narekovaji, saj bi Python po narekovaju za `kr` mislil, da je konec niza."
   ]
  },
  {
   "cell_type": "code",
   "execution_count": 25,
   "id": "7eaa31fb",
   "metadata": {
    "tags": [
     "raises-exception"
    ]
   },
   "outputs": [
    {
     "ename": "SyntaxError",
     "evalue": "unterminated string literal (detected at line 1) (1353015095.py, line 1)",
     "output_type": "error",
     "traceback": [
      "\u001b[0;36m  Cell \u001b[0;32mIn[25], line 1\u001b[0;36m\u001b[0m\n\u001b[0;31m    'Tole je kr'neki!'\u001b[0m\n\u001b[0m                     ^\u001b[0m\n\u001b[0;31mSyntaxError\u001b[0m\u001b[0;31m:\u001b[0m unterminated string literal (detected at line 1)\n"
     ]
    }
   ],
   "source": [
    "'Tole je kr'neki!'"
   ]
  },
  {
   "cell_type": "markdown",
   "id": "d09ab136",
   "metadata": {},
   "source": [
    "Včasih želimo uporabiti obe vrsti narekovajev. V tem primeru si pomagamo z _ubežnimi znaki_. To so znaki, ki jih na običajni način ne moremo zapisati, zato uporabimo poseben zapis, ki se začne z znakom `\\`. Tedaj lahko pišemo `'\"Tole je kr\\'neki,\" je rekla.'` ali pa `\"\\\"Tole je kr'neki,\\\" je rekla.\\\"`. Ubežne znake brez težav lahko pišemo tudi tedaj, kadar ni treba `'\\\"Grem v rudnik,\\\" je rekla.'`. Z ubežnimi znaki lahko zapišemo tudi znak za novo vrstico `\\n`, za tabulator `\\t` in seveda tudi za poševnico `\\\\`, saj je ne moremo pisati le kot `\\`, ker bi Python to razumel kot začetek ubežnega znaka.\n",
    "\n",
    "Nize lahko pišemo tudi med tri enojne (`'''`) ali tri dvojne (`\"\"\"`) narekovaje (ki smo jih videli že pri dokumentacijskem nizu). V tem primeru za en sam narekovaj ne potrebujemo ubežnega znaka. Take nize lahko pišemo tudi čez več vrstic.\n",
    "\n",
    "Različni zapisi ne vplivajo na vsebino. Tako `'\"Živjo!\"'`, `'\\\"Živjo!\\\"'`,`\"\\\"Živjo!\\\"\"`, `'''\"Živjo!\"'''` ali `\"\"\"\"Živjo!\\\"\"\"\"` vsi predstavljajo enak niz z osmimi znaki.\n",
    "\n",
    "## Vgrajene metode na nizih\n",
    "\n",
    "Precej operacij na nizih pa lahko opravimo preko _metod_. To so funkcije, ki jih na poseben način kličemo na posamezni vrednosti. Na primer, za pretvarjanje niza v male črke pokličemo"
   ]
  },
  {
   "cell_type": "code",
   "execution_count": 26,
   "id": "7a3d835a",
   "metadata": {},
   "outputs": [
    {
     "data": {
      "text/plain": [
       "'rekurzija'"
      ]
     },
     "execution_count": 26,
     "metadata": {},
     "output_type": "execute_result"
    }
   ],
   "source": [
    "'REKURZIJA'.lower()"
   ]
  },
  {
   "cell_type": "markdown",
   "id": "42555f8c",
   "metadata": {},
   "source": [
    "Klic metod na nizih ima splošno obliko `niz.metoda(...)`, kjer v oklepajih naštejemo argumente. Na primer, pojavitve posameznega znaka v nizu preštejemo z metodo `count`:"
   ]
  },
  {
   "cell_type": "code",
   "execution_count": 27,
   "id": "0e6721b6",
   "metadata": {},
   "outputs": [
    {
     "data": {
      "text/plain": [
       "4"
      ]
     },
     "execution_count": 27,
     "metadata": {},
     "output_type": "execute_result"
    }
   ],
   "source": [
    "niz = 'Otorinolaringolog'\n",
    "niz.count('o')"
   ]
  },
  {
   "cell_type": "markdown",
   "id": "542fa965",
   "metadata": {},
   "source": [
    "Klice metod lahko tudi verižimo:"
   ]
  },
  {
   "cell_type": "code",
   "execution_count": 28,
   "id": "5e34f401",
   "metadata": {},
   "outputs": [
    {
     "data": {
      "text/plain": [
       "5"
      ]
     },
     "execution_count": 28,
     "metadata": {},
     "output_type": "execute_result"
    }
   ],
   "source": [
    "niz = 'Otorinolaringolog'\n",
    "niz.lower().count('o')"
   ]
  },
  {
   "cell_type": "markdown",
   "id": "3c30df35",
   "metadata": {},
   "source": [
    "Vse metode, ki so na voljo na nizih lahko najdete v [uradni dokumentaciji](https://docs.python.org/3/library/stdtypes.html#string-methods), zato naštejmo le najbolj pogosto uporabljane:\n",
    "\n",
    "- `s.count(t)` vrne število pojavitev podniza `t` v nizu `s`. Klic `s.count(t, i)` deluje podobno, le da začne šteti šele pri indeksu `i`, klic `s.count(t, i, j)` pa konča šteti pri indeksu `j`.\n",
    "\n",
    "- `s.index(t)` vrne najmanjši indeks v nizu `s`, kjer se niz `t` pojavi kot podniz. Podobno kot prej klic `s.index(t, i)` začne iskati pri indeksu `i`, klic `s.index(t, i, j)` pa konča pri indeksu `j`. Če niza ni, metoda sproži napako. Metoda `s.find` se obnaša enako kot `s.index`, le da v primeru, ko podniza ne najde, vrne `-1`.\n",
    "\n",
    "- `s.join(sez)` z ločilom `s` skupaj stakne vse nize iz seznama `sez` (te bomo spoznali {ref}`kmalu <seznami-in-nabori>`).\n",
    "\n",
    "- `s.replace(t1, t2)` vrne niz `s`, v katerem smo vse pojavitve podniza `t1` zamenjali s podnizi `t2`. Klic `s.replace(t1, t2, n)` pa zamenja le prvih `n` pojavitev.\n",
    "\n",
    "- `s.strip()` vrne niz `s`, v katerem smo odstranili vse bele znake (presledke, tabulatorje, nove vrstice) z začetka in konca. Klic `s.strip(t)` z začetka in konca odstrani vse znake iz niza `t`.\n",
    "\n",
    "- `s.lower()` / `s.upper()` / `s.title()` / `s.capitalize()` / `s.swapcase()` vrnejo niz `s`, v katerem smo vse črke zamenjali z malimi / vse črke zamenjamo z velikimi / vsem besedam damo veliko začetnico / na začetku niza damo veliko začetnico / male črke zamenjamo z velikimi in obratno.\n",
    "\n",
    "- `s.split()` vrne seznam besed v nizu `s` (ločene glede na bele znake). Klic `s.split(t)` loči glede na podniz `t`. Klic `s.split(t, n)` vrne niz razbit na prvih `n` ločilih.\n",
    "\n",
    "- `s.isdigit()` / `s.isalpha()` / `s.islower()` / `s.isupper()` / `s.isalnum()` / `s.isspace()` vrnejo `True` natanko takrat, kadar je niz `s` neprazen in so vsi znaki števke / črke / male črke / velike črke / črke ali številke / beli znaki.\n",
    "\n",
    "## `f`-nizi\n",
    "\n",
    "Včasih je bila v Pythonu zelo uporabna tudi metoda `format`. Ta vzame niz, v katerem so z zavitimi oklepaji označeni prostori, ki jih zapolnimo z argumenti metode. Na primer"
   ]
  },
  {
   "cell_type": "code",
   "execution_count": 29,
   "id": "a516a82c",
   "metadata": {},
   "outputs": [
    {
     "data": {
      "text/plain": [
       "'mama ima stol'"
      ]
     },
     "execution_count": 29,
     "metadata": {},
     "output_type": "execute_result"
    }
   ],
   "source": [
    "'{0} ima {1}'.format('mama', 'stol')"
   ]
  },
  {
   "cell_type": "markdown",
   "id": "6294a8c8",
   "metadata": {},
   "source": [
    "ali pa"
   ]
  },
  {
   "cell_type": "code",
   "execution_count": 30,
   "id": "72607a0b",
   "metadata": {},
   "outputs": [
    {
     "data": {
      "text/plain": [
       "'Mama vzklika: \"joj, joj, joj!\"'"
      ]
     },
     "execution_count": 30,
     "metadata": {},
     "output_type": "execute_result"
    }
   ],
   "source": [
    "niz = '{0} vzklika: \"{1}, {1}, {1}!\"'\n",
    "niz.format('Mama', 'joj')"
   ]
  },
  {
   "cell_type": "code",
   "execution_count": 31,
   "id": "deec7d01",
   "metadata": {},
   "outputs": [
    {
     "data": {
      "text/plain": [
       "'Tone vzklika: \"FMF, FMF, FMF!\"'"
      ]
     },
     "execution_count": 31,
     "metadata": {},
     "output_type": "execute_result"
    }
   ],
   "source": [
    "niz.format('Tone', 'FMF')"
   ]
  },
  {
   "cell_type": "markdown",
   "id": "a9e37fc9",
   "metadata": {},
   "source": [
    "Argumente lahko tudi oblikujemo in poimenujemo, kar je razloženo v [uradni dokumentaciji](https://docs.python.org/3/library/string.html#format-string-syntax). Po novem, od Pythona 3.6 naprej, pa lahko uporabljamo tudi _`f`-nize_. To so nizi, ki jih na začetku označimo z znakom `f`, nato pa v zavite oklepaje zapišemo vrednost, ki naj jo Python izračuna in vstavi v niz. Na primer:"
   ]
  },
  {
   "cell_type": "code",
   "execution_count": 32,
   "id": "143e348b",
   "metadata": {},
   "outputs": [
    {
     "data": {
      "text/plain": [
       "'Mama vzklika: \"joj, joj, joj!\"'"
      ]
     },
     "execution_count": 32,
     "metadata": {},
     "output_type": "execute_result"
    }
   ],
   "source": [
    "kdo = 'Mama'\n",
    "kaj = 'joj'\n",
    "f'{kdo} vzklika: \"{kaj}, {kaj}, {kaj}!\"'"
   ]
  },
  {
   "cell_type": "markdown",
   "id": "c5bcda21",
   "metadata": {},
   "source": [
    "ali pa"
   ]
  },
  {
   "cell_type": "code",
   "execution_count": 33,
   "id": "1a92400e",
   "metadata": {},
   "outputs": [
    {
     "data": {
      "text/plain": [
       "'22/7 = 3.1429'"
      ]
     },
     "execution_count": 33,
     "metadata": {},
     "output_type": "execute_result"
    }
   ],
   "source": [
    "a, b = 22, 7\n",
    "f'{a}/{b} = {a / b:.5}'"
   ]
  },
  {
   "cell_type": "markdown",
   "id": "9931eacf",
   "metadata": {},
   "source": [
    "Tako kot pri metodi `format` lahko tudi pri `f`-nizih izračunane vrednosti oblikujemo:"
   ]
  },
  {
   "cell_type": "code",
   "execution_count": 34,
   "id": "df206d6e",
   "metadata": {},
   "outputs": [
    {
     "data": {
      "text/plain": [
       "'22/7 = 3.1429'"
      ]
     },
     "execution_count": 34,
     "metadata": {},
     "output_type": "execute_result"
    }
   ],
   "source": [
    "a, b = 22, 7\n",
    "f'{a}/{b} = {a / b:.5}'"
   ]
  },
  {
   "cell_type": "code",
   "execution_count": 35,
   "id": "7b5c878a",
   "metadata": {},
   "outputs": [
    {
     "data": {
      "text/plain": [
       "'popust znaša 33.33%'"
      ]
     },
     "execution_count": 35,
     "metadata": {},
     "output_type": "execute_result"
    }
   ],
   "source": [
    "f'popust znaša {1 / 3:.2%}'"
   ]
  },
  {
   "cell_type": "code",
   "execution_count": 36,
   "id": "6fc721c5",
   "metadata": {},
   "outputs": [
    {
     "data": {
      "text/plain": [
       "'************NASLOV************'"
      ]
     },
     "execution_count": 36,
     "metadata": {},
     "output_type": "execute_result"
    }
   ],
   "source": [
    "f'{\"NASLOV\":*^30}'"
   ]
  },
  {
   "cell_type": "markdown",
   "id": "50ad5e90",
   "metadata": {},
   "source": [
    "Možnosti za oblikovanje je veliko, vse pa so opisane v [uradni dokumentaciji](https://docs.python.org/3/reference/lexical_analysis.html#f-strings).\n",
    "\n",
    "## Pisanje na konzolo in branje s konzole\n",
    "\n",
    "Seveda od uporabnikov ne pričakujemo, da bodo naše programe uporabljali le tako, da bodo v interaktivni zanki poganjali funkcije ter brali njihove rezultate. Raje bi imeli prijazen uporabniški vmesnik, v katerem računalnik uporabnika prijazno pozove za vnos, uporabnik potem nekaj natipka (ne nujno v Pythonu), računalnik pa se na to ustrezno odzove. V ta namen sta namenjeni dve funkciji `print`, ki dani niz izpiše na konzolo, ter `input`, ki vrne niz, ki ga je vtipkal uporabnik."
   ]
  },
  {
   "cell_type": "code",
   "execution_count": 37,
   "id": "c193aeab",
   "metadata": {},
   "outputs": [
    {
     "name": "stdout",
     "output_type": "stream",
     "text": [
      "Pozdravljen, svet!\n"
     ]
    }
   ],
   "source": [
    "print('Pozdravljen, svet!')"
   ]
  },
  {
   "cell_type": "code",
   "execution_count": 38,
   "id": "4cf4f2bb",
   "metadata": {},
   "outputs": [
    {
     "name": "stdout",
     "output_type": "stream",
     "text": [
      "\"Tole je kr'neki,\" je rekla.\n"
     ]
    }
   ],
   "source": [
    "print('\"Tole je kr\\'neki,\" je rekla.')"
   ]
  },
  {
   "cell_type": "markdown",
   "id": "a7cc146d",
   "metadata": {},
   "source": [
    "Kot vidimo, je izpis funkcije `print` namenjen uporabnikom."
   ]
  }
 ],
 "metadata": {
  "jupytext": {
   "cell_metadata_filter": "-all",
   "formats": "md:myst",
   "text_representation": {
    "extension": ".md",
    "format_name": "myst",
    "format_version": "0.8",
    "jupytext_version": "1.5.0"
   }
  },
  "kernelspec": {
   "display_name": "Python 3",
   "language": "python",
   "name": "python3"
  },
  "language_info": {
   "codemirror_mode": {
    "name": "ipython",
    "version": 3
   },
   "file_extension": ".py",
   "mimetype": "text/x-python",
   "name": "python",
   "nbconvert_exporter": "python",
   "pygments_lexer": "ipython3",
   "version": "3.10.13"
  },
  "source_map": [
   14,
   24,
   28,
   30,
   34,
   36,
   40,
   42,
   46,
   50,
   52,
   56,
   60,
   64,
   68,
   70,
   76,
   80,
   84,
   86,
   102,
   106,
   110,
   114,
   118,
   120,
   124,
   128,
   132,
   136,
   140,
   142,
   146,
   156,
   164,
   167,
   179,
   181,
   185,
   188,
   192,
   195,
   219,
   221,
   225,
   230,
   232,
   236,
   240,
   244,
   247,
   251,
   256,
   260,
   262,
   270,
   274,
   276
  ]
 },
 "nbformat": 4,
 "nbformat_minor": 5
}