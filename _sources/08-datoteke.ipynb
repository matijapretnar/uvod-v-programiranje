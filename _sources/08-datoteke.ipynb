{
 "cells": [
  {
   "cell_type": "markdown",
   "id": "2970836f",
   "metadata": {},
   "source": [
    "# Datoteke\n",
    "\n",
    "## Branje datotek\n",
    "\n",
    "Recimo, da imamo datoteko `stavki.txt` s sledečo vsebino:\n",
    "\n",
    "```\n",
    "To je prvi stavek. To je drugi\n",
    "stavek. To je tretji stavek. To\n",
    "je četrti stavek.\n",
    "```\n",
    "\n",
    "Če vsebino želimo prebrati, moramo datoteko najprej odpreti. To storimo s funkcijo `open`. Klicu `open` lahko podamo tudi neobvezni argument `encoding`, ki poda kodno tabelo, v kateri je napisana datoteka. Težava je, da je privzeta vrednost parametra na Windowsih `cp1250`, kar je precej zastarel standard, zato morate tam pisati `open(..., encoding='UTF-8')`."
   ]
  },
  {
   "cell_type": "code",
   "execution_count": 1,
   "id": "dee8760b",
   "metadata": {},
   "outputs": [
    {
     "data": {
      "text/plain": [
       "<_io.TextIOWrapper name='stavki.txt' mode='r' encoding='UTF-8'>"
      ]
     },
     "execution_count": 1,
     "metadata": {},
     "output_type": "execute_result"
    }
   ],
   "source": [
    "dat = open('stavki.txt', encoding='UTF-8')\n",
    "dat"
   ]
  },
  {
   "cell_type": "markdown",
   "id": "e304b616",
   "metadata": {},
   "source": [
    "Dobili smo objekt `dat`, ki predstavlja dostop do vsebine datoteke. Najosnovnejša metoda je `read`, ki ob vsakem klicu prebere dano število znakov."
   ]
  },
  {
   "cell_type": "code",
   "execution_count": 2,
   "id": "1db30a6e",
   "metadata": {},
   "outputs": [
    {
     "data": {
      "text/plain": [
       "'To je prvi stavek. To je drugi\\nstav'"
      ]
     },
     "execution_count": 2,
     "metadata": {},
     "output_type": "execute_result"
    }
   ],
   "source": [
    "dat.read(35)"
   ]
  },
  {
   "cell_type": "code",
   "execution_count": 3,
   "id": "b625d34a",
   "metadata": {},
   "outputs": [
    {
     "data": {
      "text/plain": [
       "'ek. To je tretji sta'"
      ]
     },
     "execution_count": 3,
     "metadata": {},
     "output_type": "execute_result"
    }
   ],
   "source": [
    "dat.read(20)"
   ]
  },
  {
   "cell_type": "markdown",
   "id": "8ce69506",
   "metadata": {},
   "source": [
    "Če števila ne podamo, datoteko preberemo do konca:"
   ]
  },
  {
   "cell_type": "code",
   "execution_count": 4,
   "id": "dfb1e807",
   "metadata": {},
   "outputs": [
    {
     "data": {
      "text/plain": [
       "'vek. To\\nje četrti stavek.\\n'"
      ]
     },
     "execution_count": 4,
     "metadata": {},
     "output_type": "execute_result"
    }
   ],
   "source": [
    "dat.read()"
   ]
  },
  {
   "cell_type": "code",
   "execution_count": 5,
   "id": "75cfd311",
   "metadata": {},
   "outputs": [
    {
     "data": {
      "text/plain": [
       "''"
      ]
     },
     "execution_count": 5,
     "metadata": {},
     "output_type": "execute_result"
    }
   ],
   "source": [
    "dat.read()"
   ]
  },
  {
   "cell_type": "markdown",
   "id": "fac6f41c",
   "metadata": {},
   "source": [
    "Datoteko je treba po koncu uporabe treba zapreti, da lahko do nje dostopajo tudi drugi programi. Se vam je kdaj zgodilo, da USB ključka niste mogli varno odstraniti, ker naj bi ga uporabljal še nek program? Težava je bila, da slabo napisan program ni zaprli dostopa do datotek, zato je operacijski sistem mislil, da jih še vedno uporablja. Datotetko lahko zapremo z metodo `close`."
   ]
  },
  {
   "cell_type": "code",
   "execution_count": 6,
   "id": "a1e0336e",
   "metadata": {},
   "outputs": [],
   "source": [
    "dat.close()"
   ]
  },
  {
   "cell_type": "markdown",
   "id": "b5ec21c9",
   "metadata": {},
   "source": [
    "Da ne pozabimo zapreti datoteke, ali pa da nam zapiranja ne prepreči napaka v programu, Python ponuja varnejši način odpiranja datotek. Če napišemo\n",
    "\n",
    "```python\n",
    "with open('stavki.txt') as dat:\n",
    "    ...\n",
    "```\n",
    "\n",
    "bo Python samodejno poskrbel za zapiranje datoteke, ko se bodo izvedli vsi stavki `...`. To bo veljalo tudi v primeru, če kakšen izmed stavkov sproži izjemo in prekine izvajanje.\n",
    " \n",
    "Za branje po vrsticah lahko uporabimo metodi `readline` in `readlines`:"
   ]
  },
  {
   "cell_type": "code",
   "execution_count": 7,
   "id": "958a4839",
   "metadata": {},
   "outputs": [],
   "source": [
    "with open('stavki.txt') as dat:\n",
    "    prva = dat.readline()\n",
    "    druga = dat.readline()\n",
    "    ostale = dat.readlines()"
   ]
  },
  {
   "cell_type": "code",
   "execution_count": 8,
   "id": "7645b662",
   "metadata": {},
   "outputs": [
    {
     "data": {
      "text/plain": [
       "'To je prvi stavek. To je drugi\\n'"
      ]
     },
     "execution_count": 8,
     "metadata": {},
     "output_type": "execute_result"
    }
   ],
   "source": [
    "prva"
   ]
  },
  {
   "cell_type": "code",
   "execution_count": 9,
   "id": "a5a68711",
   "metadata": {},
   "outputs": [
    {
     "data": {
      "text/plain": [
       "'stavek. To je tretji stavek. To\\n'"
      ]
     },
     "execution_count": 9,
     "metadata": {},
     "output_type": "execute_result"
    }
   ],
   "source": [
    "druga"
   ]
  },
  {
   "cell_type": "code",
   "execution_count": 10,
   "id": "c6182fa1",
   "metadata": {},
   "outputs": [
    {
     "data": {
      "text/plain": [
       "['je četrti stavek.\\n']"
      ]
     },
     "execution_count": 10,
     "metadata": {},
     "output_type": "execute_result"
    }
   ],
   "source": [
    "ostale"
   ]
  },
  {
   "cell_type": "markdown",
   "id": "b7d18b33",
   "metadata": {},
   "source": [
    "Po vrsticah se lahko zapeljemo z zanko `for`:"
   ]
  },
  {
   "cell_type": "code",
   "execution_count": 11,
   "id": "73ac150c",
   "metadata": {},
   "outputs": [
    {
     "name": "stdout",
     "output_type": "stream",
     "text": [
      "31 To je prvi stavek. To je drugi\n",
      "\n",
      "32 stavek. To je tretji stavek. To\n",
      "\n",
      "18 je četrti stavek.\n",
      "\n"
     ]
    }
   ],
   "source": [
    "with open('stavki.txt') as dat:\n",
    "    for vrstica in dat:\n",
    "        print(len(vrstica), vrstica)"
   ]
  },
  {
   "cell_type": "markdown",
   "id": "2e7109fa",
   "metadata": {},
   "source": [
    "Vidimo, da so med izpisanimi vrsticami tudi prazne. Te so posledice tega, da vsaka vrstica datoteke na koncu vsebuje znak za novo vrstico, en tak znak pa doda še `print`."
   ]
  },
  {
   "cell_type": "code",
   "execution_count": 12,
   "id": "4d076cad",
   "metadata": {},
   "outputs": [],
   "source": [
    "def izpisi_datoteko(ime_datoteke):\n",
    "    print(ime_datoteke)\n",
    "    with open(ime_datoteke) as dat:\n",
    "        for st_vrstice, vrstica in enumerate(dat, 1):\n",
    "            print(st_vrstice, vrstica, end='')"
   ]
  },
  {
   "cell_type": "code",
   "execution_count": 13,
   "id": "91605d08",
   "metadata": {},
   "outputs": [
    {
     "name": "stdout",
     "output_type": "stream",
     "text": [
      "stavki.txt\n",
      "1 To je prvi stavek. To je drugi\n",
      "2 stavek. To je tretji stavek. To\n",
      "3 je četrti stavek.\n"
     ]
    }
   ],
   "source": [
    "izpisi_datoteko('stavki.txt')"
   ]
  },
  {
   "cell_type": "markdown",
   "id": "324078a0",
   "metadata": {},
   "source": [
    "## Pisanje datotek\n",
    "\n",
    "Datoteke lahko tudi pišemo, vendar jih moramo ustrezno odpreti, kar naredimo kot:\n",
    "Na Windowsih, kjer je treba podat\n",
    "\n",
    "```python\n",
    "with open(..., 'w') as d:\n",
    "    ...\n",
    "```\n",
    "\n",
    "oziroma\n",
    "\n",
    "\n",
    "```python\n",
    "with open(..., 'w', encoding='UTF-8') as d:\n",
    "    ...\n",
    "```\n",
    "\n",
    "Ko datoteko odpremo za pisanje, lahko vanjo pišemo z metodo `write`"
   ]
  },
  {
   "cell_type": "code",
   "execution_count": 14,
   "id": "c1a56392",
   "metadata": {},
   "outputs": [],
   "source": [
    "with open('izpis.txt', 'w') as dat:\n",
    "    dat.write('To je ')\n",
    "    dat.write('en stavek.\\nTo je drugi.')"
   ]
  },
  {
   "cell_type": "code",
   "execution_count": 15,
   "id": "c2049739",
   "metadata": {},
   "outputs": [
    {
     "name": "stdout",
     "output_type": "stream",
     "text": [
      "izpis.txt\n",
      "1 To je en stavek.\n",
      "2 To je drugi."
     ]
    }
   ],
   "source": [
    "izpisi_datoteko('izpis.txt')"
   ]
  },
  {
   "cell_type": "markdown",
   "id": "9b6cd567",
   "metadata": {},
   "source": [
    "V datoteko pišemo tudi s `print`, ki mu podamo neobvezni argument `file`:"
   ]
  },
  {
   "cell_type": "code",
   "execution_count": 16,
   "id": "5e4ab710",
   "metadata": {},
   "outputs": [],
   "source": [
    "with open('izpis.txt', 'w') as dat:\n",
    "    print('To je en stavek.', file=dat)\n",
    "    print('1 + 1 =', 1 + 1, file=dat)"
   ]
  },
  {
   "cell_type": "code",
   "execution_count": 17,
   "id": "87d0da1e",
   "metadata": {},
   "outputs": [
    {
     "name": "stdout",
     "output_type": "stream",
     "text": [
      "izpis.txt\n",
      "1 To je en stavek.\n",
      "2 1 + 1 = 2\n"
     ]
    }
   ],
   "source": [
    "izpisi_datoteko('izpis.txt')"
   ]
  },
  {
   "cell_type": "markdown",
   "id": "9ed636df",
   "metadata": {},
   "source": [
    "Vsakič, ko datoteko odpremo za pisanje, povozimo obstoječo vsebino:"
   ]
  },
  {
   "cell_type": "code",
   "execution_count": 18,
   "id": "319cc9d1",
   "metadata": {},
   "outputs": [],
   "source": [
    "with open('izpis.txt', 'w') as dat:\n",
    "    print('To je en stavek.', file=dat)\n",
    "    print('To je drugi.', file=dat)"
   ]
  },
  {
   "cell_type": "code",
   "execution_count": 19,
   "id": "3abe6262",
   "metadata": {},
   "outputs": [],
   "source": [
    "with open('izpis.txt', 'w') as dat:\n",
    "    print('To je tretji stavek.', file=dat)\n",
    "    print('To je četrti.', file=dat)"
   ]
  },
  {
   "cell_type": "code",
   "execution_count": 20,
   "id": "562ef8e2",
   "metadata": {},
   "outputs": [
    {
     "name": "stdout",
     "output_type": "stream",
     "text": [
      "izpis.txt\n",
      "1 To je tretji stavek.\n",
      "2 To je četrti.\n"
     ]
    }
   ],
   "source": [
    "izpisi_datoteko('izpis.txt')"
   ]
  },
  {
   "cell_type": "markdown",
   "id": "2c25c112",
   "metadata": {},
   "source": [
    "Če želimo, lahko namesto `w` podamo parameter `a`, ki datoteko odpremo za dodajanje:"
   ]
  },
  {
   "cell_type": "code",
   "execution_count": 21,
   "id": "e633c50a",
   "metadata": {},
   "outputs": [],
   "source": [
    "with open('izpis.txt', 'w') as d:\n",
    "    print('To je en stavek.', file=d)\n",
    "    print('To je drugi.', file=d)"
   ]
  },
  {
   "cell_type": "code",
   "execution_count": 22,
   "id": "d0eb5f42",
   "metadata": {},
   "outputs": [],
   "source": [
    "with open('izpis.txt', 'a') as d:\n",
    "    print('To je tretji stavek.', file=d)\n",
    "    print('To je četrti.', file=d)"
   ]
  },
  {
   "cell_type": "code",
   "execution_count": 23,
   "id": "6a8ae954",
   "metadata": {},
   "outputs": [
    {
     "name": "stdout",
     "output_type": "stream",
     "text": [
      "izpis.txt\n",
      "1 To je en stavek.\n",
      "2 To je drugi.\n",
      "3 To je tretji stavek.\n",
      "4 To je četrti.\n"
     ]
    }
   ],
   "source": [
    "izpisi_datoteko('izpis.txt')"
   ]
  },
  {
   "cell_type": "markdown",
   "id": "921f90be",
   "metadata": {},
   "source": [
    "## Delo z datotečnim sistemom\n",
    "\n",
    "\n",
    "Tako, kot si daljše programe shranjujemo v datoteke, si tudi večje količine podatkov shranimo v datoteke. Poglejmo si najprej, kako so datoteke na računalniku sploh organizirane. Vsak nosilec podatkov (trdi disk, SSD, DVD, USB ključek) ima podatke zapisane v določenem datotečnem sistemu, ki je odvisen od vrste nosilca in operacijskega sistema. Na primer, trdi diski pod Windowsi so običajno formatirani v sistemu NTFS, pod Linuxom v sistemu Ext, na Macintoshu pa v sistemu HFS. USB ključki so zaradi lažje prenosljivosti ponavadi vsi formatirani v sistemu FAT (ki se je včasih uporabljal pod Windowsi). Če želimo, lahko na nosilcu naredimo več particij in vsako od njih ločeno formatiramo s svojim datotečnim sistemom.\n",
    "\n",
    "Datotečni sistem določa, v kakšni obliki je na nosilcu shranjena vsebina datotek in v kakšni obliki je predstavljena uporabniku. S prvim se ne bomo ukvarjali, pri drugem pa je pomembna le razlika med operacijskim sistemom Windows in sistemi, osnovanimi na UNIXu (torej Linux ali OS X).\n",
    "\n",
    "Datotečni sistem vsebuje datoteke, razporejene po mapah (oz. direktorijih), ki so lahko tudi gnezdene. Na vrhu imamo korensko mapo, ki jo v operacijskih sistemih, osnovanih na UNIXu, označujemo z `/`, na operacijskem sistemu Windows pa z `C:\\`, kjer je `C` ime particije: `C` običajno označuje glavni pogon, `D` drugi pogon ali CD/DVD/BlueRay enoto, `A` in `B` sta se uporabljali za diskete, kasnejše črke pa se uporabljajo za USB ključke in podobno.\n",
    "\n",
    "Za primer vzemimo datotečni sistem s sledečimi mapami in datotekami:"
   ]
  },
  {
   "cell_type": "markdown",
   "id": "6fb17e19",
   "metadata": {},
   "source": [
    "```\n",
    "/\n",
    "    uvp\n",
    "        datoteke\n",
    "            vhodna.txt\n",
    "            izhodna.txt\n",
    "        funkcije.py\n",
    "        seznami.py\n",
    "        slovarji.py\n",
    "        zanke.py\n",
    "    praktikum\n",
    "        latex\n",
    "            pismo.tex\n",
    "            pismo.pdf\n",
    "            pismo.aux\n",
    "        mathematica\n",
    "            grafi.nb\n",
    "            kolokvij.nb\n",
    "    analiza\n",
    "        plonkec.tex\n",
    "```"
   ]
  },
  {
   "cell_type": "markdown",
   "id": "7886259c",
   "metadata": {},
   "source": [
    "Vsaka datoteka ima absolutno pot, na kateri jo lahko najdemo. Na primer absolutna pot datoteke `pismo.tex` je `/praktikum/latex/pismo.tex` oz. `C:\\praktikum\\latex\\pismo.tex` na Windowsih. Do datotek kaže tudi relativna pot. Na primer, glede na imenik `praktikum` je pot do `pismo.tex` kar `latex/pismo.tex`. Če želimo, gremo z `..` tudi ven iz trenutnega imenika. Na primer, glede na imenik `mathematica` je relativna pot do `vhodna.txt` enaka `../../uvp/datoteke/vhodna.txt`."
   ]
  },
  {
   "cell_type": "markdown",
   "id": "959626e4",
   "metadata": {},
   "source": [
    "Za delo z datotečnim sistemom je na voljo knjižnica `os`:"
   ]
  },
  {
   "cell_type": "code",
   "execution_count": 24,
   "id": "a7ee6e64",
   "metadata": {},
   "outputs": [],
   "source": [
    "import os"
   ]
  },
  {
   "cell_type": "markdown",
   "id": "2511d558",
   "metadata": {},
   "source": [
    "Trenutni imenik dobimo z `os.getcwd`:"
   ]
  },
  {
   "cell_type": "code",
   "execution_count": 25,
   "id": "3fc0502b",
   "metadata": {},
   "outputs": [
    {
     "data": {
      "text/plain": [
       "'/home/runner/work/uvod-v-programiranje/uvod-v-programiranje/zapiski'"
      ]
     },
     "execution_count": 25,
     "metadata": {},
     "output_type": "execute_result"
    }
   ],
   "source": [
    "os.getcwd()"
   ]
  },
  {
   "cell_type": "markdown",
   "id": "3e48e28e",
   "metadata": {},
   "source": [
    "zamenjamo pa ga z `os.chdir`, ki sprejme absolutno ali relativno pot:"
   ]
  },
  {
   "cell_type": "code",
   "execution_count": 26,
   "id": "bfcc43be",
   "metadata": {},
   "outputs": [
    {
     "data": {
      "text/plain": [
       "'/home/runner/work/uvod-v-programiranje/uvod-v-programiranje'"
      ]
     },
     "execution_count": 26,
     "metadata": {},
     "output_type": "execute_result"
    }
   ],
   "source": [
    "os.chdir('..')\n",
    "os.getcwd()"
   ]
  },
  {
   "cell_type": "code",
   "execution_count": 27,
   "id": "c429d40a",
   "metadata": {},
   "outputs": [
    {
     "data": {
      "text/plain": [
       "'/home/runner/work/uvod-v-programiranje/uvod-v-programiranje/zapiski'"
      ]
     },
     "execution_count": 27,
     "metadata": {},
     "output_type": "execute_result"
    }
   ],
   "source": [
    "os.chdir('zapiski')\n",
    "os.getcwd()"
   ]
  },
  {
   "cell_type": "markdown",
   "id": "d82d21e1",
   "metadata": {},
   "source": [
    "Imena vseh datotek v danem imeniku dobimo z `os.listdir`:"
   ]
  },
  {
   "cell_type": "code",
   "execution_count": 28,
   "id": "9b21bc90",
   "metadata": {},
   "outputs": [
    {
     "data": {
      "text/plain": [
       "['00-uvod.md',\n",
       " 'stavki.txt',\n",
       " '08-datoteke.md',\n",
       " '_build',\n",
       " '10-nadzor-razlicic.md',\n",
       " 'izpis.txt',\n",
       " '_config.yml',\n",
       " '09-tekstovni-vmesnik.md',\n",
       " '06-slovarji-in-mnozice.md',\n",
       " '03-nizi.md',\n",
       " '12-spletna-storitev.md',\n",
       " '01-uvod-v-python.md',\n",
       " '_toc.yml',\n",
       " '04-zanke.md',\n",
       " '11-spletni-vmesnik.md',\n",
       " '05-seznami-in-nabori.md',\n",
       " 'slike',\n",
       " '07-razredi.md',\n",
       " '02-rekurzija.md']"
      ]
     },
     "execution_count": 28,
     "metadata": {},
     "output_type": "execute_result"
    }
   ],
   "source": [
    "os.listdir()"
   ]
  },
  {
   "cell_type": "code",
   "execution_count": 29,
   "id": "5ae8381e",
   "metadata": {},
   "outputs": [
    {
     "data": {
      "text/plain": [
       "['skica-modela.png', 'readme-md.png', 'avtoceste.png', 'skica-vmesnika.png']"
      ]
     },
     "execution_count": 29,
     "metadata": {},
     "output_type": "execute_result"
    }
   ],
   "source": [
    "os.listdir('slike')"
   ]
  },
  {
   "cell_type": "markdown",
   "id": "bdc5b776",
   "metadata": {},
   "source": [
    "Vse funkcije za delo z datotekami lahko najdete v [uradni dokumentaciji], ostale pogosto uporabljene pa so:\n",
    "\n",
    "- `os.mkdir(pot)`, ki naredi imenik z dano potjo.\n",
    "- `os.makedirs(pot, exist_ok=False)`, ki naredi imenik z dano potjo in vse vmesne imenike. Če je argument `exist_ok` nastavljen na `True`, ne javi napake, če ciljna mapa že obstaja.\n",
    "- `os.rename(stara_pot, nova_pot)` datoteko ali imenik s potjo `stara_pot` preimenuje v `nova_pot`.\n",
    "- `os.remove(pot)` pobriše datoteko z dano potjo.\n",
    "- `os.rmdir(pot)` pobriše imenik z dano potjo.\n",
    "- `os.removedirs(pot)` pobriše imenik z dano potjo in vse vmesne imenike."
   ]
  },
  {
   "cell_type": "markdown",
   "id": "0d0dd72f",
   "metadata": {},
   "source": [
    "Poleg knjižnice `os` je na voljo tudi knjižnica `os.path` za delo z datotečnimi potmi:"
   ]
  },
  {
   "cell_type": "markdown",
   "id": "b8ab2752",
   "metadata": {},
   "source": [
    "- `os.path.join(pot1, pot2)` stakni poti `pot1` in `pot2`, pri čemer ustrezno poskrbi za prava ločila glede na operacijski sistem.\n",
    "- `os.path.isdir(pot)` vrne `True`, kadar `pot` vodi do imenika.\n",
    "- `os.path.exists(pot)` vrne `True`, kadar `pot` obstaja v datotečnem sistemu.\n",
    "- `os.path.splitext(pot)` loči pot datoteke na del pred končnico in del za njo:"
   ]
  },
  {
   "cell_type": "code",
   "execution_count": 30,
   "id": "38769b63",
   "metadata": {},
   "outputs": [
    {
     "data": {
      "text/plain": [
       "('/imenik/podimenik/test', '.txt')"
      ]
     },
     "execution_count": 30,
     "metadata": {},
     "output_type": "execute_result"
    }
   ],
   "source": [
    "os.path.splitext('/imenik/podimenik/test.txt')"
   ]
  },
  {
   "cell_type": "markdown",
   "id": "92871e75",
   "metadata": {},
   "source": [
    "- `os.path.split(pot)` loči na pot do zadnje imenika in na ime datoteke.  Do prve komponente lahko dostopamo tudi z `os.path.dirname(pot)`, do druge pa z metodo `os.path.basename(pot)`."
   ]
  },
  {
   "cell_type": "code",
   "execution_count": 31,
   "id": "bba07570",
   "metadata": {},
   "outputs": [
    {
     "data": {
      "text/plain": [
       "('/imenik/podimenik', 'test.txt')"
      ]
     },
     "execution_count": 31,
     "metadata": {},
     "output_type": "execute_result"
    }
   ],
   "source": [
    "os.path.split('/imenik/podimenik/test.txt')"
   ]
  },
  {
   "cell_type": "code",
   "execution_count": 32,
   "id": "72d3caec",
   "metadata": {},
   "outputs": [
    {
     "data": {
      "text/plain": [
       "'/imenik/podimenik'"
      ]
     },
     "execution_count": 32,
     "metadata": {},
     "output_type": "execute_result"
    }
   ],
   "source": [
    "os.path.dirname('/imenik/podimenik/test.txt')"
   ]
  },
  {
   "cell_type": "code",
   "execution_count": 33,
   "id": "8168c3e6",
   "metadata": {},
   "outputs": [
    {
     "data": {
      "text/plain": [
       "'test.txt'"
      ]
     },
     "execution_count": 33,
     "metadata": {},
     "output_type": "execute_result"
    }
   ],
   "source": [
    "os.path.basename('/imenik/podimenik/test.txt')"
   ]
  },
  {
   "cell_type": "markdown",
   "id": "174aed54",
   "metadata": {},
   "source": [
    "- `os.path.abspath(pot)` dano pot pretvori v absolutno:"
   ]
  },
  {
   "cell_type": "code",
   "execution_count": 34,
   "id": "a4fe83f4",
   "metadata": {},
   "outputs": [
    {
     "data": {
      "text/plain": [
       "'/home/runner/work/uvod-v-programiranje/uvod-v-programiranje/02-rekurzija'"
      ]
     },
     "execution_count": 34,
     "metadata": {},
     "output_type": "execute_result"
    }
   ],
   "source": [
    "os.path.abspath('../02-rekurzija/')"
   ]
  },
  {
   "cell_type": "markdown",
   "id": "84699380",
   "metadata": {},
   "source": [
    "## JSON datoteke\n",
    "\n",
    "Za zapis strukturiranih podatkov je uveljavljen standard [JSON](https://www.json.org/json-sl.html), ki ga podpirajo skoraj vsa orodja za delo s podatki. Vrednosti v njem so lahko:\n",
    "- števila,\n",
    "- logični vrednosti `true` in `false` (pozorni bodite na malo začetnico),\n",
    "- nizi (ki jih obvezno pišemo med narekovaje `\"`),\n",
    "- ničelna vrednost `null` (ki igra enako vlogo kot `None`),\n",
    "- seznami (ki jih pišemo enako kot v Pythonu) ter\n",
    "- objekti (ki so podobno kot slovarji v Pythonu, le da so ključi lahko le nizi).\n",
    "\n",
    "Na primer:\n",
    "\n",
    "```json\n",
    "{\n",
    "  \"ime\": \"Anka Cvetnik\",\n",
    "  \"vpisnaStevilka\": 27123456,\n",
    "  \"visina\": 167.8,\n",
    "  \"prijatelji\": [27154321, 27165432],\n",
    "  \"predmetnik\": [\n",
    "    {\"predmet\": \"Analiza 1\", \"ocena\": 10},\n",
    "    {\"predmet\": \"Algebra 1\", \"ocena\": 10},\n",
    "    {\n",
    "      \"predmet\": \"Uvod v programiranje\",\n",
    "      \"ocena\": null\n",
    "    }\n",
    "  ]\n",
    "}\n",
    "```\n",
    "\n",
    "V Pythonu je delu z JSONom namenjena knjižnica `json`. Najenostavnejša funkcija v njej je `loads`, ki prebere niz z JSONom in vrne ustrezno Pythonovo vrednost:"
   ]
  },
  {
   "cell_type": "code",
   "execution_count": 35,
   "id": "9192b6c0",
   "metadata": {},
   "outputs": [
    {
     "data": {
      "text/plain": [
       "[1, {'3': True, '4': None}]"
      ]
     },
     "execution_count": 35,
     "metadata": {},
     "output_type": "execute_result"
    }
   ],
   "source": [
    "import json\n",
    "json.loads('[1, {\"3\": true, \"4\": null}]')"
   ]
  },
  {
   "cell_type": "markdown",
   "id": "59638cda",
   "metadata": {},
   "source": [
    "V obratno smer deluje funkcija `json.dumps`, ki Pythonovo vrednost pretvori v JSON:"
   ]
  },
  {
   "cell_type": "code",
   "execution_count": 36,
   "id": "22a340d2",
   "metadata": {},
   "outputs": [
    {
     "data": {
      "text/plain": [
       "'[1, {\"3\": true, \"4\": null}]'"
      ]
     },
     "execution_count": 36,
     "metadata": {},
     "output_type": "execute_result"
    }
   ],
   "source": [
    ">>> json.dumps([1, {3: True, 4: None}])\n",
    "'[1, {\"3\": true, \"4\": null}]'"
   ]
  },
  {
   "cell_type": "markdown",
   "id": "41f7f103",
   "metadata": {},
   "source": [
    "Vidimo, da je funkcija ključe slovarjev tudi ustrezno spremenila v nize.\n",
    "\n",
    "Če želimo delati z JSON datotekami, imamo na voljo funkcijo `dump`, ki poleg vrednosti sprejme datoteko, v katero naj zapiše JSON vrednost."
   ]
  },
  {
   "cell_type": "code",
   "execution_count": 37,
   "id": "fe974f83",
   "metadata": {},
   "outputs": [],
   "source": [
    "with open('primer.json', 'w') as dat:\n",
    "    json.dump([1, {3: True, 4: None}], dat)"
   ]
  },
  {
   "cell_type": "code",
   "execution_count": 38,
   "id": "e50374a3",
   "metadata": {},
   "outputs": [
    {
     "name": "stdout",
     "output_type": "stream",
     "text": [
      "primer.json\n",
      "1 [1, {\"3\": true, \"4\": null}]"
     ]
    }
   ],
   "source": [
    "izpisi_datoteko('primer.json')"
   ]
  },
  {
   "cell_type": "markdown",
   "id": "8d582e2f",
   "metadata": {},
   "source": [
    "Če želimo, lahko datoteko tudi lepo oblikujemo z zamiki:"
   ]
  },
  {
   "cell_type": "code",
   "execution_count": 39,
   "id": "b7d8202f",
   "metadata": {},
   "outputs": [],
   "source": [
    "with open('primer.json', 'w') as dat:\n",
    "    json.dump([1, {3: True, 4: None}], dat, indent=4)"
   ]
  },
  {
   "cell_type": "code",
   "execution_count": 40,
   "id": "9a4daf8c",
   "metadata": {},
   "outputs": [
    {
     "name": "stdout",
     "output_type": "stream",
     "text": [
      "primer.json\n",
      "1 [\n",
      "2     1,\n",
      "3     {\n",
      "4         \"3\": true,\n",
      "5         \"4\": null\n",
      "6     }\n",
      "7 ]"
     ]
    }
   ],
   "source": [
    "izpisi_datoteko('primer.json')"
   ]
  },
  {
   "cell_type": "markdown",
   "id": "9521ea89",
   "metadata": {},
   "source": [
    "Podobno obstaja funkcija `load`, ki datoteko prebere:"
   ]
  },
  {
   "cell_type": "code",
   "execution_count": 41,
   "id": "66f23455",
   "metadata": {},
   "outputs": [
    {
     "data": {
      "text/plain": [
       "[1, {'3': True, '4': None}]"
      ]
     },
     "execution_count": 41,
     "metadata": {},
     "output_type": "execute_result"
    }
   ],
   "source": [
    "with open('primer.json') as datoteka:\n",
    "    vrednost = json.load(datoteka)\n",
    "vrednost"
   ]
  }
 ],
 "metadata": {
  "jupytext": {
   "cell_metadata_filter": "-all",
   "formats": "md:myst",
   "text_representation": {
    "extension": ".md",
    "format_name": "myst",
    "format_version": 0.13,
    "jupytext_version": "1.10.1"
   }
  },
  "kernelspec": {
   "display_name": "Python 3",
   "language": "python",
   "name": "python3"
  },
  "language_info": {
   "codemirror_mode": {
    "name": "ipython",
    "version": 3
   },
   "file_extension": ".py",
   "mimetype": "text/x-python",
   "name": "python",
   "nbconvert_exporter": "python",
   "pygments_lexer": "ipython3",
   "version": "3.7.13"
  },
  "source_map": [
   14,
   30,
   33,
   37,
   41,
   43,
   47,
   51,
   53,
   57,
   59,
   72,
   79,
   83,
   87,
   89,
   93,
   97,
   101,
   109,
   111,
   133,
   139,
   141,
   145,
   151,
   153,
   157,
   163,
   169,
   171,
   175,
   181,
   187,
   189,
   202,
   226,
   230,
   234,
   236,
   240,
   242,
   246,
   251,
   254,
   258,
   262,
   264,
   275,
   279,
   286,
   288,
   292,
   296,
   300,
   302,
   306,
   308,
   341,
   344,
   348,
   351,
   357,
   362,
   364,
   368,
   373,
   375,
   379
  ]
 },
 "nbformat": 4,
 "nbformat_minor": 5
}