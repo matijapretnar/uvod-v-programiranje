{
 "cells": [
  {
   "cell_type": "markdown",
   "id": "8a2a2b62",
   "metadata": {},
   "source": [
    "# Uvod v Python\n",
    "\n",
    "## Aritmetični izrazi\n",
    "\n",
    "Videli smo, da lahko v Pythonu seštevamo, seveda pa so nam voljo tudi ostale osnovne računske operacije: `-` za odštevanje, `*` za množenje in `**` za potenciranje. Za deljenje Python pozna dve operaciji: običajno deljenje `/` in pa celoštevilsko deljenje `//`, ki zavrže morebitni ostanek. Če želimo izračunati samo ostanek, uporabimo `%`. Prioriteta operatorjev je določena tako kot običajno: najtesneje veže potenciranje, nato množenje in deljenji, nazadnje pa seštevanje in odštevanje. Če želimo vrstni red spremeniti, uporabimo običajne oklepaje. Še to: da je koda bolj berljiva, damo na vsaki strani operatorja po en presledek."
   ]
  },
  {
   "cell_type": "code",
   "execution_count": 1,
   "id": "9977069e",
   "metadata": {},
   "outputs": [
    {
     "data": {
      "text/plain": [
       "279936"
      ]
     },
     "execution_count": 1,
     "metadata": {},
     "output_type": "execute_result"
    }
   ],
   "source": [
    "(1 + 5) ** (9 - 2)"
   ]
  },
  {
   "cell_type": "code",
   "execution_count": 2,
   "id": "10c9a306",
   "metadata": {},
   "outputs": [
    {
     "data": {
      "text/plain": [
       "12.3"
      ]
     },
     "execution_count": 2,
     "metadata": {},
     "output_type": "execute_result"
    }
   ],
   "source": [
    "123 / 10"
   ]
  },
  {
   "cell_type": "code",
   "execution_count": 3,
   "id": "ec43a468",
   "metadata": {},
   "outputs": [
    {
     "data": {
      "text/plain": [
       "12"
      ]
     },
     "execution_count": 3,
     "metadata": {},
     "output_type": "execute_result"
    }
   ],
   "source": [
    "123 // 10"
   ]
  },
  {
   "cell_type": "code",
   "execution_count": 4,
   "id": "31531f17",
   "metadata": {},
   "outputs": [
    {
     "data": {
      "text/plain": [
       "3"
      ]
     },
     "execution_count": 4,
     "metadata": {},
     "output_type": "execute_result"
    }
   ],
   "source": [
    "123 % 10"
   ]
  },
  {
   "cell_type": "code",
   "execution_count": 5,
   "id": "fde60182",
   "metadata": {},
   "outputs": [
    {
     "data": {
      "text/plain": [
       "1173201153236117392747457141184065170953567764283837482787268119007036898684512512556572577156186549602764788041495818311329933349581701014867937205332087819177539156963702612817234021747525564287508352993790061063457990401206082438721"
      ]
     },
     "execution_count": 5,
     "metadata": {},
     "output_type": "execute_result"
    }
   ],
   "source": [
    "123 ** (45 + 67)"
   ]
  },
  {
   "cell_type": "markdown",
   "id": "bf55f06b",
   "metadata": {},
   "source": [
    "Vidimo, da velika števila Pythonu ne povzročajo velikih težav.\n",
    "\n",
    "```{attention}\n",
    "Razmislite, kako bi izračunali predzadnjih sto števk števila $2^{12345}$?\n",
    "```\n",
    "\n",
    "## Spremenljivke\n",
    "\n",
    "Izračunane vrednosti si lahko shranimo tudi v spremenljivke, ki jih potem uporabljamo v kasnejših izračunih. Za to uporabimo _prireditveni stavek_ oblike\n",
    "\n",
    "```\n",
    "ime_spremenljivke = vrednost_ki_jo_zelimo_shraniti\n",
    "```\n",
    "\n",
    "na primer:"
   ]
  },
  {
   "cell_type": "code",
   "execution_count": 6,
   "id": "08faf8d1",
   "metadata": {},
   "outputs": [],
   "source": [
    "a = 3 + 3"
   ]
  },
  {
   "cell_type": "markdown",
   "id": "a7b65724",
   "metadata": {},
   "source": [
    "Za razliko od aritmetičnih izrazov prireditveni stavek ne vrne nobene vrednosti, zato se izhodna celica ne prikaže. Vseeno pa lahko vidimo, da je Python vrednost izračunal in jo shranil, saj sledeči izraz upošteva, da je `a` enak 6:"
   ]
  },
  {
   "cell_type": "code",
   "execution_count": 7,
   "id": "bbca410c",
   "metadata": {},
   "outputs": [
    {
     "data": {
      "text/plain": [
       "42"
      ]
     },
     "execution_count": 7,
     "metadata": {},
     "output_type": "execute_result"
    }
   ],
   "source": [
    "7 * a"
   ]
  },
  {
   "cell_type": "markdown",
   "id": "ce6e178e",
   "metadata": {},
   "source": [
    "V celici lahko zaporedoma izvedemo tudi več ukazov:"
   ]
  },
  {
   "cell_type": "code",
   "execution_count": 8,
   "id": "48145d68",
   "metadata": {},
   "outputs": [
    {
     "data": {
      "text/plain": [
       "210"
      ]
     },
     "execution_count": 8,
     "metadata": {},
     "output_type": "execute_result"
    }
   ],
   "source": [
    "b = a + 8\n",
    "c = 3 * b\n",
    "a + b + c\n",
    "5 * c"
   ]
  },
  {
   "cell_type": "markdown",
   "id": "4a71cef6",
   "metadata": {},
   "source": [
    "Vidimo, da se je v izhodni celici prikazala le vrednost zadnjega izraza. Če želimo, lahko v prireditvenem stavku nastavimo več vrednosti hkrati:"
   ]
  },
  {
   "cell_type": "code",
   "execution_count": 9,
   "id": "01e17425",
   "metadata": {},
   "outputs": [
    {
     "data": {
      "text/plain": [
       "25"
      ]
     },
     "execution_count": 9,
     "metadata": {},
     "output_type": "execute_result"
    }
   ],
   "source": [
    "a, b = 10, 15\n",
    "a + b"
   ]
  },
  {
   "cell_type": "markdown",
   "id": "314ee097",
   "metadata": {},
   "source": [
    "Vrednost spremenljivke lahko tudi povozimo z novo vrednostjo, vendar to na preostale spremenljivke ne vpliva, saj se vedno shrani tista vrednost, ki smo jo podali v prireditvenem stavku."
   ]
  },
  {
   "cell_type": "code",
   "execution_count": 10,
   "id": "5184513d",
   "metadata": {},
   "outputs": [
    {
     "data": {
      "text/plain": [
       "13"
      ]
     },
     "execution_count": 10,
     "metadata": {},
     "output_type": "execute_result"
    }
   ],
   "source": [
    "a = 10 \n",
    "b = a + 3\n",
    "b"
   ]
  },
  {
   "cell_type": "markdown",
   "id": "d820b20f",
   "metadata": {},
   "source": [
    "Na primer, če vrednost `a` povozimo, se vrednost `b` ne spremeni, saj je prireditveni stavek `b = a + 3` najprej izračunal vrednost desne strani, torej `13`, in v `b` shranil število samo."
   ]
  },
  {
   "cell_type": "code",
   "execution_count": 11,
   "id": "cfe28c18",
   "metadata": {},
   "outputs": [
    {
     "data": {
      "text/plain": [
       "13"
      ]
     },
     "execution_count": 11,
     "metadata": {},
     "output_type": "execute_result"
    }
   ],
   "source": [
    "a = 25\n",
    "b"
   ]
  },
  {
   "cell_type": "markdown",
   "id": "ac676884",
   "metadata": {},
   "source": [
    "Za primer daljšega programa si oglejmo [Fermijevo oceno](https://sl.wikipedia.org/wiki/Fermijev_problem) števila učiteljev matematike v slovenskih osnovnih šolah:"
   ]
  },
  {
   "cell_type": "code",
   "execution_count": 12,
   "id": "2dea4a7b",
   "metadata": {},
   "outputs": [
    {
     "data": {
      "text/plain": [
       "2160.0"
      ]
     },
     "execution_count": 12,
     "metadata": {},
     "output_type": "execute_result"
    }
   ],
   "source": [
    "stevilo_slovencev = 2000000\n",
    "pricakovana_zivljenska_doba = 75\n",
    "velikost_generacije = stevilo_slovencev / pricakovana_zivljenska_doba\n",
    "stevilo_osnovnosolcev = 9 * velikost_generacije\n",
    "stevilo_razredov = stevilo_osnovnosolcev / 25\n",
    "stevilo_ur_matematike_na_teden = 4.5 * stevilo_razredov\n",
    "stevilo_uciteljev_matematike = stevilo_ur_matematike_na_teden / 20\n",
    "stevilo_uciteljev_matematike"
   ]
  },
  {
   "cell_type": "markdown",
   "id": "e4602c24",
   "metadata": {},
   "source": [
    "V Sloveniji bi tako moralo biti približno 2000 učiteljev matematike. Opazimo, da lahko imena spremenljivk vsebujejo več kot eno črko, česar smo navajeni v matematiki. V programiranju je zelo pomembno, da so imena čimbolj opisna, saj tako hitreje razumemo, kaj počne program.\n",
    "\n",
    "## Funkcije\n",
    "\n",
    "Pod imeni pa se ne skrivajo samo števila temveč tudi funkcije. Na primer, Python poleg aritmetičnih operacij ponuja osnovne funkcije, kot na primer `max` in `min` za izračun maksimuma in minimuma. Pokličemo jih tako, da za imenom funkcije v oklepajih naštejemo argumente, ločene z vejicami:"
   ]
  },
  {
   "cell_type": "code",
   "execution_count": 13,
   "id": "a5eff48b",
   "metadata": {},
   "outputs": [
    {
     "data": {
      "text/plain": [
       "6"
      ]
     },
     "execution_count": 13,
     "metadata": {},
     "output_type": "execute_result"
    }
   ],
   "source": [
    "max(3, 6)"
   ]
  },
  {
   "cell_type": "code",
   "execution_count": 14,
   "id": "8c74de12",
   "metadata": {},
   "outputs": [
    {
     "data": {
      "text/plain": [
       "-5"
      ]
     },
     "execution_count": 14,
     "metadata": {},
     "output_type": "execute_result"
    }
   ],
   "source": [
    "min(12, -5)"
   ]
  },
  {
   "cell_type": "code",
   "execution_count": 15,
   "id": "4ac22b9f",
   "metadata": {},
   "outputs": [
    {
     "data": {
      "text/plain": [
       "15"
      ]
     },
     "execution_count": 15,
     "metadata": {},
     "output_type": "execute_result"
    }
   ],
   "source": [
    "max(min(10, 20), 30 // 2)"
   ]
  },
  {
   "cell_type": "markdown",
   "id": "89d20c9f",
   "metadata": {},
   "source": [
    "Matematične funkcije so na voljo v ločeni knjižnici `math`. Do njih lahko dostopamo na dva osnovna načina:\n",
    "\n",
    "Knjižnico uvozimo s stavkom `import math`, nato pa do funkcij in konstant dostopamo tako, da dodamo `math.` pred vsako ime:"
   ]
  },
  {
   "cell_type": "code",
   "execution_count": 16,
   "id": "051697dc",
   "metadata": {},
   "outputs": [
    {
     "data": {
      "text/plain": [
       "0.7071067811865476"
      ]
     },
     "execution_count": 16,
     "metadata": {},
     "output_type": "execute_result"
    }
   ],
   "source": [
    "import math\n",
    "math.sqrt(2) / 2"
   ]
  },
  {
   "cell_type": "markdown",
   "id": "5de69353",
   "metadata": {},
   "source": [
    "```\n",
    "math.sin(math.pi / 4)\n",
    "```\n",
    "\n",
    "Drugi način pa je, da iz knjižnice s stavkom `from math import ...` uvozimo posamezne vrednosti, nato pa do njih dostopamo direktno:"
   ]
  },
  {
   "cell_type": "code",
   "execution_count": 17,
   "id": "1a53bb48",
   "metadata": {},
   "outputs": [],
   "source": [
    "from math import sqrt, sin, pi"
   ]
  },
  {
   "cell_type": "code",
   "execution_count": 18,
   "id": "a0352401",
   "metadata": {},
   "outputs": [
    {
     "data": {
      "text/plain": [
       "0.7071067811865476"
      ]
     },
     "execution_count": 18,
     "metadata": {},
     "output_type": "execute_result"
    }
   ],
   "source": [
    "sqrt(2) / 2"
   ]
  },
  {
   "cell_type": "code",
   "execution_count": 19,
   "id": "168f4169",
   "metadata": {},
   "outputs": [
    {
     "data": {
      "text/plain": [
       "1.2246467991473532e-16"
      ]
     },
     "execution_count": 19,
     "metadata": {},
     "output_type": "execute_result"
    }
   ],
   "source": [
    "sin(pi)"
   ]
  },
  {
   "cell_type": "markdown",
   "id": "e77b7232",
   "metadata": {},
   "source": [
    "```{attention}\n",
    "V zadnjem ukazu nismo dobili pričakovanega odgovora 0\\. Računalnik namreč ne dela s čisto pravimi realnimi števili, temveč z njihovimi približki, ki jim pravimo *števila s plavajočo vejico*. Za ta števila običajno najprej zapišemo decimalke (ki jim pravimo *mantisa*), nato pa še eksponent. Število, ki smo ga dobili, je tako enako približno $1{,}22 \\cdot 10^{-16}$, saj `e-16` pomeni $10^{-16}$. Na primer `3.2445e2` pa označuje število $324{,}45 = 3{,}2445 \\cdot 10^2$).\n",
    "```\n",
    "\n",
    "Obstaja tudi tretji način, ko iz knjižnice s stavkom `from math import *` uvozimo vse naštete vrednosti, vendar je odsvetovan, ker potem nikoli ne vemo, kaj vse smo uvozili.\n",
    "\n",
    "## Preprečevanje napak\n",
    "\n",
    "V programih lahko naredimo tri glavne vrste napak\n",
    "\n",
    "### Sintaktične napake\n",
    "\n",
    "Pri teh napakah program napišemo drugače, kot določajo pravila. Na primer, če argumente funkcije ločimo s podpičjem namesto z vejico, ali pa če narobe pišemo oklepaje:"
   ]
  },
  {
   "cell_type": "code",
   "execution_count": 20,
   "id": "b6c3a36f",
   "metadata": {
    "tags": [
     "raises-exception"
    ]
   },
   "outputs": [
    {
     "ename": "SyntaxError",
     "evalue": "invalid syntax (3958682054.py, line 1)",
     "output_type": "error",
     "traceback": [
      "\u001b[0;36m  File \u001b[0;32m\"/tmp/ipykernel_1764/3958682054.py\"\u001b[0;36m, line \u001b[0;32m1\u001b[0m\n\u001b[0;31m    max(2; 4)\u001b[0m\n\u001b[0m         ^\u001b[0m\n\u001b[0;31mSyntaxError\u001b[0m\u001b[0;31m:\u001b[0m invalid syntax\n"
     ]
    }
   ],
   "source": [
    "max(2; 4)"
   ]
  },
  {
   "cell_type": "code",
   "execution_count": 21,
   "id": "981f5468",
   "metadata": {
    "tags": [
     "raises-exception"
    ]
   },
   "outputs": [
    {
     "ename": "SyntaxError",
     "evalue": "invalid syntax (309947572.py, line 1)",
     "output_type": "error",
     "traceback": [
      "\u001b[0;36m  File \u001b[0;32m\"/tmp/ipykernel_1764/309947572.py\"\u001b[0;36m, line \u001b[0;32m1\u001b[0m\n\u001b[0;31m    max(2, 4))\u001b[0m\n\u001b[0m             ^\u001b[0m\n\u001b[0;31mSyntaxError\u001b[0m\u001b[0;31m:\u001b[0m invalid syntax\n"
     ]
    }
   ],
   "source": [
    "max(2, 4))"
   ]
  },
  {
   "cell_type": "markdown",
   "id": "c9f7e265",
   "metadata": {},
   "source": [
    "Na take napake nas Python opozori, še preden začne z izvajanjem programa, zato jih ne moremo zgrešiti.\n",
    "\n",
    "### Napake ob izvajanju\n",
    "\n",
    "Pri teh napakah program napišemo sintaktično pravilno, vendar ga Python ne zna ali ne more izvesti:"
   ]
  },
  {
   "cell_type": "code",
   "execution_count": 22,
   "id": "ac92659e",
   "metadata": {
    "tags": [
     "raises-exception"
    ]
   },
   "outputs": [
    {
     "ename": "ZeroDivisionError",
     "evalue": "division by zero",
     "output_type": "error",
     "traceback": [
      "\u001b[0;31m---------------------------------------------------------------------------\u001b[0m",
      "\u001b[0;31mZeroDivisionError\u001b[0m                         Traceback (most recent call last)",
      "\u001b[0;32m/tmp/ipykernel_1764/1455669704.py\u001b[0m in \u001b[0;36m<module>\u001b[0;34m\u001b[0m\n\u001b[0;32m----> 1\u001b[0;31m \u001b[0;36m1\u001b[0m \u001b[0;34m/\u001b[0m \u001b[0;36m0\u001b[0m\u001b[0;34m\u001b[0m\u001b[0;34m\u001b[0m\u001b[0m\n\u001b[0m",
      "\u001b[0;31mZeroDivisionError\u001b[0m: division by zero"
     ]
    }
   ],
   "source": [
    "1 / 0"
   ]
  },
  {
   "cell_type": "code",
   "execution_count": 23,
   "id": "067edf69",
   "metadata": {
    "tags": [
     "raises-exception"
    ]
   },
   "outputs": [
    {
     "ename": "NameError",
     "evalue": "name 'mix' is not defined",
     "output_type": "error",
     "traceback": [
      "\u001b[0;31m---------------------------------------------------------------------------\u001b[0m",
      "\u001b[0;31mNameError\u001b[0m                                 Traceback (most recent call last)",
      "\u001b[0;32m/tmp/ipykernel_1764/3879753672.py\u001b[0m in \u001b[0;36m<module>\u001b[0;34m\u001b[0m\n\u001b[0;32m----> 1\u001b[0;31m \u001b[0mmix\u001b[0m\u001b[0;34m(\u001b[0m\u001b[0;36m2\u001b[0m\u001b[0;34m,\u001b[0m \u001b[0;36m4\u001b[0m\u001b[0;34m)\u001b[0m\u001b[0;34m\u001b[0m\u001b[0;34m\u001b[0m\u001b[0m\n\u001b[0m",
      "\u001b[0;31mNameError\u001b[0m: name 'mix' is not defined"
     ]
    }
   ],
   "source": [
    "mix(2, 4)"
   ]
  },
  {
   "cell_type": "markdown",
   "id": "88f56a03",
   "metadata": {},
   "source": [
    "Opozorila o napakah si bomo še ogledali bolj podrobno, zaenkrat pa si zapomnimo le, da je ključna informacija o napaki v zadnji vrstici opozorila. V prvem primeru je bila napaka deljenje z 0, v drugem pa to, da ime `mix` ni definirano.\n",
    "\n",
    "Na precej takih napak (npr. na to, da uporabimo nedefinirano ime) nas bo opozoril že urejevalnik, lahko pa se zgodi, da se bodo pojavile šele ob izvajanju. Pri Uvodu v programiranje to običajno ne bo težava, v praksi pa zna biti precej nerodno, sploh kadar gre za kritično pomemben program (npr. za nadzor jedrskega reaktorja) ali pa kadar s tem izgubimo veliko dela (recimo, da se računalnik po 10-urnem izračunu ustavi, preden izpiše rezultat). Lahko se tudi zgodi, da do napak pride šele ob kakšnih robnih pogojih, zato jih lahko precej časa sploh ne opazimo. Vseeno pa je njihova prednost vsaj ta, da jih opazimo, kadar se zgodijo (kot bomo videli, jih lahko včasih tudi naknadno rešimo).\n",
    "\n",
    "### Vsebinske napake\n",
    "\n",
    "Pri vsebinskih napakah je vse videti v redu, vendar je koncu dobimo napačen odgovor, ker smo podali napačna navodila. Recimo, da želimo izračunati razdaljo med točkama (2, 3) in (5, 7):\n",
    "\n",
    "```{code-block}\n",
    "((2 - 5) ** 2 + (3 - 7) ** 2) ** 1/2\n",
    "```\n",
    "\n",
    "Program smo napisali brez sintaktičnih napak in izvajanje je uspešno vrnilo rezultat, ki pa je žal napačen, ker nismo potencirali na 1/2, temveč potencirali na 1 in delili z 2, saj ima potenciranje prednost pred deljenjem. Take napake so še posebej zlobne, ker jih lahko precej dolgo časa ne opazimo. Znan primer te napake je [Mars Climate Orbiter](https://en.wikipedia.org/wiki/Mars_Climate_Orbiter), ki je po devetih mesecih potovanja proti Marsu prehitro vstopil v atmosfero in razpadel. Vzrok je bil v tem, da je del kode delal s SI merskimi enotami, del kode pa z imperialnimi. Škode je bilo za 300 milijonov dolarjev.\n",
    "\n",
    "Na vsebinske napake nas računalnik ne more opozoriti, saj nam ne zna brati misli. Izognemo se jim lahko tako, da programe pišemo strukturirano iz manjših delov, ki jih sproti preverjamo. Ključno pa je, da jih pišemo berljivo:\n",
    "\n",
    "- Na vsaki strani dvomestne operacije (`=`, `+`, `**`, ...) pišemo presledek (tako bi hitreje prepoznali, da `** 1/2` v resnici pomeni `** 1 / 2`).\n",
    "- Za ločili (na primer `,`) pišemo presledek, pred njimi pa ne.\n",
    "- Spremenljivkam dajemo opisna imena, ki jih pišemo z malimi črkami. Posamezne besede ločimo z znakom `_`.\n",
    "\n",
    "Na primer, računalnik bi razumel tudi sledeči izračun števila učiteljev matematike:"
   ]
  },
  {
   "cell_type": "code",
   "execution_count": 24,
   "id": "c5d39446",
   "metadata": {},
   "outputs": [
    {
     "data": {
      "text/plain": [
       "2160.0"
      ]
     },
     "execution_count": 24,
     "metadata": {},
     "output_type": "execute_result"
    }
   ],
   "source": [
    "s,z=2000000,75\n",
    "g=s/z\n",
    "o=9*g\n",
    "r=o/25\n",
    "m=4.5*r\n",
    "u=m/20\n",
    "u"
   ]
  },
  {
   "cell_type": "markdown",
   "id": "9201881d",
   "metadata": {},
   "source": [
    "ali celo:"
   ]
  },
  {
   "cell_type": "code",
   "execution_count": 25,
   "id": "98ca263b",
   "metadata": {},
   "outputs": [
    {
     "data": {
      "text/plain": [
       "2160.0"
      ]
     },
     "execution_count": 25,
     "metadata": {},
     "output_type": "execute_result"
    }
   ],
   "source": [
    "s,z=2000000,75;g=s/z;o=9*g;r=o/25;m=4.5*r;u=m/20;u"
   ]
  },
  {
   "cell_type": "markdown",
   "id": "742558a9",
   "metadata": {},
   "source": [
    "a pri takem pisanju se nam bo hitro pojavila napaka.\n",
    "\n",
    "## Definicije funkcij\n",
    "\n",
    "Kako bi izračunali ploščino trikotnika s stranicami dolžin 4, 13 in 15? Pomagamo si lahko s Heronovo formulo\n",
    "\n",
    "$$\\sqrt{s (s - a) (s - b) (s - c)}$$\n",
    "\n",
    "kjer je $s = (a + b + c) / 2$. Tako bi lahko napisali:"
   ]
  },
  {
   "cell_type": "code",
   "execution_count": 26,
   "id": "27a804b5",
   "metadata": {},
   "outputs": [
    {
     "data": {
      "text/plain": [
       "24.0"
      ]
     },
     "execution_count": 26,
     "metadata": {},
     "output_type": "execute_result"
    }
   ],
   "source": [
    "a, b, c = 4, 13, 15\n",
    "s = (a + b + c) / 2\n",
    "ploscina = math.sqrt(s * (s - a) * (s - b) * (s - c))\n",
    "ploscina"
   ]
  },
  {
   "cell_type": "markdown",
   "id": "43c0b5f5",
   "metadata": {},
   "source": [
    "Kako pa bi izračunali površino tetraedra pa bi izračunali površino tetraedra, ki ima za lica štiri trikotnike? Načeloma bi lahko pisali:"
   ]
  },
  {
   "cell_type": "code",
   "execution_count": 27,
   "id": "29b3567c",
   "metadata": {},
   "outputs": [
    {
     "data": {
      "text/plain": [
       "1816080.0"
      ]
     },
     "execution_count": 27,
     "metadata": {},
     "output_type": "execute_result"
    }
   ],
   "source": [
    "a, b, c, d, e, f = 896, 1073, 1073, 990, 1073, 1073\n",
    "s_abc = (a + b + c) / 2\n",
    "p_abc = math.sqrt(s_abc * (s_abc - a) * (s_abc - b) * (s_abc - c))\n",
    "s_aef = (a + e + f) / 2\n",
    "p_aef = math.sqrt(s_aef * (s_aef - a) * (s_aef - e) * (s_aef - f))\n",
    "s_cde = (c + d + e) / 2\n",
    "p_cde = math.sqrt(s_cde * (s_cde - c) * (s_cde - d) * (s_cde - f))\n",
    "s_bdf = (b + d + f) / 2\n",
    "p_bdf = math.sqrt(s_bdf * (s_bdf - b) * (s_bdf - d) * (s_bdf - f))\n",
    "povrsina = p_abc + p_aef + p_bdf + p_cde\n",
    "povrsina"
   ]
  },
  {
   "cell_type": "markdown",
   "id": "6ba66828",
   "metadata": {},
   "source": [
    "Kot vidimo, to ni najbolj pregledno. V taki kodi z veliko verjetnostjo naredimo kakšno napako. Bolje je, da uporabimo funkcije. Že prej smo uporabili nekaj vgrajenih funkcij, Python pa nam omogoča, da si funkcije definiramo tudi sami. Na primer, definicija funkcije za izračun ploščine trikotnika je sledeča:"
   ]
  },
  {
   "cell_type": "code",
   "execution_count": 28,
   "id": "da1d1e97",
   "metadata": {},
   "outputs": [],
   "source": [
    "def ploscina_trikotnika(a, b, c):\n",
    "    \"\"\"Vrne ploščino trikotnika z danimi stranicami.\"\"\"\n",
    "    s = (a + b + c) / 2\n",
    "    ploscina = math.sqrt(s * (s - a) * (s - b) * (s - c))\n",
    "    return ploscina"
   ]
  },
  {
   "cell_type": "markdown",
   "id": "b3c28991",
   "metadata": {},
   "source": [
    "Oglejmo si njene sestavne dele. Vsaka definicija funkcije se začne s ključno besedo `def`, ki ji sledi ime funkcije, v našem primeru `ploscina_trikotnika`, tej pa v oklepajih našteti argumenti, ki jih funkcija sprejme. Funkcije lahko sprejmejo različno število argumentov. Naša sprejme tri argumente, ki jih bomo shranili v spremenljivke `a`, `b` in `c`. Za dvopičjem sledi glavni del: _telo funkcije_, torej ukazi, ki naj se izvedejo, ko funkcijo pokličemo. Telo moramo zamakniti za štiri presledke, da se jasno vidi, kaj vse obsega.\n",
    "\n",
    "V prvo vrstico telesa lahko zapišemo neobvezni _dokumentacijski niz_ oziroma _docstring_, v katerem na kratko opišemo, kaj funkcija počne. Dokumentacijski niz ni obvezen, je pa koristen, saj uporabniku prek ustrezne podpore v urejevalniku ali funkcije `help` pove, kaj funkcija počne. Drugo in tretjo vrstico telesa smo že videli, v zadnji pa z ukazom `return` povemo, katero vrednost naj vrne funkcija. Tako definirano funkcijo potem kličemo na enak način kot vgrajene funkcije."
   ]
  },
  {
   "cell_type": "code",
   "execution_count": 29,
   "id": "e54d5c7e",
   "metadata": {},
   "outputs": [
    {
     "data": {
      "text/plain": [
       "24.0"
      ]
     },
     "execution_count": 29,
     "metadata": {},
     "output_type": "execute_result"
    }
   ],
   "source": [
    "ploscina_trikotnika(4, 13, 15)"
   ]
  },
  {
   "cell_type": "markdown",
   "id": "ceffed6d",
   "metadata": {},
   "source": [
    "S pomočjo funkcije `ploscina_trikotnika` lahko tudi na veliko bolj pregleden način zapišemo funkcijo za izračun površine tetraedra:"
   ]
  },
  {
   "cell_type": "code",
   "execution_count": 30,
   "id": "2c4cf8e4",
   "metadata": {},
   "outputs": [
    {
     "data": {
      "text/plain": [
       "1816080.0"
      ]
     },
     "execution_count": 30,
     "metadata": {},
     "output_type": "execute_result"
    }
   ],
   "source": [
    "def povrsina_tetraedra(a, b, c, d, e, f):\n",
    "    p_abc = ploscina_trikotnika(a, b, c)\n",
    "    p_aef = ploscina_trikotnika(a, e, f)\n",
    "    p_bdf = ploscina_trikotnika(b, d, f)\n",
    "    p_cde = ploscina_trikotnika(c, d, e)\n",
    "    return p_abc + p_aef + p_bdf + p_cde\n",
    "\n",
    "povrsina_tetraedra(896, 1073, 1073, 990, 1073, 1073)"
   ]
  },
  {
   "cell_type": "markdown",
   "id": "9ae44589",
   "metadata": {},
   "source": [
    "Tako kot drugje v Pythonu, se tudi stavki v telesu funkcije izvajajo od prvega proti zadnjemu. Ko dosežemo stavek `return`, funkcija vrne vrednost danega izraza ter zaključi z izvajanjem. Tako tudi funkcija"
   ]
  },
  {
   "cell_type": "code",
   "execution_count": 31,
   "id": "0f7268ed",
   "metadata": {},
   "outputs": [],
   "source": [
    "def f(x):\n",
    "    return x ** 2\n",
    "    return 1000"
   ]
  },
  {
   "cell_type": "markdown",
   "id": "c2c4e50a",
   "metadata": {},
   "source": [
    "vrne kvadrat števila `x` in ne števila 1000, saj se izvajanje ustavi ob prvem stavku `return`, zato do drugega sploh ne pride."
   ]
  },
  {
   "cell_type": "code",
   "execution_count": 32,
   "id": "80fdb45c",
   "metadata": {},
   "outputs": [
    {
     "data": {
      "text/plain": [
       "100"
      ]
     },
     "execution_count": 32,
     "metadata": {},
     "output_type": "execute_result"
    }
   ],
   "source": [
    "f(10)"
   ]
  },
  {
   "cell_type": "markdown",
   "id": "68d98e42",
   "metadata": {},
   "source": [
    "Če stavka `return` ne napišemo, funkcija vrne posebno vrednost `None`, ki označuje manjkajočo vrednost. Pozorno se ji bomo posvetili kasneje, zaenkrat pa jo omenimo le zato, da bomo znali razumeti spodnjo (precej pogosto) napako:"
   ]
  },
  {
   "cell_type": "code",
   "execution_count": 33,
   "id": "f4d2e198",
   "metadata": {
    "tags": [
     "raises-exception"
    ]
   },
   "outputs": [
    {
     "ename": "TypeError",
     "evalue": "unsupported operand type(s) for *: 'int' and 'NoneType'",
     "output_type": "error",
     "traceback": [
      "\u001b[0;31m---------------------------------------------------------------------------\u001b[0m",
      "\u001b[0;31mTypeError\u001b[0m                                 Traceback (most recent call last)",
      "\u001b[0;32m/tmp/ipykernel_1764/89980391.py\u001b[0m in \u001b[0;36m<module>\u001b[0;34m\u001b[0m\n\u001b[1;32m      2\u001b[0m     \u001b[0mx\u001b[0m \u001b[0;34m**\u001b[0m \u001b[0;36m2\u001b[0m\u001b[0;34m\u001b[0m\u001b[0;34m\u001b[0m\u001b[0m\n\u001b[1;32m      3\u001b[0m \u001b[0;34m\u001b[0m\u001b[0m\n\u001b[0;32m----> 4\u001b[0;31m \u001b[0;36m2\u001b[0m \u001b[0;34m*\u001b[0m \u001b[0mg\u001b[0m\u001b[0;34m(\u001b[0m\u001b[0;36m10\u001b[0m\u001b[0;34m)\u001b[0m\u001b[0;34m\u001b[0m\u001b[0;34m\u001b[0m\u001b[0m\n\u001b[0m",
      "\u001b[0;31mTypeError\u001b[0m: unsupported operand type(s) for *: 'int' and 'NoneType'"
     ]
    }
   ],
   "source": [
    "def g(x):\n",
    "    x ** 2\n",
    "\n",
    "2 * g(10)"
   ]
  },
  {
   "cell_type": "markdown",
   "id": "ce67063e",
   "metadata": {},
   "source": [
    "Pričakovali bi, da bo rezultat klica `2 * g(10)` enak 200\\. Toda ker smo v funkciji `g` pozabili na `return`, je funkcija vrnila vrednost `None`. To lahko razberemo iz opozorila, v katerem približno piše, da operacije `*` ne moremo uporabiti na celem številu in vrednosti `None`. Vsakič, ko dobite opozorilo `TypeError`, v katerem se pojavlja `NoneType`, posumite na to, da nekje manjka stavek `return`.\n",
    "\n",
    "Argumenti funkcije in spremenljivke, ki jih definiramo v telesu funkcije, se izven funkcije ne vidijo. Pravimo, da so _lokalne_. Namen tega je, da funkcije ne motijo ena druge s spremenljivkami, ki jih uporabljajo. Na primer, če definiramo"
   ]
  },
  {
   "cell_type": "code",
   "execution_count": 34,
   "id": "eb7e15f8",
   "metadata": {},
   "outputs": [],
   "source": [
    "def f(x):\n",
    "    y = 3 * x\n",
    "    return y"
   ]
  },
  {
   "cell_type": "markdown",
   "id": "1d735e65",
   "metadata": {},
   "source": [
    "tedaj tudi po klicu funkcije `f` ne `x` ne `y` ne bosta definirana:\n",
    "\n",
    "```\n",
    "f(4)\n",
    "```"
   ]
  },
  {
   "cell_type": "code",
   "execution_count": 35,
   "id": "27b807a8",
   "metadata": {
    "tags": [
     "raises-exception"
    ]
   },
   "outputs": [
    {
     "ename": "NameError",
     "evalue": "name 'x' is not defined",
     "output_type": "error",
     "traceback": [
      "\u001b[0;31m---------------------------------------------------------------------------\u001b[0m",
      "\u001b[0;31mNameError\u001b[0m                                 Traceback (most recent call last)",
      "\u001b[0;32m/tmp/ipykernel_1764/32546335.py\u001b[0m in \u001b[0;36m<module>\u001b[0;34m\u001b[0m\n\u001b[0;32m----> 1\u001b[0;31m \u001b[0mx\u001b[0m\u001b[0;34m\u001b[0m\u001b[0;34m\u001b[0m\u001b[0m\n\u001b[0m",
      "\u001b[0;31mNameError\u001b[0m: name 'x' is not defined"
     ]
    }
   ],
   "source": [
    "x"
   ]
  },
  {
   "cell_type": "code",
   "execution_count": 36,
   "id": "fc86f36c",
   "metadata": {
    "tags": [
     "raises-exception"
    ]
   },
   "outputs": [
    {
     "ename": "NameError",
     "evalue": "name 'y' is not defined",
     "output_type": "error",
     "traceback": [
      "\u001b[0;31m---------------------------------------------------------------------------\u001b[0m",
      "\u001b[0;31mNameError\u001b[0m                                 Traceback (most recent call last)",
      "\u001b[0;32m/tmp/ipykernel_1764/3563912222.py\u001b[0m in \u001b[0;36m<module>\u001b[0;34m\u001b[0m\n\u001b[0;32m----> 1\u001b[0;31m \u001b[0my\u001b[0m\u001b[0;34m\u001b[0m\u001b[0;34m\u001b[0m\u001b[0m\n\u001b[0m",
      "\u001b[0;31mNameError\u001b[0m: name 'y' is not defined"
     ]
    }
   ],
   "source": [
    "y"
   ]
  },
  {
   "cell_type": "markdown",
   "id": "f9068994",
   "metadata": {},
   "source": [
    "Če pa je `y` na primer že definiran drugje, pa ga klic funkcije `f` ne zmoti:"
   ]
  },
  {
   "cell_type": "code",
   "execution_count": 37,
   "id": "9f61106c",
   "metadata": {},
   "outputs": [
    {
     "data": {
      "text/plain": [
       "12"
      ]
     },
     "execution_count": 37,
     "metadata": {},
     "output_type": "execute_result"
    }
   ],
   "source": [
    "y = 10\n",
    "f(4)"
   ]
  },
  {
   "cell_type": "code",
   "execution_count": 38,
   "id": "20a51462",
   "metadata": {},
   "outputs": [
    {
     "data": {
      "text/plain": [
       "10"
      ]
     },
     "execution_count": 38,
     "metadata": {},
     "output_type": "execute_result"
    }
   ],
   "source": [
    "y"
   ]
  },
  {
   "cell_type": "markdown",
   "id": "1a62b6cb",
   "metadata": {},
   "source": [
    "Včasih imamo za nekatere argumente funkcij v mislih že prav določeno vrednost. Na primer, za izračun logaritma potrebujemo dve števili: osnovo in argument (tudi logaritmand). Toda velikokrat za osnovo vzamemo $10$, zato namesto $\\log_{10} x$ pišemo kar $\\log x$. V Pythonu lahko neobvezne argumente določimo tako, da jim podamo privzeto vrednost:"
   ]
  },
  {
   "cell_type": "code",
   "execution_count": 39,
   "id": "87068a38",
   "metadata": {},
   "outputs": [],
   "source": [
    "def koren(x, n=2):\n",
    "    return x ** (1 / n)"
   ]
  },
  {
   "cell_type": "markdown",
   "id": "45e610b6",
   "metadata": {},
   "source": [
    "Pozor, okoli enačajev pri neobveznih argumentih **ne pišemo presledkov**. Na podoben način take funkcije tudi kličemo:"
   ]
  },
  {
   "cell_type": "code",
   "execution_count": 40,
   "id": "72dfbd45",
   "metadata": {},
   "outputs": [
    {
     "data": {
      "text/plain": [
       "3.9999999999999996"
      ]
     },
     "execution_count": 40,
     "metadata": {},
     "output_type": "execute_result"
    }
   ],
   "source": [
    "koren(64, n=3)"
   ]
  },
  {
   "cell_type": "markdown",
   "id": "cf5b9017",
   "metadata": {},
   "source": [
    "V primeru, da drugega argumenta ne podamo, bi Python uporabil privzeto vrednost:"
   ]
  },
  {
   "cell_type": "code",
   "execution_count": 41,
   "id": "4056f4a3",
   "metadata": {},
   "outputs": [
    {
     "data": {
      "text/plain": [
       "8.0"
      ]
     },
     "execution_count": 41,
     "metadata": {},
     "output_type": "execute_result"
    }
   ],
   "source": [
    "koren(64)"
   ]
  },
  {
   "cell_type": "markdown",
   "id": "27b216fa",
   "metadata": {},
   "source": [
    "## Logične vrednosti\n",
    "\n",
    "Poleg števil Python pozna tudi logični vrednosti `True` in `False`, ki označujeta resnico in neresnico. Logične vrednosti ponavadi dobimo kot rezultat primerjav, kot so enakost `==`, neenakost `!=` ali urejenostne relacije `<`, `>`, `<=`, `>=`, ter prek logičnih operacij `and`, `or` in `not`."
   ]
  },
  {
   "cell_type": "code",
   "execution_count": 42,
   "id": "5237162a",
   "metadata": {},
   "outputs": [
    {
     "data": {
      "text/plain": [
       "False"
      ]
     },
     "execution_count": 42,
     "metadata": {},
     "output_type": "execute_result"
    }
   ],
   "source": [
    "1 + 1 == 3"
   ]
  },
  {
   "cell_type": "code",
   "execution_count": 43,
   "id": "d5cd9d60",
   "metadata": {},
   "outputs": [
    {
     "data": {
      "text/plain": [
       "True"
      ]
     },
     "execution_count": 43,
     "metadata": {},
     "output_type": "execute_result"
    }
   ],
   "source": [
    "3 != 2"
   ]
  },
  {
   "cell_type": "code",
   "execution_count": 44,
   "id": "39efe49f",
   "metadata": {},
   "outputs": [
    {
     "data": {
      "text/plain": [
       "False"
      ]
     },
     "execution_count": 44,
     "metadata": {},
     "output_type": "execute_result"
    }
   ],
   "source": [
    "True and False"
   ]
  },
  {
   "cell_type": "code",
   "execution_count": 45,
   "id": "0e8a4e81",
   "metadata": {},
   "outputs": [
    {
     "data": {
      "text/plain": [
       "True"
      ]
     },
     "execution_count": 45,
     "metadata": {},
     "output_type": "execute_result"
    }
   ],
   "source": [
    "not (5 == 10)"
   ]
  },
  {
   "cell_type": "code",
   "execution_count": 46,
   "id": "aff84cdf",
   "metadata": {},
   "outputs": [
    {
     "data": {
      "text/plain": [
       "True"
      ]
     },
     "execution_count": 46,
     "metadata": {},
     "output_type": "execute_result"
    }
   ],
   "source": [
    "3 < 5 or 10 > 20"
   ]
  },
  {
   "cell_type": "markdown",
   "id": "a3a9c9f3",
   "metadata": {},
   "source": [
    "Logične vrednosti uporabimo v _pogojnih stavkih_ (oziroma _stavkih_ `if`) oblike\n",
    "\n",
    "```{code-block}\n",
    "if pogoj:\n",
    "    # stavki, ki jih izvedemo,\n",
    "    # ko pogoj drži\n",
    "else:\n",
    "    # stavki, ki jih izvedemo,\n",
    "    # ko pogoj ne drži\n",
    "```\n",
    "\n",
    "Ključnima besedama `if`/`else` in pripadajočim stavkom pravimo tudi _veji pogojnega stavka_. Stavke v obeh vejah moramo zamakniti za štiri presledke tako kot v funkcijah.\n",
    "\n",
    "Na primer, če izvedemo program"
   ]
  },
  {
   "cell_type": "code",
   "execution_count": 47,
   "id": "90977036",
   "metadata": {},
   "outputs": [],
   "source": [
    "x = 5\n",
    "if x < 10:\n",
    "    y = 2 * x\n",
    "else:\n",
    "    y = 3 * x - 1\n",
    "x = y + 7"
   ]
  },
  {
   "cell_type": "markdown",
   "id": "b8ab528b",
   "metadata": {},
   "source": [
    "se bo izvedla veja `if`, zato bo `x` na koncu enak 17, `y` pa 10\\. V primeru, da bi bila začetna vrednost `x = 12`, pa bi se izvedla veja `else` in vrednost `x` bi na koncu bila 42, vrednost `y` pa 35.\n",
    "\n",
    "Če želimo, lahko vejo `else` v pogojnem stavku tudi izpustimo. V tem primeru se ob neizpolnjevanju pogoja ne zgodi nič."
   ]
  },
  {
   "cell_type": "code",
   "execution_count": 48,
   "id": "a4266112",
   "metadata": {},
   "outputs": [
    {
     "data": {
      "text/plain": [
       "8"
      ]
     },
     "execution_count": 48,
     "metadata": {},
     "output_type": "execute_result"
    }
   ],
   "source": [
    "x = 5\n",
    "y = 8\n",
    "if x > 10:\n",
    "    y = 2 * x\n",
    "y"
   ]
  },
  {
   "cell_type": "markdown",
   "id": "f5993bd9",
   "metadata": {},
   "source": [
    "Pogojne stavke lahko pišemo tudi v funkcijah. Na primer, funkcijo, ki računa absolutno vrednost, lahko s pomočjo pogojnega stavka napišemo kot:"
   ]
  },
  {
   "cell_type": "code",
   "execution_count": 49,
   "id": "9b00f3dc",
   "metadata": {},
   "outputs": [],
   "source": [
    "def absolutna_vrednost(x):\n",
    "    if x >= 0:\n",
    "        return x\n",
    "    else:\n",
    "        return -x"
   ]
  },
  {
   "cell_type": "code",
   "execution_count": 50,
   "id": "84cc284e",
   "metadata": {},
   "outputs": [
    {
     "data": {
      "text/plain": [
       "5"
      ]
     },
     "execution_count": 50,
     "metadata": {},
     "output_type": "execute_result"
    }
   ],
   "source": [
    "absolutna_vrednost(-5)"
   ]
  },
  {
   "cell_type": "code",
   "execution_count": 51,
   "id": "087dd60d",
   "metadata": {},
   "outputs": [
    {
     "data": {
      "text/plain": [
       "3"
      ]
     },
     "execution_count": 51,
     "metadata": {},
     "output_type": "execute_result"
    }
   ],
   "source": [
    "absolutna_vrednost(3)"
   ]
  },
  {
   "cell_type": "markdown",
   "id": "45e7bb61",
   "metadata": {},
   "source": [
    "Če bi želeli vrniti predznak števila, pa moramo ločiti tri primere: negativno število, nič in pozitivno število. To lahko storimo kot:"
   ]
  },
  {
   "cell_type": "code",
   "execution_count": 52,
   "id": "f1b7616d",
   "metadata": {},
   "outputs": [],
   "source": [
    "def predznak(x):\n",
    "    if x < 0:\n",
    "        return -1\n",
    "    else:\n",
    "        if x == 0:\n",
    "            return 0\n",
    "        else:\n",
    "            return 1"
   ]
  },
  {
   "cell_type": "markdown",
   "id": "d0678ce3",
   "metadata": {},
   "source": [
    "Zgornji pogojni stavek je malo nerodno zapisan. Ker se nam bo dostikrat zgodilo, da se ne bomo odločali le med dvema primeroma, temveč med večimi, nam Python omogoča splošnejše pogojne stavke oblike:\n",
    "\n",
    "```\n",
    "if pogoj1:\n",
    "    # stavki, ki jih izvedemo,\n",
    "    # ko pogoj1 drži\n",
    "elif pogoj2:\n",
    "    # stavki, ki jih izvedemo,\n",
    "    # ko pogoj1 ne drži, ampak drži pogoj2\n",
    "elif pogoj3:\n",
    "    # stavki, ki jih izvedemo,\n",
    "    # ko tudi pogoj2 ne drži, ampak drži pogoj3\n",
    "else:\n",
    "    # stavki, ki jih izvedemo,\n",
    "    # ko noben od pogojev ne drži\n",
    "```\n",
    "\n",
    "Beseda `elif` je okrajšava za `else`-`if`. Funkcijo za izračun predznaka bi lepše zapisali kot\n",
    "\n",
    "```\n",
    "def predznak(x):\n",
    "    if x < 0:\n",
    "        return -1\n",
    "    elif x == 0:\n",
    "        return 0\n",
    "    else:\n",
    "        return 1\n",
    "```\n",
    "\n",
    "## Izrazi & stavki\n",
    "\n",
    "V Pythonovih programih ločimo med _izrazi_ in _stavki_. Izrazi so vse, kar sestavimo iz funkcij in operacij ter uporabljamo kot argumente funkcij, desne strani prireditvenih izrazov ali pogoje v pogojnih stavkih. Stavki pa so osnovni gradniki Pythonovih programov in jih pišemo enega pod drugim. Zaenkrat smo videli tri vrste stavkov: prva so bili prireditveni stavki, drugi pogojni stavki (ki so potem spet sestavljeni iz gnezdenih stavkov), tretja in najmanj opazna pa so bili izrazi. Običajne izraze lahko prav tako pišemo v programe, vendar ne bodo imeli posebnega učinka. Če napišemo\n",
    "\n",
    "```\n",
    "x = 10\n",
    "10 + 10\n",
    "y = 20\n",
    "```\n",
    "\n",
    "se bo vsota `10 + 10` res izračunala, vendar se ne bo nikamor shranila in Python bo na njo hitro pozabil. Kmalu pa bomo srečali tudi izraze, ki bodo imeli vpliv na nadaljnje izvajanje programov.\n",
    "\n",
    "Python poleg pogojnih stavkov podpira tudi pogojne izraze, s katerimi nekatere stvari napišemo malo elegantneje. Na primer, zgornjo določitev osnovnih točk bi lahko pisali kot:\n",
    "\n",
    "```\n",
    "def absolutna_vrednost(x):\n",
    "    return x if x >= 0 else -x\n",
    "```\n",
    "\n",
    "V pogojnih izrazih moramo vedno napisati obe možnosti, prav tako pa ne moremo uporabiti `elif`-a. Načeloma lahko pogojne izraze verižimo kot:\n",
    "\n",
    "```\n",
    "def predznak(x):\n",
    "    return -1 if x < 0 else 0 if x == 0 else 1\n",
    "```\n",
    "\n",
    "samo to je preveč natlačeno, da bi bilo berljivo. Pogojni stavki so torej precej omejeni, ampak vseeno jih omenjamo, ker znajo včasih kakšno stvar narediti preglednejšo."
   ]
  }
 ],
 "metadata": {
  "jupytext": {
   "cell_metadata_filter": "-all",
   "formats": "md:myst",
   "text_representation": {
    "extension": ".md",
    "format_name": "myst",
    "format_version": "0.8",
    "jupytext_version": "1.5.0"
   }
  },
  "kernelspec": {
   "display_name": "Python 3",
   "language": "python",
   "name": "python3"
  },
  "language_info": {
   "codemirror_mode": {
    "name": "ipython",
    "version": 3
   },
   "file_extension": ".py",
   "mimetype": "text/x-python",
   "name": "python",
   "nbconvert_exporter": "python",
   "pygments_lexer": "ipython3",
   "version": "3.7.12"
  },
  "source_map": [
   14,
   22,
   26,
   30,
   34,
   38,
   40,
   58,
   60,
   64,
   66,
   70,
   75,
   79,
   82,
   86,
   90,
   94,
   97,
   101,
   110,
   118,
   122,
   126,
   128,
   134,
   137,
   145,
   149,
   153,
   155,
   171,
   176,
   179,
   187,
   192,
   195,
   219,
   227,
   231,
   233,
   245,
   250,
   254,
   266,
   270,
   276,
   282,
   284,
   288,
   297,
   301,
   305,
   309,
   311,
   315,
   321,
   327,
   331,
   339,
   344,
   347,
   351,
   356,
   358,
   362,
   365,
   369,
   371,
   375,
   377,
   383,
   387,
   391,
   395,
   399,
   401,
   418,
   425,
   431,
   437,
   441,
   449,
   453,
   455,
   459,
   468
  ]
 },
 "nbformat": 4,
 "nbformat_minor": 5
}