{
 "cells": [
  {
   "cell_type": "markdown",
   "id": "d011b695",
   "metadata": {},
   "source": [
    "# Razredi\n",
    "\n",
    "V Pythonu sorodne vrednosti združujemo v _razredih_. Posameznim pripadnikom razredov pravimo _objekti_. Vsi objekti istega razreda uporabljajo isto definicijo metod, vsak izmed njih pa ima svoje vrednosti, ki jim pravimo _atributi_. Na primer, seznami pripadajo razredu `list`. Vsak seznam ima svoje elemente, vsi pa podpirajo iste metode kot so `append`, `pop` ali `sort`, ki se na vsakem seznamu obnašajo na isti način. Nizi pripadajo razredu `str`. Vsak niz ima svoje znake, vsi pa imajo skupno definicije metod kot so `split`, `upper` in podobno.\n",
    "\n",
    "## Definicije lastnih razredov\n",
    "\n",
    "Če želimo, lahko definiramo tudi svoj razred. To naredimo z ukazom `class`, ki mu sledi ime razreda (pisano z veliko začetnico) ter zamaknjene definicije metod. Na primer, definirajmo si razred, ki bo predstavljal aritmetična zaporedja $a, a + d, a + 2d, a + 3d, \\ldots$. Za začetek definirajmo nobene metode, zato v definicijo napišimo le `pass`."
   ]
  },
  {
   "cell_type": "code",
   "execution_count": 1,
   "id": "182fc9ce",
   "metadata": {},
   "outputs": [],
   "source": [
    "class AritmeticnoZaporedje:\n",
    "    pass"
   ]
  },
  {
   "cell_type": "markdown",
   "id": "d43a37b7",
   "metadata": {},
   "source": [
    "Nove objekte danega razreda dobimo tako, da napišemo ime razreda ter oklepaje:"
   ]
  },
  {
   "cell_type": "code",
   "execution_count": 2,
   "id": "71a376c1",
   "metadata": {},
   "outputs": [
    {
     "data": {
      "text/plain": [
       "<__main__.AritmeticnoZaporedje at 0x7f0677651b10>"
      ]
     },
     "execution_count": 2,
     "metadata": {},
     "output_type": "execute_result"
    }
   ],
   "source": [
    "zap = AritmeticnoZaporedje()\n",
    "zap"
   ]
  },
  {
   "cell_type": "markdown",
   "id": "6f882718",
   "metadata": {},
   "source": [
    "Dobili smo prazen objekt razreda `AritmeticnoZaporedje`, vendar z njim težko naredimo kaj pametnega. Do atributov objektov dostopamo prek `ime_objekta.ime_atributa`, vendar trenutno zaporedjem nismo nastavili še nobenega atributa:"
   ]
  },
  {
   "cell_type": "code",
   "execution_count": 3,
   "id": "f655fe5a",
   "metadata": {
    "tags": [
     "raises-exception"
    ]
   },
   "outputs": [
    {
     "ename": "AttributeError",
     "evalue": "'AritmeticnoZaporedje' object has no attribute 'zacetni_clen'",
     "output_type": "error",
     "traceback": [
      "\u001b[0;31m---------------------------------------------------------------------------\u001b[0m",
      "\u001b[0;31mAttributeError\u001b[0m                            Traceback (most recent call last)",
      "\u001b[0;32m/tmp/ipykernel_1884/2813278575.py\u001b[0m in \u001b[0;36m<module>\u001b[0;34m\u001b[0m\n\u001b[0;32m----> 1\u001b[0;31m \u001b[0mzap\u001b[0m\u001b[0;34m.\u001b[0m\u001b[0mzacetni_clen\u001b[0m\u001b[0;34m\u001b[0m\u001b[0;34m\u001b[0m\u001b[0m\n\u001b[0m",
      "\u001b[0;31mAttributeError\u001b[0m: 'AritmeticnoZaporedje' object has no attribute 'zacetni_clen'"
     ]
    }
   ],
   "source": [
    "zap.zacetni_clen"
   ]
  },
  {
   "cell_type": "markdown",
   "id": "8c5febfd",
   "metadata": {},
   "source": [
    "Na podoben način lahko atribute tudi nastavljamo:"
   ]
  },
  {
   "cell_type": "code",
   "execution_count": 4,
   "id": "c157ccac",
   "metadata": {},
   "outputs": [],
   "source": [
    "zap.zacetni_clen = 2\n",
    "zap.razlika = 5"
   ]
  },
  {
   "cell_type": "code",
   "execution_count": 5,
   "id": "bbcf3fb1",
   "metadata": {},
   "outputs": [
    {
     "data": {
      "text/plain": [
       "42"
      ]
     },
     "execution_count": 5,
     "metadata": {},
     "output_type": "execute_result"
    }
   ],
   "source": [
    "zap.zacetni_clen + 8 * zap.razlika"
   ]
  },
  {
   "cell_type": "markdown",
   "id": "f0542ad1",
   "metadata": {},
   "source": [
    "Definirajmo si tri metode: prva bo nastavila atributa, v katerih bosta shranjena začetni člen in razlika, drugi dve pa bosta izračunala člen na danem mestu ter vsoto do vključno tega člena."
   ]
  },
  {
   "cell_type": "code",
   "execution_count": 6,
   "id": "a8692bc3",
   "metadata": {},
   "outputs": [],
   "source": [
    "class AritmeticnoZaporedje:\n",
    "    def nastavi_atribute(self, zacetni_clen, razlika):\n",
    "        self.zacetni_clen = zacetni_clen\n",
    "        self.razlika = razlika\n",
    "\n",
    "    def clen(self, i):\n",
    "        return self.zacetni_clen + i * self.razlika\n",
    "\n",
    "    def vsota(self, i):\n",
    "        return (i + 1) * self.zacetni_clen + i * (i + 1) // 2 * self.razlika"
   ]
  },
  {
   "cell_type": "markdown",
   "id": "37e29571",
   "metadata": {},
   "source": [
    "Metode definiramo na enak način kot funkcije, le da na prvem mestu sprejmejo še dodatni argument, ki ga ponavadi imenujemo `self`, prek njega pa dostopamo do objekta, na katerem smo poklicali metodo."
   ]
  },
  {
   "cell_type": "code",
   "execution_count": 7,
   "id": "a618adce",
   "metadata": {},
   "outputs": [
    {
     "data": {
      "text/plain": [
       "2"
      ]
     },
     "execution_count": 7,
     "metadata": {},
     "output_type": "execute_result"
    }
   ],
   "source": [
    "zap = AritmeticnoZaporedje()\n",
    "zap.nastavi_atribute(2, 5)\n",
    "zap.clen(0)"
   ]
  },
  {
   "cell_type": "code",
   "execution_count": 8,
   "id": "10b6dbea",
   "metadata": {},
   "outputs": [
    {
     "data": {
      "text/plain": [
       "87"
      ]
     },
     "execution_count": 8,
     "metadata": {},
     "output_type": "execute_result"
    }
   ],
   "source": [
    "zap.vsota(5)"
   ]
  },
  {
   "cell_type": "markdown",
   "id": "c4f36247",
   "metadata": {},
   "source": [
    "Ker objekt brez nastavljenih atributov ni preveč koristen, si jih bomo želeli nastaviti na začetku, ko objekt ustvarimo. To storimo tako, da definiramo posebno _inicializacijsko_ metodo z imenom `__init__`, ki jo bo Python poklical takoj za tem, ko ustvari nov prazen objekt. Metodi `__init__` lahko podamo tudi argumente, ki jih podamo ob konstrukciji objekta. Zgornjo definicijo razreda bi tako bolje napisali kot:"
   ]
  },
  {
   "cell_type": "code",
   "execution_count": 9,
   "id": "106e366f",
   "metadata": {},
   "outputs": [],
   "source": [
    "class AritmeticnoZaporedje:\n",
    "    def __init__(self, zacetni_clen, razlika):\n",
    "        self.zacetni_clen = zacetni_clen\n",
    "        self.razlika = razlika\n",
    "\n",
    "    def clen(self, i):\n",
    "        return self.zacetni_clen + i * self.razlika\n",
    "\n",
    "    def vsota(self, i):\n",
    "        return (i + 1) * self.zacetni_clen + i * (i + 1) // 2 * self.razlika"
   ]
  },
  {
   "cell_type": "code",
   "execution_count": 10,
   "id": "deeb1e5a",
   "metadata": {},
   "outputs": [
    {
     "data": {
      "text/plain": [
       "42"
      ]
     },
     "execution_count": 10,
     "metadata": {},
     "output_type": "execute_result"
    }
   ],
   "source": [
    "zap = AritmeticnoZaporedje(2, 5)\n",
    "zap.clen(8)"
   ]
  },
  {
   "cell_type": "markdown",
   "id": "4a922707",
   "metadata": {},
   "source": [
    "Seveda lahko ustvarimo tudi več objektov:"
   ]
  },
  {
   "cell_type": "code",
   "execution_count": 11,
   "id": "6e5902f0",
   "metadata": {},
   "outputs": [
    {
     "data": {
      "text/plain": [
       "10000"
      ]
     },
     "execution_count": 11,
     "metadata": {},
     "output_type": "execute_result"
    }
   ],
   "source": [
    "liha_stevila = AritmeticnoZaporedje(1, 2)\n",
    "liha_stevila.vsota(99)"
   ]
  },
  {
   "cell_type": "markdown",
   "id": "1e95d0fd",
   "metadata": {},
   "source": [
    "## Posebne metode\n",
    "\n",
    "Poleg metode `__init__` smo dogovorjeni še za nekaj posebnih metod, ki se pokličejo ob danih trenutkih. Na primer, trenuten izpis v konzoli je precej nekoristen."
   ]
  },
  {
   "cell_type": "code",
   "execution_count": 12,
   "id": "7418bdb2",
   "metadata": {},
   "outputs": [
    {
     "data": {
      "text/plain": [
       "<__main__.AritmeticnoZaporedje at 0x7f0674508990>"
      ]
     },
     "execution_count": 12,
     "metadata": {},
     "output_type": "execute_result"
    }
   ],
   "source": [
    "zap"
   ]
  },
  {
   "cell_type": "markdown",
   "id": "e1f472a9",
   "metadata": {},
   "source": [
    "Izpis lahko popravimo z definicijo metode `__repr__`, ki vrne predstavitev objekta z nizem, Python pa jo pokliče, ko želi izpisati rezultat na konzolo. Podobna ji je metoda `__str__`, ki se pokliče takrat, ko objekt izpišemo. Namen prve je, da vrne izpis, koristen za nadaljnje delo v Pythonu, namen druge pa človeku prijazen izpis."
   ]
  },
  {
   "cell_type": "code",
   "execution_count": 13,
   "id": "608b241e",
   "metadata": {},
   "outputs": [],
   "source": [
    "class AritmeticnoZaporedje:\n",
    "    def __init__(self, zacetni_clen, razlika):\n",
    "        self.zacetni_clen = zacetni_clen\n",
    "        self.razlika = razlika\n",
    "\n",
    "    def __repr__(self):\n",
    "        return f\"AritmeticnoZaporedje({self.zacetni_clen}, {self.razlika})\"\n",
    "\n",
    "    def __str__(self):\n",
    "        return f\"{self.clen(0)}, {self.clen(1)}, {self.clen(2)}, ...\"\n",
    "\n",
    "    def clen(self, i):\n",
    "        return self.zacetni_clen + i * self.razlika\n",
    "\n",
    "    def vsota(self, i):\n",
    "        return (i + 1) * self.zacetni_clen + i * (i + 1) // 2 * self.razlika"
   ]
  },
  {
   "cell_type": "code",
   "execution_count": 14,
   "id": "7656e617",
   "metadata": {},
   "outputs": [
    {
     "data": {
      "text/plain": [
       "AritmeticnoZaporedje(2, 5)"
      ]
     },
     "execution_count": 14,
     "metadata": {},
     "output_type": "execute_result"
    }
   ],
   "source": [
    "zap = AritmeticnoZaporedje(2, 5)\n",
    "zap"
   ]
  },
  {
   "cell_type": "code",
   "execution_count": 15,
   "id": "3324b9d3",
   "metadata": {},
   "outputs": [
    {
     "name": "stdout",
     "output_type": "stream",
     "text": [
      "2, 7, 12, ...\n"
     ]
    }
   ],
   "source": [
    "print(zap)"
   ]
  },
  {
   "cell_type": "markdown",
   "id": "c8839ee7",
   "metadata": {},
   "source": [
    "Takih metod je še precej:\n",
    "\n",
    "- ko napišemo `x + y`, se na objektu `x` pokliče `x.__add__(y)`, podobno je z ostalimi aritmetičnimi operacijami `__sub__`, `__mul__`, ...\n",
    "- ko napišemo `x == y`, se na objektu `x` pokliče `x.__eq__(y)`,\n",
    "- ko napišemo `x in y`, se na objektu `y` pokliče `y.__contains__(x)`,\n",
    "- ko napišemo `x[i]`, se na objektu `x` pokliče b`x.__getitem__(i)` in tako naprej.\n",
    "\n",
    "Seznam vseh posebnih metod najdete v [uradni dokumentaciji](https://docs.python.org/3/reference/datamodel.html#special-method-names)."
   ]
  },
  {
   "cell_type": "code",
   "execution_count": 16,
   "id": "a9eff57e",
   "metadata": {},
   "outputs": [],
   "source": [
    "class AritmeticnoZaporedje:\n",
    "    def __init__(self, zacetni_clen, razlika):\n",
    "        self.zacetni_clen = zacetni_clen\n",
    "        self.razlika = razlika\n",
    "\n",
    "    def __repr__(self):\n",
    "        return f\"AritmeticnoZaporedje({self.zacetni_clen}, {self.razlika})\"\n",
    "\n",
    "    def __str__(self):\n",
    "        return f\"{self.clen(0)}, {self.clen(1)}, {self.clen(2)}, ...\"\n",
    "\n",
    "    def __getitem__(self, i):\n",
    "        return self.zacetni_clen + i * self.razlika\n",
    "\n",
    "    def __contains__(self, x):\n",
    "        return (x - self.zacetni_clen) % self.razlika == 0\n",
    "\n",
    "    def __add__(self, other):\n",
    "        zacetni_clen_vsote = self.zacetni_clen + other.zacetni_clen\n",
    "        razlika_vsote = self.razlika + other.razlika\n",
    "        return AritmeticnoZaporedje(zacetni_clen_vsote, razlika_vsote)\n",
    "\n",
    "    def __eq__(self, other):\n",
    "        return self.zacetni_clen == other.zacetni_clen and self.razlka == other.razlika\n",
    "\n",
    "    def vsota(self, i):\n",
    "        return (i + 1) * self.zacetni_clen + i * (i + 1) // 2 * self.razlika"
   ]
  },
  {
   "cell_type": "code",
   "execution_count": 17,
   "id": "30833222",
   "metadata": {},
   "outputs": [
    {
     "data": {
      "text/plain": [
       "AritmeticnoZaporedje(9, 8)"
      ]
     },
     "execution_count": 17,
     "metadata": {},
     "output_type": "execute_result"
    }
   ],
   "source": [
    "zap1 = AritmeticnoZaporedje(2, 5)\n",
    "zap2 = AritmeticnoZaporedje(7, 3)\n",
    "zap1 + zap2"
   ]
  },
  {
   "cell_type": "code",
   "execution_count": 18,
   "id": "9655f54b",
   "metadata": {},
   "outputs": [
    {
     "data": {
      "text/plain": [
       "42"
      ]
     },
     "execution_count": 18,
     "metadata": {},
     "output_type": "execute_result"
    }
   ],
   "source": [
    "zap1[8]"
   ]
  },
  {
   "cell_type": "code",
   "execution_count": 19,
   "id": "c6e04c94",
   "metadata": {},
   "outputs": [
    {
     "data": {
      "text/plain": [
       "False"
      ]
     },
     "execution_count": 19,
     "metadata": {},
     "output_type": "execute_result"
    }
   ],
   "source": [
    "42 in zap2"
   ]
  },
  {
   "cell_type": "code",
   "execution_count": 20,
   "id": "fc7eb46d",
   "metadata": {},
   "outputs": [
    {
     "data": {
      "text/plain": [
       "False"
      ]
     },
     "execution_count": 20,
     "metadata": {},
     "output_type": "execute_result"
    }
   ],
   "source": [
    "zap1 + zap2 == AritmeticnoZaporedje(1, 8)"
   ]
  },
  {
   "cell_type": "markdown",
   "id": "a5511407",
   "metadata": {},
   "source": [
    "## Iteracija\n",
    "\n",
    "### Iteratorji\n",
    "\n",
    "V Pythonu se dostikrat sprehajamo čez znake v nizu, elemente seznama, števila v `range`, ... Vse dosežemo prek tako imenovanih _iteratorjev_. To so objekti, ki imajo posebno vgrajeno metodo `__next__`, ki ob vsakem klicu vrne naslednjo vrednost. Ko vrednosti zmanjka, metoda to sporoči tako, da sproži izjemo `StopIteration`. Za primer napišimo iterator, ki zaporedoma vrača znake niza:"
   ]
  },
  {
   "cell_type": "code",
   "execution_count": 21,
   "id": "ab5a21ca",
   "metadata": {},
   "outputs": [],
   "source": [
    "class IteratorCezNiz:\n",
    "    def __init__(self, niz):\n",
    "        self.niz = niz\n",
    "        self.indeks = 0\n",
    "\n",
    "    def __next__(self):\n",
    "        if self.indeks < len(self.niz):\n",
    "            znak = self.niz[self.indeks]\n",
    "            self.indeks += 1\n",
    "            return znak\n",
    "        else:\n",
    "            raise StopIteration"
   ]
  },
  {
   "cell_type": "code",
   "execution_count": 22,
   "id": "cfc3d877",
   "metadata": {},
   "outputs": [],
   "source": [
    "it = IteratorCezNiz('abc')"
   ]
  },
  {
   "cell_type": "markdown",
   "id": "6a1eb218",
   "metadata": {},
   "source": [
    "Metodo `__next__` bi lahko poklicali direktno, kot `it.__next__()`, vendar jo je lepše poklicati prek vgrajene funkcije `next` (ki ne naredi drugega, kot da na svojem argumentu pokliče `__next__`)."
   ]
  },
  {
   "cell_type": "code",
   "execution_count": 23,
   "id": "b1d67c97",
   "metadata": {},
   "outputs": [
    {
     "data": {
      "text/plain": [
       "'a'"
      ]
     },
     "execution_count": 23,
     "metadata": {},
     "output_type": "execute_result"
    }
   ],
   "source": [
    "next(it)"
   ]
  },
  {
   "cell_type": "code",
   "execution_count": 24,
   "id": "bbe97fb2",
   "metadata": {},
   "outputs": [
    {
     "data": {
      "text/plain": [
       "'b'"
      ]
     },
     "execution_count": 24,
     "metadata": {},
     "output_type": "execute_result"
    }
   ],
   "source": [
    "next(it)"
   ]
  },
  {
   "cell_type": "code",
   "execution_count": 25,
   "id": "ecd070c5",
   "metadata": {},
   "outputs": [
    {
     "data": {
      "text/plain": [
       "'c'"
      ]
     },
     "execution_count": 25,
     "metadata": {},
     "output_type": "execute_result"
    }
   ],
   "source": [
    "next(it)"
   ]
  },
  {
   "cell_type": "code",
   "execution_count": 26,
   "id": "d53ea0ed",
   "metadata": {
    "tags": [
     "raises-exception"
    ]
   },
   "outputs": [
    {
     "ename": "StopIteration",
     "evalue": "",
     "output_type": "error",
     "traceback": [
      "\u001b[0;31m---------------------------------------------------------------------------\u001b[0m",
      "\u001b[0;31mStopIteration\u001b[0m                             Traceback (most recent call last)",
      "\u001b[0;32m/tmp/ipykernel_1884/600241529.py\u001b[0m in \u001b[0;36m<module>\u001b[0;34m\u001b[0m\n\u001b[0;32m----> 1\u001b[0;31m \u001b[0mnext\u001b[0m\u001b[0;34m(\u001b[0m\u001b[0mit\u001b[0m\u001b[0;34m)\u001b[0m\u001b[0;34m\u001b[0m\u001b[0;34m\u001b[0m\u001b[0m\n\u001b[0m",
      "\u001b[0;32m/tmp/ipykernel_1884/195577800.py\u001b[0m in \u001b[0;36m__next__\u001b[0;34m(self)\u001b[0m\n\u001b[1;32m     10\u001b[0m             \u001b[0;32mreturn\u001b[0m \u001b[0mznak\u001b[0m\u001b[0;34m\u001b[0m\u001b[0;34m\u001b[0m\u001b[0m\n\u001b[1;32m     11\u001b[0m         \u001b[0;32melse\u001b[0m\u001b[0;34m:\u001b[0m\u001b[0;34m\u001b[0m\u001b[0;34m\u001b[0m\u001b[0m\n\u001b[0;32m---> 12\u001b[0;31m             \u001b[0;32mraise\u001b[0m \u001b[0mStopIteration\u001b[0m\u001b[0;34m\u001b[0m\u001b[0;34m\u001b[0m\u001b[0m\n\u001b[0m",
      "\u001b[0;31mStopIteration\u001b[0m: "
     ]
    }
   ],
   "source": [
    "next(it)"
   ]
  },
  {
   "cell_type": "markdown",
   "id": "148ee9a8",
   "metadata": {},
   "source": [
    "Če želimo, se lahko iteratorji tudi nikoli ne končajo, s čimer lahko predstavimo neskončne sezname, na primer vsa Fibonaccijeva števila."
   ]
  },
  {
   "cell_type": "code",
   "execution_count": 27,
   "id": "822a5148",
   "metadata": {},
   "outputs": [],
   "source": [
    "class IteratorFibonaccijevih:\n",
    "    def __init__(self):\n",
    "        self.a, self.b = 0, 1\n",
    "\n",
    "    def __next__(self):\n",
    "        prejsnji_a = self.a\n",
    "        self.a, self.b = self.b, self.a + self.b\n",
    "        return prejsnji_a"
   ]
  },
  {
   "cell_type": "code",
   "execution_count": 28,
   "id": "23dad74c",
   "metadata": {},
   "outputs": [
    {
     "data": {
      "text/plain": [
       "[0, 1, 1, 2, 3, 5, 8, 13, 21, 34]"
      ]
     },
     "execution_count": 28,
     "metadata": {},
     "output_type": "execute_result"
    }
   ],
   "source": [
    "fib = IteratorFibonaccijevih()\n",
    "[next(fib) for _ in range(10)]"
   ]
  },
  {
   "cell_type": "markdown",
   "id": "ba5ec9d7",
   "metadata": {},
   "source": [
    "### Generatorji\n",
    "\n",
    "V Pythonu obstaja zelo enostaven način, na katerega pišemo iteratorje, in to so _generatorji_. Recimo, da bi želeli le izpisati vse znake v nizu. Tedaj bi lahko napisali funkcijo:"
   ]
  },
  {
   "cell_type": "code",
   "execution_count": 29,
   "id": "dbb51372",
   "metadata": {},
   "outputs": [],
   "source": [
    "def znaki_niza(niz):\n",
    "    i = 0\n",
    "    while i < len(niz):\n",
    "        print(niz[i])\n",
    "        i += 1"
   ]
  },
  {
   "cell_type": "markdown",
   "id": "f3beff3f",
   "metadata": {},
   "source": [
    "Pri funkciji nalašč nismo uporabili zanke `for`, saj bi bilo to goljufanje."
   ]
  },
  {
   "cell_type": "code",
   "execution_count": 30,
   "id": "774ad911",
   "metadata": {},
   "outputs": [
    {
     "name": "stdout",
     "output_type": "stream",
     "text": [
      "a\n",
      "b\n",
      "c\n"
     ]
    }
   ],
   "source": [
    "znaki_niza(\"abc\")"
   ]
  },
  {
   "cell_type": "markdown",
   "id": "fe919837",
   "metadata": {},
   "source": [
    "To je res izpisalo vse znake, vendar si z njimi ne moremo pomagati, saj so šli naravnost na konzolo. Če bi jih želeli vrniti, bi lahko napisali sledečo funkcijo, vendar bi ta ob prvem `return` prenehala z izvajanjem:"
   ]
  },
  {
   "cell_type": "code",
   "execution_count": 31,
   "id": "da8048ae",
   "metadata": {},
   "outputs": [],
   "source": [
    "def znaki_niza(niz):\n",
    "    i = 0\n",
    "    while i < len(niz):\n",
    "        return niz[i]\n",
    "        i += 1"
   ]
  },
  {
   "cell_type": "code",
   "execution_count": 32,
   "id": "18b83023",
   "metadata": {},
   "outputs": [
    {
     "data": {
      "text/plain": [
       "'a'"
      ]
     },
     "execution_count": 32,
     "metadata": {},
     "output_type": "execute_result"
    }
   ],
   "source": [
    "znaki_niza(\"abc\")"
   ]
  },
  {
   "cell_type": "markdown",
   "id": "86427a16",
   "metadata": {},
   "source": [
    "Tu v igro pridejo _generatorji_. Dobimo jih tako, da namesto `return` napišemo `yield`. Ko bo izvajanje klica prišlo do ukaza `yield`, se ne bo končalo, temveč le zaustavilo, ter se od tam nadaljevalo ob naslednjem klicu `next`."
   ]
  },
  {
   "cell_type": "code",
   "execution_count": 33,
   "id": "4203df1f",
   "metadata": {},
   "outputs": [],
   "source": [
    "def znaki_niza(niz):\n",
    "    i = 0\n",
    "    while i < len(niz):\n",
    "        yield niz[i]\n",
    "        i += 1"
   ]
  },
  {
   "cell_type": "code",
   "execution_count": 34,
   "id": "261958bd",
   "metadata": {},
   "outputs": [],
   "source": [
    "gen = znaki_niza(\"abc\")"
   ]
  },
  {
   "cell_type": "code",
   "execution_count": 35,
   "id": "2a6159d4",
   "metadata": {},
   "outputs": [
    {
     "data": {
      "text/plain": [
       "<generator object znaki_niza at 0x7f067450d1d0>"
      ]
     },
     "execution_count": 35,
     "metadata": {},
     "output_type": "execute_result"
    }
   ],
   "source": [
    "gen"
   ]
  },
  {
   "cell_type": "code",
   "execution_count": 36,
   "id": "96ef410f",
   "metadata": {},
   "outputs": [
    {
     "data": {
      "text/plain": [
       "'a'"
      ]
     },
     "execution_count": 36,
     "metadata": {},
     "output_type": "execute_result"
    }
   ],
   "source": [
    "next(gen)"
   ]
  },
  {
   "cell_type": "code",
   "execution_count": 37,
   "id": "2cf1c19d",
   "metadata": {},
   "outputs": [
    {
     "data": {
      "text/plain": [
       "'b'"
      ]
     },
     "execution_count": 37,
     "metadata": {},
     "output_type": "execute_result"
    }
   ],
   "source": [
    "next(gen)"
   ]
  },
  {
   "cell_type": "code",
   "execution_count": 38,
   "id": "03c05b56",
   "metadata": {},
   "outputs": [
    {
     "data": {
      "text/plain": [
       "'c'"
      ]
     },
     "execution_count": 38,
     "metadata": {},
     "output_type": "execute_result"
    }
   ],
   "source": [
    "next(gen)"
   ]
  },
  {
   "cell_type": "code",
   "execution_count": 39,
   "id": "c66b7dc2",
   "metadata": {
    "tags": [
     "raises-exception"
    ]
   },
   "outputs": [
    {
     "ename": "StopIteration",
     "evalue": "",
     "output_type": "error",
     "traceback": [
      "\u001b[0;31m---------------------------------------------------------------------------\u001b[0m",
      "\u001b[0;31mStopIteration\u001b[0m                             Traceback (most recent call last)",
      "\u001b[0;32m/tmp/ipykernel_1884/4293081279.py\u001b[0m in \u001b[0;36m<module>\u001b[0;34m\u001b[0m\n\u001b[0;32m----> 1\u001b[0;31m \u001b[0mnext\u001b[0m\u001b[0;34m(\u001b[0m\u001b[0mgen\u001b[0m\u001b[0;34m)\u001b[0m\u001b[0;34m\u001b[0m\u001b[0;34m\u001b[0m\u001b[0m\n\u001b[0m",
      "\u001b[0;31mStopIteration\u001b[0m: "
     ]
    }
   ],
   "source": [
    "next(gen)"
   ]
  },
  {
   "cell_type": "markdown",
   "id": "309856dd",
   "metadata": {},
   "source": [
    "Tudi generator Fibonaccijevih števil lahko dobimo na podoben način:"
   ]
  },
  {
   "cell_type": "code",
   "execution_count": 40,
   "id": "f9dca746",
   "metadata": {},
   "outputs": [],
   "source": [
    "def fibonaccijeva_stevila(a=0, b=1):\n",
    "    while True:\n",
    "        yield a\n",
    "        a, b = b, a + b"
   ]
  },
  {
   "cell_type": "code",
   "execution_count": 41,
   "id": "364d7a2d",
   "metadata": {},
   "outputs": [
    {
     "data": {
      "text/plain": [
       "[0, 1, 1, 2, 3, 5, 8, 13, 21, 34]"
      ]
     },
     "execution_count": 41,
     "metadata": {},
     "output_type": "execute_result"
    }
   ],
   "source": [
    "f = fibonaccijeva_stevila()\n",
    "[next(f) for _ in range(10)]"
   ]
  },
  {
   "cell_type": "code",
   "execution_count": 42,
   "id": "058fbdc7",
   "metadata": {},
   "outputs": [
    {
     "data": {
      "text/plain": [
       "[0, 10, 10, 20, 30, 50, 80, 130, 210, 340]"
      ]
     },
     "execution_count": 42,
     "metadata": {},
     "output_type": "execute_result"
    }
   ],
   "source": [
    "f = fibonaccijeva_stevila(0, 10)\n",
    "[next(f) for _ in range(10)]"
   ]
  },
  {
   "cell_type": "markdown",
   "id": "001d06ff",
   "metadata": {},
   "source": [
    "Pri poimenovanju je treba biti natančen: `fibonaccijeva_stevila` niso generator, temveč funkcija, ki ob vsakem klicu vrne generator, ki je posebna vrsta iteratorja."
   ]
  },
  {
   "cell_type": "code",
   "execution_count": 43,
   "id": "119e1985",
   "metadata": {},
   "outputs": [
    {
     "data": {
      "text/plain": [
       "<function __main__.fibonaccijeva_stevila(a=0, b=1)>"
      ]
     },
     "execution_count": 43,
     "metadata": {},
     "output_type": "execute_result"
    }
   ],
   "source": [
    "fibonaccijeva_stevila"
   ]
  },
  {
   "cell_type": "code",
   "execution_count": 44,
   "id": "6345c626",
   "metadata": {},
   "outputs": [
    {
     "data": {
      "text/plain": [
       "<generator object fibonaccijeva_stevila at 0x7f067450d950>"
      ]
     },
     "execution_count": 44,
     "metadata": {},
     "output_type": "execute_result"
    }
   ],
   "source": [
    "fibonaccijeva_stevila()"
   ]
  },
  {
   "cell_type": "markdown",
   "id": "18fd19e2",
   "metadata": {},
   "source": [
    "### Iterabilni objekti\n",
    "\n",
    "Objekti, po katerih se sprehajamo z zanko `for`, niso iteratorji. Na primer, nizi so sestavljeni natanko iz svojih znakov, zato si ne morejo \"zapomniti\", katere znake so že vrnili in katerih ne. Ampak, kot smo videli, iz njih lahko naredimo smiselne iteratorje. Takim objektom pravimo _iterabilni_. Natančneje zanka `for x in obj: ...` deluje na sledeči način:\n",
    "\n",
    "1. pokliči `iter(obj)`, da iz iterabilnega objekta `obj` dobiš iterator `it`\n",
    "2. pokliči `next(it)`, da dobiš naslednjo vrednost\n",
    "3. vrednost shrani v spremenljivko `x`\n",
    "4. izvedi ukaze `...`\n",
    "5. ponavljaj korake od 2 do 4, dokler korak 2 ne sproži izjeme `StopIteration`\n",
    "6. ko dobiš izjemo, končaj\n",
    "\n",
    "Če želimo na objektih svojega razreda podpreti zanko `for`, moramo definirati metodo `__iter__`, ki bo vrnila iskani iterator. Na primer, iterator po aritmetičnih zaporedjih bi lahko napisali kot:"
   ]
  },
  {
   "cell_type": "code",
   "execution_count": 45,
   "id": "e79524ff",
   "metadata": {},
   "outputs": [],
   "source": [
    "class AritmeticnoZaporedje:\n",
    "    def __init__(self, zacetni_clen, razlika):\n",
    "        self.zacetni_clen = zacetni_clen\n",
    "        self.razlika = razlika\n",
    "\n",
    "    def __iter__(self):\n",
    "        x = self.zacetni_clen\n",
    "        while True:\n",
    "            yield x\n",
    "            x += self.razlika"
   ]
  },
  {
   "cell_type": "code",
   "execution_count": 46,
   "id": "28a4d352",
   "metadata": {},
   "outputs": [],
   "source": [
    "zap = AritmeticnoZaporedje(2, 5)"
   ]
  },
  {
   "cell_type": "code",
   "execution_count": 47,
   "id": "2a7e751b",
   "metadata": {},
   "outputs": [
    {
     "name": "stdout",
     "output_type": "stream",
     "text": [
      "2\n",
      "7\n",
      "12\n",
      "17\n",
      "22\n",
      "27\n",
      "32\n",
      "37\n",
      "42\n",
      "47\n",
      "52\n",
      "57\n",
      "62\n",
      "67\n",
      "72\n",
      "77\n",
      "82\n",
      "87\n",
      "92\n",
      "97\n",
      "102\n"
     ]
    }
   ],
   "source": [
    "for x in zap:\n",
    "    print(x)\n",
    "    if x > 100:\n",
    "        break"
   ]
  }
 ],
 "metadata": {
  "jupytext": {
   "cell_metadata_filter": "-all",
   "formats": "md:myst",
   "text_representation": {
    "extension": ".md",
    "format_name": "myst",
    "format_version": 0.13,
    "jupytext_version": "1.10.1"
   }
  },
  "kernelspec": {
   "display_name": "Python 3",
   "language": "python",
   "name": "python3"
  },
  "language_info": {
   "codemirror_mode": {
    "name": "ipython",
    "version": 3
   },
   "file_extension": ".py",
   "mimetype": "text/x-python",
   "name": "python",
   "nbconvert_exporter": "python",
   "pygments_lexer": "ipython3",
   "version": "3.7.12"
  },
  "source_map": [
   14,
   24,
   27,
   31,
   34,
   38,
   42,
   46,
   51,
   53,
   57,
   68,
   72,
   78,
   80,
   84,
   97,
   100,
   104,
   107,
   113,
   115,
   119,
   138,
   143,
   145,
   156,
   186,
   192,
   196,
   200,
   202,
   210,
   225,
   227,
   231,
   235,
   239,
   243,
   246,
   250,
   261,
   264,
   270,
   276,
   280,
   282,
   286,
   294,
   296,
   300,
   308,
   312,
   316,
   320,
   324,
   328,
   331,
   335,
   342,
   347,
   350,
   354,
   358,
   360,
   375,
   388,
   392
  ]
 },
 "nbformat": 4,
 "nbformat_minor": 5
}