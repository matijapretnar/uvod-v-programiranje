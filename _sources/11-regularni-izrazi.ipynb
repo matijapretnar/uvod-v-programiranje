{
 "cells": [
  {
   "cell_type": "markdown",
   "id": "e0c70120",
   "metadata": {},
   "source": [
    "# Regularni izrazi\n",
    "\n",
    "Običajno moramo podatke, ki jih želimo analizirati, najprej prečistiti. Na primer, svetovni splet je bogat vir podatkov, vendar so ti dostikrat dostopni le v formatu HTML, ki poleg koristne vsebine vsebuje še marsikaj. Recimo, da nas zanimajo podatki o [250 filmih z največ glasovi na strani IMDB](https://www.imdb.com/search/title/?sort=num_votes,desc&title_type=feature&count=250). Vidimo, da stran ponuja veliko koristnih podatkov: naslov, leto izida, dolžno, žanre, ocene, igralce, opise, ...\n",
    "\n",
    "![250 najbolj znanih filmov](slike/250-najbolj-znanih-filmov.png)\n",
    "\n",
    "Če pa v brskalniku shranimo izvorno kodo in HTML datoteko odpremo, pa je podatke težko najti."
   ]
  },
  {
   "cell_type": "code",
   "execution_count": 1,
   "id": "ebafef89",
   "metadata": {},
   "outputs": [
    {
     "name": "stdout",
     "output_type": "stream",
     "text": [
      "\n",
      "<!DOCTYPE html>\n",
      "<html xmlns:og=\"http://ogp.me/ns#\" xmlns:fb=\"http://www.facebook.com/2008/fbml\">\n",
      "<head>\n",
      "\n",
      "    <script type='text/javascript'>\n",
      "    var ue_t0 = ue_t0 || +new Date();\n",
      "    </script>\n",
      "    <script type='text/javascript'>\n",
      "    window.ue_ihb = (window.ue_ihb || window.ueinit || 0) + 1;\n",
      "    if (window.ue_ihb === 1) {\n",
      "\n",
      "        var ue_csm = window,\n",
      "            ue_hob = +new Date();\n",
      "        (function(d) {\n",
      "            var e = d.ue = d.ue || {},\n",
      "                f = Date.now || function() {\n",
      "                    return +new Date\n",
      "                };\n",
      "            e.d = function(b) {\n",
      "                return f() - (b ? 0 : d.ue_t0)\n",
      "            };\n",
      "            e.stub = function(b, a) {\n",
      "                if (!b[a]) {\n",
      "                    var c = [];\n",
      "                    b[a] = function() {\n",
      "                        c.push([c.slice.call(arguments), e.d(), d.ue_id])\n",
      "                    };\n",
      "                    b[a].replay = function(b) {\n",
      "                        for (var a; a = c.shift();)\n",
      "                   \n"
     ]
    }
   ],
   "source": [
    "with open('podatki/250-najbolj-znanih-filmov.html') as f:\n",
    "    html = f.read()\n",
    "\n",
    "print(html[:1000])"
   ]
  },
  {
   "cell_type": "markdown",
   "id": "a2d693c3",
   "metadata": {},
   "source": [
    "Pomagajmo si s pomožno funkcijo, ki poišče začetke in konce vseh neprekrivajočih se pojavitev danega niza v besedilu."
   ]
  },
  {
   "cell_type": "code",
   "execution_count": 2,
   "id": "36fe2983",
   "metadata": {},
   "outputs": [],
   "source": [
    "def vse_pojavitve(besedilo: str, iskani_niz: str):\n",
    "    konec_pojavitve = 0\n",
    "    while True:\n",
    "        try:\n",
    "            zacetek_pojavitve = besedilo.index(iskani_niz, konec_pojavitve)\n",
    "            konec_pojavitve = min(zacetek_pojavitve + len(iskani_niz), len(besedilo))\n",
    "            yield zacetek_pojavitve, konec_pojavitve\n",
    "        except ValueError:\n",
    "            break"
   ]
  },
  {
   "cell_type": "code",
   "execution_count": 3,
   "id": "e39472df",
   "metadata": {},
   "outputs": [
    {
     "data": {
      "text/plain": [
       "[(6, 8), (13, 15), (15, 17)]"
      ]
     },
     "execution_count": 3,
     "metadata": {},
     "output_type": "execute_result"
    }
   ],
   "source": [
    "list(vse_pojavitve('Ena sama je, mama!', 'ma'))"
   ]
  },
  {
   "cell_type": "markdown",
   "id": "73f81271",
   "metadata": {},
   "source": [
    "Če želimo, lahko vsako pojavitev prikažemo v njenem kontekstu:"
   ]
  },
  {
   "cell_type": "code",
   "execution_count": 4,
   "id": "5562d942",
   "metadata": {},
   "outputs": [],
   "source": [
    "def pokazi_vse_pojavitve(besedilo: str, iskani_niz: str, velikost_konteksta=50):\n",
    "    for zacetek, konec in vse_pojavitve(besedilo, iskani_niz):\n",
    "        zacetek_konteksta = max(zacetek - velikost_konteksta, 0)\n",
    "        konec_konteksta = min(konec + velikost_konteksta, len(besedilo))\n",
    "        print(besedilo[zacetek_konteksta:konec_konteksta])\n",
    "        print((zacetek - zacetek_konteksta) * ' ' + (konec - zacetek) * '^')"
   ]
  },
  {
   "cell_type": "code",
   "execution_count": 5,
   "id": "79426cce",
   "metadata": {},
   "outputs": [
    {
     "name": "stdout",
     "output_type": "stream",
     "text": [
      "Ena sama je, mama!\n",
      "      ^^\n",
      "Ena sama je, mama!\n",
      "             ^^\n",
      "Ena sama je, mama!\n",
      "               ^^\n"
     ]
    }
   ],
   "source": [
    "pokazi_vse_pojavitve('Ena sama je, mama!', 'ma')"
   ]
  },
  {
   "cell_type": "markdown",
   "id": "5cb9c37c",
   "metadata": {},
   "source": [
    "Recimo, da nas zanimajo podatki o Vojni zvezd:"
   ]
  },
  {
   "cell_type": "code",
   "execution_count": 6,
   "id": "d9a6e744",
   "metadata": {},
   "outputs": [
    {
     "name": "stdout",
     "output_type": "stream",
     "text": [
      "                                        <img alt=\"Star Wars: Episode IV - A New Hope\" class=\"loadlate\" loadla\n",
      "                                                  ^^^^^^^^^\n",
      "       <a href=\"/title/tt0076759/?ref_=adv_li_tt\">Star Wars: Episode IV - A New Hope</a>                     \n",
      "                                                  ^^^^^^^^^\n",
      "                                        <img alt=\"Star Wars: Episode V - The Empire Strikes Back\" class=\"load\n",
      "                                                  ^^^^^^^^^\n",
      "       <a href=\"/title/tt0080684/?ref_=adv_li_tt\">Star Wars: Episode V - The Empire Strikes Back</a>         \n",
      "                                                  ^^^^^^^^^\n",
      "                                        <img alt=\"Star Wars: Return of the Jedi\" class=\"loadlate\" loadlate=\"h\n",
      "                                                  ^^^^^^^^^\n",
      "       <a href=\"/title/tt0086190/?ref_=adv_li_tt\">Star Wars: Return of the Jedi</a>                          \n",
      "                                                  ^^^^^^^^^\n",
      "                                        <img alt=\"Star Wars: Episode VII - The Force Awakens\" class=\"loadlate\n",
      "                                                  ^^^^^^^^^\n",
      "       <a href=\"/title/tt2488496/?ref_=adv_li_tt\">Star Wars: Episode VII - The Force Awakens</a>             \n",
      "                                                  ^^^^^^^^^\n",
      "                                        <img alt=\"Star Wars: Episode I - The Phantom Menace\" class=\"loadlate\"\n",
      "                                                  ^^^^^^^^^\n",
      "       <a href=\"/title/tt0120915/?ref_=adv_li_tt\">Star Wars: Episode I - The Phantom Menace</a>              \n",
      "                                                  ^^^^^^^^^\n",
      "                                        <img alt=\"Star Wars: Episode III - Revenge of the Sith\" class=\"loadla\n",
      "                                                  ^^^^^^^^^\n",
      "       <a href=\"/title/tt0121766/?ref_=adv_li_tt\">Star Wars: Episode III - Revenge of the Sith</a>           \n",
      "                                                  ^^^^^^^^^\n",
      "                                        <img alt=\"Star Wars: Episode II - Attack of the Clones\" class=\"loadla\n",
      "                                                  ^^^^^^^^^\n",
      "       <a href=\"/title/tt0121765/?ref_=adv_li_tt\">Star Wars: Episode II - Attack of the Clones</a>           \n",
      "                                                  ^^^^^^^^^\n",
      "                                        <img alt=\"Star Wars: Episode VIII - The Last Jedi\" class=\"loadlate\" l\n",
      "                                                  ^^^^^^^^^\n",
      "       <a href=\"/title/tt2527336/?ref_=adv_li_tt\">Star Wars: Episode VIII - The Last Jedi</a>                \n",
      "                                                  ^^^^^^^^^\n",
      "\">                                            The Star Wars saga continues as new heroes and galactic legends\n",
      "                                                  ^^^^^^^^^\n"
     ]
    }
   ],
   "source": [
    "pokazi_vse_pojavitve(html.replace('\\n', ''), 'Star Wars')"
   ]
  },
  {
   "cell_type": "markdown",
   "id": "76fc182b",
   "metadata": {},
   "source": [
    "V datoteki najdemo kar nekaj pojavitev, za vsako epizodo po dve: eno iz prikaza naslova in eno iz opisa slike. Vidimo, da so vsi naslovi podobne oblike: na začetku je značka `<a href=\"/title/tt0123456/?ref_=adv_li_tt\">`, pri čemer se šifra spreminja od filma do filma, na koncu je `</a>`, med njima pa je naslov filma. Če bi se zelo potrudili, bi lahko spisali program, ki iz takega niza izlušči šifro in naslov."
   ]
  },
  {
   "cell_type": "code",
   "execution_count": 7,
   "id": "07f66715",
   "metadata": {},
   "outputs": [],
   "source": [
    "def izlusci_sifro_in_naslov(niz):\n",
    "    pred_sifro = '<a href=\"/title/tt'\n",
    "    med_sifro_in_naslovom = '/?ref_=adv_li_tt\">'\n",
    "    za_naslovom = '</a>'\n",
    "    zacetek_sifre = niz.index(pred_sifro) + len(pred_sifro)\n",
    "    konec_sifre = niz.index(med_sifro_in_naslovom)\n",
    "    zacetek_naslova = konec_sifre + len(med_sifro_in_naslovom)\n",
    "    konec_naslova = niz.index(za_naslovom)\n",
    "    sifra = int(niz[zacetek_sifre:konec_sifre])\n",
    "    naslov = niz[zacetek_naslova:konec_naslova]\n",
    "    return sifra, naslov"
   ]
  },
  {
   "cell_type": "code",
   "execution_count": 8,
   "id": "86aa671f",
   "metadata": {},
   "outputs": [
    {
     "data": {
      "text/plain": [
       "(76759, 'Star Wars: Episode IV - A New Hope')"
      ]
     },
     "execution_count": 8,
     "metadata": {},
     "output_type": "execute_result"
    }
   ],
   "source": [
    "izlusci_sifro_in_naslov('<a href=\"/title/tt0076759/?ref_=adv_li_tt\">Star Wars: Episode IV - A New Hope</a>')"
   ]
  },
  {
   "cell_type": "code",
   "execution_count": 9,
   "id": "b76c1afc",
   "metadata": {},
   "outputs": [
    {
     "data": {
      "text/plain": [
       "(86190, 'Star Wars: Episode VI - Return of the Jedi')"
      ]
     },
     "execution_count": 9,
     "metadata": {},
     "output_type": "execute_result"
    }
   ],
   "source": [
    "izlusci_sifro_in_naslov('<a href=\"/title/tt0086190/?ref_=adv_li_tt\">Star Wars: Episode VI - Return of the Jedi</a>')"
   ]
  },
  {
   "cell_type": "markdown",
   "id": "355e18bd",
   "metadata": {},
   "source": [
    "Podobno bi lahko naredili še za leto izida, dolžino in ostalo, vendar mora obstajati boljši način. Mi si bomo pogledali dva. Prvi način so regularni izrazi - ti so univerzalno (z manjšimi dialekti) razširjeni zapis vzorcev nizov, ki jih lahko uporabljamo za delo s kakršnim koli besedilom. Regularne izraze podpirajo praktično vsi programski jeziki in naprednejši urejevalniki besedil. Zaradi vseobče uporabnosti se bomo regularnim izrazom bolj posvetili, niso pa vedno najboljše orodje pri roki, saj zaradi splošnosti ne izkoristijo vse strukture, ki je na voljo. Zato si bomo ogledali še drugi način, knjižnico [Beautiful Soup](https://www.crummy.com/software/BeautifulSoup/), ki je namenjena analizi HTML datotek.\n",
    "\n",
    "## Regularni izrazi v Pythonu\n",
    "\n",
    "Za delo z regularnimi izrazi (ali regeksi) v Pythonu uporabljamo knjižnico [`re`](https://docs.python.org/3/library/re.html), ki je vključen v vsako različico Pythona. V njej je najbolj osnovna funkcija `search`, ki sprejme vzorec in besedilo, v katerem iščemo, ter vrne prvo pojavitev, predstavljeno z objektom razreda `re.Match`."
   ]
  },
  {
   "cell_type": "code",
   "execution_count": 10,
   "id": "859508d3",
   "metadata": {},
   "outputs": [
    {
     "data": {
      "text/plain": [
       "<re.Match object; span=(6, 8), match='ma'>"
      ]
     },
     "execution_count": 10,
     "metadata": {},
     "output_type": "execute_result"
    }
   ],
   "source": [
    "import re\n",
    "re.search('ma', 'Ena sama je, mama!')"
   ]
  },
  {
   "cell_type": "markdown",
   "id": "62cf2fea",
   "metadata": {},
   "source": [
    "V objektu imamo dostop do začetka in konca pojavitve in njene vsebine. Uporabimo lahko tudi funkcijo `re.finditer`, ki vrne iterator po vseh pojavitvah:"
   ]
  },
  {
   "cell_type": "code",
   "execution_count": 11,
   "id": "74c953f6",
   "metadata": {},
   "outputs": [
    {
     "data": {
      "text/plain": [
       "[<re.Match object; span=(6, 8), match='ma'>,\n",
       " <re.Match object; span=(13, 15), match='ma'>,\n",
       " <re.Match object; span=(15, 17), match='ma'>]"
      ]
     },
     "execution_count": 11,
     "metadata": {},
     "output_type": "execute_result"
    }
   ],
   "source": [
    "list(re.finditer('ma', 'Ena sama je, mama!'))"
   ]
  },
  {
   "cell_type": "markdown",
   "id": "cace2536",
   "metadata": {},
   "source": [
    "S pomočjo te funkcije lahko na veliko bolj enostaven način napišemo funkcijo `vse_pojavitve`."
   ]
  },
  {
   "cell_type": "code",
   "execution_count": 12,
   "id": "80bed0bb",
   "metadata": {},
   "outputs": [],
   "source": [
    "def vse_pojavitve(besedilo: str, vzorec: str):\n",
    "    for pojavitev in re.finditer(vzorec, besedilo):\n",
    "        yield pojavitev.start(), pojavitev.end()"
   ]
  },
  {
   "cell_type": "code",
   "execution_count": 13,
   "id": "4fb01526",
   "metadata": {},
   "outputs": [
    {
     "name": "stdout",
     "output_type": "stream",
     "text": [
      "Ena sama je, mama!\n",
      "      ^^\n",
      "Ena sama je, mama!\n",
      "             ^^\n",
      "Ena sama je, mama!\n",
      "               ^^\n"
     ]
    }
   ],
   "source": [
    "pokazi_vse_pojavitve('Ena sama je, mama!', 'ma')"
   ]
  },
  {
   "cell_type": "markdown",
   "id": "6c251a9c",
   "metadata": {},
   "source": [
    "Seveda pa regularni izrazi pokažejo svojo pravo moč, ko začnemo uporabljati še ostale vzorce. Vse lahko najdete v [uradni dokumentaciji](https://docs.python.org/3/library/re.html#regular-expression-syntax), mi pa si poglejmo najbolj pogoste.\n",
    "\n",
    "### Vzorci za znake\n",
    "\n",
    "Katerikoli znak predstavimo s piko:"
   ]
  },
  {
   "cell_type": "code",
   "execution_count": 14,
   "id": "1d97cabc",
   "metadata": {},
   "outputs": [
    {
     "name": "stdout",
     "output_type": "stream",
     "text": [
      "Ena sama je, mama!\n",
      " ^^\n",
      "Ena sama je, mama!\n",
      "    ^^\n",
      "Ena sama je, mama!\n",
      "      ^^\n",
      "Ena sama je, mama!\n",
      "             ^^\n",
      "Ena sama je, mama!\n",
      "               ^^\n"
     ]
    }
   ],
   "source": [
    "pokazi_vse_pojavitve('Ena sama je, mama!', '.a')"
   ]
  },
  {
   "cell_type": "code",
   "execution_count": 15,
   "id": "3bc98e63",
   "metadata": {},
   "outputs": [
    {
     "name": "stdout",
     "output_type": "stream",
     "text": [
      "Ena sama je, mama!\n",
      "     ^^\n",
      "Ena sama je, mama!\n",
      "            ^^\n",
      "Ena sama je, mama!\n",
      "              ^^\n"
     ]
    }
   ],
   "source": [
    "pokazi_vse_pojavitve('Ena sama je, mama!', '.m')"
   ]
  },
  {
   "cell_type": "markdown",
   "id": "0ae93699",
   "metadata": {},
   "source": [
    "Piko samo predstavimo z vzorcem `\\.`. Pri tem je potrebno upoštevati, da je vzorec sestavljen iz dveh znakov: poševnice in pike, zato je treba v Pythonu za poševnico uporabiti ubežni znak:"
   ]
  },
  {
   "cell_type": "code",
   "execution_count": 16,
   "id": "475acaef",
   "metadata": {},
   "outputs": [
    {
     "name": "stdout",
     "output_type": "stream",
     "text": [
      "akad. prof. dr. Jana Obvlada\n",
      "    ^\n",
      "akad. prof. dr. Jana Obvlada\n",
      "          ^\n",
      "akad. prof. dr. Jana Obvlada\n",
      "              ^\n"
     ]
    }
   ],
   "source": [
    "pokazi_vse_pojavitve('akad. prof. dr. Jana Obvlada', '\\\\.')"
   ]
  },
  {
   "cell_type": "markdown",
   "id": "c2ea0117",
   "metadata": {},
   "source": [
    "Ker veliko vzorcev uporablja poševnice, dvojne poševnice pa je nadležno pisati, bomo raje uporabili _surove_ nize, v katerih Python ne uporablja ubežnih znakov in `\\` pomeni preprosto `\\`. Dobimo tako, da pred narekovaj napišemo `r`."
   ]
  },
  {
   "cell_type": "code",
   "execution_count": 17,
   "id": "61cd3339",
   "metadata": {},
   "outputs": [
    {
     "name": "stdout",
     "output_type": "stream",
     "text": [
      "akad. prof. dr. Jana Obvlada\n",
      "    ^\n",
      "akad. prof. dr. Jana Obvlada\n",
      "          ^\n",
      "akad. prof. dr. Jana Obvlada\n",
      "              ^\n"
     ]
    }
   ],
   "source": [
    "pokazi_vse_pojavitve('akad. prof. dr. Jana Obvlada', r'\\.')"
   ]
  },
  {
   "cell_type": "markdown",
   "id": "c865eb19",
   "metadata": {},
   "source": [
    "Običajno surove nize uporabljamo za zapis regularnih izrazov (tudi Visual Studio Code v surovih nizih obarva regularne izraze), vendar `r` ne pomeni _regex_ temveč _raw_.\n",
    "\n",
    "Vse števke predstavimo z vzorcem `\\d`, vse črke z vzorcem `\\w`, vse bele znake (presledke, tabulatorje, znake za novo vrstico) pa z vzorcem `\\s`:"
   ]
  },
  {
   "cell_type": "code",
   "execution_count": 18,
   "id": "b3b64943",
   "metadata": {},
   "outputs": [
    {
     "name": "stdout",
     "output_type": "stream",
     "text": [
      "Potrebujem 500g moke.\n",
      "           ^^^\n"
     ]
    }
   ],
   "source": [
    "pokazi_vse_pojavitve('Potrebujem 500g moke.', r'\\d+')"
   ]
  },
  {
   "cell_type": "code",
   "execution_count": 19,
   "id": "2bf2bc11",
   "metadata": {},
   "outputs": [
    {
     "name": "stdout",
     "output_type": "stream",
     "text": [
      "Potrebujem 500g moke.\n",
      "^^^^^^^^^^\n",
      "Potrebujem 500g moke.\n",
      "           ^^^^\n",
      "Potrebujem 500g moke.\n",
      "                ^^^^\n"
     ]
    }
   ],
   "source": [
    "pokazi_vse_pojavitve('Potrebujem 500g moke.', r'\\w+')"
   ]
  },
  {
   "cell_type": "code",
   "execution_count": 20,
   "id": "21e3227d",
   "metadata": {},
   "outputs": [
    {
     "name": "stdout",
     "output_type": "stream",
     "text": [
      "Potrebujem 500g moke.\n",
      "          ^\n",
      "Potrebujem 500g moke.\n",
      "               ^\n"
     ]
    }
   ],
   "source": [
    "pokazi_vse_pojavitve('Potrebujem 500g moke.', r'\\s+')"
   ]
  },
  {
   "cell_type": "markdown",
   "id": "6907224e",
   "metadata": {},
   "source": [
    "Če uporabimo veliko tiskano črko, dobimo komplement. Tako vzorcu `\\D` ustrezajo vsi znaki razen števk, vzorcu `\\W` vsi znaki razen črk, vzorcu `\\S` pa vsi znaki razen belih."
   ]
  },
  {
   "cell_type": "code",
   "execution_count": 21,
   "id": "c808a215",
   "metadata": {},
   "outputs": [
    {
     "name": "stdout",
     "output_type": "stream",
     "text": [
      "Potrebujem 500g moke.\n",
      "^^^^^^^^^^^\n",
      "Potrebujem 500g moke.\n",
      "              ^^^^^^^\n"
     ]
    }
   ],
   "source": [
    "pokazi_vse_pojavitve('Potrebujem 500g moke.', r'\\D+')"
   ]
  },
  {
   "cell_type": "code",
   "execution_count": 22,
   "id": "17713c2f",
   "metadata": {},
   "outputs": [
    {
     "name": "stdout",
     "output_type": "stream",
     "text": [
      "Potrebujem 500g moke.\n",
      "          ^\n",
      "Potrebujem 500g moke.\n",
      "               ^\n",
      "Potrebujem 500g moke.\n",
      "                    ^\n"
     ]
    }
   ],
   "source": [
    "pokazi_vse_pojavitve('Potrebujem 500g moke.', r'\\W+')"
   ]
  },
  {
   "cell_type": "code",
   "execution_count": 23,
   "id": "e9dc6b77",
   "metadata": {},
   "outputs": [
    {
     "name": "stdout",
     "output_type": "stream",
     "text": [
      "Potrebujem 500g moke.\n",
      "^^^^^^^^^^\n",
      "Potrebujem 500g moke.\n",
      "           ^^^^\n",
      "Potrebujem 500g moke.\n",
      "                ^^^^^\n"
     ]
    }
   ],
   "source": [
    "pokazi_vse_pojavitve('Potrebujem 500g moke.', r'\\S+')"
   ]
  },
  {
   "cell_type": "markdown",
   "id": "aee128d2",
   "metadata": {},
   "source": [
    "Omenimo tudi vzorca `\\b` ter `\\B` _(boundary)_. Oba sta ničelne širine, torej sama ne označujeta nobenega znaka. `\\b` označuje pozicijo med besednim znakom (karkoli ujemajoče z \\w) ter nebesednim znakom (karkoli ujemajoče z \\W)."
   ]
  },
  {
   "cell_type": "code",
   "execution_count": 24,
   "id": "96f3255b",
   "metadata": {},
   "outputs": [
    {
     "name": "stdout",
     "output_type": "stream",
     "text": [
      "Je pravo vprašanje kaj ali zakaj?\n",
      "                   ^^^\n"
     ]
    }
   ],
   "source": [
    "pokazi_vse_pojavitve('Je pravo vprašanje kaj ali zakaj?', r'\\bkaj\\b')"
   ]
  },
  {
   "cell_type": "markdown",
   "id": "58e63ba0",
   "metadata": {},
   "source": [
    "Vzorec `\\B` pa predstavlja ravno obratno. Uporabimo ga, kadar iskani del ni na začetku ali koncu besede."
   ]
  },
  {
   "cell_type": "code",
   "execution_count": 25,
   "id": "9e53c3ee",
   "metadata": {},
   "outputs": [
    {
     "name": "stdout",
     "output_type": "stream",
     "text": [
      "Svet ni niti bel, niti črnobel.\n",
      "                           ^^^\n"
     ]
    }
   ],
   "source": [
    "pokazi_vse_pojavitve('Svet ni niti bel, niti črnobel.', r'\\Bbel\\b')"
   ]
  },
  {
   "cell_type": "markdown",
   "id": "46822ba8",
   "metadata": {},
   "source": [
    "Če se želimo omejiti na posamezne znake ali posamezen razpon zaporednih znakov, jih naštejemo med oglatimi oklepaji:"
   ]
  },
  {
   "cell_type": "code",
   "execution_count": 26,
   "id": "8b401935",
   "metadata": {},
   "outputs": [
    {
     "name": "stdout",
     "output_type": "stream",
     "text": [
      "ata, mama, teta, stric\n",
      " ^^^\n",
      "ata, mama, teta, stric\n",
      "     ^^^\n",
      "ata, mama, teta, stric\n",
      "           ^^^\n",
      "ata, mama, teta, stric\n",
      "                   ^^^\n"
     ]
    }
   ],
   "source": [
    "pokazi_vse_pojavitve('ata, mama, teta, stric', r'.[aeiou].')"
   ]
  },
  {
   "cell_type": "code",
   "execution_count": 27,
   "id": "cf8a03e0",
   "metadata": {},
   "outputs": [
    {
     "name": "stdout",
     "output_type": "stream",
     "text": [
      "ata, mama, teta, stric\n",
      "     ^^^\n",
      "ata, mama, teta, stric\n",
      "           ^^^\n",
      "ata, mama, teta, stric\n",
      "                   ^^^\n"
     ]
    }
   ],
   "source": [
    "pokazi_vse_pojavitve('ata, mama, teta, stric', r'.[aeiou][a-z]')"
   ]
  },
  {
   "cell_type": "markdown",
   "id": "33f829de",
   "metadata": {},
   "source": [
    "Če kot prvi znak v oglatih oklepajih damo `^`, dobimo komplement:"
   ]
  },
  {
   "cell_type": "code",
   "execution_count": 28,
   "id": "52370580",
   "metadata": {},
   "outputs": [
    {
     "name": "stdout",
     "output_type": "stream",
     "text": [
      "ata, mama, teta, stric\n",
      "^^^\n",
      "ata, mama, teta, stric\n",
      "   ^^^\n",
      "ata, mama, teta, stric\n",
      "      ^^^\n",
      "ata, mama, teta, stric\n",
      "         ^^^\n",
      "ata, mama, teta, stric\n",
      "            ^^^\n",
      "ata, mama, teta, stric\n",
      "               ^^^\n",
      "ata, mama, teta, stric\n",
      "                  ^^^\n"
     ]
    }
   ],
   "source": [
    "pokazi_vse_pojavitve('ata, mama, teta, stric', r'.[^aeiou].')"
   ]
  },
  {
   "cell_type": "markdown",
   "id": "106d3ca2",
   "metadata": {},
   "source": [
    "### Kvantifikatorji\n",
    "\n",
    "Z `*` označimo poljubno mnogo ponovitev danega vzorca:"
   ]
  },
  {
   "cell_type": "code",
   "execution_count": 29,
   "id": "65558009",
   "metadata": {},
   "outputs": [
    {
     "name": "stdout",
     "output_type": "stream",
     "text": [
      "Oddal sem davčno napoved\n",
      " ^^^\n",
      "Oddal sem davčno napoved\n",
      "          ^^\n",
      "Oddal sem davčno napoved\n",
      "                  ^\n"
     ]
    }
   ],
   "source": [
    "pokazi_vse_pojavitve('Oddal sem davčno napoved', r'd*a')"
   ]
  },
  {
   "cell_type": "markdown",
   "id": "5b39ab6a",
   "metadata": {},
   "source": [
    "Če želimo, da se vzorec pojavi vsaj enkrat, uporabimo `+`:"
   ]
  },
  {
   "cell_type": "code",
   "execution_count": 30,
   "id": "dd83eba9",
   "metadata": {},
   "outputs": [
    {
     "name": "stdout",
     "output_type": "stream",
     "text": [
      "Oddal sem davčno napoved\n",
      " ^^^\n",
      "Oddal sem davčno napoved\n",
      "          ^^\n"
     ]
    }
   ],
   "source": [
    "pokazi_vse_pojavitve('Oddal sem davčno napoved', r'd+a')"
   ]
  },
  {
   "cell_type": "markdown",
   "id": "3808cbf1",
   "metadata": {},
   "source": [
    "Kvantifikatorja `*` in `+` sta požrešna, kar pomeni, da poskusita zajeti kolikor znakov lahko:"
   ]
  },
  {
   "cell_type": "code",
   "execution_count": 31,
   "id": "65f40c1c",
   "metadata": {},
   "outputs": [
    {
     "name": "stdout",
     "output_type": "stream",
     "text": [
      "Oddal sem davčno napoved\n",
      " ^^^^^^^^^^^^^^^^^^\n"
     ]
    }
   ],
   "source": [
    "pokazi_vse_pojavitve('Oddal sem davčno napoved', r'd.*a')"
   ]
  },
  {
   "cell_type": "code",
   "execution_count": 32,
   "id": "1e871980",
   "metadata": {},
   "outputs": [
    {
     "name": "stdout",
     "output_type": "stream",
     "text": [
      "Oddal sem davčno napoved\n",
      " ^^^^^^^^^^^^^^^^^^\n"
     ]
    }
   ],
   "source": [
    "pokazi_vse_pojavitve('Oddal sem davčno napoved', r'd.+a')"
   ]
  },
  {
   "cell_type": "markdown",
   "id": "c15996f3",
   "metadata": {},
   "source": [
    "Če želimo najti najkrajše možne pojavitve, moramo na koncu dodati še `?`:"
   ]
  },
  {
   "cell_type": "code",
   "execution_count": 33,
   "id": "5e8294bc",
   "metadata": {},
   "outputs": [
    {
     "name": "stdout",
     "output_type": "stream",
     "text": [
      "Oddal sem davčno napoved"
     ]
    },
    {
     "name": "stdout",
     "output_type": "stream",
     "text": [
      "\n",
      " ^^^\n",
      "Oddal sem davčno napoved\n",
      "          ^^\n"
     ]
    }
   ],
   "source": [
    "pokazi_vse_pojavitve('Oddal sem davčno napoved', r'd.*?a')"
   ]
  },
  {
   "cell_type": "code",
   "execution_count": 34,
   "id": "62be71fd",
   "metadata": {},
   "outputs": [
    {
     "name": "stdout",
     "output_type": "stream",
     "text": [
      "Oddal sem davčno napoved\n",
      " ^^^\n",
      "Oddal sem davčno napoved\n",
      "          ^^^^^^^^^\n"
     ]
    }
   ],
   "source": [
    "pokazi_vse_pojavitve('Oddal sem davčno napoved', r'd.+?a')"
   ]
  },
  {
   "cell_type": "markdown",
   "id": "f8f326ed",
   "metadata": {},
   "source": [
    "Če uporabimo samo `?`, to pomeni morebitno pojavitev vzorca:"
   ]
  },
  {
   "cell_type": "code",
   "execution_count": 35,
   "id": "b239965c",
   "metadata": {},
   "outputs": [
    {
     "name": "stdout",
     "output_type": "stream",
     "text": [
      "Oddal sem davčno napoved\n",
      " ^\n",
      "Oddal sem davčno napoved\n",
      "  ^^\n",
      "Oddal sem davčno napoved\n",
      "          ^^\n",
      "Oddal sem davčno napoved\n",
      "                       ^\n"
     ]
    }
   ],
   "source": [
    "pokazi_vse_pojavitve('Oddal sem davčno napoved', r'da?')"
   ]
  },
  {
   "cell_type": "markdown",
   "id": "a9028efb",
   "metadata": {},
   "source": [
    "Če želimo dobiti znake `*`, `+` in `?` uporabimo `\\*`, `\\+` in `\\?`.\n",
    "\n",
    "Kvantifikatorji `*`, `+` in `?` so posebni primeri kvantifikatorja `{m,n}`, ki predstavlja katerokoli število ponovitev med `m` in `n`, pri čemer lahko kakšno izmed meja tudi izpustimo. Tako je kvantifikator `*` okrajšava za `{0,}`, kvantifikator `+` okrajšava za `{1,}`, kvantifikator `?` pa okrajšava za `{0,1}`."
   ]
  },
  {
   "cell_type": "code",
   "execution_count": 36,
   "id": "f5898e36",
   "metadata": {},
   "outputs": [
    {
     "name": "stdout",
     "output_type": "stream",
     "text": [
      "\"Brrrr, brrrrrr, brrr, brrrrrrr,\" je drgetal od mraza.\n",
      " ^^^^^\n",
      "\"Brrrr, brrrrrr, brrr, brrrrrrr,\" je drgetal od mraza.\n",
      "        ^^^^^^\n",
      "\"Brrrr, brrrrrr, brrr, brrrrrrr,\" je drgetal od mraza.\n",
      "                       ^^^^^^\n"
     ]
    }
   ],
   "source": [
    "pokazi_vse_pojavitve('\"Brrrr, brrrrrr, brrr, brrrrrrr,\" je drgetal od mraza.', r'[Bb]r{4,5}')"
   ]
  },
  {
   "cell_type": "code",
   "execution_count": 37,
   "id": "1493d0ec",
   "metadata": {},
   "outputs": [
    {
     "name": "stdout",
     "output_type": "stream",
     "text": [
      "\"Brrr, brrrrrr, brrr, brrrrrrr,\" je drgetal od mraza.\n",
      "       ^^^^^^^\n",
      "\"Brrr, brrrrrr, brrr, brrrrrrr,\" je drgetal od mraza.\n",
      "                      ^^^^^^^^\n"
     ]
    }
   ],
   "source": [
    "pokazi_vse_pojavitve('\"Brrr, brrrrrr, brrr, brrrrrrr,\" je drgetal od mraza.', r'[Bb]r{4,}')"
   ]
  },
  {
   "cell_type": "code",
   "execution_count": 38,
   "id": "62226a4c",
   "metadata": {},
   "outputs": [
    {
     "name": "stdout",
     "output_type": "stream",
     "text": [
      "\"Brrr, brrrrrr, brrr, brrrrrrr,\" je drgetal od mraza.\n",
      " ^^^^\n",
      "\"Brrr, brrrrrr, brrr, brrrrrrr,\" je drgetal od mraza.\n",
      "       ^^^^^^\n",
      "\"Brrr, brrrrrr, brrr, brrrrrrr,\" je drgetal od mraza.\n",
      "                ^^^^\n",
      "\"Brrr, brrrrrr, brrr, brrrrrrr,\" je drgetal od mraza.\n",
      "                      ^^^^^^\n"
     ]
    }
   ],
   "source": [
    "pokazi_vse_pojavitve('\"Brrr, brrrrrr, brrr, brrrrrrr,\" je drgetal od mraza.', r'[Bb]r{,5}')"
   ]
  },
  {
   "cell_type": "markdown",
   "id": "c4186614",
   "metadata": {},
   "source": [
    "### Skupine\n",
    "\n",
    "Vzorce lahko z oklepaji združujemo v skupine:"
   ]
  },
  {
   "cell_type": "code",
   "execution_count": 39,
   "id": "05806e86",
   "metadata": {},
   "outputs": [
    {
     "name": "stdout",
     "output_type": "stream",
     "text": [
      "tralala hopsasa\n",
      " ^^^^^^\n",
      "tralala hopsasa\n",
      "        ^^\n",
      "tralala hopsasa\n",
      "           ^^^^\n"
     ]
    }
   ],
   "source": [
    "pokazi_vse_pojavitve('tralala hopsasa', r'([^aeiou][aeiou])+')"
   ]
  },
  {
   "cell_type": "markdown",
   "id": "dc855900",
   "metadata": {},
   "source": [
    "V pojavitvi lahko do posameznih skupin dostopamo prek metode `group`. Celotna pojavitev ima indeks `0`, nato pa so oštevilčene glede na uklepaje:"
   ]
  },
  {
   "cell_type": "code",
   "execution_count": 40,
   "id": "a575794b",
   "metadata": {},
   "outputs": [
    {
     "name": "stdout",
     "output_type": "stream",
     "text": [
      "enota: g, vrednost: 500\n",
      "enota: ml, vrednost: 250\n"
     ]
    }
   ],
   "source": [
    "recept = 'Potrebujem 500 g moke in 250 ml vode.'\n",
    "vzorec = r'(\\d+) (\\w+)'\n",
    "for pojavitev in re.finditer(vzorec, recept):\n",
    "    print(f'enota: {pojavitev.group(2)}, vrednost: {pojavitev.group(1)}')"
   ]
  },
  {
   "cell_type": "markdown",
   "id": "4fc77b59",
   "metadata": {},
   "source": [
    "Dostikrat je koristno, da skupine poimenujemo, kar storimo tako, da skupino pišemo kot `(?P<ime_skupine>...)`. Do vseh skupin potem dostopamo prek metode `groupdict`:"
   ]
  },
  {
   "cell_type": "code",
   "execution_count": 41,
   "id": "d119d003",
   "metadata": {},
   "outputs": [
    {
     "data": {
      "text/plain": [
       "[{'kolicina': '500', 'enota': 'g'}, {'kolicina': '250', 'enota': 'ml'}]"
      ]
     },
     "execution_count": 41,
     "metadata": {},
     "output_type": "execute_result"
    }
   ],
   "source": [
    "vzorec = r'(?P<kolicina>\\d+) (?P<enota>\\w+)'\n",
    "[pojavitev.groupdict() for pojavitev in re.finditer(vzorec, recept)]"
   ]
  },
  {
   "cell_type": "markdown",
   "id": "fb5d5c74",
   "metadata": {},
   "source": [
    "Zgornjo funkcijo bi tako lepše napisali kot:"
   ]
  },
  {
   "cell_type": "code",
   "execution_count": 42,
   "id": "276f0a57",
   "metadata": {},
   "outputs": [],
   "source": [
    "def izlusci_sifro_in_naslov(niz):\n",
    "    vzorec = r'<a href=\"/title/tt(?P<sifra>\\d+)/\\?ref_=adv_li_tt\">(?P<naslov>.*?)</a>'\n",
    "    pojavitev = re.search(vzorec, niz)\n",
    "    sifra = int(pojavitev.group('sifra'))\n",
    "    naslov = pojavitev.group('naslov')\n",
    "    return sifra, naslov"
   ]
  },
  {
   "cell_type": "code",
   "execution_count": 43,
   "id": "2757edea",
   "metadata": {},
   "outputs": [
    {
     "data": {
      "text/plain": [
       "(76759, 'Star Wars: Episode IV - A New Hope')"
      ]
     },
     "execution_count": 43,
     "metadata": {},
     "output_type": "execute_result"
    }
   ],
   "source": [
    "izlusci_sifro_in_naslov('<a href=\"/title/tt0076759/?ref_=adv_li_tt\">Star Wars: Episode IV - A New Hope</a>')"
   ]
  },
  {
   "cell_type": "code",
   "execution_count": 44,
   "id": "efdf0309",
   "metadata": {},
   "outputs": [
    {
     "data": {
      "text/plain": [
       "(86190, 'Star Wars: Episode VI - Return of the Jedi')"
      ]
     },
     "execution_count": 44,
     "metadata": {},
     "output_type": "execute_result"
    }
   ],
   "source": [
    "izlusci_sifro_in_naslov('<a href=\"/title/tt0086190/?ref_=adv_li_tt\">Star Wars: Episode VI - Return of the Jedi</a>')"
   ]
  },
  {
   "cell_type": "markdown",
   "id": "a3b553ca",
   "metadata": {},
   "source": [
    "## Metode za delo z regularnimi izrazi\n",
    "\n",
    "V knjižnici `re` je na voljo več funkcij za delo z regularnimi izrazi:\n",
    "\n",
    "- `search`, ki vrne prvo pojavitev danega vzorca v nizu oziroma `None`, če je ni:"
   ]
  },
  {
   "cell_type": "code",
   "execution_count": 45,
   "id": "2915e569",
   "metadata": {},
   "outputs": [
    {
     "data": {
      "text/plain": [
       "<re.Match object; span=(0, 1), match='3'>"
      ]
     },
     "execution_count": 45,
     "metadata": {},
     "output_type": "execute_result"
    }
   ],
   "source": [
    "re.search(r'\\d', '3, 4, zdaj!')"
   ]
  },
  {
   "cell_type": "code",
   "execution_count": 46,
   "id": "0e66c34e",
   "metadata": {},
   "outputs": [],
   "source": [
    "re.search(r'\\d', 'tri, štiri, zdaj!')"
   ]
  },
  {
   "cell_type": "markdown",
   "id": "af6f1846",
   "metadata": {},
   "source": [
    "- `match`, ki vrne pojavitev, če ta ustreza začetku niza oziroma `None`, če ne:"
   ]
  },
  {
   "cell_type": "code",
   "execution_count": 47,
   "id": "ba3dc54d",
   "metadata": {},
   "outputs": [
    {
     "data": {
      "text/plain": [
       "<re.Match object; span=(0, 3), match='500'>"
      ]
     },
     "execution_count": 47,
     "metadata": {},
     "output_type": "execute_result"
    }
   ],
   "source": [
    "re.match(r'\\d+', '500 g moke')"
   ]
  },
  {
   "cell_type": "code",
   "execution_count": 48,
   "id": "b4c2a3a0",
   "metadata": {},
   "outputs": [],
   "source": [
    "re.match(r'\\d+', 'Potrebujem 500 g moke.')"
   ]
  },
  {
   "cell_type": "markdown",
   "id": "c58a1485",
   "metadata": {},
   "source": [
    "- `fullmatch`, ki vrne pojavitev, če ta ustreza celotnemu nizu oziroma `None`, če ne:"
   ]
  },
  {
   "cell_type": "code",
   "execution_count": 49,
   "id": "2d95aa8c",
   "metadata": {},
   "outputs": [
    {
     "data": {
      "text/plain": [
       "<re.Match object; span=(0, 10), match='Proseminar'>"
      ]
     },
     "execution_count": 49,
     "metadata": {},
     "output_type": "execute_result"
    }
   ],
   "source": [
    "re.fullmatch(r'\\w+', 'Proseminar')"
   ]
  },
  {
   "cell_type": "code",
   "execution_count": 50,
   "id": "2b7b7c8b",
   "metadata": {},
   "outputs": [],
   "source": [
    "re.fullmatch(r'\\w+', 'Uvod v programiranje')"
   ]
  },
  {
   "cell_type": "markdown",
   "id": "b9bef3e2",
   "metadata": {},
   "source": [
    "- `finditer`, ki vrne iterator čez vse pojavitve vzorca v nizu:"
   ]
  },
  {
   "cell_type": "code",
   "execution_count": 51,
   "id": "99c1a944",
   "metadata": {},
   "outputs": [
    {
     "data": {
      "text/plain": [
       "[<re.Match object; span=(0, 1), match='3'>,\n",
       " <re.Match object; span=(3, 4), match='4'>]"
      ]
     },
     "execution_count": 51,
     "metadata": {},
     "output_type": "execute_result"
    }
   ],
   "source": [
    "list(re.finditer(r'\\d', '3, 4, zdaj!'))"
   ]
  },
  {
   "cell_type": "markdown",
   "id": "d4abc963",
   "metadata": {},
   "source": [
    "- `findall`, ki vrne seznam vsebin vseh pojavitev vzorca v nizu:"
   ]
  },
  {
   "cell_type": "code",
   "execution_count": 52,
   "id": "c90b745a",
   "metadata": {},
   "outputs": [
    {
     "data": {
      "text/plain": [
       "['3', '4']"
      ]
     },
     "execution_count": 52,
     "metadata": {},
     "output_type": "execute_result"
    }
   ],
   "source": [
    "re.findall(r'\\d', '3, 4, zdaj!')"
   ]
  },
  {
   "cell_type": "markdown",
   "id": "601f1a25",
   "metadata": {},
   "source": [
    "- `split`, ki dani niz razdeli po pojavitvah:"
   ]
  },
  {
   "cell_type": "code",
   "execution_count": 53,
   "id": "fd6d0e3b",
   "metadata": {},
   "outputs": [
    {
     "data": {
      "text/plain": [
       "['', 't', 'r', 'n', 'l', 'r', 'ng', 'l', 'g']"
      ]
     },
     "execution_count": 53,
     "metadata": {},
     "output_type": "execute_result"
    }
   ],
   "source": [
    "re.split(r'[aeiou]', 'otorinolaringolog')"
   ]
  },
  {
   "cell_type": "markdown",
   "id": "4bd0755d",
   "metadata": {},
   "source": [
    "- `sub`, ki v danem nizu pojavitve zamenja z drugimi nizi, v katerih lahko do posameznih skupin dostopamo prek `\\1`, `\\2`, ..."
   ]
  },
  {
   "cell_type": "code",
   "execution_count": 54,
   "id": "7b81b0c4",
   "metadata": {},
   "outputs": [],
   "source": [
    "def daj_en_presledek_za_vsako_stevilko(niz):\n",
    "    stevilka_in_morebitni_presledki = r'(\\d+)\\s*'\n",
    "    return re.sub(stevilka_in_morebitni_presledki, r'\\1 ', niz)"
   ]
  },
  {
   "cell_type": "code",
   "execution_count": 55,
   "id": "47b90a66",
   "metadata": {},
   "outputs": [
    {
     "data": {
      "text/plain": [
       "'500 g moke in 250 ml vode'"
      ]
     },
     "execution_count": 55,
     "metadata": {},
     "output_type": "execute_result"
    }
   ],
   "source": [
    "daj_en_presledek_za_vsako_stevilko('500g moke in 250    ml vode')"
   ]
  },
  {
   "cell_type": "markdown",
   "id": "8ea0986e",
   "metadata": {},
   "source": [
    "Vse zgoraj omenjene funkcije poleg običajnih argumentov sprejmejo še dodatne parametre, ki jih imenujemo zastavice in malenkostno spreminjajo iskanje. Na primer, z `re.IGNORECASE` pri iskanju ne razlikujemo med malimi in velikimi črkami:"
   ]
  },
  {
   "cell_type": "code",
   "execution_count": 56,
   "id": "18a2b25e",
   "metadata": {},
   "outputs": [
    {
     "data": {
      "text/plain": [
       "['a', 'a']"
      ]
     },
     "execution_count": 56,
     "metadata": {},
     "output_type": "execute_result"
    }
   ],
   "source": [
    "re.findall(r'a', 'Abraham')"
   ]
  },
  {
   "cell_type": "code",
   "execution_count": 57,
   "id": "49fc1912",
   "metadata": {},
   "outputs": [
    {
     "data": {
      "text/plain": [
       "['A', 'a', 'a']"
      ]
     },
     "execution_count": 57,
     "metadata": {},
     "output_type": "execute_result"
    }
   ],
   "source": [
    "re.findall(r'a', 'Abraham', flags=re.IGNORECASE)"
   ]
  },
  {
   "cell_type": "markdown",
   "id": "f7c337cd",
   "metadata": {},
   "source": [
    "Druga pogosto uporabljana zastavica je `re.DOTALL`. Vzorec `.` običajno pomeni vse znake razen znaka za novo vrstico. Če uporabimo `re.DOTALL`, pa vključuje tudi tega:"
   ]
  },
  {
   "cell_type": "code",
   "execution_count": 58,
   "id": "899dd1a2",
   "metadata": {},
   "outputs": [
    {
     "data": {
      "text/plain": [
       "['XyzzY', 'X    Y']"
      ]
     },
     "execution_count": 58,
     "metadata": {},
     "output_type": "execute_result"
    }
   ],
   "source": [
    "re.findall(r'X.*?Y', 'XyzzY X    Y X\\nY')"
   ]
  },
  {
   "cell_type": "code",
   "execution_count": 59,
   "id": "f4f21b93",
   "metadata": {},
   "outputs": [
    {
     "data": {
      "text/plain": [
       "['XyzzY', 'X    Y', 'X\\nY']"
      ]
     },
     "execution_count": 59,
     "metadata": {},
     "output_type": "execute_result"
    }
   ],
   "source": [
    "re.findall(r'X.*?Y', 'XyzzY X    Y X\\nY', flags=re.DOTALL)"
   ]
  },
  {
   "cell_type": "markdown",
   "id": "87db458a",
   "metadata": {},
   "source": [
    "Če želimo uporabiti več zastavic, jih v eno sestavimo z `|`:"
   ]
  },
  {
   "cell_type": "code",
   "execution_count": 60,
   "id": "e0f64ae4",
   "metadata": {},
   "outputs": [
    {
     "data": {
      "text/plain": [
       "['Xy', 'x    y', 'X\\nY']"
      ]
     },
     "execution_count": 60,
     "metadata": {},
     "output_type": "execute_result"
    }
   ],
   "source": [
    "re.findall(r'X.*?Y', 'XyzzY x    y X\\nY', flags=(re.DOTALL|re.IGNORECASE))"
   ]
  },
  {
   "cell_type": "markdown",
   "id": "eec34e4c",
   "metadata": {},
   "source": [
    "Vse zgoraj omenjene funkcije sprejmejo niz z vzorcem, ki ga iščemo. Še bolj Pythonovsko in tudi bolj učinkovito, če vzorec uporabljamo večkrat, pa je, da vzorec s funkcijo `compile` pretvorimo v objekt `re.Pattern`. Na takem objektu lahko potem kličemo metode z istimi imeni kot zgoraj omenjene funkcije."
   ]
  },
  {
   "cell_type": "code",
   "execution_count": 61,
   "id": "3612638c",
   "metadata": {},
   "outputs": [
    {
     "data": {
      "text/plain": [
       "['Xy', 'x    y', 'X\\nY']"
      ]
     },
     "execution_count": 61,
     "metadata": {},
     "output_type": "execute_result"
    }
   ],
   "source": [
    "izraz = re.compile(r'X.*?Y', flags=(re.DOTALL|re.IGNORECASE))\n",
    "izraz.findall('XyzzY x    y X\\nY')"
   ]
  },
  {
   "cell_type": "markdown",
   "id": "3798da28",
   "metadata": {},
   "source": [
    "## Organizacija večjih regularnih izrazov\n",
    "\n",
    "Če želimo zajeti veliko podatkov, potrebujemo vedno bolj zapletene regularne izraze, kar postane hitro nepregledno. Najprej si bomo pomagali s tem, da bomo regularne izraze pisali čez več vrstic. Python nam omogoča, da dobesedne nize (torej tiste v narekovajih) stikamo tako, da jih pišemo enega za drugim, na primer:"
   ]
  },
  {
   "cell_type": "code",
   "execution_count": 62,
   "id": "714997b0",
   "metadata": {},
   "outputs": [
    {
     "data": {
      "text/plain": [
       "'Tole dela, ker imamo 6 nizov v narekovajih.'"
      ]
     },
     "execution_count": 62,
     "metadata": {},
     "output_type": "execute_result"
    }
   ],
   "source": [
    "'Tole ' 'dela' ',' \" ker imamo\" f\"\"\" {2 * 3}\"\"\" ' nizov v narekovajih.'"
   ]
  },
  {
   "cell_type": "code",
   "execution_count": 63,
   "id": "9bf4ff9d",
   "metadata": {
    "tags": [
     "raises-exception"
    ]
   },
   "outputs": [
    {
     "ename": "SyntaxError",
     "evalue": "unterminated string literal (detected at line 2) (2306586482.py, line 2)",
     "output_type": "error",
     "traceback": [
      "\u001b[0;36m  Cell \u001b[0;32mIn[63], line 2\u001b[0;36m\u001b[0m\n\u001b[0;31m    'Tole pa ne,' \"ker je vmes tudi ' izvor_tezave '.'\u001b[0m\n\u001b[0m                  ^\u001b[0m\n\u001b[0;31mSyntaxError\u001b[0m\u001b[0;31m:\u001b[0m unterminated string literal (detected at line 2)\n"
     ]
    }
   ],
   "source": [
    "izvor_tezave = 'spremenljivka'\n",
    "'Tole pa ne,' \"ker je vmes tudi ' izvor_tezave '.'"
   ]
  },
  {
   "cell_type": "markdown",
   "id": "2a5b7e70",
   "metadata": {},
   "source": [
    "Poleg tega lahko v Pythonu izraze v oklepajih razbijemo čez več vrstic. Oboje skupaj nam omogoča, da vzorec filma napišemo takole:"
   ]
  },
  {
   "cell_type": "code",
   "execution_count": 64,
   "id": "9dd35b07",
   "metadata": {},
   "outputs": [],
   "source": [
    "vzorec_filma = re.compile(\n",
    "    # šifro vzamemo iz povezave\n",
    "    r'<a href=\"/title/tt(?P<id>\\d+)/.*?\".*?'\n",
    "    r'img alt=\"(?P<naslov>.+?)\".*?'\n",
    "    # pri letu ignoriramo morebitne rimske številke\n",
    "    r'lister-item-year text-muted unbold\">.*?\\((?P<leto>\\d{4})\\)</span>.*?'\n",
    "    r'runtime\">(?P<dolzina>\\d+?) min</.*?'\n",
    "    # žanre zajamemo v enem kosu, ki ga bomo kasneje razbili\n",
    "    r'<span class=\"genre\">(?P<zanri>.*?)</span>.*?'\n",
    "    r'<strong>(?P<ocena>.+?)</strong>.*?'\n",
    "    r'<p class=\"text-muted\">(?P<opis>.+?)</p.*?'\n",
    "    r'Directors?:(?P<reziserji>.+?)(<span class=\"ghost\">|</p>).*?'\n",
    "    r'Votes:.*?data-value=\"(?P<glasovi>\\d+)\"',\n",
    "    flags=re.DOTALL\n",
    ")"
   ]
  },
  {
   "cell_type": "markdown",
   "id": "30dbb74b",
   "metadata": {},
   "source": [
    "Poleg tega bomo napisali več manjših vzorcev, ki bodo postopoma obdelovali datoteko. Pri regularnih izrazih namreč že majhna sprememba povzroči, da iz sto zadetkov pademo na nobenega (ali pa enega, ki zajame celotno besedilo od začetka prvega do konca zadnjega želenega zadetka). Zato zgoraj napisanega vzorca filma ne bomo iskali v celotni datoteki, temveč bomo datoteko najprej razbili na osnovne bloke, v katerih so vsi podatki posameznega filma. Če se malo potrudimo, vidimo, da je ustrezen sledeči vzorec:"
   ]
  },
  {
   "cell_type": "code",
   "execution_count": 65,
   "id": "cd2865b6",
   "metadata": {},
   "outputs": [],
   "source": [
    "vzorec_bloka = re.compile(\n",
    "    r'<div class=\"lister-item mode-advanced\">.*?'\n",
    "    r'</p>\\s*</div>\\s*</div>',\n",
    "    flags=re.DOTALL\n",
    ")"
   ]
  },
  {
   "cell_type": "markdown",
   "id": "f8d34a35",
   "metadata": {},
   "source": [
    "Nato bomo v vsakem od blokov poiskali (edini) vzorec podatkov filma."
   ]
  },
  {
   "cell_type": "code",
   "execution_count": 66,
   "id": "1bb16c35",
   "metadata": {},
   "outputs": [
    {
     "name": "stdout",
     "output_type": "stream",
     "text": [
      "{'id': '0076759', 'naslov': 'Star Wars: Episode IV - A New Hope', 'leto': '1977', 'dolzina': '121', 'zanri': '\\n                                                Action, Adventure, Fantasy            ', 'ocena': '8.6', 'opis': \"\\n                                            Luke Skywalker joins forces with a Jedi Knight, a cocky pilot, a Wookiee and two droids to save the galaxy from the Empire's world-destroying battle station, while also attempting to rescue Princess Leia from the mysterious Darth Vader.\", 'reziserji': '\\n                                                <a href=\"/name/nm0000184/?ref_=adv_li_dr_0\">George Lucas</a>\\n                                                ', 'glasovi': '1278688'}"
     ]
    },
    {
     "name": "stdout",
     "output_type": "stream",
     "text": [
      "\n",
      "{'id': '0080684', 'naslov': 'Star Wars: Episode V - The Empire Strikes Back', 'leto': '1980', 'dolzina': '124', 'zanri': '\\n                                                Action, Adventure, Fantasy            ', 'ocena': '8.7', 'opis': '\\n                                            After the Rebels are brutally overpowered by the Empire on the ice planet Hoth, Luke Skywalker begins Jedi training with Yoda, while his friends are pursued across the galaxy by Darth Vader and bounty hunter Boba Fett.', 'reziserji': '\\n                                                <a href=\"/name/nm0449984/?ref_=adv_li_dr_0\">Irvin Kershner</a>\\n                                                ', 'glasovi': '1206876'}\n"
     ]
    },
    {
     "name": "stdout",
     "output_type": "stream",
     "text": [
      "{'id': '0086190', 'naslov': 'Star Wars: Return of the Jedi', 'leto': '1983', 'dolzina': '131', 'zanri': '\\n                                                Action, Adventure, Fantasy            ', 'ocena': '8.3', 'opis': \"\\n                                            After a daring mission to rescue Han Solo from Jabba the Hutt, the Rebels dispatch to Endor to destroy the second Death Star. Meanwhile, Luke struggles to help Darth Vader back from the dark side without falling into the Emperor's trap.\", 'reziserji': '\\n                                                <a href=\"/name/nm0549658/?ref_=adv_li_dr_0\">Richard Marquand</a>\\n                                                ', 'glasovi': '987529'}\n",
      "{'id': '2488496', 'naslov': 'Star Wars: Episode VII - The Force Awakens', 'leto': '2015', 'dolzina': '138', 'zanri': '\\n                                                Action, Adventure, Sci-Fi            ', 'ocena': '7.8', 'opis': '\\n                                            As a new threat to the galaxy rises, Rey, a desert scavenger, and Finn, an ex-stormtrooper, must join Han Solo and Chewbacca to search for the one hope of restoring peace.', 'reziserji': '\\n                                                <a href=\"/name/nm0009190/?ref_=adv_li_dr_0\">J.J. Abrams</a>\\n                                                ', 'glasovi': '885817'}\n"
     ]
    },
    {
     "name": "stdout",
     "output_type": "stream",
     "text": [
      "{'id': '0120915', 'naslov': 'Star Wars: Episode I - The Phantom Menace', 'leto': '1999', 'dolzina': '136', 'zanri': '\\n                                                Action, Adventure, Fantasy            ', 'ocena': '6.5', 'opis': '\\n                                            Two Jedi escape a hostile blockade to find allies and come across a young boy who may bring balance to the Force, but the long dormant Sith resurface to claim their original glory.', 'reziserji': '\\n                                                <a href=\"/name/nm0000184/?ref_=adv_li_dr_0\">George Lucas</a>\\n                                                ', 'glasovi': '756875'}"
     ]
    },
    {
     "name": "stdout",
     "output_type": "stream",
     "text": [
      "\n",
      "{'id': '0121766', 'naslov': 'Star Wars: Episode III - Revenge of the Sith', 'leto': '2005', 'dolzina': '140', 'zanri': '\\n                                                Action, Adventure, Fantasy            ', 'ocena': '7.5', 'opis': '\\n                                            Three years into the Clone Wars, the Jedi rescue Palpatine from Count Dooku. As Obi-Wan pursues a new threat, Anakin acts as a double agent between the Jedi Council and Palpatine and is lured into a sinister plan to rule the galaxy.', 'reziserji': '\\n                                                <a href=\"/name/nm0000184/?ref_=adv_li_dr_0\">George Lucas</a>\\n                                                ', 'glasovi': '738687'}\n"
     ]
    },
    {
     "name": "stdout",
     "output_type": "stream",
     "text": [
      "{'id': '0121765', 'naslov': 'Star Wars: Episode II - Attack of the Clones', 'leto': '2002', 'dolzina': '142', 'zanri': '\\n                                                Action, Adventure, Fantasy            ', 'ocena': '6.5', 'opis': '\\n                                            Ten years after initially meeting, Anakin Skywalker shares a forbidden romance with Padmé Amidala, while Obi-Wan Kenobi investigates an assassination attempt on the senator and discovers a secret clone army crafted for the Jedi.', 'reziserji': '\\n                                                <a href=\"/name/nm0000184/?ref_=adv_li_dr_0\">George Lucas</a>\\n                                                ', 'glasovi': '666547'}\n"
     ]
    },
    {
     "name": "stdout",
     "output_type": "stream",
     "text": [
      "{'id': '2527336', 'naslov': 'Star Wars: Episode VIII - The Last Jedi', 'leto': '2017', 'dolzina': '152', 'zanri': '\\n                                                Action, Adventure, Fantasy            ', 'ocena': '6.9', 'opis': '\\n                                            The Star Wars saga continues as new heroes and galactic legends go on an epic adventure, unlocking mysteries of the Force and shocking revelations of the past.', 'reziserji': '\\n                                                <a href=\"/name/nm0426059/?ref_=adv_li_dr_0\">Rian Johnson</a>\\n                                                ', 'glasovi': '589564'}\n"
     ]
    }
   ],
   "source": [
    "for blok in vzorec_bloka.finditer(html):\n",
    "    film = vzorec_filma.search(blok.group(0)).groupdict()\n",
    "    if 'Star Wars' in film['naslov']:\n",
    "      print(film)"
   ]
  },
  {
   "cell_type": "markdown",
   "id": "d7d185c6",
   "metadata": {},
   "source": [
    "Nekateri izmed manj znanih filmov nimajo vseh podatkov o zaslužku ali oznakah ustreznosti. To bi lahko rešili tako, da bi del vzorca, ki zajema te podatke zapisali v obliki `(...)?`, vendar vsaka taka možnost povečuje zapletenost regularnega izraza in čas iskanja. Namesto tega lahko neobvezne podatke izločimo z dodatno analizo bloka. Na primer, zaslužek najdemo z vzorcem"
   ]
  },
  {
   "cell_type": "code",
   "execution_count": 67,
   "id": "e6c77116",
   "metadata": {},
   "outputs": [],
   "source": [
    "vzorec_zasluzka = re.compile(\n",
    "    r'Gross:.*?data-value=\"(?P<zasluzek>(\\d|,)+)\"',\n",
    "    flags=re.DOTALL\n",
    ")"
   ]
  },
  {
   "cell_type": "markdown",
   "id": "c67eab96",
   "metadata": {},
   "source": [
    "Nato pa ta vzorec poskusimo najti v vsakem bloku. Če je, ga pretvorimo v število, sicer pa ga nastavimo na `None`:"
   ]
  },
  {
   "cell_type": "code",
   "execution_count": 68,
   "id": "61d7ca57",
   "metadata": {},
   "outputs": [],
   "source": [
    "zasluzek = vzorec_zasluzka.search(blok.group(0))\n",
    "if zasluzek:\n",
    "    film['zasluzek'] = int(zasluzek['zasluzek'].replace(',', ''))\n",
    "else:\n",
    "    film['zasluzek'] = None"
   ]
  },
  {
   "cell_type": "markdown",
   "id": "f2ae8780",
   "metadata": {},
   "source": [
    "Podobno moramo počistiti tudi večino ostalih podatkov. Na primer, žanri se skrivajo v znački `<span class=\"genre\">...</span>`, vendar znotraj značke ni nobene strukture, samo niz, ločen z vejicami. Tako bomo žanre počistili z:\n",
    "\n",
    "```\n",
    "film['zanri'] = film['zanri'].strip().split(', ')\n",
    "```\n",
    "\n",
    "Pri igralcih in režiserjih je zadeva še bolj zapletena, ker ima vsak izmed njih še svojo šifro osebe, pa tudi zanima nas, na katerem mestu je kdo napisan (glavne vloge so na začetku, stranske pa kasneje). Tudi tu najprej zajamemo del vsebine, kjer so podatki o igralcih, nato pa znotraj tega dela z manjšim vzorcem izluščimo podatke.\n",
    "\n",
    "## Knjižnica Beautiful Soup\n",
    "\n",
    "Kot smo omenili, regularni izrazi nujno najboljše orodje za analizo spletnih strani, saj delujejo na nivoju znakov, HTML pa ima bogatejšo strukturo gnezdenih značk z atributi. No, vsaj v teoriji. V praksi pa dostikrat ni tako, saj so ljudje pri pisanju HTMLja površni, saj značk ne zaključujejo ali jih neustrezno gnezdijo, na primer `<strong>Krepko in <em>ležeče</strong></em>`. Tako v šali rečemo, da HTML lahko predstavimo z juho, v kateri plavajo značke. In po tej juhi se imenuje tudi knjižnica za analizo HTMLja [Beautiful Soup](https://www.crummy.com/software/). Knjižnico moramo tako kot `requests` najprej namestiti, uvozimo z ukazom:"
   ]
  },
  {
   "cell_type": "code",
   "execution_count": 69,
   "id": "a683dc52",
   "metadata": {},
   "outputs": [],
   "source": [
    "import bs4"
   ]
  },
  {
   "cell_type": "markdown",
   "id": "fe5d761f",
   "metadata": {},
   "source": [
    "HTML pa pretvorimo v ustrezen objekt z:"
   ]
  },
  {
   "cell_type": "code",
   "execution_count": 70,
   "id": "92f1e09e",
   "metadata": {},
   "outputs": [],
   "source": [
    "juha = bs4.BeautifulSoup(html, 'html.parser')"
   ]
  },
  {
   "cell_type": "markdown",
   "id": "5ed8e5e2",
   "metadata": {},
   "source": [
    "Na objektu imamo na voljo več metod. Naštejmo štiri, ki jih bomo potrebovali v našem primeru:\n",
    "\n",
    "- `find_all`, ki najde vse potomce, ki zadoščajo danim lastnostim,\n",
    "- `get`, ki vrne vrednost danega atributa,\n",
    "- `string`, ki vrne vsebino značke in\n",
    "- `find_next_sibling`, ki vrne naslednjega sorojenca.\n",
    "\n",
    "S pomočjo njih bi lahko osnovne podatke o filmih prebrali tako, da najprej najdemo vse značke `<a>`, katerih atribut `href` se konča s `?ref_=adv_li_tt`. Iz povezave lahko izluščimo šifro, iz značke, ki ji sledi, pa še naslov in leto izida. Za vse tri moramo uporabiti regularne izraze, saj na neki točki vseeno zmanjka HTML strukture in moramo iskati po nizih."
   ]
  },
  {
   "cell_type": "code",
   "execution_count": 71,
   "id": "8ee60977",
   "metadata": {},
   "outputs": [
    {
     "name": "stdout",
     "output_type": "stream",
     "text": [
      "{'id': 111161, 'naslov': 'The Shawshank Redemption', 'leto': 1994}\n",
      "{'id': 468569, 'naslov': 'The Dark Knight', 'leto': 2008}\n",
      "{'id': 1375666, 'naslov': 'Inception', 'leto': 2010}\n",
      "{'id': 137523, 'naslov': 'Fight Club', 'leto': 1999}\n",
      "{'id': 110912, 'naslov': 'Pulp Fiction', 'leto': 1994}\n",
      "{'id': 109830, 'naslov': 'Forrest Gump', 'leto': 1994}\n",
      "{'id': 133093, 'naslov': 'The Matrix', 'leto': 1999}\n",
      "{'id': 120737, 'naslov': 'The Lord of the Rings: The Fellowship of the Ring', 'leto': 2001}\n",
      "{'id': 167260, 'naslov': 'The Lord of the Rings: The Return of the King', 'leto': 2003}\n",
      "{'id': 68646, 'naslov': 'The Godfather', 'leto': 1972}\n",
      "{'id': 816692, 'naslov': 'Interstellar', 'leto': 2014}\n",
      "{'id': 1345836, 'naslov': 'The Dark Knight Rises', 'leto': 2012}\n",
      "{'id': 167261, 'naslov': 'The Lord of the Rings: The Two Towers', 'leto': 2002}\n",
      "{'id': 114369, 'naslov': 'Seven', 'leto': 1995}\n",
      "{'id': 1853728, 'naslov': 'Django Unchained', 'leto': 2012}\n",
      "{'id': 172495, 'naslov': 'Gladiator', 'leto': 2000}\n",
      "{'id': 372784, 'naslov': 'Batman Begins', 'leto': 2005}\n",
      "{'id': 361748, 'naslov': 'Inglourious Basterds', 'leto': 2009}\n",
      "{'id': 102926, 'naslov': 'The Silence of the Lambs', 'leto': 1991}\n",
      "{'id': 848228, 'naslov': 'Avengers Assemble', 'leto': 2012}\n",
      "{'id': 120815, 'naslov': 'Saving Private Ryan', 'leto': 1998}\n",
      "{'id': 76759, 'naslov': 'Star Wars: Episode IV - A New Hope', 'leto': 1977}\n",
      "{'id': 108052, 'naslov': \"Schindler's List\", 'leto': 1993}\n",
      "{'id': 993846, 'naslov': 'The Wolf of Wall Street', 'leto': 2013}\n",
      "{'id': 482571, 'naslov': 'The Prestige', 'leto': 2006}\n",
      "{'id': 407887, 'naslov': 'The Departed', 'leto': 2006}\n",
      "{'id': 80684, 'naslov': 'Star Wars: Episode V - The Empire Strikes Back', 'leto': 1980}\n",
      "{'id': 120689, 'naslov': 'The Green Mile', 'leto': 1999}\n",
      "{'id': 1130884, 'naslov': 'Shutter Island', 'leto': 2010}\n",
      "{'id': 71562, 'naslov': 'The Godfather: Part II', 'leto': 1974}\n",
      "{'id': 209144, 'naslov': 'Memento', 'leto': 2000}\n",
      "{'id': 499549, 'naslov': 'Avatar', 'leto': 2009}\n",
      "{'id': 88763, 'naslov': 'Back to the Future', 'leto': 1985}\n",
      "{'id': 169547, 'naslov': 'American Beauty', 'leto': 1999}\n",
      "{'id': 2015381, 'naslov': 'Guardians of the Galaxy', 'leto': 2014}\n",
      "{'id': 120338, 'naslov': 'Titanic', 'leto': 1997}\n",
      "{'id': 110413, 'naslov': 'Leon', 'leto': 1994}\n",
      "{'id': 99685, 'naslov': 'Goodfellas', 'leto': 1990}\n",
      "{'id': 7286456, 'naslov': 'Joker', 'leto': 2019}\n",
      "{'id': 120586, 'naslov': 'American History X', 'leto': 1998}\n",
      "{'id': 434409, 'naslov': 'V for Vendetta', 'leto': 2005}\n",
      "{'id': 266697, 'naslov': 'Kill Bill: Vol. 1', 'leto': 2003}\n",
      "{'id': 325980, 'naslov': 'Pirates of the Caribbean: The Curse of the Black Pearl', 'leto': 2003}\n",
      "{'id': 910970, 'naslov': 'WALL·E', 'leto': 2008}\n",
      "{'id': 103064, 'naslov': 'Terminator 2: Judgment Day', 'leto': 1991}\n",
      "{'id': 114814, 'naslov': 'The Usual Suspects', 'leto': 1995}\n",
      "{'id': 120382, 'naslov': 'The Truman Show', 'leto': 1998}\n",
      "{'id': 112573, 'naslov': 'Braveheart', 'leto': 1995}\n",
      "{'id': 86190, 'naslov': 'Star Wars: Return of the Jedi', 'leto': 1983}\n",
      "{'id': 110357, 'naslov': 'The Lion King', 'leto': 1994}\n",
      "{'id': 371746, 'naslov': 'Iron Man', 'leto': 2008}\n",
      "{'id': 266543, 'naslov': 'Finding Nemo', 'leto': 2003}\n",
      "{'id': 1049413, 'naslov': 'Up', 'leto': 2009}\n",
      "{'id': 105236, 'naslov': 'Reservoir Dogs', 'leto': 1992}\n",
      "{'id': 73486, 'naslov': \"One Flew Over the Cuckoo's Nest\", 'leto': 1975}\n",
      "{'id': 1431045, 'naslov': 'Deadpool', 'leto': 2016}\n",
      "{'id': 338013, 'naslov': 'Eternal Sunshine of the Spotless Mind', 'leto': 2004}\n",
      "{'id': 81505, 'naslov': 'The Shining', 'leto': 1980}\n",
      "{'id': 4154796, 'naslov': 'Avengers: Endgame', 'leto': 2019}\n",
      "{'id': 167404, 'naslov': 'The Sixth Sense', 'leto': 1999}\n",
      "{'id': 1392190, 'naslov': 'Mad Max: Fury Road', 'leto': 2015}\n",
      "{'id': 114709, 'naslov': 'Toy Story', 'leto': 1995}\n",
      "{'id': 4154756, 'naslov': 'Avengers: Infinity War', 'leto': 2018}\n",
      "{'id': 82971, 'naslov': 'Raiders of the Lost Ark', 'leto': 1981}\n",
      "{'id': 2267998, 'naslov': 'Gone Girl', 'leto': 2014}\n",
      "{'id': 107290, 'naslov': 'Jurassic Park', 'leto': 1993}\n",
      "{'id': 477348, 'naslov': 'No Country for Old Men', 'leto': 2007}\n",
      "{'id': 119217, 'naslov': 'Good Will Hunting', 'leto': 1997}\n",
      "{'id': 264464, 'naslov': 'Catch Me If You Can', 'leto': 2002}\n",
      "{'id': 2488496, 'naslov': 'Star Wars: Episode VII - The Force Awakens', 'leto': 2015}\n",
      "{'id': 268978, 'naslov': 'A Beautiful Mind', 'leto': 2001}\n",
      "{'id': 1392170, 'naslov': 'The Hunger Games', 'leto': 2012}\n",
      "{'id': 198781, 'naslov': 'Monsters, Inc.', 'leto': 2001}\n",
      "{'id': 78748, 'naslov': 'Alien', 'leto': 1979}\n",
      "{'id': 95016, 'naslov': 'Die Hard', 'leto': 1988}\n",
      "{'id': 88247, 'naslov': 'The Terminator', 'leto': 1984}\n",
      "{'id': 1010048, 'naslov': 'Slumdog Millionaire', 'leto': 2008}\n",
      "{'id': 208092, 'naslov': 'Snatch', 'leto': 2000}\n",
      "{'id': 1201607, 'naslov': 'Harry Potter and the Deathly Hallows: Part 2', 'leto': 2011}\n",
      "{'id': 1675434, 'naslov': 'Untouchable', 'leto': 2011}\n",
      "{'id': 180093, 'naslov': 'Requiem for a Dream', 'leto': 2000}\n",
      "{'id': 3659388, 'naslov': 'The Martian', 'leto': 2015}\n",
      "{'id': 2395427, 'naslov': 'Avengers: Age of Ultron', 'leto': 2015}\n",
      "{'id': 1300854, 'naslov': 'Iron Man 3', 'leto': 2013}\n",
      "{'id': 1454468, 'naslov': 'Gravity', 'leto': 2013}\n",
      "{'id': 435761, 'naslov': 'Toy Story 3', 'leto': 2010}\n",
      "{'id': 66921, 'naslov': 'A Clockwork Orange', 'leto': 1971}\n",
      "{'id': 800369, 'naslov': 'Thor', 'leto': 2011}\n",
      "{'id': 458339, 'naslov': 'Captain America: The First Avenger', 'leto': 2011}\n",
      "{'id': 903624, 'naslov': 'The Hobbit: An Unexpected Journey', 'leto': 2012}\n",
      "{'id': 86250, 'naslov': 'Scarface', 'leto': 1983}\n",
      "{'id': 1843866, 'naslov': 'Captain America: The Winter Soldier', 'leto': 2014}\n",
      "{'id': 253474, 'naslov': 'The Pianist', 'leto': 2002}\n",
      "{'id': 118715, 'naslov': 'The Big Lebowski', 'leto': 1998}\n",
      "{'id': 2582802, 'naslov': 'Whiplash', 'leto': 2014}\n",
      "{'id': 246578, 'naslov': 'Donnie Darko', 'leto': 2001}\n",
      "{'id': 75314, 'naslov': 'Taxi Driver', 'leto': 1976}\n",
      "{'id': 1228705, 'naslov': 'Iron Man 2', 'leto': 2010}\n",
      "{'id': 416449, 'naslov': '300', 'leto': 2006}\n",
      "{'id': 120915, 'naslov': 'Star Wars: Episode I - The Phantom Menace', 'leto': 1999}\n",
      "{'id': 401792, 'naslov': 'Sin City', 'leto': 2005}\n",
      "{'id': 2278388, 'naslov': 'The Grand Budapest Hotel', 'leto': 2014}\n",
      "{'id': 1119646, 'naslov': 'The Hangover', 'leto': 2009}\n",
      "{'id': 1663202, 'naslov': 'The Revenant', 'leto': 2015}\n",
      "{'id': 1205489, 'naslov': 'Gran Torino', 'leto': 2008}\n",
      "{'id': 121766, 'naslov': 'Star Wars: Episode III - Revenge of the Sith', 'leto': 2005}\n",
      "{'id': 50083, 'naslov': '12 Angry Men', 'leto': 1957}\n",
      "{'id': 770828, 'naslov': 'Man of Steel', 'leto': 2013}\n",
      "{'id': 145487, 'naslov': 'Spider-Man', 'leto': 2002}\n",
      "{'id': 211915, 'naslov': 'Amélie', 'leto': 2001}\n",
      "{'id': 947798, 'naslov': 'Black Swan', 'leto': 2010}\n",
      "{'id': 83658, 'naslov': 'Blade Runner', 'leto': 1982}\n",
      "{'id': 317248, 'naslov': 'City of God', 'leto': 2002}\n",
      "{'id': 60196, 'naslov': 'The Good, the Bad and the Ugly', 'leto': 1966}\n",
      "{'id': 2084970, 'naslov': 'The Imitation Game', 'leto': 2014}\n",
      "{'id': 97576, 'naslov': 'Indiana Jones and the Last Crusade', 'leto': 1989}\n",
      "{'id': 378194, 'naslov': 'Kill Bill: Vol. 2', 'leto': 2004}\n",
      "{'id': 480249, 'naslov': 'I Am Legend', 'leto': 2007}\n",
      "{'id': 3498820, 'naslov': 'Captain America: Civil War', 'leto': 2016}\n",
      "{'id': 93058, 'naslov': 'Full Metal Jacket', 'leto': 1987}\n",
      "{'id': 241527, 'naslov': \"Harry Potter and the Philosopher's Stone\", 'leto': 2001}\n",
      "{'id': 245429, 'naslov': 'Spirited Away', 'leto': 2001}\n",
      "{'id': 892769, 'naslov': 'How to Train Your Dragon', 'leto': 2010}\n",
      "{'id': 3315342, 'naslov': 'Logan', 'leto': 2017}\n",
      "{'id': 317705, 'naslov': 'The Incredibles', 'leto': 2004}\n",
      "{'id': 1045658, 'naslov': 'Silver Linings Playbook', 'leto': 2012}\n",
      "{'id': 1877832, 'naslov': 'X-Men: Days of Future Past', 'leto': 2014}\n",
      "{'id': 90605, 'naslov': 'Aliens', 'leto': 1986}\n",
      "{'id': 1825683, 'naslov': 'Black Panther', 'leto': 2018}\n",
      "{'id': 383574, 'naslov': \"Pirates of the Caribbean: Dead Man's Chest\", 'leto': 2006}\n",
      "{'id': 382932, 'naslov': 'Ratatouille', 'leto': 2007}\n",
      "{'id': 121765, 'naslov': 'Star Wars: Episode II - Attack of the Clones', 'leto': 2002}\n",
      "{'id': 2024544, 'naslov': '12 Years a Slave', 'leto': 2013}\n",
      "{'id': 2975590, 'naslov': 'Batman v Superman: Dawn of Justice', 'leto': 2016}\n",
      "{'id': 6751668, 'naslov': 'Parasite', 'leto': 2019}\n",
      "{'id': 1270798, 'naslov': 'X-Men: First Class', 'leto': 2011}\n",
      "{'id': 405159, 'naslov': 'Million Dollar Baby', 'leto': 2004}\n",
      "{'id': 1504320, 'naslov': \"The King's Speech\", 'leto': 2010}\n",
      "{'id': 117951, 'naslov': 'Trainspotting', 'leto': 1996}\n",
      "{'id': 1136608, 'naslov': 'District 9', 'leto': 2009}\n",
      "{'id': 1285016, 'naslov': 'The Social Network', 'leto': 2010}\n",
      "{'id': 2096673, 'naslov': 'Inside Out', 'leto': 2015}\n",
      "{'id': 118799, 'naslov': 'Life Is Beautiful', 'leto': 1997}\n",
      "{'id': 1386697, 'naslov': 'Suicide Squad', 'leto': 2016}\n",
      "{'id': 1074638, 'naslov': 'Skyfall', 'leto': 2012}\n",
      "{'id': 3501632, 'naslov': 'Thor: Ragnarok', 'leto': 2017}\n",
      "{'id': 1211837, 'naslov': 'Doctor Strange', 'leto': 2016}\n",
      "{'id': 116282, 'naslov': 'Fargo', 'leto': 1996}\n",
      "{'id': 7131622, 'naslov': 'Once Upon a Time... In Hollywood', 'leto': 2019}\n",
      "{'id': 457430, 'naslov': \"Pan's Labyrinth\", 'leto': 2006}\n",
      "{'id': 126029, 'naslov': 'Shrek', 'leto': 2001}\n",
      "{'id': 1392214, 'naslov': 'Prisoners', 'leto': 2013}\n",
      "{'id': 2543164, 'naslov': 'Arrival', 'leto': 2016}\n",
      "{'id': 1951264, 'naslov': 'The Hunger Games: Catching Fire', 'leto': 2013}\n",
      "{'id': 1631867, 'naslov': 'Edge of Tomorrow', 'leto': 2014}\n",
      "{'id': 54215, 'naslov': 'Psycho', 'leto': 1960}\n",
      "{'id': 62622, 'naslov': '2001: A Space Odyssey', 'leto': 1968}\n",
      "{'id': 78788, 'naslov': 'Apocalypse Now', 'leto': 1979}\n",
      "{'id': 1981115, 'naslov': 'Thor: The Dark World', 'leto': 2013}\n",
      "{'id': 816711, 'naslov': 'World War Z', 'leto': 2013}\n",
      "{'id': 1170358, 'naslov': 'The Hobbit: The Desolation of Smaug', 'leto': 2013}\n",
      "{'id': 1670345, 'naslov': 'Now You See Me', 'leto': 2013}\n",
      "{'id': 2802144, 'naslov': 'Kingsman: The Secret Service', 'leto': 2014}\n",
      "{'id': 440963, 'naslov': 'The Bourne Ultimatum', 'leto': 2007}\n",
      "{'id': 449088, 'naslov': \"Pirates of the Caribbean: At World's End\", 'leto': 2007}\n",
      "{'id': 421715, 'naslov': 'The Curious Case of Benjamin Button', 'leto': 2008}\n",
      "{'id': 418279, 'naslov': 'Transformers', 'leto': 2007}\n",
      "{'id': 3896198, 'naslov': 'Guardians of the Galaxy: Vol. 2', 'leto': 2017}\n",
      "{'id': 451279, 'naslov': 'Wonder Woman', 'leto': 2017}\n",
      "{'id': 478970, 'naslov': 'Ant-Man', 'leto': 2015}\n",
      "{'id': 113277, 'naslov': 'Heat', 'leto': 1995}\n",
      "{'id': 381061, 'naslov': 'Casino Royale', 'leto': 2006}\n",
      "{'id': 988045, 'naslov': 'Sherlock Holmes', 'leto': 2009}\n",
      "{'id': 369610, 'naslov': 'Jurassic World', 'leto': 2015}\n",
      "{'id': 2562232, 'naslov': 'Birdman or (The Unexpected Virtue of Ignorance)', 'leto': 2014}\n",
      "{'id': 454876, 'naslov': 'Life of Pi', 'leto': 2012}\n",
      "{'id': 5013056, 'naslov': 'Dunkirk', 'leto': 2017}\n",
      "{'id': 114746, 'naslov': 'Twelve Monkeys', 'leto': 1995}\n",
      "{'id': 107048, 'naslov': 'Groundhog Day', 'leto': 1993}\n",
      "{'id': 780504, 'naslov': 'Drive', 'leto': 2011}\n",
      "{'id': 758758, 'naslov': 'Into the Wild', 'leto': 2007}\n",
      "{'id': 2294629, 'naslov': 'Frozen', 'leto': 2013}\n",
      "{'id': 1024648, 'naslov': 'Argo', 'leto': 2012}\n",
      "{'id': 796366, 'naslov': 'Star Trek', 'leto': 2009}\n",
      "{'id': 2527336, 'naslov': 'Star Wars: Episode VIII - The Last Jedi', 'leto': 2017}\n",
      "{'id': 120903, 'naslov': 'X-Men', 'leto': 2000}\n",
      "{'id': 1637725, 'naslov': 'Ted', 'leto': 2012}\n",
      "{'id': 1446714, 'naslov': 'Prometheus', 'leto': 2012}\n",
      "{'id': 295297, 'naslov': 'Harry Potter and the Chamber of Secrets', 'leto': 2002}\n",
      "{'id': 948470, 'naslov': 'The Amazing Spider-Man', 'leto': 2012}\n",
      "{'id': 304141, 'naslov': 'Harry Potter and the Prisoner of Azkaban', 'leto': 2004}\n",
      "{'id': 3748528, 'naslov': 'Rogue One', 'leto': 2016}\n",
      "{'id': 936501, 'naslov': 'Taken', 'leto': 2008}\n",
      "{'id': 2911666, 'naslov': 'John Wick', 'leto': 2014}\n",
      "{'id': 316654, 'naslov': 'Spider-Man 2', 'leto': 2004}\n",
      "{'id': 330373, 'naslov': 'Harry Potter and the Goblet of Fire', 'leto': 2005}\n",
      "{'id': 1798709, 'naslov': 'Her', 'leto': 2013}\n",
      "{'id': 73195, 'naslov': 'Jaws', 'leto': 1975}\n",
      "{'id': 2250912, 'naslov': 'Spider-Man: Homecoming', 'leto': 2017}\n",
      "{'id': 120735, 'naslov': 'Lock, Stock and Two Smoking Barrels', 'leto': 1998}\n",
      "{'id': 162222, 'naslov': 'Cast Away', 'leto': 2000}\n",
      "{'id': 119488, 'naslov': 'L.A. Confidential', 'leto': 1997}\n",
      "{'id': 3460252, 'naslov': 'The Hateful Eight', 'leto': 2015}\n",
      "{'id': 1276104, 'naslov': 'Looper', 'leto': 2012}\n",
      "{'id': 116629, 'naslov': 'Independence Day', 'leto': 1996}\n",
      "{'id': 120363, 'naslov': 'Toy Story 2', 'leto': 1999}\n",
      "{'id': 469494, 'naslov': 'There Will Be Blood', 'leto': 2007}\n",
      "{'id': 1219289, 'naslov': 'Limitless', 'leto': 2011}\n",
      "{'id': 829482, 'naslov': 'Superbad', 'leto': 2007}\n",
      "{'id': 34583, 'naslov': 'Casablanca', 'leto': 1942}\n",
      "{'id': 234215, 'naslov': 'The Matrix Reloaded', 'leto': 2003}\n",
      "{'id': 1156398, 'naslov': 'Zombieland', 'leto': 2009}\n",
      "{'id': 364569, 'naslov': 'Oldboy', 'leto': 2003}\n",
      "{'id': 332280, 'naslov': 'The Notebook', 'leto': 2004}\n",
      "{'id': 1250777, 'naslov': 'Kick-Ass', 'leto': 2010}\n",
      "{'id': 75148, 'naslov': 'Rocky', 'leto': 1976}\n",
      "{'id': 240772, 'naslov': \"Ocean's Eleven\", 'leto': 2001}\n",
      "{'id': 3783958, 'naslov': 'La La Land', 'leto': 2016}\n",
      "{'id': 119654, 'naslov': 'Men in Black', 'leto': 1997}\n",
      "{'id': 373889, 'naslov': 'Harry Potter and the Order of the Phoenix', 'leto': 2007}\n",
      "{'id': 8946378, 'naslov': 'Knives Out', 'leto': 2019}\n",
      "{'id': 5052448, 'naslov': 'Get Out', 'leto': 2017}\n",
      "{'id': 365748, 'naslov': 'Shaun of the Dead', 'leto': 2004}\n",
      "{'id': 290334, 'naslov': 'X-Men 2', 'leto': 2003}\n",
      "{'id': 1232829, 'naslov': '21 Jump Street', 'leto': 2012}\n",
      "{'id': 181689, 'naslov': 'Minority Report', 'leto': 2002}\n",
      "{'id': 144084, 'naslov': 'American Psycho', 'leto': 2000}\n",
      "{'id': 409459, 'naslov': 'Watchmen', 'leto': 2009}\n",
      "{'id': 413300, 'naslov': 'Spider-Man 3', 'leto': 2007}\n",
      "{'id': 258463, 'naslov': 'The Bourne Identity', 'leto': 2002}\n",
      "{'id': 450259, 'naslov': 'Blood Diamond', 'leto': 2006}\n",
      "{'id': 5463162, 'naslov': 'Deadpool 2', 'leto': 2018}\n",
      "{'id': 71853, 'naslov': 'Monty Python and the Holy Grail', 'leto': 1975}\n",
      "{'id': 1323594, 'naslov': 'Despicable Me', 'leto': 2010}\n",
      "{'id': 343818, 'naslov': 'I, Robot', 'leto': 2004}\n",
      "{'id': 1318514, 'naslov': 'Rise of the Planet of the Apes', 'leto': 2011}\n",
      "{'id': 99785, 'naslov': 'Home Alone', 'leto': 1990}\n",
      "{'id': 332452, 'naslov': 'Troy', 'leto': 2004}\n",
      "{'id': 1343092, 'naslov': 'The Great Gatsby', 'leto': 2013}\n",
      "{'id': 926084, 'naslov': 'Harry Potter and the Deathly Hallows: Part 1', 'leto': 2010}\n",
      "{'id': 467406, 'naslov': 'Juno', 'leto': 2007}\n",
      "{'id': 470752, 'naslov': 'Ex Machina', 'leto': 2014}\n",
      "{'id': 96874, 'naslov': 'Back to the Future Part II', 'leto': 1989}\n",
      "{'id': 1483013, 'naslov': 'Oblivion', 'leto': 2013}\n",
      "{'id': 945513, 'naslov': 'Source Code', 'leto': 2011}\n",
      "{'id': 417741, 'naslov': 'Harry Potter and the Half-Blood Prince', 'leto': 2009}\n",
      "{'id': 1856101, 'naslov': 'Blade Runner 2049', 'leto': 2017}\n",
      "{'id': 1298650, 'naslov': 'Pirates of the Caribbean: On Stranger Tides', 'leto': 2011}\n",
      "{'id': 443706, 'naslov': 'Zodiac', 'leto': 2007}\n",
      "{'id': 376994, 'naslov': 'X-Men: The Last Stand', 'leto': 2006}\n"
     ]
    }
   ],
   "source": [
    "for povezava in juha.find_all('a'):\n",
    "    url = povezava.get('href')\n",
    "    if url and url.endswith('?ref_=adv_li_tt'):\n",
    "        naslov = povezava.string\n",
    "        id = int(re.search('\\d{7}', url).group(0))\n",
    "        znacka_z_letom = povezava.find_next_sibling()\n",
    "        niz_z_letom = znacka_z_letom.string\n",
    "        vzorec_leta = r'(\\([IVXLCDM]+\\) )?\\((?P<leto>.*?)\\)'\n",
    "        leto = int(re.fullmatch(vzorec_leta, niz_z_letom).group('leto'))\n",
    "        print({'id': id, 'naslov': naslov, 'leto': leto})"
   ]
  }
 ],
 "metadata": {
  "jupytext": {
   "cell_metadata_filter": "-all",
   "formats": "md:myst",
   "text_representation": {
    "extension": ".md",
    "format_name": "myst",
    "format_version": "0.8",
    "jupytext_version": "1.5.0"
   }
  },
  "kernelspec": {
   "display_name": "Python 3",
   "language": "python",
   "name": "python3"
  },
  "language_info": {
   "codemirror_mode": {
    "name": "ipython",
    "version": 3
   },
   "file_extension": ".py",
   "mimetype": "text/x-python",
   "name": "python",
   "nbconvert_exporter": "python",
   "pygments_lexer": "ipython3",
   "version": "3.10.13"
  },
  "source_map": [
   14,
   24,
   29,
   33,
   45,
   47,
   51,
   60,
   62,
   66,
   68,
   72,
   86,
   90,
   92,
   100,
   103,
   107,
   109,
   113,
   119,
   121,
   129,
   133,
   135,
   139,
   141,
   145,
   147,
   153,
   157,
   161,
   163,
   167,
   171,
   175,
   177,
   181,
   183,
   187,
   189,
   193,
   197,
   199,
   203,
   205,
   211,
   213,
   217,
   219,
   223,
   227,
   229,
   233,
   237,
   239,
   243,
   245,
   251,
   255,
   259,
   261,
   267,
   269,
   273,
   278,
   282,
   285,
   289,
   298,
   302,
   304,
   312,
   316,
   318,
   322,
   326,
   328,
   332,
   336,
   338,
   342,
   344,
   348,
   350,
   354,
   356,
   360,
   366,
   368,
   372,
   376,
   378,
   382,
   386,
   388,
   392,
   394,
   398,
   401,
   407,
   411,
   415,
   419,
   435,
   439,
   445,
   449,
   454,
   458,
   463,
   467,
   473,
   487,
   489,
   493,
   495,
   506
  ]
 },
 "nbformat": 4,
 "nbformat_minor": 5
}