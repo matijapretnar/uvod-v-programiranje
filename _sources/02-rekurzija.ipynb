{
 "cells": [
  {
   "cell_type": "markdown",
   "id": "8ff7543f",
   "metadata": {},
   "source": [
    "# Rekurzija\n",
    "\n",
    "Videli smo, da probleme rešujemo s prevajanjem na manjše, dokler ne pridemo do čisto osnovnih. Na primer, površino tetraedra izračunamo iz ploščin trikotnikov, te pa lahko prevedemo na vgrajene aritmetične operacije.\n",
    "\n",
    "Dostikrat pa bodo manjši problemi iste oblike kot prvotni problem. Poglejmo, kako bi izračunali $n! = n \\cdot (n - 1) \\dots 3 \\cdot 2 \\cdot 1$. Kot vidimo velja $n! = n \\cdot (n - 1)!$, zato bomo $n!$ izračunali tako, da bomo $n$ pomnožili z $(n - 1)!$. Toda od kod bomo dobili tega? Preprosto, $n - 1$ bomo pomnožili z $(n - 2)!$. Od kod pa tega? Ja iz $(n - 3)!$. In tako naprej vse do $2!$, ki ga bomo dobili iz $1!$, tega pa iz $0!$, ki je po definiciji enak $1$. Torej lahko funkcijo, ki računa fakulteto, napišemo tako, da najprej pogleda svoj argument `n`. Če je enak 1, vrne 1, sicer pa `n` pomnožimo z rezultatom klica `fakulteta(n - 1)`:"
   ]
  },
  {
   "cell_type": "code",
   "execution_count": 1,
   "id": "69baf35f",
   "metadata": {},
   "outputs": [],
   "source": [
    "def fakulteta(n):\n",
    "    if n <= 1:\n",
    "        return 1\n",
    "    else:\n",
    "        return n * fakulteta(n - 1)"
   ]
  },
  {
   "cell_type": "markdown",
   "id": "a510b240",
   "metadata": {},
   "source": [
    "ali s pogojnim izrazom kot:"
   ]
  },
  {
   "cell_type": "code",
   "execution_count": 2,
   "id": "c377f404",
   "metadata": {},
   "outputs": [],
   "source": [
    "def fakulteta(n):\n",
    "    return 1 if n == 0 else n * fakulteta(n - 1)"
   ]
  },
  {
   "cell_type": "code",
   "execution_count": 3,
   "id": "21eed380",
   "metadata": {},
   "outputs": [
    {
     "data": {
      "text/plain": [
       "1"
      ]
     },
     "execution_count": 3,
     "metadata": {},
     "output_type": "execute_result"
    }
   ],
   "source": [
    "fakulteta(1)"
   ]
  },
  {
   "cell_type": "code",
   "execution_count": 4,
   "id": "6080cdd5",
   "metadata": {},
   "outputs": [
    {
     "data": {
      "text/plain": [
       "120"
      ]
     },
     "execution_count": 4,
     "metadata": {},
     "output_type": "execute_result"
    }
   ],
   "source": [
    "fakulteta(5)"
   ]
  },
  {
   "cell_type": "code",
   "execution_count": 5,
   "id": "2daf8dff",
   "metadata": {},
   "outputs": [
    {
     "data": {
      "text/plain": [
       "3628800"
      ]
     },
     "execution_count": 5,
     "metadata": {},
     "output_type": "execute_result"
    }
   ],
   "source": [
    "fakulteta(10)"
   ]
  },
  {
   "cell_type": "markdown",
   "id": "0487382f",
   "metadata": {},
   "source": [
    "Funkcijam, ki so definirane s pomočjo same sebe pravimo, da so _rekurzivne_. Izkaže se, da lahko s pomočjo rekurzije napišemo **čisto vse** izračunljive funkcije na celih številih: ugotovimo lahko, katera števila so praštevila, katera so si prijateljska, katera so popolna, ...\n",
    "\n",
    "Še en primer rekurzivne definicije so Fibonaccijeva števila. Velja $F_0 = 0$, $F_1 = 1$, za vse $n \\ge 2$ pa velja in $F_{n} = F_{n - 1} + F_{n - 2}$. Funkcijo tedaj napišemo podobno na podoben način kot zgornjo: če je `n` enak 0, vrnemo 0, sicer pogledamo, ali je enak 1\\. V tem primeru vrnemo 1\\. Če pa tudi 1 ni enak, mora biti večji ali enak 2, zato se pokličemo rekurzivno."
   ]
  },
  {
   "cell_type": "code",
   "execution_count": 6,
   "id": "62a85429",
   "metadata": {},
   "outputs": [],
   "source": [
    "def fibonacci(n):\n",
    "    if n == 0:\n",
    "        return 0\n",
    "    elif n == 1:\n",
    "        return 1\n",
    "    else:\n",
    "        return fibonacci(n - 1) + fibonacci(n - 2)"
   ]
  },
  {
   "cell_type": "code",
   "execution_count": 7,
   "id": "c78e2125",
   "metadata": {},
   "outputs": [
    {
     "data": {
      "text/plain": [
       "2"
      ]
     },
     "execution_count": 7,
     "metadata": {},
     "output_type": "execute_result"
    }
   ],
   "source": [
    "fibonacci(3)"
   ]
  },
  {
   "cell_type": "code",
   "execution_count": 8,
   "id": "547deffb",
   "metadata": {},
   "outputs": [
    {
     "data": {
      "text/plain": [
       "3"
      ]
     },
     "execution_count": 8,
     "metadata": {},
     "output_type": "execute_result"
    }
   ],
   "source": [
    "fibonacci(4)"
   ]
  },
  {
   "cell_type": "code",
   "execution_count": 9,
   "id": "157184bb",
   "metadata": {},
   "outputs": [
    {
     "data": {
      "text/plain": [
       "5"
      ]
     },
     "execution_count": 9,
     "metadata": {},
     "output_type": "execute_result"
    }
   ],
   "source": [
    "fibonacci(5)"
   ]
  },
  {
   "cell_type": "code",
   "execution_count": 10,
   "id": "44a9ec96",
   "metadata": {},
   "outputs": [
    {
     "data": {
      "text/plain": [
       "6765"
      ]
     },
     "execution_count": 10,
     "metadata": {},
     "output_type": "execute_result"
    }
   ],
   "source": [
    "fibonacci(20)"
   ]
  },
  {
   "cell_type": "markdown",
   "id": "22b29354",
   "metadata": {},
   "source": [
    "Kaj se zgodi, če poskušate izračunati `fibonacci(35)`? Po nekaj časa res dobite pravilen odgovor 9227465, vendar to kaže, da nekaj ni v redu. Težava je, da se pri `fibonacci(35)` funkcija pokliče dvakrat: enkrat na 34 in enkrat na 33\\. Tudi vsak od teh dveh klicev povzroči dva nadaljnja klica in tako naprej, vse dokler ne pridemo do 0 ali 1\\. Bolje bi bilo, če bi jo zastavili malo drugače.\n",
    "\n",
    "Poleg Fibonaccijevega zaporedja, ki se začne s številoma 0 in 1, obstaja tudi splošno Fibonaccijevo zaporedje, ki se začne s poljubnima členoma $a$ in $b$:\n",
    "\n",
    "$$a, b, a + b, b + (a + b) = a + 2 b, (a + b) + (a + 2 b) = 2 a + 3 b, \\ldots$$\n",
    "\n",
    "Vidimo, da je $n$. člen tega zaporedja ravno $n - 1$. člen zaporedja, ki se začne s členoma $b$ in $a + b$. Tedaj lahko definiramo:"
   ]
  },
  {
   "cell_type": "code",
   "execution_count": 11,
   "id": "99538db8",
   "metadata": {},
   "outputs": [],
   "source": [
    "def splosni_fibonacci(n, a=0, b=1):\n",
    "    \"\"\"Vrne n-ti člen zaporedja a, b, a + b, a + 2 b, …\"\"\"\n",
    "    if n == 0:\n",
    "        return a\n",
    "    elif n == 1:\n",
    "        return b\n",
    "    else:\n",
    "        return splosni_fibonacci(n - 1, b, a + b)"
   ]
  },
  {
   "cell_type": "markdown",
   "id": "5519ed7d",
   "metadata": {},
   "source": [
    "Kot lahko sami preizkusimo, ta funkcija deluje veliko hitreje od prejšnje:"
   ]
  },
  {
   "cell_type": "code",
   "execution_count": 12,
   "id": "ccefdf90",
   "metadata": {},
   "outputs": [
    {
     "data": {
      "text/plain": [
       "9227465"
      ]
     },
     "execution_count": 12,
     "metadata": {},
     "output_type": "execute_result"
    }
   ],
   "source": [
    "splosni_fibonacci(35, 0, 1)"
   ]
  },
  {
   "cell_type": "code",
   "execution_count": 13,
   "id": "5aa1dba5",
   "metadata": {},
   "outputs": [
    {
     "data": {
      "text/plain": [
       "92274650"
      ]
     },
     "execution_count": 13,
     "metadata": {},
     "output_type": "execute_result"
    }
   ],
   "source": [
    "splosni_fibonacci(35, 0, 10)"
   ]
  },
  {
   "cell_type": "markdown",
   "id": "4944dab9",
   "metadata": {},
   "source": [
    "Pomembno ni torej samo to, da naš program pravilno izračuna iskani rezultat, temveč tudi to, kako učinkovito ga izračuna.\n",
    "\n",
    "Ker smo argumentoma `a` in `b` v definiciji podali privzeti vrednosti, nam jih pri klicu ni treba podati:"
   ]
  },
  {
   "cell_type": "code",
   "execution_count": 14,
   "id": "43598eb7",
   "metadata": {},
   "outputs": [
    {
     "data": {
      "text/plain": [
       "9227465"
      ]
     },
     "execution_count": 14,
     "metadata": {},
     "output_type": "execute_result"
    }
   ],
   "source": [
    "splosni_fibonacci(35)"
   ]
  },
  {
   "cell_type": "markdown",
   "id": "34eb3f47",
   "metadata": {},
   "source": [
    "## Evklidov algoritem\n",
    "\n",
    "Algoritem je zaporedje korakov, s katerimi dobimo iskani rezultat. Načeloma lahko pod besedo algoritem razumemo tudi zaporedje korakov, s katerimi si skuhamo jajca (vzemi posodo; odpri pipo; postavi posodo pod pipo; ko je posoda dovolj polna, zapri pipo; ...), ampak mi si jo bomo prihranili za postopke, s katerimi izračunamo želene vrednosti.\n",
    "\n",
    "Za prvi algoritem se spodobi, da si pogledamo najstarejši znani algoritem in sicer Evklidov algoritem za iskanje največjega skupnega delitelja dveh števil. Naj bo $d$ največji skupni delitelj števil $m$ in $n$. Pišimo $m = k \\cdot n + o$, kjer je $0 \\le o < n$. Torej: $o$ je ostanek pri deljenju števila $m$ z $n$. Ker e $d$ deli $n$, deli tudi $k \\cdot n$. Poleg tega $d$ deli tudi $m$, zato deli tudi $o = m - k \\cdot n$. Velja tudi obratno, če $d$ deli $n$ in $o$, potem deli tudi $m = k \\cdot n + o$.\n",
    "\n",
    "Zato lahko iskanje največjega skupnega delitelja števil $m$ in $n$ prevedemo na iskanje največjega skupnega delitelja števil $n$ in $o$. Videti je, kot da se vrtimo v krogu, vendar se ne. Poglejmo, kaj se zgodi:\n",
    "\n",
    "1. Največji skupni delitelj števil $456$ in $123$ je enak največjemu skupnemu delitelju števil $123$ in $456 - 3 \\cdot 123 = 87$.\n",
    "2. Največji skupni delitelj števil $123$ in $87$ je enak največjemu skupnemu delitelju števil $87$ in $123 - 1 \\cdot 87 = 36$.\n",
    "3. Največji skupni delitelj števil $87$ in $36$ je enak največjemu skupnemu delitelju števil $36$ in $123 - 2 \\cdot 36 = 15$.\n",
    "4. Največji skupni delitelj števil $36$ in $15$ je enak največjemu skupnemu delitelju števil $15$ in $36 - 2 \\cdot 15 = 6$.\n",
    "5. Največji skupni delitelj števil $15$ in $6$ je enak največjemu skupnemu delitelju števil $6$ in $15 - 2 \\cdot 6 = 3$.\n",
    "6. Največji skupni delitelj števil $6$ in $3$ je enak največjemu skupnemu delitelju števil $3$ in $6 - 2 \\cdot 3 = 0$.\n",
    "\n",
    "Postopka ne moremo več nadaljevati, ker ne moremo deliti z nič. Kaj pa je največji skupni delitelj števil 3 in 0? Ja, 3 vendar. Torej, ko je drugo število enako 0, je prvo število ravno njun največji skupni delitelj, po vseh prejšnjih sklepih pa tudi največji skupni delitelj vseh prejšnjih parov vključno s prvim.\n",
    "\n",
    "Evklidov algoritem je torej sledeč: če je $n = 0$, potem je največji skupni delitelj števil $m$ in $n$ enak kar $m$, sicer pa je enak največjemu skupnemu delitelju števil $n$ in $o$, kjer je $o$ ostanek pri deljenju $m$ z $n$. Ta postopek enostavno prevedemo v Python:"
   ]
  },
  {
   "cell_type": "code",
   "execution_count": 15,
   "id": "e4149ed8",
   "metadata": {},
   "outputs": [],
   "source": [
    "def gcd(m, n):\n",
    "    if n == 0:\n",
    "        return m\n",
    "    else:\n",
    "       return gcd(n, m % n)"
   ]
  },
  {
   "cell_type": "markdown",
   "id": "ca9e5736",
   "metadata": {},
   "source": [
    "ali s pogojnim izrazom kot"
   ]
  },
  {
   "cell_type": "code",
   "execution_count": 16,
   "id": "2b84d88b",
   "metadata": {},
   "outputs": [],
   "source": [
    "def gcd(m, n):\n",
    "    return m if n == 0 else gcd(n, m % n)"
   ]
  },
  {
   "cell_type": "markdown",
   "id": "739c1608",
   "metadata": {},
   "source": [
    "Pri tem je `gcd` (_greatest common divisor_) običajna oznaka za največjega skupnega delitelja."
   ]
  },
  {
   "cell_type": "code",
   "execution_count": 17,
   "id": "72c0f984",
   "metadata": {},
   "outputs": [
    {
     "data": {
      "text/plain": [
       "3"
      ]
     },
     "execution_count": 17,
     "metadata": {},
     "output_type": "execute_result"
    }
   ],
   "source": [
    "gcd(456, 123)"
   ]
  },
  {
   "cell_type": "markdown",
   "id": "4edbbe61",
   "metadata": {},
   "source": [
    "Algoritem deluje tudi, kadar je $n < m$, saj je v tem primeru $n = 0 \\cdot m + n$, zato v naslednjem koraku njuni mesti zamenjamo in nadaljujemo kot prej."
   ]
  },
  {
   "cell_type": "code",
   "execution_count": 18,
   "id": "e1931616",
   "metadata": {},
   "outputs": [
    {
     "data": {
      "text/plain": [
       "3"
      ]
     },
     "execution_count": 18,
     "metadata": {},
     "output_type": "execute_result"
    }
   ],
   "source": [
    "gcd(123, 456)"
   ]
  }
 ],
 "metadata": {
  "jupytext": {
   "cell_metadata_filter": "-all",
   "formats": "md:myst",
   "text_representation": {
    "extension": ".md",
    "format_name": "myst",
    "format_version": "0.8",
    "jupytext_version": "1.5.0"
   }
  },
  "kernelspec": {
   "display_name": "Python 3",
   "language": "python",
   "name": "python3"
  },
  "language_info": {
   "codemirror_mode": {
    "name": "ipython",
    "version": 3
   },
   "file_extension": ".py",
   "mimetype": "text/x-python",
   "name": "python",
   "nbconvert_exporter": "python",
   "pygments_lexer": "ipython3",
   "version": "3.7.13"
  },
  "source_map": [
   14,
   22,
   28,
   32,
   37,
   41,
   45,
   47,
   53,
   63,
   67,
   71,
   75,
   77,
   87,
   96,
   100,
   104,
   106,
   112,
   114,
   135,
   141,
   145,
   148,
   152,
   154,
   158
  ]
 },
 "nbformat": 4,
 "nbformat_minor": 5
}