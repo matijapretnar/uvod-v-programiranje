{
 "cells": [
  {
   "cell_type": "markdown",
   "id": "e2d3bfd5",
   "metadata": {},
   "source": [
    "# Knjižnica Pandas\n",
    "\n",
    "Spodaj je pregled najosnovnejših metod, ki jih ponuja knjižnica Pandas. Vsaka od naštetih metod ponuja še cel kup dodatnih možnosti, ki so natančno opisane v [uradni dokumentaciji](http://pandas.pydata.org/pandas-docs/stable/). Z branjem dokumentacije se vam seveda najbolj splača začeti pri [uvodih](http://pandas.pydata.org/pandas-docs/stable/tutorials.html).\n",
    "\n",
    "## Predpriprava"
   ]
  },
  {
   "cell_type": "code",
   "execution_count": 1,
   "id": "ac45f715",
   "metadata": {},
   "outputs": [
    {
     "ename": "ModuleNotFoundError",
     "evalue": "No module named 'pandas'",
     "output_type": "error",
     "traceback": [
      "\u001b[0;31m---------------------------------------------------------------------------\u001b[0m",
      "\u001b[0;31mModuleNotFoundError\u001b[0m                       Traceback (most recent call last)",
      "Cell \u001b[0;32mIn[1], line 2\u001b[0m\n\u001b[1;32m      1\u001b[0m \u001b[38;5;66;03m# naložimo paket\u001b[39;00m\n\u001b[0;32m----> 2\u001b[0m \u001b[38;5;28;01mimport\u001b[39;00m \u001b[38;5;21;01mpandas\u001b[39;00m \u001b[38;5;28;01mas\u001b[39;00m \u001b[38;5;21;01mpd\u001b[39;00m\n\u001b[1;32m      4\u001b[0m \u001b[38;5;66;03m# naložimo razpredelnico, s katero bomo delali\u001b[39;00m\n\u001b[1;32m      5\u001b[0m filmi \u001b[38;5;241m=\u001b[39m pd\u001b[38;5;241m.\u001b[39mread_csv(\u001b[38;5;124m'\u001b[39m\u001b[38;5;124mpodatki/filmi.csv\u001b[39m\u001b[38;5;124m'\u001b[39m, index_col\u001b[38;5;241m=\u001b[39m\u001b[38;5;124m'\u001b[39m\u001b[38;5;124mid\u001b[39m\u001b[38;5;124m'\u001b[39m)\n",
      "\u001b[0;31mModuleNotFoundError\u001b[0m: No module named 'pandas'"
     ]
    }
   ],
   "source": [
    "# naložimo paket\n",
    "import pandas as pd\n",
    "\n",
    "# naložimo razpredelnico, s katero bomo delali\n",
    "filmi = pd.read_csv('podatki/filmi.csv', index_col='id')\n",
    "\n",
    "# ker bomo delali z velikimi razpredelnicami, povemo, da naj se vedno izpiše le 20 vrstic\n",
    "pd.options.display.max_rows = 20"
   ]
  },
  {
   "cell_type": "markdown",
   "id": "ca2c9e51",
   "metadata": {},
   "source": [
    "## Osnovni izbori elementov razpredelnic\n",
    "\n",
    "Z metodo `.head(n=5)` pogledamo prvih `n`, z metodo `.tail(n=5)` pa zadnjih `n` vrstic razpredelnice."
   ]
  },
  {
   "cell_type": "code",
   "execution_count": null,
   "id": "371ef147",
   "metadata": {},
   "outputs": [],
   "source": [
    "filmi.head(10)"
   ]
  },
  {
   "cell_type": "code",
   "execution_count": null,
   "id": "6cfcee02",
   "metadata": {},
   "outputs": [],
   "source": [
    "filmi.tail()"
   ]
  },
  {
   "cell_type": "markdown",
   "id": "d2ae3bf6",
   "metadata": {},
   "source": [
    "Z rezinami pa dostopamo do izbranih vrstic."
   ]
  },
  {
   "cell_type": "code",
   "execution_count": null,
   "id": "775e8adb",
   "metadata": {},
   "outputs": [],
   "source": [
    "filmi[3:10:2]"
   ]
  },
  {
   "cell_type": "markdown",
   "id": "e47cb2c2",
   "metadata": {},
   "source": [
    "Z indeksiranjem razpredelnice dostopamo do posameznih stolpcev."
   ]
  },
  {
   "cell_type": "code",
   "execution_count": null,
   "id": "50012581",
   "metadata": {},
   "outputs": [],
   "source": [
    "filmi['ocena']"
   ]
  },
  {
   "cell_type": "markdown",
   "id": "6cb113d5",
   "metadata": {},
   "source": [
    "Do stolpcev pogosto dostopamo, zato lahko uporabimo tudi krajši zapis."
   ]
  },
  {
   "cell_type": "code",
   "execution_count": null,
   "id": "21f8aa6a",
   "metadata": {},
   "outputs": [],
   "source": [
    "filmi.ocena"
   ]
  },
  {
   "cell_type": "markdown",
   "id": "0dc57308",
   "metadata": {},
   "source": [
    "Če želimo več stolpcev, moramo za indeks podati seznam vseh oznak."
   ]
  },
  {
   "cell_type": "code",
   "execution_count": null,
   "id": "bd258803",
   "metadata": {},
   "outputs": [],
   "source": [
    "filmi[['naslov', 'ocena']]"
   ]
  },
  {
   "cell_type": "markdown",
   "id": "eefb3afa",
   "metadata": {},
   "source": [
    "Do vrednosti z indeksom `i` dostopamo z `.iloc[i]`, do tiste s ključem `k` pa z `.loc[k]`."
   ]
  },
  {
   "cell_type": "code",
   "execution_count": null,
   "id": "be3ab6bc",
   "metadata": {},
   "outputs": [],
   "source": [
    "filmi.iloc[120]"
   ]
  },
  {
   "cell_type": "code",
   "execution_count": null,
   "id": "7519e514",
   "metadata": {},
   "outputs": [],
   "source": [
    "filmi.loc[97576]"
   ]
  },
  {
   "cell_type": "markdown",
   "id": "5d1d5633",
   "metadata": {},
   "source": [
    "## Filtriranje\n",
    "\n",
    "Izbor določenih vrstic razpredelnice naredimo tako, da za indeks podamo stolpec logičnih vrednosti, ki ga dobimo z običajnimi operacijami. V vrnjeni razpredelnici bodo ostale vrstice, pri katerih je v stolpcu vrednost `True`."
   ]
  },
  {
   "cell_type": "code",
   "execution_count": null,
   "id": "717cc298",
   "metadata": {},
   "outputs": [],
   "source": [
    "filmi.ocena >= 8"
   ]
  },
  {
   "cell_type": "code",
   "execution_count": null,
   "id": "bbfa7dfa",
   "metadata": {},
   "outputs": [],
   "source": [
    "filmi[filmi.ocena >= 9.3]"
   ]
  },
  {
   "cell_type": "code",
   "execution_count": null,
   "id": "cccd4f3a",
   "metadata": {},
   "outputs": [],
   "source": [
    "filmi[(filmi.leto > 2010) & (filmi.ocena > 8) | (filmi.ocena < 5)]"
   ]
  },
  {
   "cell_type": "markdown",
   "id": "83ec82cd",
   "metadata": {},
   "source": [
    "### Naloga\n",
    "\n",
    "Poiščite filme, ki si jih želimo izogniti za vsako ceno, torej tiste, ki so daljši od dveh ur in imajo oceno pod 4."
   ]
  },
  {
   "cell_type": "code",
   "execution_count": null,
   "id": "99e730e9",
   "metadata": {},
   "outputs": [],
   "source": [
    "filmi[(filmi.dolzina > 120) & (filmi.ocena < 4) & (filmi.glasovi > 50000)]"
   ]
  },
  {
   "cell_type": "markdown",
   "id": "f8b753c0",
   "metadata": {},
   "source": [
    "## Urejanje\n",
    "\n",
    "Razpredelnico urejamo z metodo `.sort_values`, ki ji podamo ime ali seznam imen stolpcev, po katerih želimo urejati. Po želji lahko tudi povemo, kateri stolpci naj bodo urejeni naraščajoče in kateri padajoče."
   ]
  },
  {
   "cell_type": "code",
   "execution_count": null,
   "id": "06edffde",
   "metadata": {},
   "outputs": [],
   "source": [
    "filmi.sort_values('dolzina')"
   ]
  },
  {
   "cell_type": "code",
   "execution_count": null,
   "id": "d0bf16e3",
   "metadata": {},
   "outputs": [],
   "source": [
    "# najprej uredi padajoče po oceni, pri vsaki oceni pa še naraščajoče po letu\n",
    "filmi.sort_values(['ocena', 'leto'], ascending=[False, True])"
   ]
  },
  {
   "cell_type": "markdown",
   "id": "06fc6b2c",
   "metadata": {},
   "source": [
    "## Združevanje\n",
    "\n",
    "Z metodo `.groupby` ustvarimo razpredelnico posebne vrste, v katerem so vrstice združene glede na skupno lastnost."
   ]
  },
  {
   "cell_type": "code",
   "execution_count": null,
   "id": "cf43ebb8",
   "metadata": {},
   "outputs": [],
   "source": [
    "filmi_po_letih = filmi.groupby('leto')"
   ]
  },
  {
   "cell_type": "code",
   "execution_count": null,
   "id": "6dc4ec0b",
   "metadata": {},
   "outputs": [],
   "source": [
    "filmi_po_letih"
   ]
  },
  {
   "cell_type": "code",
   "execution_count": null,
   "id": "0e059e70",
   "metadata": {},
   "outputs": [],
   "source": [
    "# povprečna ocena vsakega leta\n",
    "filmi_po_letih.ocena.mean()"
   ]
  },
  {
   "cell_type": "markdown",
   "id": "0d4cba4f",
   "metadata": {},
   "source": [
    "Če želimo, lahko združujemo tudi po izračunanih lastnostih. Izračunajmo stolpec in ga shranimo v razpredelnico."
   ]
  },
  {
   "cell_type": "code",
   "execution_count": null,
   "id": "c7e703e5",
   "metadata": {},
   "outputs": [],
   "source": [
    "filmi['desetletje'] = 10 * (filmi.leto // 10)"
   ]
  },
  {
   "cell_type": "code",
   "execution_count": null,
   "id": "d466fb27",
   "metadata": {},
   "outputs": [],
   "source": [
    "filmi"
   ]
  },
  {
   "cell_type": "code",
   "execution_count": null,
   "id": "da420fbd",
   "metadata": {},
   "outputs": [],
   "source": [
    "filmi_po_desetletjih = filmi.groupby('desetletje')"
   ]
  },
  {
   "cell_type": "markdown",
   "id": "82c23536",
   "metadata": {},
   "source": [
    "Preštejemo, koliko filmov je bilo v vsakem desetletju. Pri večini stolpcev dobimo iste številke, ker imamo v vsakem stolpcu enako vnosov. Če kje kakšen podatek manjkal, je številka manjša."
   ]
  },
  {
   "cell_type": "code",
   "execution_count": null,
   "id": "ac06e574",
   "metadata": {},
   "outputs": [],
   "source": [
    "filmi_po_desetletjih.count()"
   ]
  },
  {
   "cell_type": "markdown",
   "id": "128b953c",
   "metadata": {},
   "source": [
    "Če želimo dobiti le število članov posamezne skupine, uporabimo metodo `.size()`. V tem primeru dobimo le stolpec, ne razpredelnice."
   ]
  },
  {
   "cell_type": "code",
   "execution_count": null,
   "id": "04d7af3f",
   "metadata": {},
   "outputs": [],
   "source": [
    "filmi_po_desetletjih.size()"
   ]
  },
  {
   "cell_type": "markdown",
   "id": "ec1ddb8c",
   "metadata": {},
   "source": [
    "Pogledamo povprečja vsakega desetletja. Dobimo povprečno leto, dolžino, ocene in zaslužek. Povprečnega naslova ne dobimo, ker se ga ne da izračunati, zato ustreznega stolpca ni."
   ]
  },
  {
   "cell_type": "code",
   "execution_count": null,
   "id": "4e7ecaa1",
   "metadata": {},
   "outputs": [],
   "source": [
    "filmi_po_desetletjih.mean()"
   ]
  },
  {
   "cell_type": "markdown",
   "id": "99ec67cf",
   "metadata": {},
   "source": [
    "### Naloga\n",
    "\n",
    "Izračunajte število filmov posamezne dolžine, zaokrožene na 5 minut.\n",
    "\n",
    "## Risanje grafov\n",
    "\n",
    "Običajen graf dobimo z metodo `plot`. Uporabljamo ga, kadar želimo prikazati spreminjanje vrednosti v odvisnosti od zvezne spremenljivke. Naša hipoteza je, da so zlata leta filma mimo. Graf to zanika."
   ]
  },
  {
   "cell_type": "code",
   "execution_count": null,
   "id": "c037f4ff",
   "metadata": {},
   "outputs": [],
   "source": [
    "filmi[filmi.ocena > 9].groupby('desetletje').size().plot()"
   ]
  },
  {
   "cell_type": "markdown",
   "id": "04363fbc",
   "metadata": {},
   "source": [
    "Razsevni diagram dobimo z metodo `plot.scatter`. Uporabljamo ga, če želimo ugotoviti povezavo med dvema spremenljivkama."
   ]
  },
  {
   "cell_type": "code",
   "execution_count": null,
   "id": "6aba4b89",
   "metadata": {},
   "outputs": [],
   "source": [
    "filmi.plot.scatter('ocena', 'metascore')"
   ]
  },
  {
   "cell_type": "code",
   "execution_count": null,
   "id": "4e800807",
   "metadata": {},
   "outputs": [],
   "source": [
    "filmi[filmi.dolzina < 250].plot.scatter('dolzina', 'ocena')"
   ]
  },
  {
   "cell_type": "markdown",
   "id": "07d8df74",
   "metadata": {},
   "source": [
    "Stolpčni diagram dobimo z metodo `plot.bar`. Uporabljamo ga, če želimo primerjati vrednosti pri diskretnih (običajno kategoričnih) spremenljivkah. Pogosto je koristno, da graf uredimo po vrednostih."
   ]
  },
  {
   "cell_type": "code",
   "execution_count": null,
   "id": "ef637d60",
   "metadata": {},
   "outputs": [],
   "source": [
    "filmi.sort_values('zasluzek', ascending=False).head(20).plot.bar(x='naslov', y='zasluzek')"
   ]
  },
  {
   "cell_type": "markdown",
   "id": "d31f6662",
   "metadata": {},
   "source": [
    "### Naloga\n",
    "\n",
    "Narišite grafe, ki ustrezno kažejo:\n",
    "\n",
    "- Povezavo med IMDB in metascore oceno\n",
    "- Spreminjanje povprečne dolžine filmov skozi leta\n",
    "\n",
    "## Stikanje"
   ]
  },
  {
   "cell_type": "code",
   "execution_count": null,
   "id": "c0710ff9",
   "metadata": {},
   "outputs": [],
   "source": [
    "osebe = pd.read_csv('podatki/osebe.csv', index_col='id')\n",
    "vloge = pd.read_csv('podatki/vloge.csv')\n",
    "zanri = pd.read_csv('podatki/zanri.csv')"
   ]
  },
  {
   "cell_type": "markdown",
   "id": "2e581be0",
   "metadata": {},
   "source": [
    "Razpredelnice stikamo s funkcijo `merge`, ki vrne razpredelnico vnosov iz obeh tabel, pri katerih se vsi istoimenski podatki ujemajo."
   ]
  },
  {
   "cell_type": "code",
   "execution_count": null,
   "id": "1ce58c9a",
   "metadata": {},
   "outputs": [],
   "source": [
    "vloge[vloge.film == 12349]"
   ]
  },
  {
   "cell_type": "code",
   "execution_count": null,
   "id": "a1d6d2cf",
   "metadata": {},
   "outputs": [],
   "source": [
    "zanri[zanri.film == 12349]"
   ]
  },
  {
   "cell_type": "code",
   "execution_count": null,
   "id": "870db278",
   "metadata": {},
   "outputs": [],
   "source": [
    "pd.merge(vloge, zanri).head(20)"
   ]
  },
  {
   "cell_type": "markdown",
   "id": "0843c8ca",
   "metadata": {},
   "source": [
    "V osnovi vsebuje staknjena razpredelnica le tiste vnose, ki se pojavijo v obeh tabelah. Temu principu pravimo notranji stik (_inner join_). Lahko pa se odločimo, da izberemo tudi tiste vnose, ki imajo podatke le v levi tabeli (_left join_), le v desni tabeli (_right join_) ali v vsaj eni tabeli (_outer join_). Če v eni tabeli ni vnosov, bodo v staknjeni tabeli označene manjkajoče vrednosti. Ker smo v našem primeru podatke jemali iz IMDBja, kjer so za vsak film določeni tako žanri kot vloge, do razlik ne pride.\n",
    "\n",
    "Včasih želimo stikati tudi po stolpcih z različnimi imeni. V tem primeru funkciji `merge` podamo argumenta `left_on` in `right_on`."
   ]
  },
  {
   "cell_type": "code",
   "execution_count": null,
   "id": "07232ca2",
   "metadata": {},
   "outputs": [],
   "source": [
    "pd.merge(pd.merge(vloge, zanri), osebe, left_on='oseba', right_on='id')"
   ]
  },
  {
   "cell_type": "markdown",
   "id": "2972ac2d",
   "metadata": {},
   "source": [
    "Poglejmo, katera osebe so nastopale v največ komedijah."
   ]
  },
  {
   "cell_type": "code",
   "execution_count": null,
   "id": "b732fb7d",
   "metadata": {},
   "outputs": [],
   "source": [
    "zanri_oseb = pd.merge(pd.merge(vloge, zanri), osebe, left_on='oseba', right_on='id')\n",
    "zanri_oseb[\n",
    "    (zanri_oseb.zanr == 'Comedy') &\n",
    "    (zanri_oseb.vloga == 'I')\n",
    "].groupby(\n",
    "    'ime'\n",
    ").size(\n",
    ").sort_values(\n",
    "    ascending=False\n",
    ").head(20)"
   ]
  },
  {
   "cell_type": "markdown",
   "id": "5eb37e1e",
   "metadata": {},
   "source": [
    "### Naloga\n",
    "\n",
    "- Izračunajte povprečno oceno vsakega žanra.\n",
    "- Kateri režiserji snemajo najdonosnejše filme?"
   ]
  }
 ],
 "metadata": {
  "jupytext": {
   "cell_metadata_filter": "-all",
   "formats": "md:myst",
   "text_representation": {
    "extension": ".md",
    "format_name": "myst",
    "format_version": "0.8",
    "jupytext_version": "1.5.0"
   }
  },
  "kernelspec": {
   "display_name": "Python 3",
   "language": "python",
   "name": "python3"
  },
  "language_info": {
   "codemirror_mode": {
    "name": "ipython",
    "version": 3
   },
   "file_extension": ".py",
   "mimetype": "text/x-python",
   "name": "python",
   "nbconvert_exporter": "python",
   "pygments_lexer": "ipython3",
   "version": "3.10.10"
  },
  "source_map": [
   14,
   22,
   31,
   37,
   41,
   43,
   47,
   49,
   53,
   55,
   59,
   61,
   65,
   67,
   71,
   75,
   77,
   83,
   87,
   91,
   93,
   99,
   101,
   107,
   111,
   114,
   120,
   124,
   128,
   131,
   135,
   139,
   143,
   145,
   149,
   151,
   155,
   157,
   161,
   163,
   173,
   175,
   179,
   183,
   185,
   189,
   191,
   202,
   206,
   210,
   214,
   218,
   220,
   226,
   228,
   232,
   243
  ]
 },
 "nbformat": 4,
 "nbformat_minor": 5
}