{
 "cells": [
  {
   "cell_type": "markdown",
   "id": "5632fd08",
   "metadata": {},
   "source": [
    "# Slovarji & množice\n",
    "\n",
    "Ena najbolj uporabnih podatkovnih struktur v Pythonu so slovarji. Ti so tako kot seznami zbirka vrednosti, le da niso urejeni po zaporedoma oštevilčenih indeksih, temveč vsaka pripada _ključu_. Slovarje pišemo med zavite oklepaje, sestavljeni pa so iz parov `kljuc: vrednost`, ločenih z vejicami. Na primer: `{'a': 1, 'b': 5, 'c': 10}` ali `{1: 'a', 5: 'b', 10: 'c'}`. Ključi se ne smejo ponavljati, lahko pa različnim ključem pripada enaka vrednost. Vrednosti v slovarjih so poljubne, ključi pa so omejeni na nespremenljive vrednosti (na primer lahko so števila, nizi ali nabori, ne pa seznami). Kot smo že omenili, so slovarji zelo uporabni, zato začnimo z nekaj primeri uporabe.\n",
    "\n",
    "Najočitnejša uporaba slovarjev so slovarji, ki besedam v enem jeziku priredijo njihove prevode:\n",
    "\n",
    "```python\n",
    "slo_ang = {\n",
    "  'abak': 'abacus',\n",
    "  'abalienacija': 'abalienation',\n",
    "  'abderit': 'abderite',\n",
    "  ...\n",
    "  'žvrkljati': 'whisk'\n",
    "}\n",
    "```\n",
    "\n",
    "Seveda ni nujno, da nizem priredimo nize. Telefonski imenik je primer slovarja, ki nizem priredi številke:\n",
    "\n",
    "```python\n",
    "nujne_telefonske_stevilke = {\n",
    "  'center za obveščanje': 112,\n",
    "  'policija': 113,\n",
    "  'informacije': 1188,\n",
    "  'točen čas': 195\n",
    "}\n",
    "```\n",
    "\n",
    "Lahko pa tudi številkam priredimo nize:\n",
    "\n",
    "```python\n",
    "rimske_stevilke = {\n",
    "    1: 'I', 2: 'II', 3: 'III', 4: 'IV',\n",
    "    5: 'V', 6: 'VI', 7: 'VII', 8: 'VIII',\n",
    "    9: 'IX', 10: 'X', 20: 'XX', 30: 'XXX',\n",
    "    40: 'XL', 50: 'L', 100: 'C', 500: 'D',\n",
    "    1000: 'M'\n",
    "}\n",
    "```\n",
    "\n",
    "Slovarji se pogosto uporabljajo za predstavitev verjetnostih porazdelitev. Ključi so dogodki, pripadajoče vrednosti pa njihove verjetnosti:\n",
    "\n",
    "```python\n",
    "met_kocke = {\n",
    "    1: 1/6, 2: 1/6, 3: 1/6,\n",
    "    4: 1/6, 5: 1/6, 6: 1/6\n",
    "}\n",
    "\n",
    "met_dveh_kock = {\n",
    "    2: 1/36, 3: 2/36, 4: 3/36, 5: 4/36,\n",
    "    6: 5/36, 7: 6/36, 8: 5/36, 9: 4/36,\n",
    "    10: 3/36, 11: 2/36, 12: 1/36\n",
    "}\n",
    "```\n",
    "\n",
    "Predstavljamo pa lahko tudi bolj zapletene strukture. Na primer, oglejmo si sledečo matriko:\n",
    "\n",
    "```python\n",
    "matrika = [\n",
    "    [1, 1, 4, 1, 1, 1, 1, 1, 1, 1],\n",
    "    [5, 2, 1, 1, 1, 1, 1, 1, 1, 1],\n",
    "    [1, 1, 1, 1, 3, 1, 1, 1, 1, 1],\n",
    "    [1, 1, 1, 1, 1, 1, 1, 1, 1, 1],\n",
    "    [1, 1, 4, 1, 1, 1, 1, 1, 1, 1],\n",
    "    [1, 1, 1, 1, 1, 1, 1, 1, 1, 1]\n",
    "]\n",
    "```\n",
    "\n",
    "Vidimo, da je razen na nekaj mestih povsod enaka `1`. Takim matrikam pravimo _redke_ in v računalništvu se pogosto pojavljajo. Veliko bolj učinkovito jih predstavimo z njihovo dimenzijo, najpogostejšim elementom ter izjemami. Ker gre za različne vrste podatkov jih bomo predstavili z naborom `(st_vrstic, st_stolpcev, element, izjeme)`, izjeme pa bomo predstavili s slovarjem, kjer bodo ključi mesta `(stolpec, vrstica)` v matriki, vrednosti pa elementi na teh mestih. Na primer, zgornjo matriko bi lahko na bolj učinkovit način predstavili kot:\n",
    "\n",
    "```python\n",
    "redka_matrika = (6, 10, 1, {\n",
    "    (0, 2): 4,\n",
    "    (1, 0): 5,\n",
    "    (1, 1): 2,\n",
    "    (2, 4): 3,\n",
    "    (4, 2): 4\n",
    "})\n",
    "```\n",
    "\n",
    "Tudi omrežja lahko predstavimo s slovarji. Ključi so vozlišča, vrednosti pa povezave iz teh vozlišč, torej zopet slovarji, ki imajo za ključe ciljna vozlišča, za vrednosti pa razdalje. Na primer, slovenski avtocestni križ, ki je videti kot\n",
    "\n",
    "![Avtocestni križ](slike/avtoceste.png)\n",
    "\n",
    "bi lahko predstavili s sledečim slovarjem:\n",
    "\n",
    "```python\n",
    "avtocestni_kriz = {\n",
    "    'LJ': {'KR': 26, 'CE': 73, 'PO': 51, 'NM': 72},\n",
    "    'KR': {'LJ': 26, 'JE': 35},\n",
    "    'JE': {'KR': 35},\n",
    "    'CE': {'MB': 54, 'LJ': 73},\n",
    "    'MB': {'CE': 54, 'MS': 60},\n",
    "    'MS': {'MB': 60},\n",
    "    'PO': {'LJ': 51, 'KP': 64, 'GO': 63},\n",
    "    'GO': {'PO': 63},\n",
    "    'KP': {'PO': 64},\n",
    "    'NM': {'LJ': 72}\n",
    "}\n",
    "```\n",
    "\n",
    "## Osnovne operacije na slovarjih\n",
    "\n",
    "Slovarji podpirajo precej že poznanih osnovnih operacij. Z `len` dobimo velikost slovarja, torej število parov:"
   ]
  },
  {
   "cell_type": "code",
   "execution_count": 1,
   "id": "d33bd82a",
   "metadata": {},
   "outputs": [
    {
     "data": {
      "text/plain": [
       "3"
      ]
     },
     "execution_count": 1,
     "metadata": {},
     "output_type": "execute_result"
    }
   ],
   "source": [
    "len({'a': 6, 'b': 2, 'c': 3})"
   ]
  },
  {
   "cell_type": "markdown",
   "id": "30b1b2c3",
   "metadata": {},
   "source": [
    "Pozorni moramo biti, da operacije v osnovi delujejo na ključih slovarja:"
   ]
  },
  {
   "cell_type": "code",
   "execution_count": 2,
   "id": "efb11d9a",
   "metadata": {},
   "outputs": [
    {
     "data": {
      "text/plain": [
       "3"
      ]
     },
     "execution_count": 2,
     "metadata": {},
     "output_type": "execute_result"
    }
   ],
   "source": [
    "max({1: 10, 2: 20, 3: 30})"
   ]
  },
  {
   "cell_type": "code",
   "execution_count": 3,
   "id": "601bfbd7",
   "metadata": {},
   "outputs": [
    {
     "data": {
      "text/plain": [
       "False"
      ]
     },
     "execution_count": 3,
     "metadata": {},
     "output_type": "execute_result"
    }
   ],
   "source": [
    "3 in {1: 3, 2: 3, 4: 3}"
   ]
  },
  {
   "cell_type": "markdown",
   "id": "a2070394",
   "metadata": {},
   "source": [
    "Do posameznih vrednosti dostopamo tako kot pri seznamih, le da namesto indeksa podamo ključ (zaradi česar rezine ne pridejo v poštev):"
   ]
  },
  {
   "cell_type": "code",
   "execution_count": 4,
   "id": "7842d8f4",
   "metadata": {},
   "outputs": [],
   "source": [
    "s = {'a': 6, 'b': 2, 'c': 3}"
   ]
  },
  {
   "cell_type": "code",
   "execution_count": 5,
   "id": "e6be577c",
   "metadata": {},
   "outputs": [
    {
     "data": {
      "text/plain": [
       "2"
      ]
     },
     "execution_count": 5,
     "metadata": {},
     "output_type": "execute_result"
    }
   ],
   "source": [
    "s['b']"
   ]
  },
  {
   "cell_type": "markdown",
   "id": "21456c0d",
   "metadata": {},
   "source": [
    "Če ključa v slovarju ni, dobimo napako:"
   ]
  },
  {
   "cell_type": "code",
   "execution_count": 6,
   "id": "ed3e7007",
   "metadata": {
    "tags": [
     "raises-exception"
    ]
   },
   "outputs": [
    {
     "ename": "KeyError",
     "evalue": "'d'",
     "output_type": "error",
     "traceback": [
      "\u001b[0;31m---------------------------------------------------------------------------\u001b[0m",
      "\u001b[0;31mKeyError\u001b[0m                                  Traceback (most recent call last)",
      "\u001b[0;32m/tmp/ipykernel_1909/2771827912.py\u001b[0m in \u001b[0;36m<module>\u001b[0;34m\u001b[0m\n\u001b[0;32m----> 1\u001b[0;31m \u001b[0ms\u001b[0m\u001b[0;34m[\u001b[0m\u001b[0;34m'd'\u001b[0m\u001b[0;34m]\u001b[0m\u001b[0;34m\u001b[0m\u001b[0;34m\u001b[0m\u001b[0m\n\u001b[0m",
      "\u001b[0;31mKeyError\u001b[0m: 'd'"
     ]
    }
   ],
   "source": [
    "s['d']"
   ]
  },
  {
   "cell_type": "markdown",
   "id": "b336804a",
   "metadata": {},
   "source": [
    "Tako kot sezname, lahko tudi slovarje spreminjamo:"
   ]
  },
  {
   "cell_type": "code",
   "execution_count": 7,
   "id": "7accf925",
   "metadata": {},
   "outputs": [],
   "source": [
    "slovar = {'a': 10, 'b': 20}"
   ]
  },
  {
   "cell_type": "code",
   "execution_count": 8,
   "id": "bcaf3817",
   "metadata": {},
   "outputs": [],
   "source": [
    "slovar['a'] = 50"
   ]
  },
  {
   "cell_type": "code",
   "execution_count": 9,
   "id": "15232405",
   "metadata": {},
   "outputs": [
    {
     "data": {
      "text/plain": [
       "{'a': 50, 'b': 20}"
      ]
     },
     "execution_count": 9,
     "metadata": {},
     "output_type": "execute_result"
    }
   ],
   "source": [
    "slovar"
   ]
  },
  {
   "cell_type": "markdown",
   "id": "3810d50d",
   "metadata": {},
   "source": [
    "V slovarje nove elemente dodajamo tako, da jih priredimo ustreznemu ključu:"
   ]
  },
  {
   "cell_type": "code",
   "execution_count": 10,
   "id": "c62be49c",
   "metadata": {},
   "outputs": [],
   "source": [
    "slovar['c'] = 100"
   ]
  },
  {
   "cell_type": "code",
   "execution_count": 11,
   "id": "23b436b3",
   "metadata": {},
   "outputs": [
    {
     "data": {
      "text/plain": [
       "{'a': 50, 'b': 20, 'c': 100}"
      ]
     },
     "execution_count": 11,
     "metadata": {},
     "output_type": "execute_result"
    }
   ],
   "source": [
    "slovar"
   ]
  },
  {
   "cell_type": "markdown",
   "id": "df12422a",
   "metadata": {},
   "source": [
    "Elemente lahko pobrišemo z ukazom `del`:"
   ]
  },
  {
   "cell_type": "code",
   "execution_count": 12,
   "id": "ff123c12",
   "metadata": {},
   "outputs": [],
   "source": [
    "del slovar['a']"
   ]
  },
  {
   "cell_type": "code",
   "execution_count": 13,
   "id": "89f3add4",
   "metadata": {},
   "outputs": [
    {
     "data": {
      "text/plain": [
       "{'b': 20, 'c': 100}"
      ]
     },
     "execution_count": 13,
     "metadata": {},
     "output_type": "execute_result"
    }
   ],
   "source": [
    "slovar"
   ]
  },
  {
   "cell_type": "markdown",
   "id": "d666ac94",
   "metadata": {},
   "source": [
    "## Vgrajene metode na slovarjih\n",
    "\n",
    "Seveda tudi na slovarjih obstaja kup uporabnih metod, ki so vse naštete v [uradni dokumentaciji](https://docs.python.org/3/tutorial/datastructures.html#dictionaries). Ena najuporabnejših je `get`, ki poskuša dobiti ključu pripadajočo vrednost, vendar ne javi napake, kadar ključa v slovarju ni, temveč vrne `None`."
   ]
  },
  {
   "cell_type": "code",
   "execution_count": 14,
   "id": "f84c8018",
   "metadata": {},
   "outputs": [],
   "source": [
    "slovar = {'a': 6, 'b': 2, 'c': 3}"
   ]
  },
  {
   "cell_type": "code",
   "execution_count": 15,
   "id": "54434e84",
   "metadata": {},
   "outputs": [
    {
     "data": {
      "text/plain": [
       "6"
      ]
     },
     "execution_count": 15,
     "metadata": {},
     "output_type": "execute_result"
    }
   ],
   "source": [
    "slovar.get('a')"
   ]
  },
  {
   "cell_type": "code",
   "execution_count": 16,
   "id": "2fa46a44",
   "metadata": {},
   "outputs": [],
   "source": [
    "slovar.get('d')"
   ]
  },
  {
   "cell_type": "markdown",
   "id": "7a87eafb",
   "metadata": {},
   "source": [
    "Če želimo, lahko podamo še neobvezni argument, ki pove privzeto vrednost, ki naj se vrne, če ključa ni v slovarju:"
   ]
  },
  {
   "cell_type": "code",
   "execution_count": 17,
   "id": "0ab77c67",
   "metadata": {},
   "outputs": [
    {
     "data": {
      "text/plain": [
       "0"
      ]
     },
     "execution_count": 17,
     "metadata": {},
     "output_type": "execute_result"
    }
   ],
   "source": [
    "slovar.get('d', 0)"
   ]
  },
  {
   "cell_type": "markdown",
   "id": "a636d4e3",
   "metadata": {},
   "source": [
    "Recimo, da želimo prešteti pojavitve znakov v nizu. Imejmo slovar, ki znakom priredi število njihovih pojavitev ter naredimo sprehod po nizu. Na sprehodu za vsak znak, ki ga srečamo, število pojavitev ustrezno povečamo:"
   ]
  },
  {
   "cell_type": "code",
   "execution_count": 18,
   "id": "90cc2ada",
   "metadata": {},
   "outputs": [],
   "source": [
    "def prestej_pojavitve(niz):\n",
    "    pojavitve = {}\n",
    "    for znak in niz:\n",
    "        if znak in pojavitve:\n",
    "            pojavitve[znak] += 1\n",
    "        else:\n",
    "            pojavitve[znak] = 1\n",
    "    return pojavitve"
   ]
  },
  {
   "cell_type": "code",
   "execution_count": 19,
   "id": "0953d15e",
   "metadata": {},
   "outputs": [
    {
     "data": {
      "text/plain": [
       "{'a': 5, 'b': 2, 'r': 2, 'k': 1, 'd': 1}"
      ]
     },
     "execution_count": 19,
     "metadata": {},
     "output_type": "execute_result"
    }
   ],
   "source": [
    "prestej_pojavitve('abrakadabra')"
   ]
  },
  {
   "cell_type": "markdown",
   "id": "774ad0bc",
   "metadata": {},
   "source": [
    "Če želimo, lahko namesto pogojnega stavka uporabimo tudi metodo `get`:"
   ]
  },
  {
   "cell_type": "code",
   "execution_count": 20,
   "id": "a99c5904",
   "metadata": {},
   "outputs": [],
   "source": [
    "def prestej_pojavitve(niz):\n",
    "    pojavitve = {}\n",
    "    for znak in niz:\n",
    "        pojavitve[znak] = pojavitve.get(znak, 0) + 1\n",
    "    return pojavitve"
   ]
  },
  {
   "cell_type": "code",
   "execution_count": 21,
   "id": "45c7da24",
   "metadata": {},
   "outputs": [
    {
     "data": {
      "text/plain": [
       "{'a': 5, 'b': 2, 'r': 2, 'k': 1, 'd': 1}"
      ]
     },
     "execution_count": 21,
     "metadata": {},
     "output_type": "execute_result"
    }
   ],
   "source": [
    "prestej_pojavitve('abrakadabra')"
   ]
  },
  {
   "cell_type": "markdown",
   "id": "e590e69c",
   "metadata": {},
   "source": [
    "Tako kot pri seznamih imamo na voljo `pop`, ki pa ji moramo podati ključ, ki ga želimo odstraniti iz slovarja (saj slovar ni urejen po vrsti, zato nima zadnjega elementa). Metoda ključ odstrani, pripadajočo vrednost pa vrne:"
   ]
  },
  {
   "cell_type": "code",
   "execution_count": 22,
   "id": "dd4b6503",
   "metadata": {},
   "outputs": [],
   "source": [
    "slovar = {'a': 10, 'b': 20}"
   ]
  },
  {
   "cell_type": "code",
   "execution_count": 23,
   "id": "52fd7b21",
   "metadata": {},
   "outputs": [
    {
     "data": {
      "text/plain": [
       "10"
      ]
     },
     "execution_count": 23,
     "metadata": {},
     "output_type": "execute_result"
    }
   ],
   "source": [
    "slovar.pop('a')"
   ]
  },
  {
   "cell_type": "code",
   "execution_count": 24,
   "id": "a981ed94",
   "metadata": {},
   "outputs": [
    {
     "data": {
      "text/plain": [
       "{'b': 20}"
      ]
     },
     "execution_count": 24,
     "metadata": {},
     "output_type": "execute_result"
    }
   ],
   "source": [
    "slovar"
   ]
  },
  {
   "cell_type": "markdown",
   "id": "7c7943c4",
   "metadata": {},
   "source": [
    "Če res ne vemo, kateri ključ bi odstranili, lahko z metodo `popitem` odstranimo naključni par:"
   ]
  },
  {
   "cell_type": "code",
   "execution_count": 25,
   "id": "b4ea4def",
   "metadata": {},
   "outputs": [],
   "source": [
    "slovar = {'a': 10, 'b': 20}"
   ]
  },
  {
   "cell_type": "code",
   "execution_count": 26,
   "id": "4e3b6849",
   "metadata": {},
   "outputs": [
    {
     "data": {
      "text/plain": [
       "('b', 20)"
      ]
     },
     "execution_count": 26,
     "metadata": {},
     "output_type": "execute_result"
    }
   ],
   "source": [
    "slovar.popitem()"
   ]
  },
  {
   "cell_type": "code",
   "execution_count": 27,
   "id": "f59e86fb",
   "metadata": {},
   "outputs": [
    {
     "data": {
      "text/plain": [
       "('a', 10)"
      ]
     },
     "execution_count": 27,
     "metadata": {},
     "output_type": "execute_result"
    }
   ],
   "source": [
    "slovar.popitem()"
   ]
  },
  {
   "cell_type": "code",
   "execution_count": 28,
   "id": "6eedf67e",
   "metadata": {},
   "outputs": [
    {
     "data": {
      "text/plain": [
       "{}"
      ]
     },
     "execution_count": 28,
     "metadata": {},
     "output_type": "execute_result"
    }
   ],
   "source": [
    "slovar"
   ]
  },
  {
   "cell_type": "markdown",
   "id": "02e47235",
   "metadata": {},
   "source": [
    "## Zanke na slovarjih\n",
    "\n",
    "Tudi na slovarjih obstaja zanka `for`, ki pa se sprehaja po _ključih_ slovarja."
   ]
  },
  {
   "cell_type": "code",
   "execution_count": 29,
   "id": "84427c20",
   "metadata": {},
   "outputs": [
    {
     "name": "stdout",
     "output_type": "stream",
     "text": [
      "a\n",
      "b\n",
      "c\n"
     ]
    }
   ],
   "source": [
    "for x in {'a': 1, 'b': 2, 'c': 3}:\n",
    "    print(x)"
   ]
  },
  {
   "cell_type": "markdown",
   "id": "68071e9a",
   "metadata": {},
   "source": [
    "V novejših različicah Pythona zanka vrača ključe v takem vrstnem redu, kot smo jih dodajali v slovar, v starejših različicah pa naključno, zato bodite previdni, preden se zanašate na vrstni red.\n",
    "\n",
    "Če želite dostopati do vrednosti slovarja, uporabite metodo `values`:"
   ]
  },
  {
   "cell_type": "code",
   "execution_count": 30,
   "id": "1130e84c",
   "metadata": {},
   "outputs": [
    {
     "name": "stdout",
     "output_type": "stream",
     "text": [
      "1\n",
      "2\n",
      "3\n"
     ]
    }
   ],
   "source": [
    "for x in {'a': 1, 'b': 2, 'c': 3}.values():\n",
    "    print(x)"
   ]
  },
  {
   "cell_type": "markdown",
   "id": "a9ae91f7",
   "metadata": {},
   "source": [
    "Z metodo `items` pa lahko dostopate tudi do obojega hkrati:"
   ]
  },
  {
   "cell_type": "code",
   "execution_count": 31,
   "id": "57331573",
   "metadata": {},
   "outputs": [
    {
     "name": "stdout",
     "output_type": "stream",
     "text": [
      "('a', 1)\n",
      "('b', 2)\n",
      "('c', 3)\n"
     ]
    }
   ],
   "source": [
    "for x in {'a': 1, 'b': 2, 'c': 3}.items():\n",
    "    print(x)"
   ]
  },
  {
   "cell_type": "markdown",
   "id": "0db20b80",
   "metadata": {},
   "source": [
    "Tako kot smo navajeni od funkcij `enumerate` in `zip`, lahko pare sproti razstavljamo:"
   ]
  },
  {
   "cell_type": "code",
   "execution_count": 32,
   "id": "5adf8118",
   "metadata": {},
   "outputs": [
    {
     "name": "stdout",
     "output_type": "stream",
     "text": [
      "a -> 1\n",
      "b -> 2\n",
      "c -> 3\n"
     ]
    }
   ],
   "source": [
    "for k, v in {'a': 1, 'b': 2, 'c': 3}.items():\n",
    "    print(k, '->', v)"
   ]
  },
  {
   "cell_type": "markdown",
   "id": "108cdfa9",
   "metadata": {},
   "source": [
    "Za vajo napišimo program, ki izračuna največjo vrednost v slovarju ter njen pripadajoči ključ. Ideja je podobna kot pri seznamih: po vrsti gledamo vse pare ključev in vrednosti v slovarju. Vsakič, ko vidimo še večjo vrednost, si zapomnimo njen ključ. Ker slovarji niso urejeni po vrsti, ne moremo začeti s prvim elementom, lahko pa si pomagamo z metodo `popitem`."
   ]
  },
  {
   "cell_type": "code",
   "execution_count": 33,
   "id": "9c4dbb7b",
   "metadata": {},
   "outputs": [],
   "source": [
    "def najvecja_vrednost(s):\n",
    "    max_k, max_v = s.popitem()\n",
    "    for k, v in s.items():\n",
    "        if v > max_v:\n",
    "            max_k, max_v = k, v\n",
    "    return max_k, max_v"
   ]
  },
  {
   "cell_type": "code",
   "execution_count": 34,
   "id": "0f8b5d0e",
   "metadata": {},
   "outputs": [
    {
     "data": {
      "text/plain": [
       "('a', 6)"
      ]
     },
     "execution_count": 34,
     "metadata": {},
     "output_type": "execute_result"
    }
   ],
   "source": [
    "najvecja_vrednost(s)"
   ]
  },
  {
   "cell_type": "markdown",
   "id": "fe73d648",
   "metadata": {},
   "source": [
    "Funkcija ima pomanjkljivost, da pokvari vhodni seznam. Jo znate napisati tako, da ga pusti pri miru?\n",
    "\n",
    "Tako kot sezname, lahko tudi slovarje na eleganten način sestavljamo z izpeljanimi slovarji. Na primer, namesto"
   ]
  },
  {
   "cell_type": "code",
   "execution_count": 35,
   "id": "f06062a3",
   "metadata": {},
   "outputs": [
    {
     "data": {
      "text/plain": [
       "{0: 1, 1: 2, 2: 4, 3: 8, 4: 16, 5: 32, 6: 64, 7: 128, 8: 256, 9: 512}"
      ]
     },
     "execution_count": 35,
     "metadata": {},
     "output_type": "execute_result"
    }
   ],
   "source": [
    "potence_dve = {}\n",
    "for i in range(10):\n",
    "    potence_dve[i] = 2 ** i\n",
    "potence_dve"
   ]
  },
  {
   "cell_type": "markdown",
   "id": "37bb7f7d",
   "metadata": {},
   "source": [
    "lahko pišemo tudi:"
   ]
  },
  {
   "cell_type": "code",
   "execution_count": 36,
   "id": "f75442d6",
   "metadata": {},
   "outputs": [
    {
     "data": {
      "text/plain": [
       "{0: 1, 1: 2, 2: 4, 3: 8, 4: 16, 5: 32, 6: 64, 7: 128, 8: 256, 9: 512}"
      ]
     },
     "execution_count": 36,
     "metadata": {},
     "output_type": "execute_result"
    }
   ],
   "source": [
    "{i: 2 ** i for i in range(10)}"
   ]
  },
  {
   "cell_type": "markdown",
   "id": "2a0ebfcd",
   "metadata": {},
   "source": [
    "Izpeljane slovarje lahko tudi gnezdimo in omejimo s pogoji.\n",
    "\n",
    "## Množice\n",
    "\n",
    "S slovarji so v Pythonu tesno povezane tudi _množice_. Vrednosti v množicah pišemo med zavitimi oklepaji ter ločimo z vejicami, na primer `{1, 5, 10}`. Edina izjema je prazna množica, ki jo pišemo kot `set()`, saj `{}` predstavlja že prazen slovar.\n",
    "\n",
    "Množice uporabljamo, kadar želimo (tako kot pri seznamih) delati s homogeno zbirko podatkov, le da nas ne zanima število ponovitev ter vrstni red. Ker se vsak element v njih pojavi enkrat, vrstni red pa je poljuben, so množice v resnici slovarji, pri katerih gledamo le na ključe, na pripadajoče vrednosti pa ne. Na tak način so množice tudi implementirane."
   ]
  },
  {
   "cell_type": "code",
   "execution_count": 37,
   "id": "e1672aa0",
   "metadata": {},
   "outputs": [
    {
     "data": {
      "text/plain": [
       "False"
      ]
     },
     "execution_count": 37,
     "metadata": {},
     "output_type": "execute_result"
    }
   ],
   "source": [
    "[1, 2, 3] == [2, 1, 3]"
   ]
  },
  {
   "cell_type": "code",
   "execution_count": 38,
   "id": "671ae1f3",
   "metadata": {},
   "outputs": [
    {
     "data": {
      "text/plain": [
       "True"
      ]
     },
     "execution_count": 38,
     "metadata": {},
     "output_type": "execute_result"
    }
   ],
   "source": [
    "{1, 2, 3} == {2, 1, 3}"
   ]
  },
  {
   "cell_type": "code",
   "execution_count": 39,
   "id": "eb79822b",
   "metadata": {},
   "outputs": [
    {
     "data": {
      "text/plain": [
       "False"
      ]
     },
     "execution_count": 39,
     "metadata": {},
     "output_type": "execute_result"
    }
   ],
   "source": [
    "[1, 2, 3] == [1, 1, 2, 3]"
   ]
  },
  {
   "cell_type": "code",
   "execution_count": 40,
   "id": "4530fd29",
   "metadata": {},
   "outputs": [
    {
     "data": {
      "text/plain": [
       "True"
      ]
     },
     "execution_count": 40,
     "metadata": {},
     "output_type": "execute_result"
    }
   ],
   "source": [
    "{1, 2, 3} == {1, 1, 2, 3}"
   ]
  },
  {
   "cell_type": "markdown",
   "id": "716109c5",
   "metadata": {},
   "source": [
    "Na množicah so osnovne operacije unija, presek in razlika, ki jih pišemo kot:"
   ]
  },
  {
   "cell_type": "code",
   "execution_count": 41,
   "id": "e6460483",
   "metadata": {},
   "outputs": [
    {
     "data": {
      "text/plain": [
       "{1, 2, 3, 4, 5, 6}"
      ]
     },
     "execution_count": 41,
     "metadata": {},
     "output_type": "execute_result"
    }
   ],
   "source": [
    "{1, 2, 3, 4} | {3, 4, 5, 6}"
   ]
  },
  {
   "cell_type": "code",
   "execution_count": 42,
   "id": "440252e1",
   "metadata": {},
   "outputs": [
    {
     "data": {
      "text/plain": [
       "{3, 4}"
      ]
     },
     "execution_count": 42,
     "metadata": {},
     "output_type": "execute_result"
    }
   ],
   "source": [
    "{1, 2, 3, 4} & {3, 4, 5, 6}"
   ]
  },
  {
   "cell_type": "code",
   "execution_count": 43,
   "id": "996d664a",
   "metadata": {},
   "outputs": [
    {
     "data": {
      "text/plain": [
       "{1, 2}"
      ]
     },
     "execution_count": 43,
     "metadata": {},
     "output_type": "execute_result"
    }
   ],
   "source": [
    "{1, 2, 3, 4} - {3, 4, 5, 6}"
   ]
  },
  {
   "cell_type": "markdown",
   "id": "fca181c9",
   "metadata": {},
   "source": [
    "Seveda množice ne bi bile množice, če ne bi mogli preverjati vsebovanosti elementov:"
   ]
  },
  {
   "cell_type": "code",
   "execution_count": 44,
   "id": "736141ee",
   "metadata": {},
   "outputs": [
    {
     "data": {
      "text/plain": [
       "True"
      ]
     },
     "execution_count": 44,
     "metadata": {},
     "output_type": "execute_result"
    }
   ],
   "source": [
    "1 in {1, 2, 3, 4}"
   ]
  },
  {
   "cell_type": "code",
   "execution_count": 45,
   "id": "d1a879ad",
   "metadata": {},
   "outputs": [
    {
     "data": {
      "text/plain": [
       "False"
      ]
     },
     "execution_count": 45,
     "metadata": {},
     "output_type": "execute_result"
    }
   ],
   "source": [
    "2 in set()"
   ]
  },
  {
   "cell_type": "markdown",
   "id": "d4f7babb",
   "metadata": {},
   "source": [
    "Funkcija `len` nam vrne velikost množice:"
   ]
  },
  {
   "cell_type": "code",
   "execution_count": 46,
   "id": "d1f1e181",
   "metadata": {},
   "outputs": [
    {
     "data": {
      "text/plain": [
       "3"
      ]
     },
     "execution_count": 46,
     "metadata": {},
     "output_type": "execute_result"
    }
   ],
   "source": [
    "len({1, 2, 3, 2, 1, 2, 3, 2, 1})"
   ]
  },
  {
   "cell_type": "markdown",
   "id": "376b6b4d",
   "metadata": {},
   "source": [
    "Zanka `for` se predvidljivo sprehaja po vseh elementih množice. Vrstni red, v katerem se sprehajamo, pa je malo manj predvidljiv:"
   ]
  },
  {
   "cell_type": "code",
   "execution_count": 47,
   "id": "432a6384",
   "metadata": {},
   "outputs": [
    {
     "name": "stdout",
     "output_type": "stream",
     "text": [
      "a\n",
      "c\n",
      "b\n"
     ]
    }
   ],
   "source": [
    "for x in {'a', 'b', 'c'}:\n",
    "    print(x)"
   ]
  },
  {
   "cell_type": "markdown",
   "id": "d678bbb4",
   "metadata": {},
   "source": [
    "Množice lahko tudi spreminjamo. Elemente dodajamo z metodo `add`, ki deluje podobno kot `append` na seznamih:"
   ]
  },
  {
   "cell_type": "code",
   "execution_count": 48,
   "id": "23566924",
   "metadata": {},
   "outputs": [],
   "source": [
    "mn = {1, 2, 3}"
   ]
  },
  {
   "cell_type": "code",
   "execution_count": 49,
   "id": "b71b0855",
   "metadata": {},
   "outputs": [
    {
     "data": {
      "text/plain": [
       "{1, 2, 3, 4}"
      ]
     },
     "execution_count": 49,
     "metadata": {},
     "output_type": "execute_result"
    }
   ],
   "source": [
    "mn.add(4)\n",
    "mn"
   ]
  },
  {
   "cell_type": "markdown",
   "id": "653e5afa",
   "metadata": {},
   "source": [
    "Na primer, direktno sliko funkcije `f` na množici bi lahko definirali kot:"
   ]
  },
  {
   "cell_type": "code",
   "execution_count": 50,
   "id": "259b221b",
   "metadata": {},
   "outputs": [],
   "source": [
    "def direktna_slika(f, a):\n",
    "    slika = set()\n",
    "    for x in a:\n",
    "        slika.add(f(x))\n",
    "    return slika"
   ]
  },
  {
   "cell_type": "code",
   "execution_count": 51,
   "id": "e33fb199",
   "metadata": {},
   "outputs": [
    {
     "data": {
      "text/plain": [
       "{1, 2, 3, 5, 10}"
      ]
     },
     "execution_count": 51,
     "metadata": {},
     "output_type": "execute_result"
    }
   ],
   "source": [
    "direktna_slika(abs, {1, -3, 2, -5, 10})"
   ]
  },
  {
   "cell_type": "markdown",
   "id": "ccf0ceca",
   "metadata": {},
   "source": [
    "Enako bi lahko dosegli tudi z izpeljano množico:"
   ]
  },
  {
   "cell_type": "code",
   "execution_count": 52,
   "id": "afec36eb",
   "metadata": {},
   "outputs": [],
   "source": [
    "def direktna_slika(f, a):\n",
    "    return {f(x) for x in a}"
   ]
  },
  {
   "cell_type": "markdown",
   "id": "99f3cf0e",
   "metadata": {},
   "source": [
    "Elemente odstranjujemo z metodama `remove` in `discard`. Razlika med njima je, da prva javi napako, če elementa ni v množici."
   ]
  },
  {
   "cell_type": "code",
   "execution_count": 53,
   "id": "0e948187",
   "metadata": {},
   "outputs": [],
   "source": [
    "mn = {10, 20, 30, 40}"
   ]
  },
  {
   "cell_type": "code",
   "execution_count": 54,
   "id": "82239e9d",
   "metadata": {},
   "outputs": [
    {
     "data": {
      "text/plain": [
       "{10, 30, 40}"
      ]
     },
     "execution_count": 54,
     "metadata": {},
     "output_type": "execute_result"
    }
   ],
   "source": [
    "mn.remove(20)\n",
    "mn"
   ]
  },
  {
   "cell_type": "code",
   "execution_count": 55,
   "id": "77f5f78f",
   "metadata": {
    "tags": [
     "raises-exception"
    ]
   },
   "outputs": [
    {
     "ename": "KeyError",
     "evalue": "50",
     "output_type": "error",
     "traceback": [
      "\u001b[0;31m---------------------------------------------------------------------------\u001b[0m",
      "\u001b[0;31mKeyError\u001b[0m                                  Traceback (most recent call last)",
      "\u001b[0;32m/tmp/ipykernel_1909/1615094558.py\u001b[0m in \u001b[0;36m<module>\u001b[0;34m\u001b[0m\n\u001b[0;32m----> 1\u001b[0;31m \u001b[0mmn\u001b[0m\u001b[0;34m.\u001b[0m\u001b[0mremove\u001b[0m\u001b[0;34m(\u001b[0m\u001b[0;36m50\u001b[0m\u001b[0;34m)\u001b[0m\u001b[0;34m\u001b[0m\u001b[0;34m\u001b[0m\u001b[0m\n\u001b[0m",
      "\u001b[0;31mKeyError\u001b[0m: 50"
     ]
    }
   ],
   "source": [
    "mn.remove(50)"
   ]
  },
  {
   "cell_type": "code",
   "execution_count": 56,
   "id": "1d7d83c3",
   "metadata": {},
   "outputs": [],
   "source": [
    "mn = {10, 20, 30, 40}"
   ]
  },
  {
   "cell_type": "code",
   "execution_count": 57,
   "id": "908e655c",
   "metadata": {},
   "outputs": [
    {
     "data": {
      "text/plain": [
       "{10, 30, 40}"
      ]
     },
     "execution_count": 57,
     "metadata": {},
     "output_type": "execute_result"
    }
   ],
   "source": [
    "mn.discard(20)\n",
    "mn"
   ]
  },
  {
   "cell_type": "code",
   "execution_count": 58,
   "id": "35221b56",
   "metadata": {},
   "outputs": [
    {
     "data": {
      "text/plain": [
       "{10, 30, 40}"
      ]
     },
     "execution_count": 58,
     "metadata": {},
     "output_type": "execute_result"
    }
   ],
   "source": [
    "mn.discard(50)\n",
    "mn"
   ]
  },
  {
   "cell_type": "markdown",
   "id": "858de849",
   "metadata": {},
   "source": [
    "Metoda `pop` odstrani in vrne naključni element množice:"
   ]
  },
  {
   "cell_type": "code",
   "execution_count": 59,
   "id": "8ecfbf67",
   "metadata": {},
   "outputs": [],
   "source": [
    "mn = {10, 20, 30}"
   ]
  },
  {
   "cell_type": "code",
   "execution_count": 60,
   "id": "051d0352",
   "metadata": {},
   "outputs": [
    {
     "data": {
      "text/plain": [
       "10"
      ]
     },
     "execution_count": 60,
     "metadata": {},
     "output_type": "execute_result"
    }
   ],
   "source": [
    "mn.pop()"
   ]
  },
  {
   "cell_type": "code",
   "execution_count": 61,
   "id": "6c48d6a7",
   "metadata": {},
   "outputs": [
    {
     "data": {
      "text/plain": [
       "{20, 30}"
      ]
     },
     "execution_count": 61,
     "metadata": {},
     "output_type": "execute_result"
    }
   ],
   "source": [
    "mn"
   ]
  },
  {
   "cell_type": "code",
   "execution_count": 62,
   "id": "6f057a39",
   "metadata": {},
   "outputs": [
    {
     "data": {
      "text/plain": [
       "20"
      ]
     },
     "execution_count": 62,
     "metadata": {},
     "output_type": "execute_result"
    }
   ],
   "source": [
    "mn.pop()"
   ]
  },
  {
   "cell_type": "code",
   "execution_count": 63,
   "id": "65a1b84d",
   "metadata": {},
   "outputs": [
    {
     "data": {
      "text/plain": [
       "{30}"
      ]
     },
     "execution_count": 63,
     "metadata": {},
     "output_type": "execute_result"
    }
   ],
   "source": [
    "mn"
   ]
  },
  {
   "cell_type": "markdown",
   "id": "77b6391b",
   "metadata": {},
   "source": [
    "Če želimo dodati več elementov, lahko uporabimo metodo `update`, ki deluje tako, kot `extend` na seznamih."
   ]
  },
  {
   "cell_type": "code",
   "execution_count": 64,
   "id": "666cdb26",
   "metadata": {},
   "outputs": [],
   "source": [
    "mn = {10, 20, 30}"
   ]
  },
  {
   "cell_type": "code",
   "execution_count": 65,
   "id": "2b867730",
   "metadata": {},
   "outputs": [
    {
     "data": {
      "text/plain": [
       "{10, 20, 30, 40, 50}"
      ]
     },
     "execution_count": 65,
     "metadata": {},
     "output_type": "execute_result"
    }
   ],
   "source": [
    "mn.update([40, 50])\n",
    "mn"
   ]
  },
  {
   "cell_type": "markdown",
   "id": "b569910c",
   "metadata": {},
   "source": [
    "Množico lahko spreminjamo tudi z operacijami `|=`, `&=` in `-=`, ki obstoječo množico povozijo z unijo, presekom in razliko."
   ]
  },
  {
   "cell_type": "code",
   "execution_count": 66,
   "id": "bf91fb4b",
   "metadata": {},
   "outputs": [],
   "source": [
    "mn = {10, 20, 30}"
   ]
  },
  {
   "cell_type": "code",
   "execution_count": 67,
   "id": "9fb23633",
   "metadata": {},
   "outputs": [
    {
     "data": {
      "text/plain": [
       "{10, 20, 30, 40, 50}"
      ]
     },
     "execution_count": 67,
     "metadata": {},
     "output_type": "execute_result"
    }
   ],
   "source": [
    "mn |= {40, 50}\n",
    "mn"
   ]
  },
  {
   "cell_type": "code",
   "execution_count": 68,
   "id": "351b1bf6",
   "metadata": {},
   "outputs": [],
   "source": [
    "mn = {10, 20, 30, 40}"
   ]
  },
  {
   "cell_type": "code",
   "execution_count": 69,
   "id": "15f703e2",
   "metadata": {},
   "outputs": [
    {
     "data": {
      "text/plain": [
       "{30, 40}"
      ]
     },
     "execution_count": 69,
     "metadata": {},
     "output_type": "execute_result"
    }
   ],
   "source": [
    "mn &= {30, 40, 50}\n",
    "mn"
   ]
  },
  {
   "cell_type": "code",
   "execution_count": 70,
   "id": "a55f8eba",
   "metadata": {},
   "outputs": [],
   "source": [
    "mn = {10, 20, 30, 40}"
   ]
  },
  {
   "cell_type": "code",
   "execution_count": 71,
   "id": "6906f679",
   "metadata": {},
   "outputs": [
    {
     "data": {
      "text/plain": [
       "{10, 20}"
      ]
     },
     "execution_count": 71,
     "metadata": {},
     "output_type": "execute_result"
    }
   ],
   "source": [
    "mn -= {30, 40, 50}\n",
    "mn"
   ]
  },
  {
   "cell_type": "markdown",
   "id": "eb9dee3e",
   "metadata": {},
   "source": [
    "Tako kot pri spreminjanju seznamov, je treba biti previden tudi pri spreminjanju množic (no, in tudi slovarjev). Na primer, ali spodnja programa delujeta enako?"
   ]
  },
  {
   "cell_type": "code",
   "execution_count": 72,
   "id": "c9854619",
   "metadata": {},
   "outputs": [],
   "source": [
    "mn = mn & {10, 20, 30, 40}"
   ]
  },
  {
   "cell_type": "code",
   "execution_count": 73,
   "id": "09ab302a",
   "metadata": {},
   "outputs": [],
   "source": [
    "mn &= {10, 20, 30, 40}"
   ]
  },
  {
   "cell_type": "markdown",
   "id": "74e47dd5",
   "metadata": {},
   "source": [
    "Videti je, da je drugi le okrajšava za prvega, vendar ni res. Prvi izračuna presek ter dobljeno množico shrani pod imenom `mn`. Drugi ukaz pa spremeni množico, na katero kaže `mn`. Razliko lahko vidimo, če se na isto množico skličemo še pod drugim imenom:"
   ]
  },
  {
   "cell_type": "code",
   "execution_count": 74,
   "id": "f45a476e",
   "metadata": {},
   "outputs": [],
   "source": [
    "mn = {1, 2, 5, 10, 20, 25}"
   ]
  },
  {
   "cell_type": "code",
   "execution_count": 75,
   "id": "706db4ef",
   "metadata": {},
   "outputs": [],
   "source": [
    "mn2 = mn"
   ]
  },
  {
   "cell_type": "code",
   "execution_count": 76,
   "id": "e3b0d02e",
   "metadata": {},
   "outputs": [],
   "source": [
    "mn = mn & {10, 20, 30, 40}"
   ]
  },
  {
   "cell_type": "code",
   "execution_count": 77,
   "id": "87ff1689",
   "metadata": {},
   "outputs": [
    {
     "data": {
      "text/plain": [
       "{10, 20}"
      ]
     },
     "execution_count": 77,
     "metadata": {},
     "output_type": "execute_result"
    }
   ],
   "source": [
    "mn"
   ]
  },
  {
   "cell_type": "code",
   "execution_count": 78,
   "id": "f6d2ed76",
   "metadata": {},
   "outputs": [
    {
     "data": {
      "text/plain": [
       "{1, 2, 5, 10, 20, 25}"
      ]
     },
     "execution_count": 78,
     "metadata": {},
     "output_type": "execute_result"
    }
   ],
   "source": [
    "mn2"
   ]
  },
  {
   "cell_type": "markdown",
   "id": "3baa4d98",
   "metadata": {},
   "source": [
    "Tako `mn` kot `mn2` sta na začetku kazala na množico s šestimi elementi. Nato smo izračunali presek ter ga shranili pod ime `mn`, vendar je `mn2` še vedno kazal na isto množico. Sedaj pa isto ponovimo še z `&=`:"
   ]
  },
  {
   "cell_type": "code",
   "execution_count": 79,
   "id": "9506b924",
   "metadata": {},
   "outputs": [],
   "source": [
    "mn = {1, 2, 5, 10, 20, 25}"
   ]
  },
  {
   "cell_type": "code",
   "execution_count": 80,
   "id": "84d444b8",
   "metadata": {},
   "outputs": [],
   "source": [
    "mn2 = mn"
   ]
  },
  {
   "cell_type": "code",
   "execution_count": 81,
   "id": "82609a16",
   "metadata": {},
   "outputs": [],
   "source": [
    "mn &= {10, 20, 30, 40}"
   ]
  },
  {
   "cell_type": "code",
   "execution_count": 82,
   "id": "6f2f472e",
   "metadata": {},
   "outputs": [
    {
     "data": {
      "text/plain": [
       "{10, 20}"
      ]
     },
     "execution_count": 82,
     "metadata": {},
     "output_type": "execute_result"
    }
   ],
   "source": [
    "mn"
   ]
  },
  {
   "cell_type": "code",
   "execution_count": 83,
   "id": "e69d2eb4",
   "metadata": {},
   "outputs": [
    {
     "data": {
      "text/plain": [
       "{10, 20}"
      ]
     },
     "execution_count": 83,
     "metadata": {},
     "output_type": "execute_result"
    }
   ],
   "source": [
    "mn2"
   ]
  },
  {
   "cell_type": "markdown",
   "id": "bfbf8ebd",
   "metadata": {},
   "source": [
    "Ukaz `&=` je spremenil množico, na katero je kazalo ime `mn`. Ker je na isto množico na začetku kazalo tudi ime `mn2`, zadnji klic pokaže presek."
   ]
  }
 ],
 "metadata": {
  "jupytext": {
   "cell_metadata_filter": "-all",
   "formats": "md:myst",
   "text_representation": {
    "extension": ".md",
    "format_name": "myst",
    "format_version": 0.13,
    "jupytext_version": "1.10.1"
   }
  },
  "kernelspec": {
   "display_name": "Python 3",
   "language": "python",
   "name": "python3"
  },
  "language_info": {
   "codemirror_mode": {
    "name": "ipython",
    "version": 3
   },
   "file_extension": ".py",
   "mimetype": "text/x-python",
   "name": "python",
   "nbconvert_exporter": "python",
   "pygments_lexer": "ipython3",
   "version": "3.7.12"
  },
  "source_map": [
   14,
   120,
   122,
   126,
   130,
   132,
   136,
   140,
   142,
   146,
   149,
   153,
   157,
   161,
   163,
   167,
   171,
   173,
   177,
   181,
   183,
   189,
   193,
   197,
   199,
   203,
   205,
   209,
   220,
   222,
   226,
   234,
   236,
   240,
   244,
   248,
   250,
   254,
   258,
   262,
   266,
   268,
   274,
   277,
   283,
   286,
   290,
   293,
   297,
   300,
   304,
   313,
   315,
   321,
   326,
   330,
   332,
   342,
   346,
   350,
   354,
   356,
   360,
   364,
   368,
   370,
   374,
   378,
   380,
   384,
   386,
   390,
   393,
   397,
   401,
   404,
   408,
   416,
   418,
   422,
   425,
   429,
   433,
   438,
   443,
   447,
   452,
   455,
   459,
   463,
   467,
   471,
   475,
   477,
   481,
   485,
   488,
   492,
   496,
   501,
   505,
   510,
   514,
   517,
   521,
   525,
   527,
   531,
   535,
   539,
   543,
   547,
   549,
   553,
   557,
   561,
   565,
   569,
   571
  ]
 },
 "nbformat": 4,
 "nbformat_minor": 5
}