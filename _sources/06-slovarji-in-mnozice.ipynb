{
 "cells": [
  {
   "cell_type": "markdown",
   "id": "9066c204",
   "metadata": {},
   "source": [
    "# Slovarji & množice\n",
    "\n",
    "Ena najbolj uporabnih podatkovnih struktur v Pythonu so slovarji. Ti so tako kot seznami zbirka vrednosti, le da niso urejeni po zaporedoma oštevilčenih indeksih, temveč vsaka pripada _ključu_. Slovarje pišemo med zavite oklepaje, sestavljeni pa so iz parov `kljuc: vrednost`, ločenih z vejicami. Na primer: `{'a': 1, 'b': 5, 'c': 10}` ali `{1: 'a', 5: 'b', 10: 'c'}`. Ključi se ne smejo ponavljati, lahko pa različnim ključem pripada enaka vrednost. Vrednosti v slovarjih so poljubne, ključi pa so omejeni na nespremenljive vrednosti (na primer lahko so števila, nizi ali nabori, ne pa seznami). Kot smo že omenili, so slovarji zelo uporabni, zato začnimo z nekaj primeri uporabe.\n",
    "\n",
    "Najočitnejša uporaba slovarjev so slovarji, ki besedam v enem jeziku priredijo njihove prevode:\n",
    "\n",
    "```python\n",
    "slo_ang = {\n",
    "  'abak': 'abacus',\n",
    "  'abalienacija': 'abalienation',\n",
    "  'abderit': 'abderite',\n",
    "  ...\n",
    "  'žvrkljati': 'whisk'\n",
    "}\n",
    "```\n",
    "\n",
    "Seveda ni nujno, da nizem priredimo nize. Telefonski imenik je primer slovarja, ki nizem priredi številke:\n",
    "\n",
    "```python\n",
    "nujne_telefonske_stevilke = {\n",
    "  'center za obveščanje': 112,\n",
    "  'policija': 113,\n",
    "  'informacije': 1188,\n",
    "  'točen čas': 195\n",
    "}\n",
    "```\n",
    "\n",
    "Lahko pa tudi številkam priredimo nize:\n",
    "\n",
    "```python\n",
    "rimske_stevilke = {\n",
    "    1: 'I', 2: 'II', 3: 'III', 4: 'IV',\n",
    "    5: 'V', 6: 'VI', 7: 'VII', 8: 'VIII',\n",
    "    9: 'IX', 10: 'X', 20: 'XX', 30: 'XXX',\n",
    "    40: 'XL', 50: 'L', 100: 'C', 500: 'D',\n",
    "    1000: 'M'\n",
    "}\n",
    "```\n",
    "\n",
    "Slovarji se pogosto uporabljajo za predstavitev verjetnostih porazdelitev. Ključi so dogodki, pripadajoče vrednosti pa njihove verjetnosti:\n",
    "\n",
    "```python\n",
    "met_kocke = {\n",
    "    1: 1/6, 2: 1/6, 3: 1/6,\n",
    "    4: 1/6, 5: 1/6, 6: 1/6\n",
    "}\n",
    "\n",
    "met_dveh_kock = {\n",
    "    2: 1/36, 3: 2/36, 4: 3/36, 5: 4/36,\n",
    "    6: 5/36, 7: 6/36, 8: 5/36, 9: 4/36,\n",
    "    10: 3/36, 11: 2/36, 12: 1/36\n",
    "}\n",
    "```\n",
    "\n",
    "Predstavljamo pa lahko tudi bolj zapletene strukture. Na primer, oglejmo si sledečo matriko:\n",
    "\n",
    "```python\n",
    "matrika = [\n",
    "    [1, 1, 4, 1, 1, 1, 1, 1, 1, 1],\n",
    "    [5, 2, 1, 1, 1, 1, 1, 1, 1, 1],\n",
    "    [1, 1, 1, 1, 3, 1, 1, 1, 1, 1],\n",
    "    [1, 1, 1, 1, 1, 1, 1, 1, 1, 1],\n",
    "    [1, 1, 4, 1, 1, 1, 1, 1, 1, 1],\n",
    "    [1, 1, 1, 1, 1, 1, 1, 1, 1, 1]\n",
    "]\n",
    "```\n",
    "\n",
    "Vidimo, da je razen na nekaj mestih povsod enaka `1`. Takim matrikam pravimo _redke_ in v računalništvu se pogosto pojavljajo. Veliko bolj učinkovito jih predstavimo z njihovo dimenzijo, najpogostejšim elementom ter izjemami. Ker gre za različne vrste podatkov jih bomo predstavili z naborom `(st_vrstic, st_stolpcev, element, izjeme)`, izjeme pa bomo predstavili s slovarjem, kjer bodo ključi mesta `(stolpec, vrstica)` v matriki, vrednosti pa elementi na teh mestih. Na primer, zgornjo matriko bi lahko na bolj učinkovit način predstavili kot:\n",
    "\n",
    "```python\n",
    "redka_matrika = (6, 10, 1, {\n",
    "    (0, 2): 4,\n",
    "    (1, 0): 5,\n",
    "    (1, 1): 2,\n",
    "    (2, 4): 3,\n",
    "    (4, 2): 4\n",
    "})\n",
    "```\n",
    "\n",
    "Tudi omrežja lahko predstavimo s slovarji. Ključi so vozlišča, vrednosti pa povezave iz teh vozlišč, torej zopet slovarji, ki imajo za ključe ciljna vozlišča, za vrednosti pa razdalje. Na primer, slovenski avtocestni križ, ki je videti kot\n",
    "\n",
    "![Avtocestni križ](slike/avtoceste.png)\n",
    "\n",
    "bi lahko predstavili s sledečim slovarjem:\n",
    "\n",
    "```python\n",
    "avtocestni_kriz = {\n",
    "    'LJ': {'KR': 26, 'CE': 73, 'PO': 51, 'NM': 72},\n",
    "    'KR': {'LJ': 26, 'JE': 35},\n",
    "    'JE': {'KR': 35},\n",
    "    'CE': {'MB': 54, 'LJ': 73},\n",
    "    'MB': {'CE': 54, 'MS': 60},\n",
    "    'MS': {'MB': 60},\n",
    "    'PO': {'LJ': 51, 'KP': 64, 'GO': 63},\n",
    "    'GO': {'PO': 63},\n",
    "    'KP': {'PO': 64},\n",
    "    'NM': {'LJ': 72}\n",
    "}\n",
    "```\n",
    "\n",
    "## Osnovne operacije na slovarjih\n",
    "\n",
    "Slovarji podpirajo precej že poznanih osnovnih operacij. Z `len` dobimo velikost slovarja, torej število parov:"
   ]
  },
  {
   "cell_type": "code",
   "execution_count": 1,
   "id": "05f53b5a",
   "metadata": {},
   "outputs": [
    {
     "data": {
      "text/plain": [
       "3"
      ]
     },
     "execution_count": 1,
     "metadata": {},
     "output_type": "execute_result"
    }
   ],
   "source": [
    "len({'a': 6, 'b': 2, 'c': 3})"
   ]
  },
  {
   "cell_type": "markdown",
   "id": "0ca0b441",
   "metadata": {},
   "source": [
    "Pozorni moramo biti, da operacije v osnovi delujejo na ključih slovarja:"
   ]
  },
  {
   "cell_type": "code",
   "execution_count": 2,
   "id": "26d5b94e",
   "metadata": {},
   "outputs": [
    {
     "data": {
      "text/plain": [
       "3"
      ]
     },
     "execution_count": 2,
     "metadata": {},
     "output_type": "execute_result"
    }
   ],
   "source": [
    "max({1: 10, 2: 20, 3: 30})"
   ]
  },
  {
   "cell_type": "code",
   "execution_count": 3,
   "id": "42fa555f",
   "metadata": {},
   "outputs": [
    {
     "data": {
      "text/plain": [
       "False"
      ]
     },
     "execution_count": 3,
     "metadata": {},
     "output_type": "execute_result"
    }
   ],
   "source": [
    "3 in {1: 3, 2: 3, 4: 3}"
   ]
  },
  {
   "cell_type": "markdown",
   "id": "bdd470a9",
   "metadata": {},
   "source": [
    "Do posameznih vrednosti dostopamo tako kot pri seznamih, le da namesto indeksa podamo ključ (zaradi česar rezine ne pridejo v poštev):"
   ]
  },
  {
   "cell_type": "code",
   "execution_count": 4,
   "id": "a1b62ee4",
   "metadata": {},
   "outputs": [],
   "source": [
    "s = {'a': 6, 'b': 2, 'c': 3}"
   ]
  },
  {
   "cell_type": "code",
   "execution_count": 5,
   "id": "5c550dc5",
   "metadata": {},
   "outputs": [
    {
     "data": {
      "text/plain": [
       "2"
      ]
     },
     "execution_count": 5,
     "metadata": {},
     "output_type": "execute_result"
    }
   ],
   "source": [
    "s['b']"
   ]
  },
  {
   "cell_type": "markdown",
   "id": "9398d531",
   "metadata": {},
   "source": [
    "Če ključa v slovarju ni, dobimo napako:"
   ]
  },
  {
   "cell_type": "code",
   "execution_count": 6,
   "id": "068e8ed6",
   "metadata": {
    "tags": [
     "raises-exception"
    ]
   },
   "outputs": [
    {
     "ename": "KeyError",
     "evalue": "'d'",
     "output_type": "error",
     "traceback": [
      "\u001b[0;31m---------------------------------------------------------------------------\u001b[0m",
      "\u001b[0;31mKeyError\u001b[0m                                  Traceback (most recent call last)",
      "\u001b[0;32m/tmp/ipykernel_1773/2771827912.py\u001b[0m in \u001b[0;36m<module>\u001b[0;34m\u001b[0m\n\u001b[0;32m----> 1\u001b[0;31m \u001b[0ms\u001b[0m\u001b[0;34m[\u001b[0m\u001b[0;34m'd'\u001b[0m\u001b[0;34m]\u001b[0m\u001b[0;34m\u001b[0m\u001b[0;34m\u001b[0m\u001b[0m\n\u001b[0m",
      "\u001b[0;31mKeyError\u001b[0m: 'd'"
     ]
    }
   ],
   "source": [
    "s['d']"
   ]
  },
  {
   "cell_type": "markdown",
   "id": "c9b7b6fa",
   "metadata": {},
   "source": [
    "Tako kot sezname, lahko tudi slovarje spreminjamo:"
   ]
  },
  {
   "cell_type": "code",
   "execution_count": 7,
   "id": "edeb2a23",
   "metadata": {},
   "outputs": [],
   "source": [
    "slovar = {'a': 10, 'b': 20}"
   ]
  },
  {
   "cell_type": "code",
   "execution_count": 8,
   "id": "935bddc8",
   "metadata": {},
   "outputs": [],
   "source": [
    "slovar['a'] = 50"
   ]
  },
  {
   "cell_type": "code",
   "execution_count": 9,
   "id": "442e6348",
   "metadata": {},
   "outputs": [
    {
     "data": {
      "text/plain": [
       "{'a': 50, 'b': 20}"
      ]
     },
     "execution_count": 9,
     "metadata": {},
     "output_type": "execute_result"
    }
   ],
   "source": [
    "slovar"
   ]
  },
  {
   "cell_type": "markdown",
   "id": "c67ea621",
   "metadata": {},
   "source": [
    "V slovarje nove elemente dodajamo tako, da jih priredimo ustreznemu ključu:"
   ]
  },
  {
   "cell_type": "code",
   "execution_count": 10,
   "id": "7cf6fd2d",
   "metadata": {},
   "outputs": [],
   "source": [
    "slovar['c'] = 100"
   ]
  },
  {
   "cell_type": "code",
   "execution_count": 11,
   "id": "49919390",
   "metadata": {},
   "outputs": [
    {
     "data": {
      "text/plain": [
       "{'a': 50, 'b': 20, 'c': 100}"
      ]
     },
     "execution_count": 11,
     "metadata": {},
     "output_type": "execute_result"
    }
   ],
   "source": [
    "slovar"
   ]
  },
  {
   "cell_type": "markdown",
   "id": "a4282a41",
   "metadata": {},
   "source": [
    "Elemente lahko pobrišemo z ukazom `del`:"
   ]
  },
  {
   "cell_type": "code",
   "execution_count": 12,
   "id": "e55f937e",
   "metadata": {},
   "outputs": [],
   "source": [
    "del slovar['a']"
   ]
  },
  {
   "cell_type": "code",
   "execution_count": 13,
   "id": "60f54324",
   "metadata": {},
   "outputs": [
    {
     "data": {
      "text/plain": [
       "{'b': 20, 'c': 100}"
      ]
     },
     "execution_count": 13,
     "metadata": {},
     "output_type": "execute_result"
    }
   ],
   "source": [
    "slovar"
   ]
  },
  {
   "cell_type": "markdown",
   "id": "31425f28",
   "metadata": {},
   "source": [
    "## Vgrajene metode na slovarjih\n",
    "\n",
    "Seveda tudi na slovarjih obstaja kup uporabnih metod, ki so vse naštete v [uradni dokumentaciji](https://docs.python.org/3/tutorial/datastructures.html#dictionaries). Ena najuporabnejših je `get`, ki poskuša dobiti ključu pripadajočo vrednost, vendar ne javi napake, kadar ključa v slovarju ni, temveč vrne `None`."
   ]
  },
  {
   "cell_type": "code",
   "execution_count": 14,
   "id": "a201a513",
   "metadata": {},
   "outputs": [],
   "source": [
    "slovar = {'a': 6, 'b': 2, 'c': 3}"
   ]
  },
  {
   "cell_type": "code",
   "execution_count": 15,
   "id": "cffc56d7",
   "metadata": {},
   "outputs": [
    {
     "data": {
      "text/plain": [
       "6"
      ]
     },
     "execution_count": 15,
     "metadata": {},
     "output_type": "execute_result"
    }
   ],
   "source": [
    "slovar.get('a')"
   ]
  },
  {
   "cell_type": "code",
   "execution_count": 16,
   "id": "f2203abd",
   "metadata": {},
   "outputs": [],
   "source": [
    "slovar.get('d')"
   ]
  },
  {
   "cell_type": "markdown",
   "id": "5b3dd72a",
   "metadata": {},
   "source": [
    "Če želimo, lahko podamo še neobvezni argument, ki pove privzeto vrednost, ki naj se vrne, če ključa ni v slovarju:"
   ]
  },
  {
   "cell_type": "code",
   "execution_count": 17,
   "id": "52dd3f45",
   "metadata": {},
   "outputs": [
    {
     "data": {
      "text/plain": [
       "0"
      ]
     },
     "execution_count": 17,
     "metadata": {},
     "output_type": "execute_result"
    }
   ],
   "source": [
    "slovar.get('d', 0)"
   ]
  },
  {
   "cell_type": "markdown",
   "id": "cd2f5661",
   "metadata": {},
   "source": [
    "Recimo, da želimo prešteti pojavitve znakov v nizu. Imejmo slovar, ki znakom priredi število njihovih pojavitev ter naredimo sprehod po nizu. Na sprehodu za vsak znak, ki ga srečamo, število pojavitev ustrezno povečamo:"
   ]
  },
  {
   "cell_type": "code",
   "execution_count": 18,
   "id": "3ab4fbbd",
   "metadata": {},
   "outputs": [],
   "source": [
    "def prestej_pojavitve(niz):\n",
    "    pojavitve = {}\n",
    "    for znak in niz:\n",
    "        if znak in pojavitve:\n",
    "            pojavitve[znak] += 1\n",
    "        else:\n",
    "            pojavitve[znak] = 1\n",
    "    return pojavitve"
   ]
  },
  {
   "cell_type": "code",
   "execution_count": 19,
   "id": "36b5323c",
   "metadata": {},
   "outputs": [
    {
     "data": {
      "text/plain": [
       "{'a': 5, 'b': 2, 'r': 2, 'k': 1, 'd': 1}"
      ]
     },
     "execution_count": 19,
     "metadata": {},
     "output_type": "execute_result"
    }
   ],
   "source": [
    "prestej_pojavitve('abrakadabra')"
   ]
  },
  {
   "cell_type": "markdown",
   "id": "202ff9a1",
   "metadata": {},
   "source": [
    "Če želimo, lahko namesto pogojnega stavka uporabimo tudi metodo `get`:"
   ]
  },
  {
   "cell_type": "code",
   "execution_count": 20,
   "id": "b6c254c3",
   "metadata": {},
   "outputs": [],
   "source": [
    "def prestej_pojavitve(niz):\n",
    "    pojavitve = {}\n",
    "    for znak in niz:\n",
    "        pojavitve[znak] = pojavitve.get(znak, 0) + 1\n",
    "    return pojavitve"
   ]
  },
  {
   "cell_type": "code",
   "execution_count": 21,
   "id": "27f70471",
   "metadata": {},
   "outputs": [
    {
     "data": {
      "text/plain": [
       "{'a': 5, 'b': 2, 'r': 2, 'k': 1, 'd': 1}"
      ]
     },
     "execution_count": 21,
     "metadata": {},
     "output_type": "execute_result"
    }
   ],
   "source": [
    "prestej_pojavitve('abrakadabra')"
   ]
  },
  {
   "cell_type": "markdown",
   "id": "1fb7f236",
   "metadata": {},
   "source": [
    "Tako kot pri seznamih imamo na voljo `pop`, ki pa ji moramo podati ključ, ki ga želimo odstraniti iz slovarja (saj slovar ni urejen po vrsti, zato nima zadnjega elementa). Metoda ključ odstrani, pripadajočo vrednost pa vrne:"
   ]
  },
  {
   "cell_type": "code",
   "execution_count": 22,
   "id": "4e95414d",
   "metadata": {},
   "outputs": [],
   "source": [
    "slovar = {'a': 10, 'b': 20}"
   ]
  },
  {
   "cell_type": "code",
   "execution_count": 23,
   "id": "2a9a71c8",
   "metadata": {},
   "outputs": [
    {
     "data": {
      "text/plain": [
       "10"
      ]
     },
     "execution_count": 23,
     "metadata": {},
     "output_type": "execute_result"
    }
   ],
   "source": [
    "slovar.pop('a')"
   ]
  },
  {
   "cell_type": "code",
   "execution_count": 24,
   "id": "9a16e347",
   "metadata": {},
   "outputs": [
    {
     "data": {
      "text/plain": [
       "{'b': 20}"
      ]
     },
     "execution_count": 24,
     "metadata": {},
     "output_type": "execute_result"
    }
   ],
   "source": [
    "slovar"
   ]
  },
  {
   "cell_type": "markdown",
   "id": "a736d773",
   "metadata": {},
   "source": [
    "Če res ne vemo, kateri ključ bi odstranili, lahko z metodo `popitem` odstranimo naključni par:"
   ]
  },
  {
   "cell_type": "code",
   "execution_count": 25,
   "id": "81fa6650",
   "metadata": {},
   "outputs": [],
   "source": [
    "slovar = {'a': 10, 'b': 20}"
   ]
  },
  {
   "cell_type": "code",
   "execution_count": 26,
   "id": "e7459a7d",
   "metadata": {},
   "outputs": [
    {
     "data": {
      "text/plain": [
       "('b', 20)"
      ]
     },
     "execution_count": 26,
     "metadata": {},
     "output_type": "execute_result"
    }
   ],
   "source": [
    "slovar.popitem()"
   ]
  },
  {
   "cell_type": "code",
   "execution_count": 27,
   "id": "98aab829",
   "metadata": {},
   "outputs": [
    {
     "data": {
      "text/plain": [
       "('a', 10)"
      ]
     },
     "execution_count": 27,
     "metadata": {},
     "output_type": "execute_result"
    }
   ],
   "source": [
    "slovar.popitem()"
   ]
  },
  {
   "cell_type": "code",
   "execution_count": 28,
   "id": "5d7f1e3a",
   "metadata": {},
   "outputs": [
    {
     "data": {
      "text/plain": [
       "{}"
      ]
     },
     "execution_count": 28,
     "metadata": {},
     "output_type": "execute_result"
    }
   ],
   "source": [
    "slovar"
   ]
  },
  {
   "cell_type": "markdown",
   "id": "5c57582c",
   "metadata": {},
   "source": [
    "## Zanke na slovarjih\n",
    "\n",
    "Tudi na slovarjih obstaja zanka `for`, ki pa se sprehaja po _ključih_ slovarja."
   ]
  },
  {
   "cell_type": "code",
   "execution_count": 29,
   "id": "6769eba4",
   "metadata": {},
   "outputs": [
    {
     "name": "stdout",
     "output_type": "stream",
     "text": [
      "a\n",
      "b\n",
      "c\n"
     ]
    }
   ],
   "source": [
    "for x in {'a': 1, 'b': 2, 'c': 3}:\n",
    "    print(x)"
   ]
  },
  {
   "cell_type": "markdown",
   "id": "cb7e718f",
   "metadata": {},
   "source": [
    "V novejših različicah Pythona zanka vrača ključe v takem vrstnem redu, kot smo jih dodajali v slovar, v starejših različicah pa naključno, zato bodite previdni, preden se zanašate na vrstni red.\n",
    "\n",
    "Če želite dostopati do vrednosti slovarja, uporabite metodo `values`:"
   ]
  },
  {
   "cell_type": "code",
   "execution_count": 30,
   "id": "f3292484",
   "metadata": {},
   "outputs": [
    {
     "name": "stdout",
     "output_type": "stream",
     "text": [
      "1\n",
      "2\n",
      "3\n"
     ]
    }
   ],
   "source": [
    "for x in {'a': 1, 'b': 2, 'c': 3}.values():\n",
    "    print(x)"
   ]
  },
  {
   "cell_type": "markdown",
   "id": "777cbe8b",
   "metadata": {},
   "source": [
    "Z metodo `items` pa lahko dostopate tudi do obojega hkrati:"
   ]
  },
  {
   "cell_type": "code",
   "execution_count": 31,
   "id": "e403d3e7",
   "metadata": {},
   "outputs": [
    {
     "name": "stdout",
     "output_type": "stream",
     "text": [
      "('a', 1)\n",
      "('b', 2)\n",
      "('c', 3)\n"
     ]
    }
   ],
   "source": [
    "for x in {'a': 1, 'b': 2, 'c': 3}.items():\n",
    "    print(x)"
   ]
  },
  {
   "cell_type": "markdown",
   "id": "8d32f76a",
   "metadata": {},
   "source": [
    "Tako kot smo navajeni od funkcij `enumerate` in `zip`, lahko pare sproti razstavljamo:"
   ]
  },
  {
   "cell_type": "code",
   "execution_count": 32,
   "id": "a32f09ca",
   "metadata": {},
   "outputs": [
    {
     "name": "stdout",
     "output_type": "stream",
     "text": [
      "a -> 1\n",
      "b -> 2\n",
      "c -> 3\n"
     ]
    }
   ],
   "source": [
    "for k, v in {'a': 1, 'b': 2, 'c': 3}.items():\n",
    "    print(k, '->', v)"
   ]
  },
  {
   "cell_type": "markdown",
   "id": "16d58262",
   "metadata": {},
   "source": [
    "Za vajo napišimo program, ki izračuna največjo vrednost v slovarju ter njen pripadajoči ključ. Ideja je podobna kot pri seznamih: po vrsti gledamo vse pare ključev in vrednosti v slovarju. Vsakič, ko vidimo še večjo vrednost, si zapomnimo njen ključ. Ker slovarji niso urejeni po vrsti, ne moremo začeti s prvim elementom, lahko pa si pomagamo z metodo `popitem`."
   ]
  },
  {
   "cell_type": "code",
   "execution_count": 33,
   "id": "d1d4befb",
   "metadata": {},
   "outputs": [],
   "source": [
    "def najvecja_vrednost(s):\n",
    "    max_k, max_v = s.popitem()\n",
    "    for k, v in s.items():\n",
    "        if v > max_v:\n",
    "            max_k, max_v = k, v\n",
    "    return max_k, max_v"
   ]
  },
  {
   "cell_type": "code",
   "execution_count": 34,
   "id": "331f0af8",
   "metadata": {},
   "outputs": [
    {
     "data": {
      "text/plain": [
       "('a', 6)"
      ]
     },
     "execution_count": 34,
     "metadata": {},
     "output_type": "execute_result"
    }
   ],
   "source": [
    "najvecja_vrednost(s)"
   ]
  },
  {
   "cell_type": "markdown",
   "id": "3961f9b0",
   "metadata": {},
   "source": [
    "Funkcija ima pomanjkljivost, da pokvari vhodni seznam. Jo znate napisati tako, da ga pusti pri miru?\n",
    "\n",
    "Tako kot sezname, lahko tudi slovarje na eleganten način sestavljamo z izpeljanimi slovarji. Na primer, namesto"
   ]
  },
  {
   "cell_type": "code",
   "execution_count": 35,
   "id": "6e8a4fc2",
   "metadata": {},
   "outputs": [
    {
     "data": {
      "text/plain": [
       "{0: 1, 1: 2, 2: 4, 3: 8, 4: 16, 5: 32, 6: 64, 7: 128, 8: 256, 9: 512}"
      ]
     },
     "execution_count": 35,
     "metadata": {},
     "output_type": "execute_result"
    }
   ],
   "source": [
    "potence_dve = {}\n",
    "for i in range(10):\n",
    "    potence_dve[i] = 2 ** i\n",
    "potence_dve"
   ]
  },
  {
   "cell_type": "markdown",
   "id": "d582681c",
   "metadata": {},
   "source": [
    "lahko pišemo tudi:"
   ]
  },
  {
   "cell_type": "code",
   "execution_count": 36,
   "id": "ec34b989",
   "metadata": {},
   "outputs": [
    {
     "data": {
      "text/plain": [
       "{0: 1, 1: 2, 2: 4, 3: 8, 4: 16, 5: 32, 6: 64, 7: 128, 8: 256, 9: 512}"
      ]
     },
     "execution_count": 36,
     "metadata": {},
     "output_type": "execute_result"
    }
   ],
   "source": [
    "{i: 2 ** i for i in range(10)}"
   ]
  },
  {
   "cell_type": "markdown",
   "id": "94da033f",
   "metadata": {},
   "source": [
    "Izpeljane slovarje lahko tudi gnezdimo in omejimo s pogoji.\n",
    "\n",
    "## Množice\n",
    "\n",
    "S slovarji so v Pythonu tesno povezane tudi _množice_. Vrednosti v množicah pišemo med zavitimi oklepaji ter ločimo z vejicami, na primer `{1, 5, 10}`. Edina izjema je prazna množica, ki jo pišemo kot `set()`, saj `{}` predstavlja že prazen slovar.\n",
    "\n",
    "Množice uporabljamo, kadar želimo (tako kot pri seznamih) delati s homogeno zbirko podatkov, le da nas ne zanima število ponovitev ter vrstni red. Ker se vsak element v njih pojavi enkrat, vrstni red pa je poljuben, so množice v resnici slovarji, pri katerih gledamo le na ključe, na pripadajoče vrednosti pa ne. Na tak način so množice tudi implementirane."
   ]
  },
  {
   "cell_type": "code",
   "execution_count": 37,
   "id": "be2e1fb1",
   "metadata": {},
   "outputs": [
    {
     "data": {
      "text/plain": [
       "False"
      ]
     },
     "execution_count": 37,
     "metadata": {},
     "output_type": "execute_result"
    }
   ],
   "source": [
    "[1, 2, 3] == [2, 1, 3]"
   ]
  },
  {
   "cell_type": "code",
   "execution_count": 38,
   "id": "400f2de0",
   "metadata": {},
   "outputs": [
    {
     "data": {
      "text/plain": [
       "True"
      ]
     },
     "execution_count": 38,
     "metadata": {},
     "output_type": "execute_result"
    }
   ],
   "source": [
    "{1, 2, 3} == {2, 1, 3}"
   ]
  },
  {
   "cell_type": "code",
   "execution_count": 39,
   "id": "83641b5e",
   "metadata": {},
   "outputs": [
    {
     "data": {
      "text/plain": [
       "False"
      ]
     },
     "execution_count": 39,
     "metadata": {},
     "output_type": "execute_result"
    }
   ],
   "source": [
    "[1, 2, 3] == [1, 1, 2, 3]"
   ]
  },
  {
   "cell_type": "code",
   "execution_count": 40,
   "id": "40794828",
   "metadata": {},
   "outputs": [
    {
     "data": {
      "text/plain": [
       "True"
      ]
     },
     "execution_count": 40,
     "metadata": {},
     "output_type": "execute_result"
    }
   ],
   "source": [
    "{1, 2, 3} == {1, 1, 2, 3}"
   ]
  },
  {
   "cell_type": "markdown",
   "id": "71ca6053",
   "metadata": {},
   "source": [
    "Na množicah so osnovne operacije unija, presek in razlika, ki jih pišemo kot:"
   ]
  },
  {
   "cell_type": "code",
   "execution_count": 41,
   "id": "f6c879d8",
   "metadata": {},
   "outputs": [
    {
     "data": {
      "text/plain": [
       "{1, 2, 3, 4, 5, 6}"
      ]
     },
     "execution_count": 41,
     "metadata": {},
     "output_type": "execute_result"
    }
   ],
   "source": [
    "{1, 2, 3, 4} | {3, 4, 5, 6}"
   ]
  },
  {
   "cell_type": "code",
   "execution_count": 42,
   "id": "6ffb17e4",
   "metadata": {},
   "outputs": [
    {
     "data": {
      "text/plain": [
       "{3, 4}"
      ]
     },
     "execution_count": 42,
     "metadata": {},
     "output_type": "execute_result"
    }
   ],
   "source": [
    "{1, 2, 3, 4} & {3, 4, 5, 6}"
   ]
  },
  {
   "cell_type": "code",
   "execution_count": 43,
   "id": "b27baf86",
   "metadata": {},
   "outputs": [
    {
     "data": {
      "text/plain": [
       "{1, 2}"
      ]
     },
     "execution_count": 43,
     "metadata": {},
     "output_type": "execute_result"
    }
   ],
   "source": [
    "{1, 2, 3, 4} - {3, 4, 5, 6}"
   ]
  },
  {
   "cell_type": "markdown",
   "id": "49b979a2",
   "metadata": {},
   "source": [
    "Seveda množice ne bi bile množice, če ne bi mogli preverjati vsebovanosti elementov:"
   ]
  },
  {
   "cell_type": "code",
   "execution_count": 44,
   "id": "b951f71e",
   "metadata": {},
   "outputs": [
    {
     "data": {
      "text/plain": [
       "True"
      ]
     },
     "execution_count": 44,
     "metadata": {},
     "output_type": "execute_result"
    }
   ],
   "source": [
    "1 in {1, 2, 3, 4}"
   ]
  },
  {
   "cell_type": "code",
   "execution_count": 45,
   "id": "624ce977",
   "metadata": {},
   "outputs": [
    {
     "data": {
      "text/plain": [
       "False"
      ]
     },
     "execution_count": 45,
     "metadata": {},
     "output_type": "execute_result"
    }
   ],
   "source": [
    "2 in set()"
   ]
  },
  {
   "cell_type": "markdown",
   "id": "014b599e",
   "metadata": {},
   "source": [
    "Funkcija `len` nam vrne velikost množice:"
   ]
  },
  {
   "cell_type": "code",
   "execution_count": 46,
   "id": "92f24036",
   "metadata": {},
   "outputs": [
    {
     "data": {
      "text/plain": [
       "3"
      ]
     },
     "execution_count": 46,
     "metadata": {},
     "output_type": "execute_result"
    }
   ],
   "source": [
    "len({1, 2, 3, 2, 1, 2, 3, 2, 1})"
   ]
  },
  {
   "cell_type": "markdown",
   "id": "8fc945e3",
   "metadata": {},
   "source": [
    "Zanka `for` se predvidljivo sprehaja po vseh elementih množice. Vrstni red, v katerem se sprehajamo, pa je malo manj predvidljiv:"
   ]
  },
  {
   "cell_type": "code",
   "execution_count": 47,
   "id": "7d3fbfe8",
   "metadata": {},
   "outputs": [
    {
     "name": "stdout",
     "output_type": "stream",
     "text": [
      "b\n",
      "a\n",
      "c\n"
     ]
    }
   ],
   "source": [
    "for x in {'a', 'b', 'c'}:\n",
    "    print(x)"
   ]
  },
  {
   "cell_type": "markdown",
   "id": "af0d889e",
   "metadata": {},
   "source": [
    "Množice lahko tudi spreminjamo. Elemente dodajamo z metodo `add`, ki deluje podobno kot `append` na seznamih:"
   ]
  },
  {
   "cell_type": "code",
   "execution_count": 48,
   "id": "3c0c0a0f",
   "metadata": {},
   "outputs": [],
   "source": [
    "mn = {1, 2, 3}"
   ]
  },
  {
   "cell_type": "code",
   "execution_count": 49,
   "id": "d1040e8d",
   "metadata": {},
   "outputs": [
    {
     "data": {
      "text/plain": [
       "{1, 2, 3, 4}"
      ]
     },
     "execution_count": 49,
     "metadata": {},
     "output_type": "execute_result"
    }
   ],
   "source": [
    "mn.add(4)\n",
    "mn"
   ]
  },
  {
   "cell_type": "markdown",
   "id": "f2c54d82",
   "metadata": {},
   "source": [
    "Na primer, direktno sliko funkcije `f` na množici bi lahko definirali kot:"
   ]
  },
  {
   "cell_type": "code",
   "execution_count": 50,
   "id": "f9b23478",
   "metadata": {},
   "outputs": [],
   "source": [
    "def direktna_slika(f, a):\n",
    "    slika = set()\n",
    "    for x in a:\n",
    "        slika.add(f(x))\n",
    "    return slika"
   ]
  },
  {
   "cell_type": "code",
   "execution_count": 51,
   "id": "bdcfae60",
   "metadata": {},
   "outputs": [
    {
     "data": {
      "text/plain": [
       "{1, 2, 3, 5, 10}"
      ]
     },
     "execution_count": 51,
     "metadata": {},
     "output_type": "execute_result"
    }
   ],
   "source": [
    "direktna_slika(abs, {1, -3, 2, -5, 10})"
   ]
  },
  {
   "cell_type": "markdown",
   "id": "d8fe0ad9",
   "metadata": {},
   "source": [
    "Enako bi lahko dosegli tudi z izpeljano množico:"
   ]
  },
  {
   "cell_type": "code",
   "execution_count": 52,
   "id": "fd6c26cc",
   "metadata": {},
   "outputs": [],
   "source": [
    "def direktna_slika(f, a):\n",
    "    return {f(x) for x in a}"
   ]
  },
  {
   "cell_type": "markdown",
   "id": "d1871c25",
   "metadata": {},
   "source": [
    "Elemente odstranjujemo z metodama `remove` in `discard`. Razlika med njima je, da prva javi napako, če elementa ni v množici."
   ]
  },
  {
   "cell_type": "code",
   "execution_count": 53,
   "id": "ac22c6ab",
   "metadata": {},
   "outputs": [],
   "source": [
    "mn = {10, 20, 30, 40}"
   ]
  },
  {
   "cell_type": "code",
   "execution_count": 54,
   "id": "dcc8eef3",
   "metadata": {},
   "outputs": [
    {
     "data": {
      "text/plain": [
       "{10, 30, 40}"
      ]
     },
     "execution_count": 54,
     "metadata": {},
     "output_type": "execute_result"
    }
   ],
   "source": [
    "mn.remove(20)\n",
    "mn"
   ]
  },
  {
   "cell_type": "code",
   "execution_count": 55,
   "id": "ddfd872f",
   "metadata": {
    "tags": [
     "raises-exception"
    ]
   },
   "outputs": [
    {
     "ename": "KeyError",
     "evalue": "50",
     "output_type": "error",
     "traceback": [
      "\u001b[0;31m---------------------------------------------------------------------------\u001b[0m",
      "\u001b[0;31mKeyError\u001b[0m                                  Traceback (most recent call last)",
      "\u001b[0;32m/tmp/ipykernel_1773/1615094558.py\u001b[0m in \u001b[0;36m<module>\u001b[0;34m\u001b[0m\n\u001b[0;32m----> 1\u001b[0;31m \u001b[0mmn\u001b[0m\u001b[0;34m.\u001b[0m\u001b[0mremove\u001b[0m\u001b[0;34m(\u001b[0m\u001b[0;36m50\u001b[0m\u001b[0;34m)\u001b[0m\u001b[0;34m\u001b[0m\u001b[0;34m\u001b[0m\u001b[0m\n\u001b[0m",
      "\u001b[0;31mKeyError\u001b[0m: 50"
     ]
    }
   ],
   "source": [
    "mn.remove(50)"
   ]
  },
  {
   "cell_type": "code",
   "execution_count": 56,
   "id": "2df3b3a6",
   "metadata": {},
   "outputs": [],
   "source": [
    "mn = {10, 20, 30, 40}"
   ]
  },
  {
   "cell_type": "code",
   "execution_count": 57,
   "id": "75f948cc",
   "metadata": {},
   "outputs": [
    {
     "data": {
      "text/plain": [
       "{10, 30, 40}"
      ]
     },
     "execution_count": 57,
     "metadata": {},
     "output_type": "execute_result"
    }
   ],
   "source": [
    "mn.discard(20)\n",
    "mn"
   ]
  },
  {
   "cell_type": "code",
   "execution_count": 58,
   "id": "4a604f66",
   "metadata": {},
   "outputs": [
    {
     "data": {
      "text/plain": [
       "{10, 30, 40}"
      ]
     },
     "execution_count": 58,
     "metadata": {},
     "output_type": "execute_result"
    }
   ],
   "source": [
    "mn.discard(50)\n",
    "mn"
   ]
  },
  {
   "cell_type": "markdown",
   "id": "178250a1",
   "metadata": {},
   "source": [
    "Metoda `pop` odstrani in vrne naključni element množice:"
   ]
  },
  {
   "cell_type": "code",
   "execution_count": 59,
   "id": "183e7d09",
   "metadata": {},
   "outputs": [],
   "source": [
    "mn = {10, 20, 30}"
   ]
  },
  {
   "cell_type": "code",
   "execution_count": 60,
   "id": "08e11679",
   "metadata": {},
   "outputs": [
    {
     "data": {
      "text/plain": [
       "10"
      ]
     },
     "execution_count": 60,
     "metadata": {},
     "output_type": "execute_result"
    }
   ],
   "source": [
    "mn.pop()"
   ]
  },
  {
   "cell_type": "code",
   "execution_count": 61,
   "id": "0ef9603f",
   "metadata": {},
   "outputs": [
    {
     "data": {
      "text/plain": [
       "{20, 30}"
      ]
     },
     "execution_count": 61,
     "metadata": {},
     "output_type": "execute_result"
    }
   ],
   "source": [
    "mn"
   ]
  },
  {
   "cell_type": "code",
   "execution_count": 62,
   "id": "57699246",
   "metadata": {},
   "outputs": [
    {
     "data": {
      "text/plain": [
       "20"
      ]
     },
     "execution_count": 62,
     "metadata": {},
     "output_type": "execute_result"
    }
   ],
   "source": [
    "mn.pop()"
   ]
  },
  {
   "cell_type": "code",
   "execution_count": 63,
   "id": "edac33fd",
   "metadata": {},
   "outputs": [
    {
     "data": {
      "text/plain": [
       "{30}"
      ]
     },
     "execution_count": 63,
     "metadata": {},
     "output_type": "execute_result"
    }
   ],
   "source": [
    "mn"
   ]
  },
  {
   "cell_type": "markdown",
   "id": "d9b86454",
   "metadata": {},
   "source": [
    "Če želimo dodati več elementov, lahko uporabimo metodo `update`, ki deluje tako, kot `extend` na seznamih."
   ]
  },
  {
   "cell_type": "code",
   "execution_count": 64,
   "id": "da5c5618",
   "metadata": {},
   "outputs": [],
   "source": [
    "mn = {10, 20, 30}"
   ]
  },
  {
   "cell_type": "code",
   "execution_count": 65,
   "id": "1ced1d18",
   "metadata": {},
   "outputs": [
    {
     "data": {
      "text/plain": [
       "{10, 20, 30, 40, 50}"
      ]
     },
     "execution_count": 65,
     "metadata": {},
     "output_type": "execute_result"
    }
   ],
   "source": [
    "mn.update([40, 50])\n",
    "mn"
   ]
  },
  {
   "cell_type": "markdown",
   "id": "6086d9d9",
   "metadata": {},
   "source": [
    "Množico lahko spreminjamo tudi z operacijami `|=`, `&=` in `-=`, ki obstoječo množico povozijo z unijo, presekom in razliko."
   ]
  },
  {
   "cell_type": "code",
   "execution_count": 66,
   "id": "d4c8e411",
   "metadata": {},
   "outputs": [],
   "source": [
    "mn = {10, 20, 30}"
   ]
  },
  {
   "cell_type": "code",
   "execution_count": 67,
   "id": "9fd080ac",
   "metadata": {},
   "outputs": [
    {
     "data": {
      "text/plain": [
       "{10, 20, 30, 40, 50}"
      ]
     },
     "execution_count": 67,
     "metadata": {},
     "output_type": "execute_result"
    }
   ],
   "source": [
    "mn |= {40, 50}\n",
    "mn"
   ]
  },
  {
   "cell_type": "code",
   "execution_count": 68,
   "id": "7db91735",
   "metadata": {},
   "outputs": [],
   "source": [
    "mn = {10, 20, 30, 40}"
   ]
  },
  {
   "cell_type": "code",
   "execution_count": 69,
   "id": "304be0e3",
   "metadata": {},
   "outputs": [
    {
     "data": {
      "text/plain": [
       "{30, 40}"
      ]
     },
     "execution_count": 69,
     "metadata": {},
     "output_type": "execute_result"
    }
   ],
   "source": [
    "mn &= {30, 40, 50}\n",
    "mn"
   ]
  },
  {
   "cell_type": "code",
   "execution_count": 70,
   "id": "ab9e84df",
   "metadata": {},
   "outputs": [],
   "source": [
    "mn = {10, 20, 30, 40}"
   ]
  },
  {
   "cell_type": "code",
   "execution_count": 71,
   "id": "0952cc67",
   "metadata": {},
   "outputs": [
    {
     "data": {
      "text/plain": [
       "{10, 20}"
      ]
     },
     "execution_count": 71,
     "metadata": {},
     "output_type": "execute_result"
    }
   ],
   "source": [
    "mn -= {30, 40, 50}\n",
    "mn"
   ]
  },
  {
   "cell_type": "markdown",
   "id": "9dd70d5a",
   "metadata": {},
   "source": [
    "Tako kot pri spreminjanju seznamov, je treba biti previden tudi pri spreminjanju množic (no, in tudi slovarjev). Na primer, ali spodnja programa delujeta enako?"
   ]
  },
  {
   "cell_type": "code",
   "execution_count": 72,
   "id": "97b79dc3",
   "metadata": {},
   "outputs": [],
   "source": [
    "mn = mn & {10, 20, 30, 40}"
   ]
  },
  {
   "cell_type": "code",
   "execution_count": 73,
   "id": "e9e668fc",
   "metadata": {},
   "outputs": [],
   "source": [
    "mn &= {10, 20, 30, 40}"
   ]
  },
  {
   "cell_type": "markdown",
   "id": "a2c270b6",
   "metadata": {},
   "source": [
    "Videti je, da je drugi le okrajšava za prvega, vendar ni res. Prvi izračuna presek ter dobljeno množico shrani pod imenom `mn`. Drugi ukaz pa spremeni množico, na katero kaže `mn`. Razliko lahko vidimo, če se na isto množico skličemo še pod drugim imenom:"
   ]
  },
  {
   "cell_type": "code",
   "execution_count": 74,
   "id": "d4ea9d5d",
   "metadata": {},
   "outputs": [],
   "source": [
    "mn = {1, 2, 5, 10, 20, 25}"
   ]
  },
  {
   "cell_type": "code",
   "execution_count": 75,
   "id": "64eea58f",
   "metadata": {},
   "outputs": [],
   "source": [
    "mn2 = mn"
   ]
  },
  {
   "cell_type": "code",
   "execution_count": 76,
   "id": "684a807b",
   "metadata": {},
   "outputs": [],
   "source": [
    "mn = mn & {10, 20, 30, 40}"
   ]
  },
  {
   "cell_type": "code",
   "execution_count": 77,
   "id": "5e5a31bd",
   "metadata": {},
   "outputs": [
    {
     "data": {
      "text/plain": [
       "{10, 20}"
      ]
     },
     "execution_count": 77,
     "metadata": {},
     "output_type": "execute_result"
    }
   ],
   "source": [
    "mn"
   ]
  },
  {
   "cell_type": "code",
   "execution_count": 78,
   "id": "ec77f21d",
   "metadata": {},
   "outputs": [
    {
     "data": {
      "text/plain": [
       "{1, 2, 5, 10, 20, 25}"
      ]
     },
     "execution_count": 78,
     "metadata": {},
     "output_type": "execute_result"
    }
   ],
   "source": [
    "mn2"
   ]
  },
  {
   "cell_type": "markdown",
   "id": "92d7f641",
   "metadata": {},
   "source": [
    "Tako `mn` kot `mn2` sta na začetku kazala na množico s šestimi elementi. Nato smo izračunali presek ter ga shranili pod ime `mn`, vendar je `mn2` še vedno kazal na isto množico. Sedaj pa isto ponovimo še z `&=`:"
   ]
  },
  {
   "cell_type": "code",
   "execution_count": 79,
   "id": "28673a30",
   "metadata": {},
   "outputs": [],
   "source": [
    "mn = {1, 2, 5, 10, 20, 25}"
   ]
  },
  {
   "cell_type": "code",
   "execution_count": 80,
   "id": "0db6dbf2",
   "metadata": {},
   "outputs": [],
   "source": [
    "mn2 = mn"
   ]
  },
  {
   "cell_type": "code",
   "execution_count": 81,
   "id": "96c228da",
   "metadata": {},
   "outputs": [],
   "source": [
    "mn &= {10, 20, 30, 40}"
   ]
  },
  {
   "cell_type": "code",
   "execution_count": 82,
   "id": "e9b19c4e",
   "metadata": {},
   "outputs": [
    {
     "data": {
      "text/plain": [
       "{10, 20}"
      ]
     },
     "execution_count": 82,
     "metadata": {},
     "output_type": "execute_result"
    }
   ],
   "source": [
    "mn"
   ]
  },
  {
   "cell_type": "code",
   "execution_count": 83,
   "id": "7a6678bf",
   "metadata": {},
   "outputs": [
    {
     "data": {
      "text/plain": [
       "{10, 20}"
      ]
     },
     "execution_count": 83,
     "metadata": {},
     "output_type": "execute_result"
    }
   ],
   "source": [
    "mn2"
   ]
  },
  {
   "cell_type": "markdown",
   "id": "ab6d8c32",
   "metadata": {},
   "source": [
    "Ukaz `&=` je spremenil množico, na katero je kazalo ime `mn`. Ker je na isto množico na začetku kazalo tudi ime `mn2`, zadnji klic pokaže presek."
   ]
  }
 ],
 "metadata": {
  "jupytext": {
   "cell_metadata_filter": "-all",
   "formats": "md:myst",
   "text_representation": {
    "extension": ".md",
    "format_name": "myst",
    "format_version": 0.13,
    "jupytext_version": "1.10.1"
   }
  },
  "kernelspec": {
   "display_name": "Python 3",
   "language": "python",
   "name": "python3"
  },
  "language_info": {
   "codemirror_mode": {
    "name": "ipython",
    "version": 3
   },
   "file_extension": ".py",
   "mimetype": "text/x-python",
   "name": "python",
   "nbconvert_exporter": "python",
   "pygments_lexer": "ipython3",
   "version": "3.7.12"
  },
  "source_map": [
   14,
   120,
   122,
   126,
   130,
   132,
   136,
   140,
   142,
   146,
   149,
   153,
   157,
   161,
   163,
   167,
   171,
   173,
   177,
   181,
   183,
   189,
   193,
   197,
   199,
   203,
   205,
   209,
   220,
   222,
   226,
   234,
   236,
   240,
   244,
   248,
   250,
   254,
   258,
   262,
   266,
   268,
   274,
   277,
   283,
   286,
   290,
   293,
   297,
   300,
   304,
   313,
   315,
   321,
   326,
   330,
   332,
   342,
   346,
   350,
   354,
   356,
   360,
   364,
   368,
   370,
   374,
   378,
   380,
   384,
   386,
   390,
   393,
   397,
   401,
   404,
   408,
   416,
   418,
   422,
   425,
   429,
   433,
   438,
   443,
   447,
   452,
   455,
   459,
   463,
   467,
   471,
   475,
   477,
   481,
   485,
   488,
   492,
   496,
   501,
   505,
   510,
   514,
   517,
   521,
   525,
   527,
   531,
   535,
   539,
   543,
   547,
   549,
   553,
   557,
   561,
   565,
   569,
   571
  ]
 },
 "nbformat": 4,
 "nbformat_minor": 5
}