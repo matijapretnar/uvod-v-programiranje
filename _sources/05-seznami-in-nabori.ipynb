{
 "cells": [
  {
   "cell_type": "markdown",
   "id": "f47c58c7",
   "metadata": {},
   "source": [
    "(seznami-in-nabori)=\n",
    "\n",
    "# Seznami & nabori\n",
    "\n",
    "Če želimo delati z zaporedjem podatkov, uporabimo sezname. Sename pišemo v oglatih oklepajih, med katerimi napišemo vrednosti, ločene z vejicami, na primer `[10, 20, 30]` je seznam, ki vsebuje tri števila, `[]` pa prazen seznam. Če želimo, lahko vejico pišemo tudi za zadnjim elementom. Seznami so lahko tudi gnezdeni. Na primer, matriko bi predstavili s seznamom seznamov `[[1, 2, 3], [4, 5, 6], [7, 8, 9]]`. V sezname lahko spravimo vrednosti različnih tipov, na primer: `[1, True, [2, 5], \"Niz\", 3.14]` Vendar običajno sezname uporabimo za predstavitev homogene zbirke podatkov, torej da so vse vrednosti istega tipa.\n",
    "\n",
    "## Osnovne operacije na seznamih\n",
    "\n",
    "Precej operacij na seznamih je enakih kot na nizih. Sezname lahko stikamo z operacijo `+` in množimo s celimi števili:"
   ]
  },
  {
   "cell_type": "code",
   "execution_count": 1,
   "id": "4fb64c5a",
   "metadata": {},
   "outputs": [
    {
     "data": {
      "text/plain": [
       "[True, False, True]"
      ]
     },
     "execution_count": 1,
     "metadata": {},
     "output_type": "execute_result"
    }
   ],
   "source": [
    "[True, False] + [True]"
   ]
  },
  {
   "cell_type": "code",
   "execution_count": 2,
   "id": "23557781",
   "metadata": {},
   "outputs": [
    {
     "data": {
      "text/plain": [
       "['x', 'y', 'x', 'y', 'x', 'y']"
      ]
     },
     "execution_count": 2,
     "metadata": {},
     "output_type": "execute_result"
    }
   ],
   "source": [
    "3 * ['x', 'y']"
   ]
  },
  {
   "cell_type": "markdown",
   "id": "1d6aae71",
   "metadata": {},
   "source": [
    "Dolžino seznama dobimo s funkcijo `len`:"
   ]
  },
  {
   "cell_type": "code",
   "execution_count": 3,
   "id": "ee05d8f9",
   "metadata": {},
   "outputs": [
    {
     "data": {
      "text/plain": [
       "3"
      ]
     },
     "execution_count": 3,
     "metadata": {},
     "output_type": "execute_result"
    }
   ],
   "source": [
    "len([100, 200, 300])"
   ]
  },
  {
   "cell_type": "code",
   "execution_count": 4,
   "id": "bf9cd98e",
   "metadata": {},
   "outputs": [
    {
     "data": {
      "text/plain": [
       "0"
      ]
     },
     "execution_count": 4,
     "metadata": {},
     "output_type": "execute_result"
    }
   ],
   "source": [
    "len([])"
   ]
  },
  {
   "cell_type": "markdown",
   "id": "63ef613d",
   "metadata": {},
   "source": [
    "Sezname med seboj primerjamo leksikografsko: najprej prvi par, če sta ta dva enaka, naslednji par in tako naprej."
   ]
  },
  {
   "cell_type": "code",
   "execution_count": 5,
   "id": "ed919997",
   "metadata": {},
   "outputs": [
    {
     "data": {
      "text/plain": [
       "True"
      ]
     },
     "execution_count": 5,
     "metadata": {},
     "output_type": "execute_result"
    }
   ],
   "source": [
    "[1, 100, 10000] < [2, 0, 0]"
   ]
  },
  {
   "cell_type": "markdown",
   "id": "a076f2c9",
   "metadata": {},
   "source": [
    "Prav tako imamo na voljo predikata `in` in `not in`, s katerima ugotovimo, ali se nek element pojavlja v seznamu:"
   ]
  },
  {
   "cell_type": "code",
   "execution_count": 6,
   "id": "9d77115d",
   "metadata": {},
   "outputs": [
    {
     "data": {
      "text/plain": [
       "True"
      ]
     },
     "execution_count": 6,
     "metadata": {},
     "output_type": "execute_result"
    }
   ],
   "source": [
    "prastevila = [2, 3, 5, 7, 11, 13, 17]\n",
    "5 in prastevila"
   ]
  },
  {
   "cell_type": "code",
   "execution_count": 7,
   "id": "153320b8",
   "metadata": {},
   "outputs": [
    {
     "data": {
      "text/plain": [
       "True"
      ]
     },
     "execution_count": 7,
     "metadata": {},
     "output_type": "execute_result"
    }
   ],
   "source": [
    "15 not in prastevila"
   ]
  },
  {
   "cell_type": "markdown",
   "id": "fc2bf210",
   "metadata": {},
   "source": [
    "Predikat `in` na seznamih se razlikuje od tistega na nizih v tem, da preverja le pojavitev elementov, ne pa podseznamov:"
   ]
  },
  {
   "cell_type": "code",
   "execution_count": 8,
   "id": "f70286f7",
   "metadata": {},
   "outputs": [
    {
     "data": {
      "text/plain": [
       "False"
      ]
     },
     "execution_count": 8,
     "metadata": {},
     "output_type": "execute_result"
    }
   ],
   "source": [
    "[3, 5, 7] in prastevila"
   ]
  },
  {
   "cell_type": "markdown",
   "id": "b77e825b",
   "metadata": {},
   "source": [
    "Na primer:"
   ]
  },
  {
   "cell_type": "code",
   "execution_count": 9,
   "id": "e7024e79",
   "metadata": {},
   "outputs": [],
   "source": [
    "def stevilo_dni(mesec, leto):\n",
    "    if mesec == 2:\n",
    "        return 29 if je_prestopno(leto) else 28\n",
    "    elif mesec in [4, 6, 9, 11]:\n",
    "        return 30\n",
    "    else:\n",
    "        return 31"
   ]
  },
  {
   "cell_type": "markdown",
   "id": "8012b1b9",
   "metadata": {},
   "source": [
    "Indeksiranje in rezine na seznamih delujejo tako kot na nizih:"
   ]
  },
  {
   "cell_type": "code",
   "execution_count": 10,
   "id": "82951249",
   "metadata": {},
   "outputs": [],
   "source": [
    "prastevila = [2, 3, 5, 7, 11, 13, 17]"
   ]
  },
  {
   "cell_type": "code",
   "execution_count": 11,
   "id": "9b2f4487",
   "metadata": {},
   "outputs": [
    {
     "data": {
      "text/plain": [
       "5"
      ]
     },
     "execution_count": 11,
     "metadata": {},
     "output_type": "execute_result"
    }
   ],
   "source": [
    "prastevila[2]"
   ]
  },
  {
   "cell_type": "code",
   "execution_count": 12,
   "id": "c9b79f2c",
   "metadata": {},
   "outputs": [
    {
     "data": {
      "text/plain": [
       "13"
      ]
     },
     "execution_count": 12,
     "metadata": {},
     "output_type": "execute_result"
    }
   ],
   "source": [
    "prastevila[-2]"
   ]
  },
  {
   "cell_type": "code",
   "execution_count": 13,
   "id": "838a764e",
   "metadata": {},
   "outputs": [
    {
     "data": {
      "text/plain": [
       "13"
      ]
     },
     "execution_count": 13,
     "metadata": {},
     "output_type": "execute_result"
    }
   ],
   "source": [
    "prastevila[len(prastevila) - 2]"
   ]
  },
  {
   "cell_type": "code",
   "execution_count": 14,
   "id": "d0a72139",
   "metadata": {},
   "outputs": [
    {
     "data": {
      "text/plain": [
       "[5, 7, 11]"
      ]
     },
     "execution_count": 14,
     "metadata": {},
     "output_type": "execute_result"
    }
   ],
   "source": [
    "prastevila[2:-2]"
   ]
  },
  {
   "cell_type": "code",
   "execution_count": 15,
   "id": "c631f19a",
   "metadata": {},
   "outputs": [
    {
     "data": {
      "text/plain": [
       "[2, 5, 11, 17]"
      ]
     },
     "execution_count": 15,
     "metadata": {},
     "output_type": "execute_result"
    }
   ],
   "source": [
    "prastevila[::2]"
   ]
  },
  {
   "cell_type": "markdown",
   "id": "2acc368d",
   "metadata": {},
   "source": [
    "Če imamo gnezdene sezname, do elementov dostopamo z gnezdenimi indeksi:"
   ]
  },
  {
   "cell_type": "code",
   "execution_count": 16,
   "id": "ff1064d6",
   "metadata": {},
   "outputs": [
    {
     "data": {
      "text/plain": [
       "2"
      ]
     },
     "execution_count": 16,
     "metadata": {},
     "output_type": "execute_result"
    }
   ],
   "source": [
    "mat = [[1, 0, 0], [0, -1, 2], [3, 1, 5]]\n",
    "mat[1][-1]"
   ]
  },
  {
   "cell_type": "markdown",
   "id": "9797e622",
   "metadata": {},
   "source": [
    "Na primer, sled matrike bi lahko izračunali kot:"
   ]
  },
  {
   "cell_type": "code",
   "execution_count": 17,
   "id": "4c1c854d",
   "metadata": {},
   "outputs": [],
   "source": [
    "def sled(matrika):\n",
    "    \"\"\"Izračuna sled dane matrike.\"\"\"\n",
    "    vsota_diagonalnih = 0\n",
    "    for i in range(len(matrika)):\n",
    "        vsota_diagonalnih += matrika[i][i]\n",
    "    return vsota_diagonalnih"
   ]
  },
  {
   "cell_type": "code",
   "execution_count": 18,
   "id": "d51175b3",
   "metadata": {},
   "outputs": [],
   "source": [
    "mat = [[5]]"
   ]
  },
  {
   "cell_type": "code",
   "execution_count": 19,
   "id": "faee365b",
   "metadata": {},
   "outputs": [
    {
     "data": {
      "text/plain": [
       "5"
      ]
     },
     "execution_count": 19,
     "metadata": {},
     "output_type": "execute_result"
    }
   ],
   "source": [
    "sled(mat)"
   ]
  },
  {
   "cell_type": "markdown",
   "id": "be22dea7",
   "metadata": {},
   "source": [
    "Sledi pa nikakor ne bomo izračunali na sledeči (pri študentih dostikrat videni) način:"
   ]
  },
  {
   "cell_type": "code",
   "execution_count": 20,
   "id": "f14c28e2",
   "metadata": {},
   "outputs": [],
   "source": [
    "def grozna_sled(matrika):\n",
    "    \"\"\"Na popolnoma napačen izračuna sled dane matrike.\"\"\"\n",
    "    vsota_diagonalnih = 0\n",
    "    for i in range(len(matrika)):\n",
    "        for j in range(len(matrika)):\n",
    "            if i == j:\n",
    "                vsota_diagonalnih += matrika[i][j]\n",
    "    return vsota_diagonalnih"
   ]
  },
  {
   "cell_type": "markdown",
   "id": "74649956",
   "metadata": {},
   "source": [
    "Funkcija sled matrike sicer izračuna pravilno, vendar na izjemno potraten način, saj se sprehodi čez celotno matriko, ne le čez diagonalne elemente. Na primer, pri matriki velikosti $1000 \\times 1000$ bi druga funkcija pregledala tisočkrat več elementov (in posledično porabila tisočkrat več časa).\n",
    "\n",
    "## Zanke na seznamih\n",
    "\n",
    "Tako kot se lahko z zanko `for` sprehodimo po vseh znakih v nizu, se lahko z njo sprehodimo tudi po vseh elementih danega seznama:"
   ]
  },
  {
   "cell_type": "code",
   "execution_count": 21,
   "id": "90c84928",
   "metadata": {},
   "outputs": [
    {
     "name": "stdout",
     "output_type": "stream",
     "text": [
      "10\n",
      "20\n",
      "30\n"
     ]
    }
   ],
   "source": [
    "for x in [10, 20, 30]:\n",
    "    print(x)"
   ]
  },
  {
   "cell_type": "markdown",
   "id": "2ef8cb7e",
   "metadata": {},
   "source": [
    "Na primer, vsoto vseh elementov seznama bi definirali kot:"
   ]
  },
  {
   "cell_type": "code",
   "execution_count": 22,
   "id": "536febe6",
   "metadata": {},
   "outputs": [],
   "source": [
    "def vsota_elementov(seznam):\n",
    "    \"\"\"Vrne vsoto elementov v danem seznamu.\"\"\"\n",
    "    vsota = 0\n",
    "    for element in seznam:\n",
    "        vsota += element\n",
    "    return vsota"
   ]
  },
  {
   "cell_type": "code",
   "execution_count": 23,
   "id": "a6b4926c",
   "metadata": {},
   "outputs": [
    {
     "data": {
      "text/plain": [
       "4312"
      ]
     },
     "execution_count": 23,
     "metadata": {},
     "output_type": "execute_result"
    }
   ],
   "source": [
    "vsota_elementov([10, 2, 4000, 300])"
   ]
  },
  {
   "cell_type": "markdown",
   "id": "84f761a4",
   "metadata": {},
   "source": [
    "Največji element v danem seznamu lahko poiščemo tako, da zaporedoma vsak element seznama primerjamo z do sedaj največjim videnim elementom. Če je trenutni element večji, do sedaj največji element popravimo. Ko pregledamo vse elemente v seznamu, je do sedaj največji element tudi na splošno največji element. Edina stvar, na katero moramo še paziti, je ta, da na začetku izberemo ustrezen največji element. Tu imamo dve dobri izbiri. (Slaba izbira bi bila, da bi za največji do zdaj viden element vzeli neko dovolj majhno število, na primer 0 ali -9999999 -- ta izbira je očitno napačna!) Prva dobra izbira je kar prvi element v seznamu, pri čemer moramo potem poprej preveriti še to, da je seznam neprazen:"
   ]
  },
  {
   "cell_type": "code",
   "execution_count": 24,
   "id": "389ae25d",
   "metadata": {},
   "outputs": [],
   "source": [
    "def najvecji_element(seznam):\n",
    "    \"\"\"Vrne največji element v danem seznamu. Če ga ni, vrne None\"\"\"\n",
    "    if len(seznam) == 0:\n",
    "        return\n",
    "    najvecji_do_zdaj = seznam[0]\n",
    "    for element in seznam:\n",
    "        if element > najvecji_do_zdaj:\n",
    "            najvecji_do_zdaj = element\n",
    "    return najvecji_do_zdaj"
   ]
  },
  {
   "cell_type": "code",
   "execution_count": 25,
   "id": "9c5e3c1b",
   "metadata": {},
   "outputs": [
    {
     "data": {
      "text/plain": [
       "4000"
      ]
     },
     "execution_count": 25,
     "metadata": {},
     "output_type": "execute_result"
    }
   ],
   "source": [
    "najvecji_element([10, 2, 4000, 300])"
   ]
  },
  {
   "cell_type": "markdown",
   "id": "d0295fda",
   "metadata": {},
   "source": [
    "Seveda lahko uporabimo tudi vgrajene funkcije:"
   ]
  },
  {
   "cell_type": "code",
   "execution_count": 26,
   "id": "7152519c",
   "metadata": {},
   "outputs": [
    {
     "data": {
      "text/plain": [
       "4312"
      ]
     },
     "execution_count": 26,
     "metadata": {},
     "output_type": "execute_result"
    }
   ],
   "source": [
    "sum([10, 2, 4000, 300])"
   ]
  },
  {
   "cell_type": "code",
   "execution_count": 27,
   "id": "8081fb3c",
   "metadata": {},
   "outputs": [
    {
     "data": {
      "text/plain": [
       "2"
      ]
     },
     "execution_count": 27,
     "metadata": {},
     "output_type": "execute_result"
    }
   ],
   "source": [
    "min([10, 2, 4000, 300])"
   ]
  },
  {
   "cell_type": "code",
   "execution_count": 28,
   "id": "e062c406",
   "metadata": {},
   "outputs": [
    {
     "data": {
      "text/plain": [
       "4000"
      ]
     },
     "execution_count": 28,
     "metadata": {},
     "output_type": "execute_result"
    }
   ],
   "source": [
    "max([10, 2, 4000, 300])"
   ]
  },
  {
   "cell_type": "markdown",
   "id": "8530abdb",
   "metadata": {},
   "source": [
    "## Spreminjanje seznamov\n",
    "\n",
    "Za razliko od nizov lahko vrednosti v seznamih tudi spreminjamo:"
   ]
  },
  {
   "cell_type": "code",
   "execution_count": 29,
   "id": "557935e4",
   "metadata": {},
   "outputs": [
    {
     "data": {
      "text/plain": [
       "20"
      ]
     },
     "execution_count": 29,
     "metadata": {},
     "output_type": "execute_result"
    }
   ],
   "source": [
    "sez = [10, 20, 30]\n",
    "sez[1]"
   ]
  },
  {
   "cell_type": "code",
   "execution_count": 30,
   "id": "763d62e1",
   "metadata": {},
   "outputs": [
    {
     "data": {
      "text/plain": [
       "[10, 40, 30]"
      ]
     },
     "execution_count": 30,
     "metadata": {},
     "output_type": "execute_result"
    }
   ],
   "source": [
    "sez[1] = 40\n",
    "sez"
   ]
  },
  {
   "cell_type": "markdown",
   "id": "f74631f9",
   "metadata": {},
   "source": [
    "Zamenjamo lahko tudi celotno **rezino**"
   ]
  },
  {
   "cell_type": "code",
   "execution_count": 31,
   "id": "aca6ee3f",
   "metadata": {},
   "outputs": [
    {
     "data": {
      "text/plain": [
       "[20, 30]"
      ]
     },
     "execution_count": 31,
     "metadata": {},
     "output_type": "execute_result"
    }
   ],
   "source": [
    "sez = [10, 20, 30, 40]\n",
    "sez[1:3]\n",
    "[20, 30]"
   ]
  },
  {
   "cell_type": "code",
   "execution_count": 32,
   "id": "65d45499",
   "metadata": {},
   "outputs": [
    {
     "data": {
      "text/plain": [
       "[10, 0, 0, 0, 40]"
      ]
     },
     "execution_count": 32,
     "metadata": {},
     "output_type": "execute_result"
    }
   ],
   "source": [
    "sez[1:3] = [0, 0, 0]\n",
    "sez"
   ]
  },
  {
   "cell_type": "markdown",
   "id": "499a8ca9",
   "metadata": {},
   "source": [
    "Če nadomestna rezina ni enake dolžine kot prvotna, se seznam ustrezno skrajša ali podaljša. Nadomestimo tudi prazno rezino, s čimer nove elemente vrinemo v seznam. Nadomeščanje prazne rezine ni isto kot nadomeščanje elementa z istim indeksom kot rezina:"
   ]
  },
  {
   "cell_type": "code",
   "execution_count": 33,
   "id": "12fbfbfa",
   "metadata": {},
   "outputs": [
    {
     "data": {
      "text/plain": [
       "[10, 20, 0, 0, 0, 30, 40]"
      ]
     },
     "execution_count": 33,
     "metadata": {},
     "output_type": "execute_result"
    }
   ],
   "source": [
    "sez = [10, 20, 30, 40]\n",
    "sez[2:2] = [0, 0, 0]\n",
    "sez"
   ]
  },
  {
   "cell_type": "code",
   "execution_count": 34,
   "id": "62811368",
   "metadata": {},
   "outputs": [
    {
     "data": {
      "text/plain": [
       "[10, 20, [0, 0, 0], 40]"
      ]
     },
     "execution_count": 34,
     "metadata": {},
     "output_type": "execute_result"
    }
   ],
   "source": [
    "sez = [10, 20, 30, 40]\n",
    "sez[2] = [0, 0, 0]\n",
    "sez"
   ]
  },
  {
   "cell_type": "markdown",
   "id": "79bd729b",
   "metadata": {},
   "source": [
    "Tako elemente kot rezine lahko tudi **brišemo**"
   ]
  },
  {
   "cell_type": "code",
   "execution_count": 35,
   "id": "0e62d73b",
   "metadata": {},
   "outputs": [
    {
     "data": {
      "text/plain": [
       "[10, 30, 40, 50]"
      ]
     },
     "execution_count": 35,
     "metadata": {},
     "output_type": "execute_result"
    }
   ],
   "source": [
    "sez = [10, 20, 30, 40, 50]\n",
    "del sez[1]\n",
    "sez"
   ]
  },
  {
   "cell_type": "code",
   "execution_count": 36,
   "id": "f725033a",
   "metadata": {},
   "outputs": [],
   "source": [
    "sez = [10, 20, 30, 40, 50]\n",
    "del sez[2:4]"
   ]
  },
  {
   "cell_type": "markdown",
   "id": "778296d2",
   "metadata": {},
   "source": [
    "Pri spreminjanju seznamov je treba biti previden, saj ne deluje tako, kot smo navajeni pri spreminjanju vrednosti spremenljivk. Na primer, če pišemo"
   ]
  },
  {
   "cell_type": "code",
   "execution_count": 37,
   "id": "0b97cad1",
   "metadata": {},
   "outputs": [
    {
     "data": {
      "text/plain": [
       "5"
      ]
     },
     "execution_count": 37,
     "metadata": {},
     "output_type": "execute_result"
    }
   ],
   "source": [
    "a = 5\n",
    "b = a\n",
    "a = 0\n",
    "b"
   ]
  },
  {
   "cell_type": "markdown",
   "id": "2bc08024",
   "metadata": {},
   "source": [
    "Vidimo, da se vrednost spremenljivke `b` ni spremenila, ko smo spremenili `a`, saj smo jo v drugi vrstici nastavili na število 5\\. Pri seznamih je stvar malo drugačna. Če pišemo"
   ]
  },
  {
   "cell_type": "code",
   "execution_count": 38,
   "id": "d2f9c473",
   "metadata": {},
   "outputs": [
    {
     "data": {
      "text/plain": [
       "[1, 1, 1]"
      ]
     },
     "execution_count": 38,
     "metadata": {},
     "output_type": "execute_result"
    }
   ],
   "source": [
    "a = [1, 1, 1]\n",
    "b = a\n",
    "a = [2, 2, 2]\n",
    "b"
   ]
  },
  {
   "cell_type": "markdown",
   "id": "100d0fb2",
   "metadata": {},
   "source": [
    "so stvari še vedno take, kot bi jih pričakovali. Vrednost `b` smo nastavili na isti seznam kot `a`, vendar smo potem rekli, da naj bo v `a` shranjen drugačen seznam, s čimer na vrednost v `b` nismo vplivali. Če pa pišemo"
   ]
  },
  {
   "cell_type": "code",
   "execution_count": 39,
   "id": "de510141",
   "metadata": {},
   "outputs": [
    {
     "data": {
      "text/plain": [
       "[1, 2, 1]"
      ]
     },
     "execution_count": 39,
     "metadata": {},
     "output_type": "execute_result"
    }
   ],
   "source": [
    "a = [1, 1, 1]\n",
    "b = a\n",
    "a[1] = 2\n",
    "b"
   ]
  },
  {
   "cell_type": "markdown",
   "id": "6aa76ecc",
   "metadata": {},
   "source": [
    "se je s tem, ko smo spremenili `a`, spremenil tudi `b`. Kaj se je zgodilo? Ko smo napisali `b = a`, smo povedali, naj bo v `b` shranjen isti seznam kot `a`. In z `a[1] = 2` smo povedali, naj se na mesto `1` v seznamu, shranjenem v `a`, zapiše 2\\. Ker je v `b` shranjen isti (ne le enak) seznam kot v `a`, je s tem tudi seznam v `b` drugačen. Da je zmeda večja, `+=` ni samo okrajšava za `=` in `+`, kot smo navajeni pri številih:"
   ]
  },
  {
   "cell_type": "code",
   "execution_count": 40,
   "id": "79719326",
   "metadata": {},
   "outputs": [
    {
     "data": {
      "text/plain": [
       "[1, 1, 1]"
      ]
     },
     "execution_count": 40,
     "metadata": {},
     "output_type": "execute_result"
    }
   ],
   "source": [
    "a = [1, 1, 1]\n",
    "b = a\n",
    "a = a + [2, 2, 2]\n",
    "b"
   ]
  },
  {
   "cell_type": "code",
   "execution_count": 41,
   "id": "9af585c2",
   "metadata": {},
   "outputs": [
    {
     "data": {
      "text/plain": [
       "[1, 1, 1, 2, 2, 2]"
      ]
     },
     "execution_count": 41,
     "metadata": {},
     "output_type": "execute_result"
    }
   ],
   "source": [
    "a = [1, 1, 1]\n",
    "b = a\n",
    "a += [2, 2, 2]\n",
    "b"
   ]
  },
  {
   "cell_type": "markdown",
   "id": "9ed02ab3",
   "metadata": {},
   "source": [
    "V prvem primeru izračunamo nov seznam `a + [2, 2, 2]` in ga shranimo pod ime `a`, s čimer se `b` ne spremeni. V drugem primeru pa je `+=` operacija, ki razširi obstoječi seznam. Ker gre pri `a` in `b` za isti seznam, se spremeni tudi seznam v `b`.\n",
    "\n",
    "Pogosta past, v katero se na začetku ujamemo zaradi spremenljivosti seznamov, je izračun identične matrike. Vemo že, da lahko v Pythonu seznam pomnožimo s številom:"
   ]
  },
  {
   "cell_type": "code",
   "execution_count": 42,
   "id": "7e7d545b",
   "metadata": {},
   "outputs": [
    {
     "data": {
      "text/plain": [
       "[0, 0, 0]"
      ]
     },
     "execution_count": 42,
     "metadata": {},
     "output_type": "execute_result"
    }
   ],
   "source": [
    "3 * [0]"
   ]
  },
  {
   "cell_type": "markdown",
   "id": "a20459da",
   "metadata": {},
   "source": [
    "To nam da idejo, da bi lahko na isti način izračunali ničelno matriko:"
   ]
  },
  {
   "cell_type": "code",
   "execution_count": 43,
   "id": "5c385672",
   "metadata": {},
   "outputs": [
    {
     "data": {
      "text/plain": [
       "[[0, 0, 0], [0, 0, 0], [0, 0, 0]]"
      ]
     },
     "execution_count": 43,
     "metadata": {},
     "output_type": "execute_result"
    }
   ],
   "source": [
    "3 * [3 * [0]]"
   ]
  },
  {
   "cell_type": "markdown",
   "id": "a5d87f29",
   "metadata": {},
   "source": [
    "Izračun je videti pravilen, vendar vse tri vrstice te matrike kažejo na isti seznam. To je tako, kot če bi pisali:"
   ]
  },
  {
   "cell_type": "code",
   "execution_count": 44,
   "id": "68cdfa79",
   "metadata": {},
   "outputs": [],
   "source": [
    "vrstica = [0, 0, 0]"
   ]
  },
  {
   "cell_type": "code",
   "execution_count": 45,
   "id": "5d2ec23e",
   "metadata": {},
   "outputs": [],
   "source": [
    "matrika = [vrstica, vrstica, vrstica]"
   ]
  },
  {
   "cell_type": "markdown",
   "id": "9ea57fdd",
   "metadata": {},
   "source": [
    "Poskusimo iz te matrike dobiti identično matriko tako, da po diagonali nastavimo enice. Najprej nastavimo prvi element v prvi vrstici:"
   ]
  },
  {
   "cell_type": "code",
   "execution_count": 46,
   "id": "cd8e29bb",
   "metadata": {},
   "outputs": [
    {
     "data": {
      "text/plain": [
       "[[1, 0, 0], [1, 0, 0], [1, 0, 0]]"
      ]
     },
     "execution_count": 46,
     "metadata": {},
     "output_type": "execute_result"
    }
   ],
   "source": [
    "matrika[0][0] = 1\n",
    "matrika"
   ]
  },
  {
   "cell_type": "markdown",
   "id": "f72b6820",
   "metadata": {},
   "source": [
    "Kaj se je zgodilo? Ker druga in tretja vrstica kažeta na isti seznam kot prva, smo tudi v njima prvi element popravili na 1\\. Če sedaj nastavimo še drugi element v drugi vrstici in tretjega v tretji vrstici se zgodba ponovi:"
   ]
  },
  {
   "cell_type": "code",
   "execution_count": 47,
   "id": "3e75b947",
   "metadata": {},
   "outputs": [
    {
     "data": {
      "text/plain": [
       "[[1, 1, 1], [1, 1, 1], [1, 1, 1]]"
      ]
     },
     "execution_count": 47,
     "metadata": {},
     "output_type": "execute_result"
    }
   ],
   "source": [
    "matrika[1][1] = 1\n",
    "matrika[2][2] = 1\n",
    "matrika"
   ]
  },
  {
   "cell_type": "markdown",
   "id": "28df1249",
   "metadata": {},
   "source": [
    "Če želimo identično matriko izračunati na pravilen način, moramo za predstavitev vsake vrstice podati svoj seznam, zato ne moremo uporabiti le pomnoževanja seznamov.\n",
    "\n",
    "## Vgrajene metode na seznamih\n",
    "\n",
    "Kot pri nizih za večino pogosto uporabljanih stvari na seznamih obstajajo že vgrajene metode. Te povečini ne vračajo ničesar, temveč le spremenijo dani seznam. Izjemi sta metodi `index` in `count`, ki vrneta vrednost in seznam pustita pri miru, ter metoda `pop` ki tako spremeni seznam kot vrne vrednost. Vse metode so naštete v [uradni dokumentaciji](https://docs.python.org/3/tutorial/datastructures.html#more-on-lists), najbolj osnovne izmed njih pa so:\n",
    "\n",
    "- `sez.append(x)` na konec seznama `sez` doda element `x`."
   ]
  },
  {
   "cell_type": "code",
   "execution_count": 48,
   "id": "a904f724",
   "metadata": {},
   "outputs": [
    {
     "data": {
      "text/plain": [
       "[10, 20, 30, 40]"
      ]
     },
     "execution_count": 48,
     "metadata": {},
     "output_type": "execute_result"
    }
   ],
   "source": [
    "sez = [10, 20, 30]\n",
    "sez.append(40)\n",
    "sez"
   ]
  },
  {
   "cell_type": "markdown",
   "id": "654ccb1e",
   "metadata": {},
   "source": [
    "Metodo `append` pogosto uporabljamo za izračun seznama ustreznih elementov. To storimo tako, da ustvarimo prazen seznam, nato pa vanj z metodo `append` dodamo vsak ustrezen element. To je podoben postopek kot pri izračunu vsote ustreznih elementov, kjer smo ustvarili spremenljivko z začetno vrednostjo 0, nato pa ji prištevali ustrezne elemente.\n",
    "\n",
    "- `sez.extend(sez2)` na konec seznama `sez` doda vse elemente iz seznama `sez2`."
   ]
  },
  {
   "cell_type": "code",
   "execution_count": 49,
   "id": "276107b0",
   "metadata": {},
   "outputs": [
    {
     "data": {
      "text/plain": [
       "[10, 20, 30, 40, 50]"
      ]
     },
     "execution_count": 49,
     "metadata": {},
     "output_type": "execute_result"
    }
   ],
   "source": [
    "sez = [10, 20, 30]\n",
    "sez.extend([40, 50])\n",
    "sez"
   ]
  },
  {
   "cell_type": "markdown",
   "id": "a1ac844f",
   "metadata": {},
   "source": [
    "Okrajšava `+=`, ki smo jo videli prej, pokliče natanko metodo `extend`."
   ]
  },
  {
   "cell_type": "code",
   "execution_count": 50,
   "id": "27b97b66",
   "metadata": {},
   "outputs": [
    {
     "data": {
      "text/plain": [
       "[10, 20, 30, 40, 50]"
      ]
     },
     "execution_count": 50,
     "metadata": {},
     "output_type": "execute_result"
    }
   ],
   "source": [
    "sez = [10, 20, 30]\n",
    "sez += [40, 50]\n",
    "sez"
   ]
  },
  {
   "cell_type": "markdown",
   "id": "84b3c8b4",
   "metadata": {},
   "source": [
    "- `sez.insert(i, x)` pred element na mestu `i` v seznamu `sez` vstavi element `x`."
   ]
  },
  {
   "cell_type": "code",
   "execution_count": 51,
   "id": "46f438f0",
   "metadata": {},
   "outputs": [
    {
     "data": {
      "text/plain": [
       "[10, 0, 20, 30]"
      ]
     },
     "execution_count": 51,
     "metadata": {},
     "output_type": "execute_result"
    }
   ],
   "source": [
    "sez = [10, 20, 30]\n",
    "sez.insert(1, 0)\n",
    "sez\n",
    "[10, 0, 20, 30]"
   ]
  },
  {
   "cell_type": "markdown",
   "id": "219ab232",
   "metadata": {},
   "source": [
    "- `sez.remove(x)` iz seznama `sez` odstrani prvo pojavitev vrednosti `x`."
   ]
  },
  {
   "cell_type": "code",
   "execution_count": 52,
   "id": "a4508695",
   "metadata": {},
   "outputs": [
    {
     "data": {
      "text/plain": [
       "[1, 1, 2, 3]"
      ]
     },
     "execution_count": 52,
     "metadata": {},
     "output_type": "execute_result"
    }
   ],
   "source": [
    "sez = [1, 2, 1, 2, 3]\n",
    "sez.remove(2)\n",
    "sez"
   ]
  },
  {
   "cell_type": "markdown",
   "id": "d02c3ff9",
   "metadata": {},
   "source": [
    "- `sez.pop(i=-1)` vrne element na mestu `i` v seznamu `sez` in odstrani ta element iz seznama. Če indeksa `i` ne podamo, metoda odstrani zadnji element."
   ]
  },
  {
   "cell_type": "code",
   "execution_count": 53,
   "id": "cdb8e25b",
   "metadata": {},
   "outputs": [
    {
     "data": {
      "text/plain": [
       "30"
      ]
     },
     "execution_count": 53,
     "metadata": {},
     "output_type": "execute_result"
    }
   ],
   "source": [
    "sez = [10, 20, 30]\n",
    "sez.pop()"
   ]
  },
  {
   "cell_type": "code",
   "execution_count": 54,
   "id": "f9ab81af",
   "metadata": {},
   "outputs": [
    {
     "data": {
      "text/plain": [
       "[10, 20]"
      ]
     },
     "execution_count": 54,
     "metadata": {},
     "output_type": "execute_result"
    }
   ],
   "source": [
    "sez"
   ]
  },
  {
   "cell_type": "markdown",
   "id": "a62c7988",
   "metadata": {},
   "source": [
    "- `sez.clear()` iz seznama `sez` pobriše vse elemente."
   ]
  },
  {
   "cell_type": "code",
   "execution_count": 55,
   "id": "44d91651",
   "metadata": {},
   "outputs": [
    {
     "data": {
      "text/plain": [
       "[]"
      ]
     },
     "execution_count": 55,
     "metadata": {},
     "output_type": "execute_result"
    }
   ],
   "source": [
    "sez = [1, 2, 1, 2, 3]\n",
    "sez.clear()\n",
    "sez"
   ]
  },
  {
   "cell_type": "markdown",
   "id": "5ea55c62",
   "metadata": {},
   "source": [
    "- `sez.index(x)` vrne prvo mesto, na katerem se v seznamu `sez` nahaja vrednost `x`.\n",
    "\n",
    "- `sez.count(x)` vrne število pojavitev vrednosti `x` v seznamu `sez`.\n",
    "\n",
    "- `sez.sort(key=None, reverse=False)` na mestu uredi seznam glede na vrednosti funkcije `key`. Če parameter `reverse` nastavimo na `True`, bo seznam urejen padajoče."
   ]
  },
  {
   "cell_type": "code",
   "execution_count": 56,
   "id": "1176482f",
   "metadata": {},
   "outputs": [
    {
     "data": {
      "text/plain": [
       "[1, 2, 4, 8, 16]"
      ]
     },
     "execution_count": 56,
     "metadata": {},
     "output_type": "execute_result"
    }
   ],
   "source": [
    "sez = [4, 1, 8, 2, 16]\n",
    "sez.sort()\n",
    "sez"
   ]
  },
  {
   "cell_type": "code",
   "execution_count": 57,
   "id": "aa82b0ee",
   "metadata": {},
   "outputs": [
    {
     "data": {
      "text/plain": [
       "[1, 2, 4, 8, 16]"
      ]
     },
     "execution_count": 57,
     "metadata": {},
     "output_type": "execute_result"
    }
   ],
   "source": [
    "sez = [4, 1, 8, 2, 16]\n",
    "sorted(sez)\n",
    "[1, 2, 4, 8, 16]"
   ]
  },
  {
   "cell_type": "markdown",
   "id": "42aa8ddd",
   "metadata": {},
   "source": [
    "- `sez.reverse()` obrne seznam `sez` na glavo."
   ]
  },
  {
   "cell_type": "code",
   "execution_count": 58,
   "id": "83ebda07",
   "metadata": {},
   "outputs": [
    {
     "data": {
      "text/plain": [
       "[16, 8, 4, 2, 1]"
      ]
     },
     "execution_count": 58,
     "metadata": {},
     "output_type": "execute_result"
    }
   ],
   "source": [
    "sez = [1, 2, 4, 8, 16]\n",
    "sez.reverse()\n",
    "sez"
   ]
  },
  {
   "cell_type": "markdown",
   "id": "4add0839",
   "metadata": {},
   "source": [
    "TODO: primerjava z rezinami"
   ]
  },
  {
   "cell_type": "code",
   "execution_count": 59,
   "id": "ba957bf9",
   "metadata": {},
   "outputs": [
    {
     "data": {
      "text/plain": [
       "[1, 2, 4, 8, 16]"
      ]
     },
     "execution_count": 59,
     "metadata": {},
     "output_type": "execute_result"
    }
   ],
   "source": [
    "sez = [1, 2, 4, 8, 16]\n",
    "sez[::-1]\n",
    "sez"
   ]
  },
  {
   "cell_type": "markdown",
   "id": "b36077f5",
   "metadata": {},
   "source": [
    "## Izpeljani seznami\n",
    "\n",
    "Sezname dostikrat lepše zgradimo z _izpeljanimi seznami_, ki so oblike `[izraz for spremenljivka in mozne_vrednosti]`. Podobno kot v matematiki množice pišemo kot ${ 2 \\cdot n \\mid n \\in {1, \\dots, 9}}$, lahko v Pythonu napišemo seznam:"
   ]
  },
  {
   "cell_type": "code",
   "execution_count": 60,
   "id": "81a4b9b8",
   "metadata": {},
   "outputs": [
    {
     "data": {
      "text/plain": [
       "[2, 4, 6, 8, 10, 12, 14, 16, 18]"
      ]
     },
     "execution_count": 60,
     "metadata": {},
     "output_type": "execute_result"
    }
   ],
   "source": [
    "[2 * n for n in range(1, 10)]"
   ]
  },
  {
   "cell_type": "markdown",
   "id": "c390680d",
   "metadata": {},
   "source": [
    "ali pa na primer:"
   ]
  },
  {
   "cell_type": "code",
   "execution_count": 61,
   "id": "c394f745",
   "metadata": {},
   "outputs": [
    {
     "data": {
      "text/plain": [
       "[1, 2, 4, 8, 16, 32, 64, 128, 256, 512]"
      ]
     },
     "execution_count": 61,
     "metadata": {},
     "output_type": "execute_result"
    }
   ],
   "source": [
    "potence = [2 ** n for n in range(10)]\n",
    "potence"
   ]
  },
  {
   "cell_type": "code",
   "execution_count": 62,
   "id": "1b36e8ff",
   "metadata": {},
   "outputs": [
    {
     "data": {
      "text/plain": [
       "[0, 1, 3, 7, 15, 31, 63, 127, 255, 511]"
      ]
     },
     "execution_count": 62,
     "metadata": {},
     "output_type": "execute_result"
    }
   ],
   "source": [
    "[n - 1 for n in potence]"
   ]
  },
  {
   "cell_type": "code",
   "execution_count": 63,
   "id": "b898024a",
   "metadata": {},
   "outputs": [
    {
     "data": {
      "text/plain": [
       "[3, 1, 4, 1, 5, 9, 2]"
      ]
     },
     "execution_count": 63,
     "metadata": {},
     "output_type": "execute_result"
    }
   ],
   "source": [
    "[int(stevka) for stevka in str(3141592)]"
   ]
  },
  {
   "cell_type": "markdown",
   "id": "c21d62db",
   "metadata": {},
   "source": [
    "Če želimo, lahko v izpeljani seznamih oblike `[izraz for spremenljivka in mozne_vrednosti if pogoj]` s pogojem določimo, katere elemente želimo:"
   ]
  },
  {
   "cell_type": "code",
   "execution_count": 64,
   "id": "1d7751b9",
   "metadata": {},
   "outputs": [
    {
     "data": {
      "text/plain": [
       "[2, 8, 14]"
      ]
     },
     "execution_count": 64,
     "metadata": {},
     "output_type": "execute_result"
    }
   ],
   "source": [
    "[2 * n for n in range(1, 10) if n % 3 == 1]"
   ]
  },
  {
   "cell_type": "code",
   "execution_count": 65,
   "id": "0b6bda75",
   "metadata": {},
   "outputs": [
    {
     "data": {
      "text/plain": [
       "60"
      ]
     },
     "execution_count": 65,
     "metadata": {},
     "output_type": "execute_result"
    }
   ],
   "source": [
    "def vsota_pozitivnih_elementov(seznam):\n",
    "    \"\"\"Vrne seznam vseh pozitivnih elementov danega seznama.\"\"\"\n",
    "    return sum([element for element in seznam if element > 0])\n",
    "vsota_pozitivnih_elementov([10, -20, 50])"
   ]
  },
  {
   "cell_type": "markdown",
   "id": "a9b870f7",
   "metadata": {},
   "source": [
    "Zanke v izpeljanih seznamih so lahko gnezdene na dva načina. Prvi je, da kot elemente izpeljanega seznama spet podamo izpeljane sezname. Na primer, identično matriko lahko naredimo kot:"
   ]
  },
  {
   "cell_type": "code",
   "execution_count": 66,
   "id": "7b7143bb",
   "metadata": {},
   "outputs": [],
   "source": [
    "def identicna_matrika(n):\n",
    "    return [[1 if i == j else 0 for j in range(n)] for i in range(n)]"
   ]
  },
  {
   "cell_type": "markdown",
   "id": "1fc81294",
   "metadata": {},
   "source": [
    "Lahko pa v izpeljanem seznamu naštejemo več zank, pri čemer ob vsakem koraku v obhodu prve spremenljivke naredimo obhod vseh preostalih:"
   ]
  },
  {
   "cell_type": "code",
   "execution_count": 67,
   "id": "17364498",
   "metadata": {},
   "outputs": [
    {
     "data": {
      "text/plain": [
       "[(0, 0),\n",
       " (0, 1),\n",
       " (0, 2),\n",
       " (0, 3),\n",
       " (0, 4),\n",
       " (1, 1),\n",
       " (1, 2),\n",
       " (1, 3),\n",
       " (1, 4),\n",
       " (2, 2),\n",
       " (2, 3),\n",
       " (2, 4),\n",
       " (3, 3),\n",
       " (3, 4),\n",
       " (4, 4)]"
      ]
     },
     "execution_count": 67,
     "metadata": {},
     "output_type": "execute_result"
    }
   ],
   "source": [
    "def razlicni_pari(n):\n",
    "    return [(i, j) for i in range(n) for j in range(i, n)]\n",
    "razlicni_pari(5)"
   ]
  },
  {
   "cell_type": "markdown",
   "id": "5890761f",
   "metadata": {},
   "source": [
    "Izpeljani seznami pa niso vedno rešitev, tudi če so krajši. Na primer, če je vsaka vrednost v seznamu odvisna od prejšnjih, jih ne moremo uporabiti. Z saj je\n",
    "\n",
    "## Nabori\n",
    "\n",
    "Nabori so prav tako kot seznami sestavljeni iz več elementov, pišemo pa jih med običajne oklepaje: `(1, 2, 3)`. Nabor z enim elementom pišemo kot `(1, )` (razmislite, zakaj ga ne pišemo kot `(1)`). Namen naborov je hranjenje heterogenih podatkov. To pomeni, da imajo elementi na različnih mestih različne pomene. Na primer, če vemo da vsako število v seznamu `[103, 111, 98, 106]` predstavlja rezultat neke meritve, bi podobno sklepali tudi, če bi v seznam dodali še kakšno drugo številko. Pri datumu `(25, 6, 1991)` pa imajo različne komponente različne pomene: prva predstavlja dan, druga mesec in tretje leto. Če bi dodali še četrto številko, bi morali povedati, kaj pomeni. Python nam seveda omogoča, da bi meritve zapisali kot `(103, 111, 98, 106)`, datum pa kot `[25, 6, 1991]`, vendar bomo sezname uporabljali za **poljubno število podatkov z enakim pomenom**, nabore pa za **fiksno število podatkov z različnimi pomeni**.\n",
    "\n",
    "S tem namenom so nabori v Pythonu nespremenljivi:"
   ]
  },
  {
   "cell_type": "code",
   "execution_count": 68,
   "id": "00a8990c",
   "metadata": {
    "tags": [
     "raises-exception"
    ]
   },
   "outputs": [
    {
     "ename": "TypeError",
     "evalue": "'tuple' object does not support item assignment",
     "output_type": "error",
     "traceback": [
      "\u001b[0;31m---------------------------------------------------------------------------\u001b[0m",
      "\u001b[0;31mTypeError\u001b[0m                                 Traceback (most recent call last)",
      "\u001b[0;32m/tmp/ipykernel_1926/3425797582.py\u001b[0m in \u001b[0;36m<module>\u001b[0;34m\u001b[0m\n\u001b[1;32m      1\u001b[0m \u001b[0mx\u001b[0m \u001b[0;34m=\u001b[0m \u001b[0;34m(\u001b[0m\u001b[0;36m1\u001b[0m\u001b[0;34m,\u001b[0m \u001b[0;36m1\u001b[0m\u001b[0;34m,\u001b[0m \u001b[0;36m1\u001b[0m\u001b[0;34m)\u001b[0m\u001b[0;34m\u001b[0m\u001b[0;34m\u001b[0m\u001b[0m\n\u001b[0;32m----> 2\u001b[0;31m \u001b[0mx\u001b[0m\u001b[0;34m[\u001b[0m\u001b[0;36m2\u001b[0m\u001b[0;34m]\u001b[0m \u001b[0;34m=\u001b[0m \u001b[0;36m2\u001b[0m\u001b[0;34m\u001b[0m\u001b[0;34m\u001b[0m\u001b[0m\n\u001b[0m",
      "\u001b[0;31mTypeError\u001b[0m: 'tuple' object does not support item assignment"
     ]
    }
   ],
   "source": [
    "x = (1, 1, 1)\n",
    "x[2] = 2"
   ]
  },
  {
   "cell_type": "markdown",
   "id": "a433a922",
   "metadata": {},
   "source": [
    "Sicer pa za nabore veljajo podobne lastnosti kot za sezname: lahko jih stikamo in množimo; lahko izračunamo njihovo vsoto, minimum, maksimum in dolžino; s predikatom `in` lahko pogledamo, ali vsebujejo dani element; lahko jih indeksiramo in delamo rezine; po njih se lahko sprehodimo z zanko `for`; od metod pa sta na voljo le `count` in `index`, saj ti dve edini ne spreminjata ničesar."
   ]
  },
  {
   "cell_type": "code",
   "execution_count": 69,
   "id": "d21d5bbf",
   "metadata": {},
   "outputs": [
    {
     "data": {
      "text/plain": [
       "(True, False, True)"
      ]
     },
     "execution_count": 69,
     "metadata": {},
     "output_type": "execute_result"
    }
   ],
   "source": [
    "(True, False) + (True,)"
   ]
  },
  {
   "cell_type": "code",
   "execution_count": 70,
   "id": "e6bb1199",
   "metadata": {},
   "outputs": [
    {
     "data": {
      "text/plain": [
       "('x', 'y', 'x', 'y', 'x', 'y')"
      ]
     },
     "execution_count": 70,
     "metadata": {},
     "output_type": "execute_result"
    }
   ],
   "source": [
    "3 * ('x', 'y')"
   ]
  },
  {
   "cell_type": "code",
   "execution_count": 71,
   "id": "23074e4a",
   "metadata": {},
   "outputs": [
    {
     "data": {
      "text/plain": [
       "False"
      ]
     },
     "execution_count": 71,
     "metadata": {},
     "output_type": "execute_result"
    }
   ],
   "source": [
    "5 in (1, 2, 3)"
   ]
  },
  {
   "cell_type": "code",
   "execution_count": 72,
   "id": "6b572874",
   "metadata": {},
   "outputs": [
    {
     "data": {
      "text/plain": [
       "10"
      ]
     },
     "execution_count": 72,
     "metadata": {},
     "output_type": "execute_result"
    }
   ],
   "source": [
    "(1, 2, 5, 10, 20, 50)[3]"
   ]
  },
  {
   "cell_type": "code",
   "execution_count": 73,
   "id": "1e7a0bb0",
   "metadata": {},
   "outputs": [
    {
     "data": {
      "text/plain": [
       "(10, 20, 50)"
      ]
     },
     "execution_count": 73,
     "metadata": {},
     "output_type": "execute_result"
    }
   ],
   "source": [
    "(1, 2, 5, 10, 20, 50)[3:]"
   ]
  },
  {
   "cell_type": "markdown",
   "id": "ec24dec7",
   "metadata": {},
   "source": [
    "Če imamo nabor, ga lahko razstavimo na posamezne spremenljivke, na primer"
   ]
  },
  {
   "cell_type": "code",
   "execution_count": 74,
   "id": "da0d13c7",
   "metadata": {},
   "outputs": [
    {
     "data": {
      "text/plain": [
       "'25. 6. 1991'"
      ]
     },
     "execution_count": 74,
     "metadata": {},
     "output_type": "execute_result"
    }
   ],
   "source": [
    "datum = (25, 6, 1991)\n",
    "dan, mesec, leto = datum\n",
    "f'{dan}. {mesec}. {leto}'"
   ]
  },
  {
   "cell_type": "markdown",
   "id": "e1d9e1a5",
   "metadata": {},
   "source": [
    "V resnici gre pri hkratnem prireditvenem stavku kot je\n",
    "\n",
    "```{code-block}\n",
    "x, y = 10, 20\n",
    "```\n",
    "\n",
    "za to, da najprej naredimo torej nabor z dvema komponentama oziroma par `(10, 20)`, nato pa ga razstavimo na dve spremenljivki.\n",
    "\n",
    "## Funkciji `enumerate` in `zip`\n",
    "\n",
    "Dostikrat želimo hkrati dostopati do elementov seznama in njihovih indeksov.\n",
    "\n",
    "Predstavimo polinome s seznamom koeficientov, urejenim od prostega proti vodilnemu členu. Polinom $3 - x^2$ bi tako predstavili s seznamom `[3, 0, -1]`. Pri izračunu vrednosti polinoma želimo hkrati dostopati tako do koeficientov kot do njihovih indeksov, ki ustrezajo potenci. To lahko storimo na več načinov. Lahko se vozimo po indeksih in prek njih dostopamo do koeficientov:"
   ]
  },
  {
   "cell_type": "code",
   "execution_count": 75,
   "id": "54651cc6",
   "metadata": {},
   "outputs": [],
   "source": [
    "def vrednost_polinoma(polinom, x):\n",
    "    vsota = 0\n",
    "    for i in range(len(polinom)):\n",
    "        koef = polinom[i]\n",
    "        vsota += koef * x ** i\n",
    "    return vsota"
   ]
  },
  {
   "cell_type": "code",
   "execution_count": 76,
   "id": "e5777b6a",
   "metadata": {},
   "outputs": [
    {
     "data": {
      "text/plain": [
       "4"
      ]
     },
     "execution_count": 76,
     "metadata": {},
     "output_type": "execute_result"
    }
   ],
   "source": [
    "vrednost_polinoma([3, 0, 1], 1)"
   ]
  },
  {
   "cell_type": "code",
   "execution_count": 77,
   "id": "84a6ef35",
   "metadata": {},
   "outputs": [
    {
     "data": {
      "text/plain": [
       "7"
      ]
     },
     "execution_count": 77,
     "metadata": {},
     "output_type": "execute_result"
    }
   ],
   "source": [
    "vrednost_polinoma([3, 0, 1], 2)"
   ]
  },
  {
   "cell_type": "markdown",
   "id": "bcbf238c",
   "metadata": {},
   "source": [
    "Lahko se vozimo po koeficientih in hkrati povečujemo števec indeksa:"
   ]
  },
  {
   "cell_type": "code",
   "execution_count": 78,
   "id": "5debe701",
   "metadata": {},
   "outputs": [],
   "source": [
    "def vrednost_polinoma(polinom, x):\n",
    "    vsota = 0\n",
    "    i = 0\n",
    "    for koef in polinom:\n",
    "        vsota += koef * x ** i\n",
    "        i += 1\n",
    "    return vsota"
   ]
  },
  {
   "cell_type": "markdown",
   "id": "e940c737",
   "metadata": {},
   "source": [
    "````{warning}\n",
    "Paziti moramo, da indeksa ne računamo s pomočjo metode `index`, saj ta vrne indeks prve pojavitve iskane vrednosti, kar je narobe (pa še počasno):\n",
    "\n",
    "    ```{code-cell}\n",
    "    def napacna_vrednost_polinoma(polinom, x):\n",
    "        vsota = 0\n",
    "        for koef in polinom:\n",
    "            i = polinom.index(koef)\n",
    "            vsota += koef * x ** i\n",
    "        return vsota\n",
    "````\n",
    "\n",
    "````\n",
    "```{code-cell}\n",
    "vrednost_polinoma([0, 2, 0, 2], 3)\n",
    "```\n",
    "\n",
    "```{code-cell}\n",
    "napacna_vrednost_polinoma([0, 2, 0, 2], 3)\n",
    "```\n",
    "````\n",
    "\n",
    "````\n",
    "Ker je v spodnjem klicu funkcije metoda `index` za indeks prve pojavitve vrednosti 2 obakrat vrnila 1, je funkcija vrnila $2 \\cdot 3^1 + 2 \\cdot 3^1 = 6$ namesto $2 \\cdot 3^1 + 2 \\cdot 3^3 = 60$.\n",
    "\n",
    "Najbolj enostavno pa je, da uporabimo funkcijo `enumerate`, ki zaporedoma vrača pare, v katerih so druge komponente vrednosti danega seznama, prve komponente pa njihovi indeksi:\n",
    "\n",
    "```{code-cell}\n",
    "for x in enumerate('abc'):\n",
    "    print(x)\n",
    "````\n",
    "\n",
    "Pare, ki nam jih podaja `enumerate` lahko v dve spremenljivki razstavimo tudi v zanki `for`:"
   ]
  },
  {
   "cell_type": "code",
   "execution_count": 79,
   "id": "1c58e2be",
   "metadata": {},
   "outputs": [
    {
     "name": "stdout",
     "output_type": "stream",
     "text": [
      "0 a\n",
      "1 b\n",
      "2 c\n"
     ]
    }
   ],
   "source": [
    "for i, x in enumerate('abc'):\n",
    "    print(i, x)"
   ]
  },
  {
   "cell_type": "markdown",
   "id": "1762e48e",
   "metadata": {},
   "source": [
    "S pomočjo funkcije `enumerate` lahko vrednost polinoma izračunamo kot:"
   ]
  },
  {
   "cell_type": "code",
   "execution_count": 80,
   "id": "6761d5cc",
   "metadata": {},
   "outputs": [],
   "source": [
    "def vrednost_polinoma(polinom, x):\n",
    "    vsota = 0\n",
    "    for i, koef in enumerate(polinom):\n",
    "        vsota += koef * x ** i\n",
    "    return vsota"
   ]
  },
  {
   "cell_type": "markdown",
   "id": "25108066",
   "metadata": {},
   "source": [
    "ali še krajše z izpeljanim seznamom:"
   ]
  },
  {
   "cell_type": "code",
   "execution_count": 81,
   "id": "236a204e",
   "metadata": {},
   "outputs": [],
   "source": [
    "def vrednost_polinoma(polinom, x):\n",
    "    return sum([koef * x ** i for i, koef in enumerate(polinom)])"
   ]
  },
  {
   "cell_type": "markdown",
   "id": "a4b58332",
   "metadata": {},
   "source": [
    "Podobno kot `enumerate` deluje funkcija `zip`, ki sprejme več seznamov, vrne pa zaporedje naborov istoležnih elementov:"
   ]
  },
  {
   "cell_type": "code",
   "execution_count": 82,
   "id": "caf9b309",
   "metadata": {},
   "outputs": [
    {
     "name": "stdout",
     "output_type": "stream",
     "text": [
      "('x', 10, 4)\n",
      "('y', 20, 5)\n",
      "('z', 30, 6)\n"
     ]
    }
   ],
   "source": [
    "for x in zip('xyz', [10, 20, 30], [4, 5, 6]):\n",
    "    print(x)"
   ]
  },
  {
   "cell_type": "markdown",
   "id": "95331cb1",
   "metadata": {},
   "source": [
    "Funkciji se reče `zip`, ker združuje elemente različnih seznamov tako kot zadrga. Vrnjeno zaporedje ima toliko elementov, kot najkrajši argument funkcije:"
   ]
  },
  {
   "cell_type": "code",
   "execution_count": 83,
   "id": "fa57e28e",
   "metadata": {},
   "outputs": [
    {
     "name": "stdout",
     "output_type": "stream",
     "text": [
      "('x', 10)\n",
      "('y', 20)\n",
      "('z', 30)\n"
     ]
    }
   ],
   "source": [
    "for x in zip('xyz', [10, 20, 30, 40]):\n",
    "    print(x)"
   ]
  },
  {
   "cell_type": "markdown",
   "id": "43f82497",
   "metadata": {},
   "source": [
    "S pomočjo funkcije `zip` lahko enostavno izračunamo skalarni produkt:"
   ]
  },
  {
   "cell_type": "code",
   "execution_count": 84,
   "id": "98a752b4",
   "metadata": {},
   "outputs": [],
   "source": [
    "def skalarni_produkt(vektor1, vektor2):\n",
    "    \"\"\"Vrne skalarni produkt dveh vektorjev iste dimenzije.\"\"\"\n",
    "    assert len(vektor1) == len(vektor2)\n",
    "    vsota = 0\n",
    "    for x1, x2 in zip(vektor1, vektor2):\n",
    "        vsota += x1 * x2\n",
    "    return vsota"
   ]
  },
  {
   "cell_type": "markdown",
   "id": "d7ea2b23",
   "metadata": {},
   "source": [
    "ali kot:"
   ]
  },
  {
   "cell_type": "code",
   "execution_count": 85,
   "id": "14f0eaf4",
   "metadata": {},
   "outputs": [],
   "source": [
    "def skalarni_produkt(vektor1, vektor2):\n",
    "    \"\"\"Vrne skalarni produkt dveh vektorjev iste dimenzije.\"\"\"\n",
    "    assert len(vektor1) == len(vektor2)\n",
    "    return sum([x1 * x2 for x1, x2 in zip(vektor1, vektor2)])"
   ]
  },
  {
   "cell_type": "code",
   "execution_count": 86,
   "id": "01d023ca",
   "metadata": {},
   "outputs": [
    {
     "data": {
      "text/plain": [
       "-2"
      ]
     },
     "execution_count": 86,
     "metadata": {},
     "output_type": "execute_result"
    }
   ],
   "source": [
    "skalarni_produkt([1, -2, 5], [-2, 5, 2])"
   ]
  }
 ],
 "metadata": {
  "jupytext": {
   "cell_metadata_filter": "-all",
   "formats": "md:myst",
   "text_representation": {
    "extension": ".md",
    "format_name": "myst",
    "format_version": "0.8",
    "jupytext_version": "1.5.0"
   }
  },
  "kernelspec": {
   "display_name": "Python 3",
   "language": "python",
   "name": "python3"
  },
  "language_info": {
   "codemirror_mode": {
    "name": "ipython",
    "version": 3
   },
   "file_extension": ".py",
   "mimetype": "text/x-python",
   "name": "python",
   "nbconvert_exporter": "python",
   "pygments_lexer": "ipython3",
   "version": "3.7.13"
  },
  "source_map": [
   14,
   26,
   30,
   32,
   36,
   40,
   42,
   46,
   48,
   52,
   57,
   59,
   63,
   65,
   69,
   77,
   81,
   85,
   89,
   93,
   97,
   101,
   103,
   107,
   110,
   114,
   123,
   127,
   129,
   133,
   142,
   150,
   153,
   157,
   166,
   168,
   172,
   184,
   186,
   190,
   194,
   198,
   200,
   206,
   211,
   214,
   218,
   224,
   227,
   231,
   237,
   241,
   245,
   251,
   254,
   258,
   263,
   267,
   272,
   276,
   281,
   285,
   292,
   297,
   303,
   305,
   309,
   311,
   315,
   319,
   321,
   325,
   328,
   332,
   336,
   346,
   350,
   356,
   360,
   364,
   368,
   372,
   377,
   381,
   385,
   389,
   394,
   396,
   400,
   404,
   412,
   418,
   422,
   426,
   430,
   434,
   438,
   444,
   446,
   450,
   455,
   459,
   461,
   465,
   469,
   474,
   478,
   481,
   485,
   489,
   499,
   503,
   507,
   511,
   515,
   519,
   523,
   525,
   529,
   533,
   549,
   558,
   562,
   564,
   568,
   576,
   612,
   615,
   619,
   625,
   629,
   632,
   636,
   639,
   643,
   646,
   650,
   658,
   662,
   669
  ]
 },
 "nbformat": 4,
 "nbformat_minor": 5
}