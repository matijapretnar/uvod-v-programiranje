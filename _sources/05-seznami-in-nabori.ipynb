{
 "cells": [
  {
   "cell_type": "markdown",
   "id": "6b9136b5",
   "metadata": {},
   "source": [
    "(seznami-in-nabori)=\n",
    "\n",
    "# Seznami & nabori\n",
    "\n",
    "Če želimo delati z zaporedjem podatkov, uporabimo sezname. Sename pišemo v oglatih oklepajih, med katerimi napišemo vrednosti, ločene z vejicami, na primer `[10, 20, 30]` je seznam, ki vsebuje tri števila, `[]` pa prazen seznam. Če želimo, lahko vejico pišemo tudi za zadnjim elementom. Seznami so lahko tudi gnezdeni. Na primer, matriko bi predstavili s seznamom seznamov `[[1, 2, 3], [4, 5, 6], [7, 8, 9]]`. V sezname lahko spravimo vrednosti različnih tipov, na primer: `[1, True, [2, 5], \"Niz\", 3.14]` Vendar običajno sezname uporabimo za predstavitev homogene zbirke podatkov, torej da so vse vrednosti istega tipa.\n",
    "\n",
    "## Osnovne operacije na seznamih\n",
    "\n",
    "Precej operacij na seznamih je enakih kot na nizih. Sezname lahko stikamo z operacijo `+` in množimo s celimi števili:"
   ]
  },
  {
   "cell_type": "code",
   "execution_count": 1,
   "id": "a50ec517",
   "metadata": {},
   "outputs": [
    {
     "data": {
      "text/plain": [
       "[True, False, True]"
      ]
     },
     "execution_count": 1,
     "metadata": {},
     "output_type": "execute_result"
    }
   ],
   "source": [
    "[True, False] + [True]"
   ]
  },
  {
   "cell_type": "code",
   "execution_count": 2,
   "id": "7b44bbbf",
   "metadata": {},
   "outputs": [
    {
     "data": {
      "text/plain": [
       "['x', 'y', 'x', 'y', 'x', 'y']"
      ]
     },
     "execution_count": 2,
     "metadata": {},
     "output_type": "execute_result"
    }
   ],
   "source": [
    "3 * ['x', 'y']"
   ]
  },
  {
   "cell_type": "markdown",
   "id": "ce57ad28",
   "metadata": {},
   "source": [
    "Dolžino seznama dobimo s funkcijo `len`:"
   ]
  },
  {
   "cell_type": "code",
   "execution_count": 3,
   "id": "daf9d71a",
   "metadata": {},
   "outputs": [
    {
     "data": {
      "text/plain": [
       "3"
      ]
     },
     "execution_count": 3,
     "metadata": {},
     "output_type": "execute_result"
    }
   ],
   "source": [
    "len([100, 200, 300])"
   ]
  },
  {
   "cell_type": "code",
   "execution_count": 4,
   "id": "c5383454",
   "metadata": {},
   "outputs": [
    {
     "data": {
      "text/plain": [
       "0"
      ]
     },
     "execution_count": 4,
     "metadata": {},
     "output_type": "execute_result"
    }
   ],
   "source": [
    "len([])"
   ]
  },
  {
   "cell_type": "markdown",
   "id": "caf30f7d",
   "metadata": {},
   "source": [
    "Sezname med seboj primerjamo leksikografsko: najprej prvi par, če sta ta dva enaka, naslednji par in tako naprej."
   ]
  },
  {
   "cell_type": "code",
   "execution_count": 5,
   "id": "2074e936",
   "metadata": {},
   "outputs": [
    {
     "data": {
      "text/plain": [
       "True"
      ]
     },
     "execution_count": 5,
     "metadata": {},
     "output_type": "execute_result"
    }
   ],
   "source": [
    "[1, 100, 10000] < [2, 0, 0]"
   ]
  },
  {
   "cell_type": "markdown",
   "id": "e05ffff5",
   "metadata": {},
   "source": [
    "Prav tako imamo na voljo predikata `in` in `not in`, s katerima ugotovimo, ali se nek element pojavlja v seznamu:"
   ]
  },
  {
   "cell_type": "code",
   "execution_count": 6,
   "id": "52c8e760",
   "metadata": {},
   "outputs": [
    {
     "data": {
      "text/plain": [
       "True"
      ]
     },
     "execution_count": 6,
     "metadata": {},
     "output_type": "execute_result"
    }
   ],
   "source": [
    "prastevila = [2, 3, 5, 7, 11, 13, 17]\n",
    "5 in prastevila"
   ]
  },
  {
   "cell_type": "code",
   "execution_count": 7,
   "id": "7f919a54",
   "metadata": {},
   "outputs": [
    {
     "data": {
      "text/plain": [
       "True"
      ]
     },
     "execution_count": 7,
     "metadata": {},
     "output_type": "execute_result"
    }
   ],
   "source": [
    "15 not in prastevila"
   ]
  },
  {
   "cell_type": "markdown",
   "id": "40008ed0",
   "metadata": {},
   "source": [
    "Predikat `in` na seznamih se razlikuje od tistega na nizih v tem, da preverja le pojavitev elementov, ne pa podseznamov:"
   ]
  },
  {
   "cell_type": "code",
   "execution_count": 8,
   "id": "39263852",
   "metadata": {},
   "outputs": [
    {
     "data": {
      "text/plain": [
       "False"
      ]
     },
     "execution_count": 8,
     "metadata": {},
     "output_type": "execute_result"
    }
   ],
   "source": [
    "[3, 5, 7] in prastevila"
   ]
  },
  {
   "cell_type": "markdown",
   "id": "f5a63339",
   "metadata": {},
   "source": [
    "Na primer:"
   ]
  },
  {
   "cell_type": "code",
   "execution_count": 9,
   "id": "03005553",
   "metadata": {},
   "outputs": [],
   "source": [
    "def stevilo_dni(mesec, leto):\n",
    "    if mesec == 2:\n",
    "        return 29 if je_prestopno(leto) else 28\n",
    "    elif mesec in [4, 6, 9, 11]:\n",
    "        return 30\n",
    "    else:\n",
    "        return 31"
   ]
  },
  {
   "cell_type": "markdown",
   "id": "0bcec1ea",
   "metadata": {},
   "source": [
    "Indeksiranje in rezine na seznamih delujejo tako kot na nizih:"
   ]
  },
  {
   "cell_type": "code",
   "execution_count": 10,
   "id": "9b12524d",
   "metadata": {},
   "outputs": [],
   "source": [
    "prastevila = [2, 3, 5, 7, 11, 13, 17]"
   ]
  },
  {
   "cell_type": "code",
   "execution_count": 11,
   "id": "1e54472b",
   "metadata": {},
   "outputs": [
    {
     "data": {
      "text/plain": [
       "5"
      ]
     },
     "execution_count": 11,
     "metadata": {},
     "output_type": "execute_result"
    }
   ],
   "source": [
    "prastevila[2]"
   ]
  },
  {
   "cell_type": "code",
   "execution_count": 12,
   "id": "3462a2d7",
   "metadata": {},
   "outputs": [
    {
     "data": {
      "text/plain": [
       "13"
      ]
     },
     "execution_count": 12,
     "metadata": {},
     "output_type": "execute_result"
    }
   ],
   "source": [
    "prastevila[-2]"
   ]
  },
  {
   "cell_type": "code",
   "execution_count": 13,
   "id": "b424a844",
   "metadata": {},
   "outputs": [
    {
     "data": {
      "text/plain": [
       "13"
      ]
     },
     "execution_count": 13,
     "metadata": {},
     "output_type": "execute_result"
    }
   ],
   "source": [
    "prastevila[len(prastevila) - 2]"
   ]
  },
  {
   "cell_type": "code",
   "execution_count": 14,
   "id": "bcab059d",
   "metadata": {},
   "outputs": [
    {
     "data": {
      "text/plain": [
       "[5, 7, 11]"
      ]
     },
     "execution_count": 14,
     "metadata": {},
     "output_type": "execute_result"
    }
   ],
   "source": [
    "prastevila[2:-2]"
   ]
  },
  {
   "cell_type": "code",
   "execution_count": 15,
   "id": "680540ad",
   "metadata": {},
   "outputs": [
    {
     "data": {
      "text/plain": [
       "[2, 5, 11, 17]"
      ]
     },
     "execution_count": 15,
     "metadata": {},
     "output_type": "execute_result"
    }
   ],
   "source": [
    "prastevila[::2]"
   ]
  },
  {
   "cell_type": "markdown",
   "id": "29b3ef69",
   "metadata": {},
   "source": [
    "Če imamo gnezdene sezname, do elementov dostopamo z gnezdenimi indeksi:"
   ]
  },
  {
   "cell_type": "code",
   "execution_count": 16,
   "id": "3d49fe65",
   "metadata": {},
   "outputs": [
    {
     "data": {
      "text/plain": [
       "2"
      ]
     },
     "execution_count": 16,
     "metadata": {},
     "output_type": "execute_result"
    }
   ],
   "source": [
    "mat = [[1, 0, 0], [0, -1, 2], [3, 1, 5]]\n",
    "mat[1][-1]"
   ]
  },
  {
   "cell_type": "markdown",
   "id": "51925e80",
   "metadata": {},
   "source": [
    "Na primer, sled matrike bi lahko izračunali kot:"
   ]
  },
  {
   "cell_type": "code",
   "execution_count": 17,
   "id": "8ed4647c",
   "metadata": {},
   "outputs": [],
   "source": [
    "def sled(matrika):\n",
    "    \"\"\"Izračuna sled dane matrike.\"\"\"\n",
    "    vsota_diagonalnih = 0\n",
    "    for i in range(len(matrika)):\n",
    "        vsota_diagonalnih += matrika[i][i]\n",
    "    return vsota_diagonalnih"
   ]
  },
  {
   "cell_type": "code",
   "execution_count": 18,
   "id": "ccb213af",
   "metadata": {},
   "outputs": [],
   "source": [
    "mat = [[5]]"
   ]
  },
  {
   "cell_type": "code",
   "execution_count": 19,
   "id": "54871bcc",
   "metadata": {},
   "outputs": [
    {
     "data": {
      "text/plain": [
       "5"
      ]
     },
     "execution_count": 19,
     "metadata": {},
     "output_type": "execute_result"
    }
   ],
   "source": [
    "sled(mat)"
   ]
  },
  {
   "cell_type": "markdown",
   "id": "5d680433",
   "metadata": {},
   "source": [
    "Sledi pa nikakor ne bomo izračunali na sledeči (pri študentih dostikrat videni) način:"
   ]
  },
  {
   "cell_type": "code",
   "execution_count": 20,
   "id": "a6ed2dc3",
   "metadata": {},
   "outputs": [],
   "source": [
    "def grozna_sled(matrika):\n",
    "    \"\"\"Na popolnoma napačen izračuna sled dane matrike.\"\"\"\n",
    "    vsota_diagonalnih = 0\n",
    "    for i in range(len(matrika)):\n",
    "        for j in range(len(matrika)):\n",
    "            if i == j:\n",
    "                vsota_diagonalnih += matrika[i][j]\n",
    "    return vsota_diagonalnih"
   ]
  },
  {
   "cell_type": "markdown",
   "id": "d82cba44",
   "metadata": {},
   "source": [
    "Funkcija sled matrike sicer izračuna pravilno, vendar na izjemno potraten način, saj se sprehodi čez celotno matriko, ne le čez diagonalne elemente. Na primer, pri matriki velikosti $1000 \\times 1000$ bi druga funkcija pregledala tisočkrat več elementov (in posledično porabila tisočkrat več časa).\n",
    "\n",
    "## Zanke na seznamih\n",
    "\n",
    "Tako kot se lahko z zanko `for` sprehodimo po vseh znakih v nizu, se lahko z njo sprehodimo tudi po vseh elementih danega seznama:"
   ]
  },
  {
   "cell_type": "code",
   "execution_count": 21,
   "id": "376c07d1",
   "metadata": {},
   "outputs": [
    {
     "name": "stdout",
     "output_type": "stream",
     "text": [
      "10\n",
      "20\n",
      "30\n"
     ]
    }
   ],
   "source": [
    "for x in [10, 20, 30]:\n",
    "    print(x)"
   ]
  },
  {
   "cell_type": "markdown",
   "id": "3d2dfbac",
   "metadata": {},
   "source": [
    "Na primer, vsoto vseh elementov seznama bi definirali kot:"
   ]
  },
  {
   "cell_type": "code",
   "execution_count": 22,
   "id": "ccfe013b",
   "metadata": {},
   "outputs": [],
   "source": [
    "def vsota_elementov(seznam):\n",
    "    \"\"\"Vrne vsoto elementov v danem seznamu.\"\"\"\n",
    "    vsota = 0\n",
    "    for element in seznam:\n",
    "        vsota += element\n",
    "    return vsota"
   ]
  },
  {
   "cell_type": "code",
   "execution_count": 23,
   "id": "2ee7e70a",
   "metadata": {},
   "outputs": [
    {
     "data": {
      "text/plain": [
       "4312"
      ]
     },
     "execution_count": 23,
     "metadata": {},
     "output_type": "execute_result"
    }
   ],
   "source": [
    "vsota_elementov([10, 2, 4000, 300])"
   ]
  },
  {
   "cell_type": "markdown",
   "id": "7f229e80",
   "metadata": {},
   "source": [
    "Največji element v danem seznamu lahko poiščemo tako, da zaporedoma vsak element seznama primerjamo z do sedaj največjim videnim elementom. Če je trenutni element večji, do sedaj največji element popravimo. Ko pregledamo vse elemente v seznamu, je do sedaj največji element tudi na splošno največji element. Edina stvar, na katero moramo še paziti, je ta, da na začetku izberemo ustrezen največji element. Tu imamo dve dobri izbiri. (Slaba izbira bi bila, da bi za največji do zdaj viden element vzeli neko dovolj majhno število, na primer 0 ali -9999999 -- ta izbira je očitno napačna!) Prva dobra izbira je kar prvi element v seznamu, pri čemer moramo potem poprej preveriti še to, da je seznam neprazen:"
   ]
  },
  {
   "cell_type": "code",
   "execution_count": 24,
   "id": "e89cc0b5",
   "metadata": {},
   "outputs": [],
   "source": [
    "def najvecji_element(seznam):\n",
    "    \"\"\"Vrne največji element v danem seznamu. Če ga ni, vrne None\"\"\"\n",
    "    if len(seznam) == 0:\n",
    "        return\n",
    "    najvecji_do_zdaj = seznam[0]\n",
    "    for element in seznam:\n",
    "        if element > najvecji_do_zdaj:\n",
    "            najvecji_do_zdaj = element\n",
    "    return najvecji_do_zdaj"
   ]
  },
  {
   "cell_type": "code",
   "execution_count": 25,
   "id": "14517d39",
   "metadata": {},
   "outputs": [
    {
     "data": {
      "text/plain": [
       "4000"
      ]
     },
     "execution_count": 25,
     "metadata": {},
     "output_type": "execute_result"
    }
   ],
   "source": [
    "najvecji_element([10, 2, 4000, 300])"
   ]
  },
  {
   "cell_type": "markdown",
   "id": "b108014b",
   "metadata": {},
   "source": [
    "Seveda lahko uporabimo tudi vgrajene funkcije:"
   ]
  },
  {
   "cell_type": "code",
   "execution_count": 26,
   "id": "0458ebe7",
   "metadata": {},
   "outputs": [
    {
     "data": {
      "text/plain": [
       "4312"
      ]
     },
     "execution_count": 26,
     "metadata": {},
     "output_type": "execute_result"
    }
   ],
   "source": [
    "sum([10, 2, 4000, 300])"
   ]
  },
  {
   "cell_type": "code",
   "execution_count": 27,
   "id": "1efa97cf",
   "metadata": {},
   "outputs": [
    {
     "data": {
      "text/plain": [
       "2"
      ]
     },
     "execution_count": 27,
     "metadata": {},
     "output_type": "execute_result"
    }
   ],
   "source": [
    "min([10, 2, 4000, 300])"
   ]
  },
  {
   "cell_type": "code",
   "execution_count": 28,
   "id": "767aaaac",
   "metadata": {},
   "outputs": [
    {
     "data": {
      "text/plain": [
       "4000"
      ]
     },
     "execution_count": 28,
     "metadata": {},
     "output_type": "execute_result"
    }
   ],
   "source": [
    "max([10, 2, 4000, 300])"
   ]
  },
  {
   "cell_type": "markdown",
   "id": "0ede090c",
   "metadata": {},
   "source": [
    "## Spreminjanje seznamov\n",
    "\n",
    "Za razliko od nizov lahko vrednosti v seznamih tudi spreminjamo:"
   ]
  },
  {
   "cell_type": "code",
   "execution_count": 29,
   "id": "0dfe7f0a",
   "metadata": {},
   "outputs": [
    {
     "data": {
      "text/plain": [
       "20"
      ]
     },
     "execution_count": 29,
     "metadata": {},
     "output_type": "execute_result"
    }
   ],
   "source": [
    "sez = [10, 20, 30]\n",
    "sez[1]"
   ]
  },
  {
   "cell_type": "code",
   "execution_count": 30,
   "id": "2d3eb35f",
   "metadata": {},
   "outputs": [
    {
     "data": {
      "text/plain": [
       "[10, 40, 30]"
      ]
     },
     "execution_count": 30,
     "metadata": {},
     "output_type": "execute_result"
    }
   ],
   "source": [
    "sez[1] = 40\n",
    "sez"
   ]
  },
  {
   "cell_type": "markdown",
   "id": "e336b0f1",
   "metadata": {},
   "source": [
    "Zamenjamo lahko tudi celotno **rezino**"
   ]
  },
  {
   "cell_type": "code",
   "execution_count": 31,
   "id": "50da60f3",
   "metadata": {},
   "outputs": [
    {
     "data": {
      "text/plain": [
       "[20, 30]"
      ]
     },
     "execution_count": 31,
     "metadata": {},
     "output_type": "execute_result"
    }
   ],
   "source": [
    "sez = [10, 20, 30, 40]\n",
    "sez[1:3]\n",
    "[20, 30]"
   ]
  },
  {
   "cell_type": "code",
   "execution_count": 32,
   "id": "1d7fc893",
   "metadata": {},
   "outputs": [
    {
     "data": {
      "text/plain": [
       "[10, 0, 0, 0, 40]"
      ]
     },
     "execution_count": 32,
     "metadata": {},
     "output_type": "execute_result"
    }
   ],
   "source": [
    "sez[1:3] = [0, 0, 0]\n",
    "sez"
   ]
  },
  {
   "cell_type": "markdown",
   "id": "e48638a8",
   "metadata": {},
   "source": [
    "Če nadomestna rezina ni enake dolžine kot prvotna, se seznam ustrezno skrajša ali podaljša. Nadomestimo tudi prazno rezino, s čimer nove elemente vrinemo v seznam. Nadomeščanje prazne rezine ni isto kot nadomeščanje elementa z istim indeksom kot rezina:"
   ]
  },
  {
   "cell_type": "code",
   "execution_count": 33,
   "id": "722507f9",
   "metadata": {},
   "outputs": [
    {
     "data": {
      "text/plain": [
       "[10, 20, 0, 0, 0, 30, 40]"
      ]
     },
     "execution_count": 33,
     "metadata": {},
     "output_type": "execute_result"
    }
   ],
   "source": [
    "sez = [10, 20, 30, 40]\n",
    "sez[2:2] = [0, 0, 0]\n",
    "sez"
   ]
  },
  {
   "cell_type": "code",
   "execution_count": 34,
   "id": "59c67bdb",
   "metadata": {},
   "outputs": [
    {
     "data": {
      "text/plain": [
       "[10, 20, [0, 0, 0], 40]"
      ]
     },
     "execution_count": 34,
     "metadata": {},
     "output_type": "execute_result"
    }
   ],
   "source": [
    "sez = [10, 20, 30, 40]\n",
    "sez[2] = [0, 0, 0]\n",
    "sez"
   ]
  },
  {
   "cell_type": "markdown",
   "id": "b47e503b",
   "metadata": {},
   "source": [
    "Tako elemente kot rezine lahko tudi **brišemo**"
   ]
  },
  {
   "cell_type": "code",
   "execution_count": 35,
   "id": "69bf76be",
   "metadata": {},
   "outputs": [
    {
     "data": {
      "text/plain": [
       "[10, 30, 40, 50]"
      ]
     },
     "execution_count": 35,
     "metadata": {},
     "output_type": "execute_result"
    }
   ],
   "source": [
    "sez = [10, 20, 30, 40, 50]\n",
    "del sez[1]\n",
    "sez"
   ]
  },
  {
   "cell_type": "code",
   "execution_count": 36,
   "id": "a7e16c17",
   "metadata": {},
   "outputs": [],
   "source": [
    "sez = [10, 20, 30, 40, 50]\n",
    "del sez[2:4]"
   ]
  },
  {
   "cell_type": "markdown",
   "id": "e96697fc",
   "metadata": {},
   "source": [
    "Pri spreminjanju seznamov je treba biti previden, saj ne deluje tako, kot smo navajeni pri spreminjanju vrednosti spremenljivk. Na primer, če pišemo"
   ]
  },
  {
   "cell_type": "code",
   "execution_count": 37,
   "id": "2e227631",
   "metadata": {},
   "outputs": [
    {
     "data": {
      "text/plain": [
       "5"
      ]
     },
     "execution_count": 37,
     "metadata": {},
     "output_type": "execute_result"
    }
   ],
   "source": [
    "a = 5\n",
    "b = a\n",
    "a = 0\n",
    "b"
   ]
  },
  {
   "cell_type": "markdown",
   "id": "45827883",
   "metadata": {},
   "source": [
    "Vidimo, da se vrednost spremenljivke `b` ni spremenila, ko smo spremenili `a`, saj smo jo v drugi vrstici nastavili na število 5\\. Pri seznamih je stvar malo drugačna. Če pišemo"
   ]
  },
  {
   "cell_type": "code",
   "execution_count": 38,
   "id": "d4adbf3c",
   "metadata": {},
   "outputs": [
    {
     "data": {
      "text/plain": [
       "[1, 1, 1]"
      ]
     },
     "execution_count": 38,
     "metadata": {},
     "output_type": "execute_result"
    }
   ],
   "source": [
    "a = [1, 1, 1]\n",
    "b = a\n",
    "a = [2, 2, 2]\n",
    "b"
   ]
  },
  {
   "cell_type": "markdown",
   "id": "366075a8",
   "metadata": {},
   "source": [
    "so stvari še vedno take, kot bi jih pričakovali. Vrednost `b` smo nastavili na isti seznam kot `a`, vendar smo potem rekli, da naj bo v `a` shranjen drugačen seznam, s čimer na vrednost v `b` nismo vplivali. Če pa pišemo"
   ]
  },
  {
   "cell_type": "code",
   "execution_count": 39,
   "id": "f984e185",
   "metadata": {},
   "outputs": [
    {
     "data": {
      "text/plain": [
       "[1, 2, 1]"
      ]
     },
     "execution_count": 39,
     "metadata": {},
     "output_type": "execute_result"
    }
   ],
   "source": [
    "a = [1, 1, 1]\n",
    "b = a\n",
    "a[1] = 2\n",
    "b"
   ]
  },
  {
   "cell_type": "markdown",
   "id": "5d820153",
   "metadata": {},
   "source": [
    "se je s tem, ko smo spremenili `a`, spremenil tudi `b`. Kaj se je zgodilo? Ko smo napisali `b = a`, smo povedali, naj bo v `b` shranjen isti seznam kot `a`. In z `a[1] = 2` smo povedali, naj se na mesto `1` v seznamu, shranjenem v `a`, zapiše 2\\. Ker je v `b` shranjen isti (ne le enak) seznam kot v `a`, je s tem tudi seznam v `b` drugačen. Da je zmeda večja, `+=` ni samo okrajšava za `=` in `+`, kot smo navajeni pri številih:"
   ]
  },
  {
   "cell_type": "code",
   "execution_count": 40,
   "id": "12608cb9",
   "metadata": {},
   "outputs": [
    {
     "data": {
      "text/plain": [
       "[1, 1, 1]"
      ]
     },
     "execution_count": 40,
     "metadata": {},
     "output_type": "execute_result"
    }
   ],
   "source": [
    "a = [1, 1, 1]\n",
    "b = a\n",
    "a = a + [2, 2, 2]\n",
    "b"
   ]
  },
  {
   "cell_type": "code",
   "execution_count": 41,
   "id": "711624f9",
   "metadata": {},
   "outputs": [
    {
     "data": {
      "text/plain": [
       "[1, 1, 1, 2, 2, 2]"
      ]
     },
     "execution_count": 41,
     "metadata": {},
     "output_type": "execute_result"
    }
   ],
   "source": [
    "a = [1, 1, 1]\n",
    "b = a\n",
    "a += [2, 2, 2]\n",
    "b"
   ]
  },
  {
   "cell_type": "markdown",
   "id": "958652f9",
   "metadata": {},
   "source": [
    "V prvem primeru izračunamo nov seznam `a + [2, 2, 2]` in ga shranimo pod ime `a`, s čimer se `b` ne spremeni. V drugem primeru pa je `+=` operacija, ki razširi obstoječi seznam. Ker gre pri `a` in `b` za isti seznam, se spremeni tudi seznam v `b`.\n",
    "\n",
    "Pogosta past, v katero se na začetku ujamemo zaradi spremenljivosti seznamov, je izračun identične matrike. Vemo že, da lahko v Pythonu seznam pomnožimo s številom:"
   ]
  },
  {
   "cell_type": "code",
   "execution_count": 42,
   "id": "6bc5c577",
   "metadata": {},
   "outputs": [
    {
     "data": {
      "text/plain": [
       "[0, 0, 0]"
      ]
     },
     "execution_count": 42,
     "metadata": {},
     "output_type": "execute_result"
    }
   ],
   "source": [
    "3 * [0]"
   ]
  },
  {
   "cell_type": "markdown",
   "id": "1bdb4e80",
   "metadata": {},
   "source": [
    "To nam da idejo, da bi lahko na isti način izračunali ničelno matriko:"
   ]
  },
  {
   "cell_type": "code",
   "execution_count": 43,
   "id": "e9efe6ed",
   "metadata": {},
   "outputs": [
    {
     "data": {
      "text/plain": [
       "[[0, 0, 0], [0, 0, 0], [0, 0, 0]]"
      ]
     },
     "execution_count": 43,
     "metadata": {},
     "output_type": "execute_result"
    }
   ],
   "source": [
    "3 * [3 * [0]]"
   ]
  },
  {
   "cell_type": "markdown",
   "id": "7383f9a2",
   "metadata": {},
   "source": [
    "Izračun je videti pravilen, vendar vse tri vrstice te matrike kažejo na isti seznam. To je tako, kot če bi pisali:"
   ]
  },
  {
   "cell_type": "code",
   "execution_count": 44,
   "id": "69243511",
   "metadata": {},
   "outputs": [],
   "source": [
    "vrstica = [0, 0, 0]"
   ]
  },
  {
   "cell_type": "code",
   "execution_count": 45,
   "id": "88d05c02",
   "metadata": {},
   "outputs": [],
   "source": [
    "matrika = [vrstica, vrstica, vrstica]"
   ]
  },
  {
   "cell_type": "markdown",
   "id": "03aa728c",
   "metadata": {},
   "source": [
    "Poskusimo iz te matrike dobiti identično matriko tako, da po diagonali nastavimo enice. Najprej nastavimo prvi element v prvi vrstici:"
   ]
  },
  {
   "cell_type": "code",
   "execution_count": 46,
   "id": "66ae4f76",
   "metadata": {},
   "outputs": [
    {
     "data": {
      "text/plain": [
       "[[1, 0, 0], [1, 0, 0], [1, 0, 0]]"
      ]
     },
     "execution_count": 46,
     "metadata": {},
     "output_type": "execute_result"
    }
   ],
   "source": [
    "matrika[0][0] = 1\n",
    "matrika"
   ]
  },
  {
   "cell_type": "markdown",
   "id": "ead56ed3",
   "metadata": {},
   "source": [
    "Kaj se je zgodilo? Ker druga in tretja vrstica kažeta na isti seznam kot prva, smo tudi v njima prvi element popravili na 1\\. Če sedaj nastavimo še drugi element v drugi vrstici in tretjega v tretji vrstici se zgodba ponovi:"
   ]
  },
  {
   "cell_type": "code",
   "execution_count": 47,
   "id": "945115fa",
   "metadata": {},
   "outputs": [
    {
     "data": {
      "text/plain": [
       "[[1, 1, 1], [1, 1, 1], [1, 1, 1]]"
      ]
     },
     "execution_count": 47,
     "metadata": {},
     "output_type": "execute_result"
    }
   ],
   "source": [
    "matrika[1][1] = 1\n",
    "matrika[2][2] = 1\n",
    "matrika"
   ]
  },
  {
   "cell_type": "markdown",
   "id": "4bb2d991",
   "metadata": {},
   "source": [
    "Če želimo identično matriko izračunati na pravilen način, moramo za predstavitev vsake vrstice podati svoj seznam, zato ne moremo uporabiti le pomnoževanja seznamov.\n",
    "\n",
    "## Vgrajene metode na seznamih\n",
    "\n",
    "Kot pri nizih za večino pogosto uporabljanih stvari na seznamih obstajajo že vgrajene metode. Te povečini ne vračajo ničesar, temveč le spremenijo dani seznam. Izjemi sta metodi `index` in `count`, ki vrneta vrednost in seznam pustita pri miru, ter metoda `pop` ki tako spremeni seznam kot vrne vrednost. Vse metode so naštete v [uradni dokumentaciji](https://docs.python.org/3/tutorial/datastructures.html#more-on-lists), najbolj osnovne izmed njih pa so:\n",
    "\n",
    "- `sez.append(x)` na konec seznama `sez` doda element `x`."
   ]
  },
  {
   "cell_type": "code",
   "execution_count": 48,
   "id": "de09f994",
   "metadata": {},
   "outputs": [
    {
     "data": {
      "text/plain": [
       "[10, 20, 30, 40]"
      ]
     },
     "execution_count": 48,
     "metadata": {},
     "output_type": "execute_result"
    }
   ],
   "source": [
    "sez = [10, 20, 30]\n",
    "sez.append(40)\n",
    "sez"
   ]
  },
  {
   "cell_type": "markdown",
   "id": "41088704",
   "metadata": {},
   "source": [
    "Metodo `append` pogosto uporabljamo za izračun seznama ustreznih elementov. To storimo tako, da ustvarimo prazen seznam, nato pa vanj z metodo `append` dodamo vsak ustrezen element. To je podoben postopek kot pri izračunu vsote ustreznih elementov, kjer smo ustvarili spremenljivko z začetno vrednostjo 0, nato pa ji prištevali ustrezne elemente.\n",
    "\n",
    "- `sez.extend(sez2)` na konec seznama `sez` doda vse elemente iz seznama `sez2`."
   ]
  },
  {
   "cell_type": "code",
   "execution_count": 49,
   "id": "ebfc9df6",
   "metadata": {},
   "outputs": [
    {
     "data": {
      "text/plain": [
       "[10, 20, 30, 40, 50]"
      ]
     },
     "execution_count": 49,
     "metadata": {},
     "output_type": "execute_result"
    }
   ],
   "source": [
    "sez = [10, 20, 30]\n",
    "sez.extend([40, 50])\n",
    "sez"
   ]
  },
  {
   "cell_type": "markdown",
   "id": "c65930cd",
   "metadata": {},
   "source": [
    "Okrajšava `+=`, ki smo jo videli prej, pokliče natanko metodo `extend`."
   ]
  },
  {
   "cell_type": "code",
   "execution_count": 50,
   "id": "fdaf9d8b",
   "metadata": {},
   "outputs": [
    {
     "data": {
      "text/plain": [
       "[10, 20, 30, 40, 50]"
      ]
     },
     "execution_count": 50,
     "metadata": {},
     "output_type": "execute_result"
    }
   ],
   "source": [
    "sez = [10, 20, 30]\n",
    "sez += [40, 50]\n",
    "sez"
   ]
  },
  {
   "cell_type": "markdown",
   "id": "b125c5ab",
   "metadata": {},
   "source": [
    "- `sez.insert(i, x)` pred element na mestu `i` v seznamu `sez` vstavi element `x`."
   ]
  },
  {
   "cell_type": "code",
   "execution_count": 51,
   "id": "409c243a",
   "metadata": {},
   "outputs": [
    {
     "data": {
      "text/plain": [
       "[10, 0, 20, 30]"
      ]
     },
     "execution_count": 51,
     "metadata": {},
     "output_type": "execute_result"
    }
   ],
   "source": [
    "sez = [10, 20, 30]\n",
    "sez.insert(1, 0)\n",
    "sez\n",
    "[10, 0, 20, 30]"
   ]
  },
  {
   "cell_type": "markdown",
   "id": "472906ed",
   "metadata": {},
   "source": [
    "- `sez.remove(x)` iz seznama `sez` odstrani prvo pojavitev vrednosti `x`."
   ]
  },
  {
   "cell_type": "code",
   "execution_count": 52,
   "id": "306fb84b",
   "metadata": {},
   "outputs": [
    {
     "data": {
      "text/plain": [
       "[1, 1, 2, 3]"
      ]
     },
     "execution_count": 52,
     "metadata": {},
     "output_type": "execute_result"
    }
   ],
   "source": [
    "sez = [1, 2, 1, 2, 3]\n",
    "sez.remove(2)\n",
    "sez"
   ]
  },
  {
   "cell_type": "markdown",
   "id": "e3001d96",
   "metadata": {},
   "source": [
    "- `sez.pop(i=-1)` vrne element na mestu `i` v seznamu `sez` in odstrani ta element iz seznama. Če indeksa `i` ne podamo, metoda odstrani zadnji element."
   ]
  },
  {
   "cell_type": "code",
   "execution_count": 53,
   "id": "1b2f1954",
   "metadata": {},
   "outputs": [
    {
     "data": {
      "text/plain": [
       "30"
      ]
     },
     "execution_count": 53,
     "metadata": {},
     "output_type": "execute_result"
    }
   ],
   "source": [
    "sez = [10, 20, 30]\n",
    "sez.pop()"
   ]
  },
  {
   "cell_type": "code",
   "execution_count": 54,
   "id": "a6e1f754",
   "metadata": {},
   "outputs": [
    {
     "data": {
      "text/plain": [
       "[10, 20]"
      ]
     },
     "execution_count": 54,
     "metadata": {},
     "output_type": "execute_result"
    }
   ],
   "source": [
    "sez"
   ]
  },
  {
   "cell_type": "markdown",
   "id": "eefbb09b",
   "metadata": {},
   "source": [
    "- `sez.clear()` iz seznama `sez` pobriše vse elemente."
   ]
  },
  {
   "cell_type": "code",
   "execution_count": 55,
   "id": "b29eca36",
   "metadata": {},
   "outputs": [
    {
     "data": {
      "text/plain": [
       "[]"
      ]
     },
     "execution_count": 55,
     "metadata": {},
     "output_type": "execute_result"
    }
   ],
   "source": [
    "sez = [1, 2, 1, 2, 3]\n",
    "sez.clear()\n",
    "sez"
   ]
  },
  {
   "cell_type": "markdown",
   "id": "c0d90a21",
   "metadata": {},
   "source": [
    "- `sez.index(x)` vrne prvo mesto, na katerem se v seznamu `sez` nahaja vrednost `x`.\n",
    "\n",
    "- `sez.count(x)` vrne število pojavitev vrednosti `x` v seznamu `sez`.\n",
    "\n",
    "- `sez.sort(key=None, reverse=False)` na mestu uredi seznam glede na vrednosti funkcije `key`. Če parameter `reverse` nastavimo na `True`, bo seznam urejen padajoče."
   ]
  },
  {
   "cell_type": "code",
   "execution_count": 56,
   "id": "00ab729c",
   "metadata": {},
   "outputs": [
    {
     "data": {
      "text/plain": [
       "[1, 2, 4, 8, 16]"
      ]
     },
     "execution_count": 56,
     "metadata": {},
     "output_type": "execute_result"
    }
   ],
   "source": [
    "sez = [4, 1, 8, 2, 16]\n",
    "sez.sort()\n",
    "sez"
   ]
  },
  {
   "cell_type": "markdown",
   "id": "16c4e226",
   "metadata": {},
   "source": [
    "Metoda spremeni obstoječi seznam. Če želimo namesto tega dobiti nov, urejen seznam, pa lahko pokličemo funkcijo `sorted`, ki svojega argumenta ne spremeni:"
   ]
  },
  {
   "cell_type": "code",
   "execution_count": 57,
   "id": "43b26f72",
   "metadata": {},
   "outputs": [
    {
     "data": {
      "text/plain": [
       "[1, 2, 4, 8, 16]"
      ]
     },
     "execution_count": 57,
     "metadata": {},
     "output_type": "execute_result"
    }
   ],
   "source": [
    "sez = [4, 1, 8, 2, 16]\n",
    "sorted(sez)"
   ]
  },
  {
   "cell_type": "code",
   "execution_count": 58,
   "id": "49af61f4",
   "metadata": {},
   "outputs": [
    {
     "data": {
      "text/plain": [
       "[4, 1, 8, 2, 16]"
      ]
     },
     "execution_count": 58,
     "metadata": {},
     "output_type": "execute_result"
    }
   ],
   "source": [
    "sez"
   ]
  },
  {
   "cell_type": "markdown",
   "id": "828ad364",
   "metadata": {},
   "source": [
    "- `sez.reverse()` obrne seznam `sez` na glavo."
   ]
  },
  {
   "cell_type": "code",
   "execution_count": 59,
   "id": "579dc535",
   "metadata": {},
   "outputs": [
    {
     "data": {
      "text/plain": [
       "[16, 8, 4, 2, 1]"
      ]
     },
     "execution_count": 59,
     "metadata": {},
     "output_type": "execute_result"
    }
   ],
   "source": [
    "sez = [1, 2, 4, 8, 16]\n",
    "sez.reverse()\n",
    "sez"
   ]
  },
  {
   "cell_type": "markdown",
   "id": "ec0e549f",
   "metadata": {},
   "source": [
    "Tudi tu lahko s pomočjo rezin ustvarimo nov seznam, ki je obrnjen na glavo, starega pa pustimo pri miru::"
   ]
  },
  {
   "cell_type": "code",
   "execution_count": 60,
   "id": "3db753c5",
   "metadata": {},
   "outputs": [
    {
     "data": {
      "text/plain": [
       "[16, 8, 4, 2, 1]"
      ]
     },
     "execution_count": 60,
     "metadata": {},
     "output_type": "execute_result"
    }
   ],
   "source": [
    "sez = [1, 2, 4, 8, 16]\n",
    "sez[::-1]"
   ]
  },
  {
   "cell_type": "code",
   "execution_count": 61,
   "id": "95a7abb4",
   "metadata": {},
   "outputs": [
    {
     "data": {
      "text/plain": [
       "[1, 2, 4, 8, 16]"
      ]
     },
     "execution_count": 61,
     "metadata": {},
     "output_type": "execute_result"
    }
   ],
   "source": [
    "sez"
   ]
  },
  {
   "cell_type": "markdown",
   "id": "9440e308",
   "metadata": {},
   "source": [
    "## Izpeljani seznami\n",
    "\n",
    "Sezname dostikrat lepše zgradimo z _izpeljanimi seznami_, ki so oblike `[izraz for spremenljivka in mozne_vrednosti]`. Podobno kot v matematiki množice pišemo kot ${ 2 \\cdot n \\mid n \\in {1, \\dots, 9}}$, lahko v Pythonu napišemo seznam:"
   ]
  },
  {
   "cell_type": "code",
   "execution_count": 62,
   "id": "d0bb2301",
   "metadata": {},
   "outputs": [
    {
     "data": {
      "text/plain": [
       "[2, 4, 6, 8, 10, 12, 14, 16, 18]"
      ]
     },
     "execution_count": 62,
     "metadata": {},
     "output_type": "execute_result"
    }
   ],
   "source": [
    "[2 * n for n in range(1, 10)]"
   ]
  },
  {
   "cell_type": "markdown",
   "id": "6f1b13e5",
   "metadata": {},
   "source": [
    "ali pa na primer:"
   ]
  },
  {
   "cell_type": "code",
   "execution_count": 63,
   "id": "f9e38214",
   "metadata": {},
   "outputs": [
    {
     "data": {
      "text/plain": [
       "[1, 2, 4, 8, 16, 32, 64, 128, 256, 512]"
      ]
     },
     "execution_count": 63,
     "metadata": {},
     "output_type": "execute_result"
    }
   ],
   "source": [
    "potence = [2 ** n for n in range(10)]\n",
    "potence"
   ]
  },
  {
   "cell_type": "code",
   "execution_count": 64,
   "id": "eeb7e9c7",
   "metadata": {},
   "outputs": [
    {
     "data": {
      "text/plain": [
       "[0, 1, 3, 7, 15, 31, 63, 127, 255, 511]"
      ]
     },
     "execution_count": 64,
     "metadata": {},
     "output_type": "execute_result"
    }
   ],
   "source": [
    "[n - 1 for n in potence]"
   ]
  },
  {
   "cell_type": "code",
   "execution_count": 65,
   "id": "9888d010",
   "metadata": {},
   "outputs": [
    {
     "data": {
      "text/plain": [
       "[3, 1, 4, 1, 5, 9, 2]"
      ]
     },
     "execution_count": 65,
     "metadata": {},
     "output_type": "execute_result"
    }
   ],
   "source": [
    "[int(stevka) for stevka in str(3141592)]"
   ]
  },
  {
   "cell_type": "markdown",
   "id": "ce977c6d",
   "metadata": {},
   "source": [
    "Če želimo, lahko v izpeljani seznamih oblike `[izraz for spremenljivka in mozne_vrednosti if pogoj]` s pogojem določimo, katere elemente želimo:"
   ]
  },
  {
   "cell_type": "code",
   "execution_count": 66,
   "id": "2e9378c4",
   "metadata": {},
   "outputs": [
    {
     "data": {
      "text/plain": [
       "[2, 8, 14]"
      ]
     },
     "execution_count": 66,
     "metadata": {},
     "output_type": "execute_result"
    }
   ],
   "source": [
    "[2 * n for n in range(1, 10) if n % 3 == 1]"
   ]
  },
  {
   "cell_type": "code",
   "execution_count": 67,
   "id": "83f3fadc",
   "metadata": {},
   "outputs": [
    {
     "data": {
      "text/plain": [
       "60"
      ]
     },
     "execution_count": 67,
     "metadata": {},
     "output_type": "execute_result"
    }
   ],
   "source": [
    "def vsota_pozitivnih_elementov(seznam):\n",
    "    \"\"\"Vrne seznam vseh pozitivnih elementov danega seznama.\"\"\"\n",
    "    return sum([element for element in seznam if element > 0])\n",
    "vsota_pozitivnih_elementov([10, -20, 50])"
   ]
  },
  {
   "cell_type": "markdown",
   "id": "2dc64f2b",
   "metadata": {},
   "source": [
    "Zanke v izpeljanih seznamih so lahko gnezdene na dva načina. Prvi je, da kot elemente izpeljanega seznama spet podamo izpeljane sezname. Na primer, identično matriko lahko naredimo kot:"
   ]
  },
  {
   "cell_type": "code",
   "execution_count": 68,
   "id": "d2943b85",
   "metadata": {},
   "outputs": [],
   "source": [
    "def identicna_matrika(n):\n",
    "    return [[1 if i == j else 0 for j in range(n)] for i in range(n)]"
   ]
  },
  {
   "cell_type": "markdown",
   "id": "b4efa7f6",
   "metadata": {},
   "source": [
    "Lahko pa v izpeljanem seznamu naštejemo več zank, pri čemer ob vsakem koraku v obhodu prve spremenljivke naredimo obhod vseh preostalih:"
   ]
  },
  {
   "cell_type": "code",
   "execution_count": 69,
   "id": "6ced482e",
   "metadata": {},
   "outputs": [
    {
     "data": {
      "text/plain": [
       "[(0, 0),\n",
       " (0, 1),\n",
       " (0, 2),\n",
       " (0, 3),\n",
       " (0, 4),\n",
       " (1, 1),\n",
       " (1, 2),\n",
       " (1, 3),\n",
       " (1, 4),\n",
       " (2, 2),\n",
       " (2, 3),\n",
       " (2, 4),\n",
       " (3, 3),\n",
       " (3, 4),\n",
       " (4, 4)]"
      ]
     },
     "execution_count": 69,
     "metadata": {},
     "output_type": "execute_result"
    }
   ],
   "source": [
    "def razlicni_pari(n):\n",
    "    return [(i, j) for i in range(n) for j in range(i, n)]\n",
    "razlicni_pari(5)"
   ]
  },
  {
   "cell_type": "markdown",
   "id": "7a54247f",
   "metadata": {},
   "source": [
    "Izpeljani seznami pa niso vedno rešitev, tudi če so krajši. Na primer, če je vsaka vrednost v seznamu odvisna od prejšnjih, jih ne moremo uporabiti.\n",
    "\n",
    "## Nabori\n",
    "\n",
    "Nabori so prav tako kot seznami sestavljeni iz več elementov, pišemo pa jih med običajne oklepaje: `(1, 2, 3)`. Nabor z enim elementom pišemo kot `(1, )` (razmislite, zakaj ga ne pišemo kot `(1)`). Namen naborov je hranjenje heterogenih podatkov. To pomeni, da imajo elementi na različnih mestih različne pomene. Na primer, če vemo da vsako število v seznamu `[103, 111, 98, 106]` predstavlja rezultat neke meritve, bi podobno sklepali tudi, če bi v seznam dodali še kakšno drugo številko. Pri datumu `(25, 6, 1991)` pa imajo različne komponente različne pomene: prva predstavlja dan, druga mesec in tretje leto. Če bi dodali še četrto številko, bi morali povedati, kaj pomeni. Python nam seveda omogoča, da bi meritve zapisali kot `(103, 111, 98, 106)`, datum pa kot `[25, 6, 1991]`, vendar bomo sezname uporabljali za **poljubno število podatkov z enakim pomenom**, nabore pa za **fiksno število podatkov z različnimi pomeni**.\n",
    "\n",
    "S tem namenom so nabori v Pythonu nespremenljivi:"
   ]
  },
  {
   "cell_type": "code",
   "execution_count": 70,
   "id": "ed5012b3",
   "metadata": {
    "tags": [
     "raises-exception"
    ]
   },
   "outputs": [
    {
     "ename": "TypeError",
     "evalue": "'tuple' object does not support item assignment",
     "output_type": "error",
     "traceback": [
      "\u001b[0;31m---------------------------------------------------------------------------\u001b[0m",
      "\u001b[0;31mTypeError\u001b[0m                                 Traceback (most recent call last)",
      "Cell \u001b[0;32mIn[70], line 2\u001b[0m\n\u001b[1;32m      1\u001b[0m x \u001b[38;5;241m=\u001b[39m (\u001b[38;5;241m1\u001b[39m, \u001b[38;5;241m1\u001b[39m, \u001b[38;5;241m1\u001b[39m)\n\u001b[0;32m----> 2\u001b[0m \u001b[43mx\u001b[49m\u001b[43m[\u001b[49m\u001b[38;5;241;43m2\u001b[39;49m\u001b[43m]\u001b[49m \u001b[38;5;241m=\u001b[39m \u001b[38;5;241m2\u001b[39m\n",
      "\u001b[0;31mTypeError\u001b[0m: 'tuple' object does not support item assignment"
     ]
    }
   ],
   "source": [
    "x = (1, 1, 1)\n",
    "x[2] = 2"
   ]
  },
  {
   "cell_type": "markdown",
   "id": "5850a25f",
   "metadata": {},
   "source": [
    "Sicer pa za nabore veljajo podobne lastnosti kot za sezname: lahko jih stikamo in množimo; lahko izračunamo njihovo vsoto, minimum, maksimum in dolžino; s predikatom `in` lahko pogledamo, ali vsebujejo dani element; lahko jih indeksiramo in delamo rezine; po njih se lahko sprehodimo z zanko `for`; od metod pa sta na voljo le `count` in `index`, saj ti dve edini ne spreminjata ničesar."
   ]
  },
  {
   "cell_type": "code",
   "execution_count": 71,
   "id": "b73e8c5f",
   "metadata": {},
   "outputs": [
    {
     "data": {
      "text/plain": [
       "(True, False, True)"
      ]
     },
     "execution_count": 71,
     "metadata": {},
     "output_type": "execute_result"
    }
   ],
   "source": [
    "(True, False) + (True,)"
   ]
  },
  {
   "cell_type": "code",
   "execution_count": 72,
   "id": "02246e85",
   "metadata": {},
   "outputs": [
    {
     "data": {
      "text/plain": [
       "('x', 'y', 'x', 'y', 'x', 'y')"
      ]
     },
     "execution_count": 72,
     "metadata": {},
     "output_type": "execute_result"
    }
   ],
   "source": [
    "3 * ('x', 'y')"
   ]
  },
  {
   "cell_type": "code",
   "execution_count": 73,
   "id": "58df0e47",
   "metadata": {},
   "outputs": [
    {
     "data": {
      "text/plain": [
       "False"
      ]
     },
     "execution_count": 73,
     "metadata": {},
     "output_type": "execute_result"
    }
   ],
   "source": [
    "5 in (1, 2, 3)"
   ]
  },
  {
   "cell_type": "code",
   "execution_count": 74,
   "id": "38d46b6b",
   "metadata": {},
   "outputs": [
    {
     "data": {
      "text/plain": [
       "10"
      ]
     },
     "execution_count": 74,
     "metadata": {},
     "output_type": "execute_result"
    }
   ],
   "source": [
    "(1, 2, 5, 10, 20, 50)[3]"
   ]
  },
  {
   "cell_type": "code",
   "execution_count": 75,
   "id": "5a92e288",
   "metadata": {},
   "outputs": [
    {
     "data": {
      "text/plain": [
       "(10, 20, 50)"
      ]
     },
     "execution_count": 75,
     "metadata": {},
     "output_type": "execute_result"
    }
   ],
   "source": [
    "(1, 2, 5, 10, 20, 50)[3:]"
   ]
  },
  {
   "cell_type": "markdown",
   "id": "71d5467c",
   "metadata": {},
   "source": [
    "Če imamo nabor, ga lahko razstavimo na posamezne spremenljivke, na primer"
   ]
  },
  {
   "cell_type": "code",
   "execution_count": 76,
   "id": "a42d2e90",
   "metadata": {},
   "outputs": [
    {
     "data": {
      "text/plain": [
       "'25. 6. 1991'"
      ]
     },
     "execution_count": 76,
     "metadata": {},
     "output_type": "execute_result"
    }
   ],
   "source": [
    "datum = (25, 6, 1991)\n",
    "dan, mesec, leto = datum\n",
    "f'{dan}. {mesec}. {leto}'"
   ]
  },
  {
   "cell_type": "markdown",
   "id": "e2aa8a51",
   "metadata": {},
   "source": [
    "V resnici gre pri hkratnem prireditvenem stavku kot je\n",
    "\n",
    "```{code-block}\n",
    "x, y = 10, 20\n",
    "```\n",
    "\n",
    "za to, da najprej naredimo torej nabor z dvema komponentama oziroma par `(10, 20)`, nato pa ga razstavimo na dve spremenljivki.\n",
    "\n",
    "## Funkciji `enumerate` in `zip`\n",
    "\n",
    "Dostikrat želimo hkrati dostopati do elementov seznama in njihovih indeksov.\n",
    "\n",
    "Predstavimo polinome s seznamom koeficientov, urejenim od prostega proti vodilnemu členu. Polinom $3 - x^2$ bi tako predstavili s seznamom `[3, 0, -1]`. Pri izračunu vrednosti polinoma želimo hkrati dostopati tako do koeficientov kot do njihovih indeksov, ki ustrezajo potenci. To lahko storimo na več načinov. Lahko se vozimo po indeksih in prek njih dostopamo do koeficientov:"
   ]
  },
  {
   "cell_type": "code",
   "execution_count": 77,
   "id": "0346e376",
   "metadata": {},
   "outputs": [],
   "source": [
    "def vrednost_polinoma(polinom, x):\n",
    "    vsota = 0\n",
    "    for i in range(len(polinom)):\n",
    "        koef = polinom[i]\n",
    "        vsota += koef * x ** i\n",
    "    return vsota"
   ]
  },
  {
   "cell_type": "code",
   "execution_count": 78,
   "id": "d1c6ea6f",
   "metadata": {},
   "outputs": [
    {
     "data": {
      "text/plain": [
       "4"
      ]
     },
     "execution_count": 78,
     "metadata": {},
     "output_type": "execute_result"
    }
   ],
   "source": [
    "vrednost_polinoma([3, 0, 1], 1)"
   ]
  },
  {
   "cell_type": "code",
   "execution_count": 79,
   "id": "cb77858a",
   "metadata": {},
   "outputs": [
    {
     "data": {
      "text/plain": [
       "7"
      ]
     },
     "execution_count": 79,
     "metadata": {},
     "output_type": "execute_result"
    }
   ],
   "source": [
    "vrednost_polinoma([3, 0, 1], 2)"
   ]
  },
  {
   "cell_type": "markdown",
   "id": "229397cb",
   "metadata": {},
   "source": [
    "Lahko se vozimo po koeficientih in hkrati povečujemo števec indeksa:"
   ]
  },
  {
   "cell_type": "code",
   "execution_count": 80,
   "id": "393fe4db",
   "metadata": {},
   "outputs": [],
   "source": [
    "def vrednost_polinoma(polinom, x):\n",
    "    vsota = 0\n",
    "    i = 0\n",
    "    for koef in polinom:\n",
    "        vsota += koef * x ** i\n",
    "        i += 1\n",
    "    return vsota"
   ]
  },
  {
   "cell_type": "markdown",
   "id": "becd0a19",
   "metadata": {},
   "source": [
    "````{warning}\n",
    "Paziti moramo, da indeksa ne računamo s pomočjo metode `index`, saj ta vrne indeks prve pojavitve iskane vrednosti, kar je narobe (pa še počasno):\n",
    "\n",
    "    ```{code-cell}\n",
    "    def napacna_vrednost_polinoma(polinom, x):\n",
    "        vsota = 0\n",
    "        for koef in polinom:\n",
    "            i = polinom.index(koef)\n",
    "            vsota += koef * x ** i\n",
    "        return vsota\n",
    "````\n",
    "\n",
    "````\n",
    "```{code-cell}\n",
    "vrednost_polinoma([0, 2, 0, 2], 3)\n",
    "```\n",
    "\n",
    "```{code-cell}\n",
    "napacna_vrednost_polinoma([0, 2, 0, 2], 3)\n",
    "```\n",
    "````\n",
    "\n",
    "````\n",
    "Ker je v spodnjem klicu funkcije metoda `index` za indeks prve pojavitve vrednosti 2 obakrat vrnila 1, je funkcija vrnila $2 \\cdot 3^1 + 2 \\cdot 3^1 = 6$ namesto $2 \\cdot 3^1 + 2 \\cdot 3^3 = 60$.\n",
    "\n",
    "Najbolj enostavno pa je, da uporabimo funkcijo `enumerate`, ki zaporedoma vrača pare, v katerih so druge komponente vrednosti danega seznama, prve komponente pa njihovi indeksi:\n",
    "\n",
    "```{code-cell}\n",
    "for x in enumerate('abc'):\n",
    "    print(x)\n",
    "````\n",
    "\n",
    "Pare, ki nam jih podaja `enumerate` lahko v dve spremenljivki razstavimo tudi v zanki `for`:"
   ]
  },
  {
   "cell_type": "code",
   "execution_count": 81,
   "id": "93105e73",
   "metadata": {},
   "outputs": [
    {
     "name": "stdout",
     "output_type": "stream",
     "text": [
      "0 a\n",
      "1 b\n",
      "2 c\n"
     ]
    }
   ],
   "source": [
    "for i, x in enumerate('abc'):\n",
    "    print(i, x)"
   ]
  },
  {
   "cell_type": "markdown",
   "id": "ec16f853",
   "metadata": {},
   "source": [
    "S pomočjo funkcije `enumerate` lahko vrednost polinoma izračunamo kot:"
   ]
  },
  {
   "cell_type": "code",
   "execution_count": 82,
   "id": "e79eb7e0",
   "metadata": {},
   "outputs": [],
   "source": [
    "def vrednost_polinoma(polinom, x):\n",
    "    vsota = 0\n",
    "    for i, koef in enumerate(polinom):\n",
    "        vsota += koef * x ** i\n",
    "    return vsota"
   ]
  },
  {
   "cell_type": "markdown",
   "id": "686800df",
   "metadata": {},
   "source": [
    "ali še krajše z izpeljanim seznamom:"
   ]
  },
  {
   "cell_type": "code",
   "execution_count": 83,
   "id": "16650134",
   "metadata": {},
   "outputs": [],
   "source": [
    "def vrednost_polinoma(polinom, x):\n",
    "    return sum([koef * x ** i for i, koef in enumerate(polinom)])"
   ]
  },
  {
   "cell_type": "markdown",
   "id": "82ffcdc6",
   "metadata": {},
   "source": [
    "Podobno kot `enumerate` deluje funkcija `zip`, ki sprejme več seznamov, vrne pa zaporedje naborov istoležnih elementov:"
   ]
  },
  {
   "cell_type": "code",
   "execution_count": 84,
   "id": "26687491",
   "metadata": {},
   "outputs": [
    {
     "name": "stdout",
     "output_type": "stream",
     "text": [
      "('x', 10, 4)\n",
      "('y', 20, 5)\n",
      "('z', 30, 6)\n"
     ]
    }
   ],
   "source": [
    "for x in zip('xyz', [10, 20, 30], [4, 5, 6]):\n",
    "    print(x)"
   ]
  },
  {
   "cell_type": "markdown",
   "id": "a4366c5f",
   "metadata": {},
   "source": [
    "Funkciji se reče `zip`, ker združuje elemente različnih seznamov tako kot zadrga. Vrnjeno zaporedje ima toliko elementov, kot najkrajši argument funkcije:"
   ]
  },
  {
   "cell_type": "code",
   "execution_count": 85,
   "id": "41d7c2b4",
   "metadata": {},
   "outputs": [
    {
     "name": "stdout",
     "output_type": "stream",
     "text": [
      "('x', 10)\n",
      "('y', 20)\n",
      "('z', 30)\n"
     ]
    }
   ],
   "source": [
    "for x in zip('xyz', [10, 20, 30, 40]):\n",
    "    print(x)"
   ]
  },
  {
   "cell_type": "markdown",
   "id": "91199d90",
   "metadata": {},
   "source": [
    "S pomočjo funkcije `zip` lahko enostavno izračunamo skalarni produkt:"
   ]
  },
  {
   "cell_type": "code",
   "execution_count": 86,
   "id": "d4eb3055",
   "metadata": {},
   "outputs": [],
   "source": [
    "def skalarni_produkt(vektor1, vektor2):\n",
    "    \"\"\"Vrne skalarni produkt dveh vektorjev iste dimenzije.\"\"\"\n",
    "    assert len(vektor1) == len(vektor2)\n",
    "    vsota = 0\n",
    "    for x1, x2 in zip(vektor1, vektor2):\n",
    "        vsota += x1 * x2\n",
    "    return vsota"
   ]
  },
  {
   "cell_type": "markdown",
   "id": "699578f2",
   "metadata": {},
   "source": [
    "ali kot:"
   ]
  },
  {
   "cell_type": "code",
   "execution_count": 87,
   "id": "a2b7718c",
   "metadata": {},
   "outputs": [],
   "source": [
    "def skalarni_produkt(vektor1, vektor2):\n",
    "    \"\"\"Vrne skalarni produkt dveh vektorjev iste dimenzije.\"\"\"\n",
    "    assert len(vektor1) == len(vektor2)\n",
    "    return sum([x1 * x2 for x1, x2 in zip(vektor1, vektor2)])"
   ]
  },
  {
   "cell_type": "code",
   "execution_count": 88,
   "id": "91866e52",
   "metadata": {},
   "outputs": [
    {
     "data": {
      "text/plain": [
       "-2"
      ]
     },
     "execution_count": 88,
     "metadata": {},
     "output_type": "execute_result"
    }
   ],
   "source": [
    "skalarni_produkt([1, -2, 5], [-2, 5, 2])"
   ]
  }
 ],
 "metadata": {
  "jupytext": {
   "cell_metadata_filter": "-all",
   "formats": "md:myst",
   "text_representation": {
    "extension": ".md",
    "format_name": "myst",
    "format_version": "0.8",
    "jupytext_version": "1.5.0"
   }
  },
  "kernelspec": {
   "display_name": "Python 3",
   "language": "python",
   "name": "python3"
  },
  "language_info": {
   "codemirror_mode": {
    "name": "ipython",
    "version": 3
   },
   "file_extension": ".py",
   "mimetype": "text/x-python",
   "name": "python",
   "nbconvert_exporter": "python",
   "pygments_lexer": "ipython3",
   "version": "3.10.13"
  },
  "source_map": [
   14,
   26,
   30,
   32,
   36,
   40,
   42,
   46,
   48,
   52,
   57,
   59,
   63,
   65,
   69,
   77,
   81,
   85,
   89,
   93,
   97,
   101,
   103,
   107,
   110,
   114,
   123,
   127,
   129,
   133,
   142,
   150,
   153,
   157,
   166,
   168,
   172,
   184,
   186,
   190,
   194,
   198,
   200,
   206,
   211,
   214,
   218,
   224,
   227,
   231,
   237,
   241,
   245,
   251,
   254,
   258,
   263,
   267,
   272,
   276,
   281,
   285,
   292,
   297,
   303,
   305,
   309,
   311,
   315,
   319,
   321,
   325,
   328,
   332,
   336,
   346,
   350,
   356,
   360,
   364,
   368,
   372,
   377,
   381,
   385,
   389,
   394,
   396,
   400,
   404,
   412,
   416,
   420,
   425,
   427,
   431,
   435,
   439,
   444,
   446,
   452,
   454,
   458,
   463,
   467,
   469,
   473,
   477,
   482,
   486,
   489,
   493,
   497,
   507,
   511,
   515,
   519,
   523,
   527,
   531,
   533,
   537,
   541,
   557,
   566,
   570,
   572,
   576,
   584,
   620,
   623,
   627,
   633,
   637,
   640,
   644,
   647,
   651,
   654,
   658,
   666,
   670,
   677
  ]
 },
 "nbformat": 4,
 "nbformat_minor": 5
}