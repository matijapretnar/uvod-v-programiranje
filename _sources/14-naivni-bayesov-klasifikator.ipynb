{
 "cells": [
  {
   "cell_type": "markdown",
   "id": "9f506da0",
   "metadata": {},
   "source": [
    "# Naivni Bayesov klasifikator\n",
    "\n",
    "Zanima nas, ali lahko iz opisa filma napovemo njegove žanre. Gre za _klasifikacijski problem_, saj želimo filme klasificirati v žanre, naša naloga pa je napisati ustrezen program, ki mu pravimo _klasifikator_.\n",
    "\n",
    "## Predpriprava"
   ]
  },
  {
   "cell_type": "code",
   "execution_count": 1,
   "id": "94758e9a",
   "metadata": {},
   "outputs": [
    {
     "ename": "ModuleNotFoundError",
     "evalue": "No module named 'pandas'",
     "output_type": "error",
     "traceback": [
      "\u001b[0;31m---------------------------------------------------------------------------\u001b[0m",
      "\u001b[0;31mModuleNotFoundError\u001b[0m                       Traceback (most recent call last)",
      "Cell \u001b[0;32mIn[1], line 2\u001b[0m\n\u001b[1;32m      1\u001b[0m \u001b[38;5;66;03m# naložimo paket\u001b[39;00m\n\u001b[0;32m----> 2\u001b[0m \u001b[38;5;28;01mimport\u001b[39;00m \u001b[38;5;21;01mpandas\u001b[39;00m \u001b[38;5;28;01mas\u001b[39;00m \u001b[38;5;21;01mpd\u001b[39;00m\n\u001b[1;32m      4\u001b[0m \u001b[38;5;66;03m# naložimo razpredelnico, s katero bomo delali\u001b[39;00m\n\u001b[1;32m      5\u001b[0m filmi \u001b[38;5;241m=\u001b[39m pd\u001b[38;5;241m.\u001b[39mread_csv(\u001b[38;5;124m'\u001b[39m\u001b[38;5;124mpodatki/filmi.csv\u001b[39m\u001b[38;5;124m'\u001b[39m, index_col\u001b[38;5;241m=\u001b[39m\u001b[38;5;124m'\u001b[39m\u001b[38;5;124mid\u001b[39m\u001b[38;5;124m'\u001b[39m)\n",
      "\u001b[0;31mModuleNotFoundError\u001b[0m: No module named 'pandas'"
     ]
    }
   ],
   "source": [
    "# naložimo paket\n",
    "import pandas as pd\n",
    "\n",
    "# naložimo razpredelnico, s katero bomo delali\n",
    "filmi = pd.read_csv('podatki/filmi.csv', index_col='id')\n",
    "osebe = pd.read_csv('podatki/osebe.csv', index_col='id')\n",
    "vloge = pd.read_csv('podatki/vloge.csv')\n",
    "zanri = pd.read_csv('podatki/zanri.csv')"
   ]
  },
  {
   "cell_type": "markdown",
   "id": "1e1c5d82",
   "metadata": {},
   "source": [
    "## Korenjenje besed\n",
    "\n",
    "Da zadevo naredimo bolj obvladljivo, bomo opis predstavili le z množico korenov besed, ki se v opisu pojavljajo."
   ]
  },
  {
   "cell_type": "code",
   "execution_count": null,
   "id": "48d297f1",
   "metadata": {},
   "outputs": [],
   "source": [
    "def koren_besede(beseda):\n",
    "    beseda = ''.join(znak for znak in beseda if znak.isalpha())\n",
    "    if not beseda:\n",
    "        return '$'\n",
    "    konec = len(beseda) - 1\n",
    "    if beseda[konec] in 'ds':\n",
    "        konec -= 1\n",
    "    while konec >= 0 and beseda[konec] in 'aeiou':\n",
    "        konec -= 1\n",
    "    return beseda[:konec + 1]\n",
    "\n",
    "def koreni_besed(niz):\n",
    "    return pd.Series(sorted({\n",
    "        koren_besede(beseda) for beseda in niz.replace('-', ' ').lower().split() if beseda\n",
    "    }))"
   ]
  },
  {
   "cell_type": "code",
   "execution_count": null,
   "id": "9195533a",
   "metadata": {},
   "outputs": [],
   "source": [
    "koreni_besed(\"In 1938, after his father Professor Henry Jones, Sr. goes missing while pursuing the Holy Grail, Indiana Jones finds himself up against Adolf Hitler's Nazis again to stop them obtaining its powers.\")"
   ]
  },
  {
   "cell_type": "markdown",
   "id": "34ab8163",
   "metadata": {},
   "source": [
    "## Bayesov izrek\n",
    "\n",
    "Zanimala nas bo torej verjetnost, da ima film žanr $Ž_i$ ob pogoju, da njegov opis vsebuje korene $K_1, \\ldots, K_m$, torej\n",
    "\n",
    "$$P(Ž_i | K_1 \\cap \\cdots \\cap K_n)$$\n",
    "\n",
    "Pri tem se bomo poslužili Bayesovega izreka\n",
    "\n",
    "$$P(A | B) = \\frac{P(A \\cap B)}{P(B)} = \\frac{P(B | A) \\cdot P(A)}{P(B)}$$\n",
    "\n",
    "zaradi česar našemu klasifikatorju pravimo _Bayesov klasifikator_. Velja\n",
    "\n",
    "$$P(Ž_i | K_1 \\cap \\cdots \\cap K_n) = \\frac{P(K_1 \\cap \\cdots \\cap K_n | Ž_i) \\cdot P(Ž_i)}{P(K_1 \\cap \\cdots \\cap K_n)}$$\n",
    "\n",
    "Nadalje si nalogo poenostavimo s predpostavko, da so pojavitve besed med seboj neodvisne. To sicer ni res, na primer ob besedi _treasure_ se bolj pogosto pojavlja beseda _hidden_ kot na primer _boring_, zato pravimo, da je klasifikator _naiven_. Ob tej predpostavki velja:\n",
    "\n",
    "$$P(K_1 \\cap \\cdots \\cap K_n | Ž_i) = P(K_1 | Ž_i) \\cdot \\cdots \\cdot P(K_n | Ž_i)$$\n",
    "\n",
    "oziroma\n",
    "\n",
    "$$P(Ž_i | K_1 \\cap \\cdots \\cap K_n) = \\frac{P(K_1 | Ž_i) \\cdot \\cdots \\cdot P(K_n | Ž_i) \\cdot P(Ž_i)}{P(K_1 \\cap \\cdots \\cap K_n)}$$\n",
    "\n",
    "Filmu, katerega opis vsebuje korene $K_1, \\dots, K_n$ bomo priredili tiste žanre $Ž_i$, pri katerih je dana verjetnost največja. Ker imenovalec ni odvisen od žanra, moramo torej za vsak $Ž_i$ izračunati le števec:\n",
    "\n",
    "$$P(K_1 | Ž_i) \\cdot \\cdots \\cdot P(K_n | Ž_i) \\cdot P(Ž_i)$$\n",
    "\n",
    "Vse te podatke znamo izračunati, zato se lahko lotimo dela.\n",
    "\n",
    "Verjetnost posameznega žanra $P(Ž)$ izračunamo brez večjih težav:"
   ]
  },
  {
   "cell_type": "code",
   "execution_count": null,
   "id": "8735ee51",
   "metadata": {},
   "outputs": [],
   "source": [
    "verjetnosti_zanrov = zanri.groupby('zanr').size() / len(filmi)\n",
    "verjetnosti_zanrov.sort_values()"
   ]
  },
  {
   "cell_type": "markdown",
   "id": "e7d8748a",
   "metadata": {},
   "source": [
    "Verjetnosti $P(K|Ž)$ bomo shranili v razpredelnico, v kateri bodo vrstice ustrezale korenom $K$, stolpci pa žanrom $Ž$. Najprej moramo poiskati vse filme, ki imajo žanr $Ž$, njihov opis pa vsebuje koren $K$. Vzemimo vse opise filmov:"
   ]
  },
  {
   "cell_type": "code",
   "execution_count": null,
   "id": "e9ccefc2",
   "metadata": {},
   "outputs": [],
   "source": [
    "filmi.opis"
   ]
  },
  {
   "cell_type": "markdown",
   "id": "40ec4cef",
   "metadata": {},
   "source": [
    "To vrsto nizov pretvorimo v vrsto množic besed. Uporabimo metodo `apply`, ki dano funkcijo uporabi na vsakem vnosu."
   ]
  },
  {
   "cell_type": "code",
   "execution_count": null,
   "id": "168e1c13",
   "metadata": {},
   "outputs": [],
   "source": [
    "filmi.opis.apply(\n",
    "    koreni_besed\n",
    ")"
   ]
  },
  {
   "cell_type": "markdown",
   "id": "ad66500d",
   "metadata": {},
   "source": [
    "Po nekaj [iskanja po internetu](https://stackoverflow.com/questions/30885005/pandas-series-of-lists-to-one-series) in masiranja pridemo do iskane razpredelnice:"
   ]
  },
  {
   "cell_type": "code",
   "execution_count": null,
   "id": "f91f64d6",
   "metadata": {},
   "outputs": [],
   "source": [
    "koreni_filmov = filmi.opis.apply(\n",
    "    koreni_besed\n",
    ").stack(\n",
    ").reset_index(\n",
    "    level='id'\n",
    ").rename(columns={\n",
    "    'id': 'film',\n",
    "    0: 'koren',\n",
    "})\n",
    "koreni_filmov"
   ]
  },
  {
   "cell_type": "markdown",
   "id": "55da7b0a",
   "metadata": {},
   "source": [
    "Razpredelnico združimo z razpredelnico žanrov, da dobimo razpredelnico korenov žanrov."
   ]
  },
  {
   "cell_type": "code",
   "execution_count": null,
   "id": "be82cc83",
   "metadata": {},
   "outputs": [],
   "source": [
    "koreni_zanrov = pd.merge(\n",
    "    koreni_filmov,\n",
    "    zanri\n",
    ")[['koren', 'zanr']]\n",
    "koreni_zanrov"
   ]
  },
  {
   "cell_type": "markdown",
   "id": "83d28332",
   "metadata": {},
   "source": [
    "S pomočjo funkcije `crosstab` preštejemo, kolikokrat se vsaka kombinacija pojavi."
   ]
  },
  {
   "cell_type": "code",
   "execution_count": null,
   "id": "0e4a8da2",
   "metadata": {},
   "outputs": [],
   "source": [
    "pojavitve_korenov_po_zanrih = pd.crosstab(koreni_zanrov.koren, koreni_zanrov.zanr)\n",
    "pojavitve_korenov_po_zanrih"
   ]
  },
  {
   "cell_type": "markdown",
   "id": "caf1eb0f",
   "metadata": {},
   "source": [
    "Iskane verjetnosti sedaj dobimo tako, da vsak stolpec delimo s številom filmov danega žanra. Da ne bomo dobili ničelne verjetnosti pri korenih, ki se v našem vzorcu ne pojavijo, verjetnost malenkost povečamo."
   ]
  },
  {
   "cell_type": "code",
   "execution_count": null,
   "id": "babcf88b",
   "metadata": {},
   "outputs": [],
   "source": [
    "verjetnosti_korenov_po_zanrih = pojavitve_korenov_po_zanrih / zanri.groupby('zanr').size() + 0.001"
   ]
  },
  {
   "cell_type": "markdown",
   "id": "c416e4dc",
   "metadata": {},
   "source": [
    "Poglejmo, kaj so najpogostejši koreni pri nekaj žanrih:"
   ]
  },
  {
   "cell_type": "code",
   "execution_count": null,
   "id": "123dbbd0",
   "metadata": {},
   "outputs": [],
   "source": [
    "verjetnosti_korenov_po_zanrih.Crime.sort_values(ascending=False).head(20)"
   ]
  },
  {
   "cell_type": "code",
   "execution_count": null,
   "id": "93450561",
   "metadata": {},
   "outputs": [],
   "source": [
    "verjetnosti_korenov_po_zanrih.Romance.sort_values(ascending=False).head(20)"
   ]
  },
  {
   "cell_type": "code",
   "execution_count": null,
   "id": "9fd351b7",
   "metadata": {},
   "outputs": [],
   "source": [
    "verjetnosti_korenov_po_zanrih['Sci-Fi'].sort_values(ascending=False).head(20)"
   ]
  },
  {
   "cell_type": "markdown",
   "id": "cc8cb5f9",
   "metadata": {},
   "source": [
    "Žanre sedaj določimo tako, da za vsak žanr pomnožimo verjetnost žanra in pogojne verjetnosti vseh korenov, ki nastopajo v opisu filma."
   ]
  },
  {
   "cell_type": "code",
   "execution_count": null,
   "id": "716a1c78",
   "metadata": {},
   "outputs": [],
   "source": [
    "def doloci_zanre(opis):\n",
    "    faktorji_zanrov = verjetnosti_zanrov * verjetnosti_korenov_po_zanrih[\n",
    "        verjetnosti_korenov_po_zanrih.index.isin(\n",
    "            koreni_besed(opis)\n",
    "        )\n",
    "    ].prod()\n",
    "    faktorji_zanrov /= max(faktorji_zanrov)\n",
    "    return faktorji_zanrov.sort_values(ascending=False).head(5)"
   ]
  },
  {
   "cell_type": "code",
   "execution_count": null,
   "id": "bfda5f87",
   "metadata": {},
   "outputs": [],
   "source": [
    "doloci_zanre('Alien space ship appears above Slovenia.')"
   ]
  },
  {
   "cell_type": "code",
   "execution_count": null,
   "id": "a28fdf5f",
   "metadata": {},
   "outputs": [],
   "source": [
    "doloci_zanre('A story about a young mathematician, who discovers her artistic side')"
   ]
  }
 ],
 "metadata": {
  "jupytext": {
   "cell_metadata_filter": "-all",
   "formats": "md:myst",
   "text_representation": {
    "extension": ".md",
    "format_name": "myst",
    "format_version": "0.8",
    "jupytext_version": "1.5.0"
   }
  },
  "kernelspec": {
   "display_name": "Python 3",
   "language": "python",
   "name": "python3"
  },
  "language_info": {
   "codemirror_mode": {
    "name": "ipython",
    "version": 3
   },
   "file_extension": ".py",
   "mimetype": "text/x-python",
   "name": "python",
   "nbconvert_exporter": "python",
   "pygments_lexer": "ipython3",
   "version": "3.10.10"
  },
  "source_map": [
   14,
   22,
   31,
   37,
   55,
   57,
   89,
   92,
   96,
   98,
   102,
   106,
   110,
   121,
   125,
   131,
   135,
   138,
   142,
   144,
   148,
   152,
   156,
   158,
   162,
   173,
   177
  ]
 },
 "nbformat": 4,
 "nbformat_minor": 5
}